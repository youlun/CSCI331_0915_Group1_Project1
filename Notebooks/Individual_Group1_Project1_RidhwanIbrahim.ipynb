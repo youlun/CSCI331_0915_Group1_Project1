{
    "metadata": {
        "kernelspec": {
            "name": "SQL",
            "display_name": "SQL",
            "language": "sql"
        },
        "language_info": {
            "name": "sql",
            "version": ""
        }
    },
    "nbformat_minor": 2,
    "nbformat": 4,
    "cells": [
        {
            "cell_type": "markdown",
            "source": [
                "Case 1: A customer claims they never received their order. The order was supposed to be shipped on 2022-05-04. Find the OrderID and determine what product(s) were ordered."
            ],
            "metadata": {
                "azdata_cell_guid": "c23ac12d-2a60-4981-9b07-c0d545106e11"
            },
            "attachments": {}
        },
        {
            "cell_type": "code",
            "source": [
                "--Run the first query to get the OrderID of the missing product using the date\r\n",
                "SELECT OrderID, CustomerID, OrderDate, ShipToDate\r\n",
                "FROM Sales.[Order]\r\n",
                "WHERE ShipToDate IS NULL AND OrderDate = '2022-05-04';\r\n",
                "\r\n",
                "--Use the OrderId to find the products \r\n",
                "SELECT od.OrderID, od.ProductID, p.ProductName, od.Quantity, od.UnitPrice\r\n",
                "FROM Sales.OrderDetail od\r\n",
                "JOIN Production.Product p ON od.ProductID = p.ProductID\r\n",
                "WHERE OrderId = 11068;"
            ],
            "metadata": {
                "azdata_cell_guid": "ca4b59bf-99d4-452b-a936-750db629d02b",
                "language": "sql",
                "tags": []
            },
            "outputs": [
                {
                    "output_type": "display_data",
                    "data": {
                        "text/html": "(1 row affected)"
                    },
                    "metadata": {}
                },
                {
                    "output_type": "display_data",
                    "data": {
                        "text/html": "(3 rows affected)"
                    },
                    "metadata": {}
                },
                {
                    "output_type": "display_data",
                    "data": {
                        "text/html": "Total execution time: 00:00:00.020"
                    },
                    "metadata": {}
                },
                {
                    "output_type": "execute_result",
                    "metadata": {},
                    "execution_count": 23,
                    "data": {
                        "application/vnd.dataresource+json": {
                            "schema": {
                                "fields": [
                                    {
                                        "name": "OrderID"
                                    },
                                    {
                                        "name": "CustomerID"
                                    },
                                    {
                                        "name": "OrderDate"
                                    },
                                    {
                                        "name": "ShipToDate"
                                    }
                                ]
                            },
                            "data": [
                                {
                                    "OrderID": "11068",
                                    "CustomerID": "62",
                                    "OrderDate": "2022-05-04",
                                    "ShipToDate": "NULL"
                                }
                            ]
                        },
                        "text/html": [
                            "<table>",
                            "<tr><th>OrderID</th><th>CustomerID</th><th>OrderDate</th><th>ShipToDate</th></tr>",
                            "<tr><td>11068</td><td>62</td><td>2022-05-04</td><td>NULL</td></tr>",
                            "</table>"
                        ]
                    }
                },
                {
                    "output_type": "execute_result",
                    "metadata": {},
                    "execution_count": 23,
                    "data": {
                        "application/vnd.dataresource+json": {
                            "schema": {
                                "fields": [
                                    {
                                        "name": "OrderID"
                                    },
                                    {
                                        "name": "ProductID"
                                    },
                                    {
                                        "name": "ProductName"
                                    },
                                    {
                                        "name": "Quantity"
                                    },
                                    {
                                        "name": "UnitPrice"
                                    }
                                ]
                            },
                            "data": [
                                {
                                    "OrderID": "11068",
                                    "ProductID": "28",
                                    "ProductName": "Product OFBNT",
                                    "Quantity": "8",
                                    "UnitPrice": "45.60"
                                },
                                {
                                    "OrderID": "11068",
                                    "ProductID": "43",
                                    "ProductName": "Product ZZZHR",
                                    "Quantity": "36",
                                    "UnitPrice": "46.00"
                                },
                                {
                                    "OrderID": "11068",
                                    "ProductID": "77",
                                    "ProductName": "Product LUNZZ",
                                    "Quantity": "28",
                                    "UnitPrice": "13.00"
                                }
                            ]
                        },
                        "text/html": [
                            "<table>",
                            "<tr><th>OrderID</th><th>ProductID</th><th>ProductName</th><th>Quantity</th><th>UnitPrice</th></tr>",
                            "<tr><td>11068</td><td>28</td><td>Product OFBNT</td><td>8</td><td>45.60</td></tr>",
                            "<tr><td>11068</td><td>43</td><td>Product ZZZHR</td><td>36</td><td>46.00</td></tr>",
                            "<tr><td>11068</td><td>77</td><td>Product LUNZZ</td><td>28</td><td>13.00</td></tr>",
                            "</table>"
                        ]
                    }
                }
            ],
            "execution_count": 23
        },
        {
            "cell_type": "markdown",
            "source": [
                "Case 2: Management was alerted that there are three VIP customers with orders that totaled more than $100,000 in all their purchases and would like to reward them with a 30% discount on their next purchase. Find those three customers."
            ],
            "metadata": {
                "azdata_cell_guid": "2cbdfcbe-c26e-446a-83a2-4b778309fa01"
            },
            "attachments": {}
        },
        {
            "cell_type": "code",
            "source": [
                "--Join the Customer table with Order table to match customerId, then join with OrderDetail table to get lineAmount column and check for total > 100000\r\n",
                "SELECT c.CustomerCompanyName, SUM(od.LineAmount) AS TotalSpent\r\n",
                "FROM Sales.Customer AS c\r\n",
                "JOIN Sales.[Order] AS o ON c.CustomerID = o.CustomerID\r\n",
                "JOIN Sales.OrderDetail AS od ON o.OrderID = od.OrderID\r\n",
                "GROUP BY c.CustomerCompanyName\r\n",
                "HAVING SUM(od.LineAmount) > 100000\r\n",
                "ORDER BY TotalSpent DESC;"
            ],
            "metadata": {
                "azdata_cell_guid": "4403bc49-f6cb-4b8b-be5c-7edb7ec5acf7",
                "language": "sql",
                "tags": []
            },
            "outputs": [
                {
                    "output_type": "display_data",
                    "data": {
                        "text/html": "(3 rows affected)"
                    },
                    "metadata": {}
                },
                {
                    "output_type": "display_data",
                    "data": {
                        "text/html": "Total execution time: 00:00:00.019"
                    },
                    "metadata": {}
                },
                {
                    "output_type": "execute_result",
                    "metadata": {},
                    "execution_count": 25,
                    "data": {
                        "application/vnd.dataresource+json": {
                            "schema": {
                                "fields": [
                                    {
                                        "name": "CustomerCompanyName"
                                    },
                                    {
                                        "name": "TotalSpent"
                                    }
                                ]
                            },
                            "data": [
                                {
                                    "CustomerCompanyName": "Customer IRRVL",
                                    "TotalSpent": "117483.39"
                                },
                                {
                                    "CustomerCompanyName": "Customer LCOUJ",
                                    "TotalSpent": "115673.39"
                                },
                                {
                                    "CustomerCompanyName": "Customer THHDP",
                                    "TotalSpent": "113236.68"
                                }
                            ]
                        },
                        "text/html": [
                            "<table>",
                            "<tr><th>CustomerCompanyName</th><th>TotalSpent</th></tr>",
                            "<tr><td>Customer IRRVL</td><td>117483.39</td></tr>",
                            "<tr><td>Customer LCOUJ</td><td>115673.39</td></tr>",
                            "<tr><td>Customer THHDP</td><td>113236.68</td></tr>",
                            "</table>"
                        ]
                    }
                }
            ],
            "execution_count": 25
        },
        {
            "cell_type": "markdown",
            "source": [
                "Case 3: Management has noticed that one of our products is priced way higher than all others and wants to know if this product is correctly priced (as in generating the most revenue) or if it is actually overpriced. Find our highest priced product and check the revenue its earned to see if its price makes sense."
            ],
            "metadata": {
                "azdata_cell_guid": "19e21fdd-552c-44e1-84d0-deb6ec1b2a7d"
            },
            "attachments": {}
        },
        {
            "cell_type": "code",
            "source": [
                "--First check the unit price of all products and find the most expensive product\r\n",
                "SELECT TOP 1 ProductId, ProductName, UnitPrice\r\n",
                "FROM Production.Product\r\n",
                "ORDER BY UnitPrice DESC;\r\n",
                "\r\n",
                "--Join the Product table with OrderDetail to get the total units sold and total revenue\r\n",
                "--Filter by the specific product found earlier (38) to get the result\r\n",
                "SELECT od.ProductID, p.ProductName, SUM(od.Quantity) AS TotalUnitsSold, SUM(od.Quantity * od.UnitPrice) AS TotalAmount\r\n",
                "FROM Sales.OrderDetail od\r\n",
                "JOIN Production.Product p ON od.ProductID = p.ProductID\r\n",
                "--WHERE od.ProductID = 38\r\n",
                "GROUP BY od.ProductID, p.ProductName\r\n",
                "ORDER BY TotalAmount DESC;"
            ],
            "metadata": {
                "azdata_cell_guid": "165dfa2d-a8d3-4268-b665-5eddff9dab2f",
                "language": "sql",
                "tags": []
            },
            "outputs": [
                {
                    "output_type": "display_data",
                    "data": {
                        "text/html": "(1 row affected)"
                    },
                    "metadata": {}
                },
                {
                    "output_type": "display_data",
                    "data": {
                        "text/html": "(77 rows affected)"
                    },
                    "metadata": {}
                },
                {
                    "output_type": "display_data",
                    "data": {
                        "text/html": "Total execution time: 00:00:00.039"
                    },
                    "metadata": {}
                },
                {
                    "output_type": "execute_result",
                    "metadata": {},
                    "execution_count": 31,
                    "data": {
                        "application/vnd.dataresource+json": {
                            "schema": {
                                "fields": [
                                    {
                                        "name": "ProductId"
                                    },
                                    {
                                        "name": "ProductName"
                                    },
                                    {
                                        "name": "UnitPrice"
                                    }
                                ]
                            },
                            "data": [
                                {
                                    "ProductId": "38",
                                    "ProductName": "Product QDOMO",
                                    "UnitPrice": "263.50"
                                }
                            ]
                        },
                        "text/html": [
                            "<table>",
                            "<tr><th>ProductId</th><th>ProductName</th><th>UnitPrice</th></tr>",
                            "<tr><td>38</td><td>Product QDOMO</td><td>263.50</td></tr>",
                            "</table>"
                        ]
                    }
                },
                {
                    "output_type": "execute_result",
                    "metadata": {},
                    "execution_count": 31,
                    "data": {
                        "application/vnd.dataresource+json": {
                            "schema": {
                                "fields": [
                                    {
                                        "name": "ProductID"
                                    },
                                    {
                                        "name": "ProductName"
                                    },
                                    {
                                        "name": "TotalUnitsSold"
                                    },
                                    {
                                        "name": "TotalAmount"
                                    }
                                ]
                            },
                            "data": [
                                {
                                    "ProductID": "38",
                                    "ProductName": "Product QDOMO",
                                    "TotalUnitsSold": "623",
                                    "TotalAmount": "149984.20"
                                },
                                {
                                    "ProductID": "29",
                                    "ProductName": "Product VJXYN",
                                    "TotalUnitsSold": "746",
                                    "TotalAmount": "87736.40"
                                },
                                {
                                    "ProductID": "59",
                                    "ProductName": "Product UKXRI",
                                    "TotalUnitsSold": "1496",
                                    "TotalAmount": "76296.00"
                                },
                                {
                                    "ProductID": "60",
                                    "ProductName": "Product WHBYK",
                                    "TotalUnitsSold": "1577",
                                    "TotalAmount": "50286.00"
                                },
                                {
                                    "ProductID": "62",
                                    "ProductName": "Product WUXYK",
                                    "TotalUnitsSold": "1083",
                                    "TotalAmount": "49827.90"
                                },
                                {
                                    "ProductID": "56",
                                    "ProductName": "Product VKCMF",
                                    "TotalUnitsSold": "1263",
                                    "TotalAmount": "45121.20"
                                },
                                {
                                    "ProductID": "51",
                                    "ProductName": "Product APITJ",
                                    "TotalUnitsSold": "886",
                                    "TotalAmount": "44742.60"
                                },
                                {
                                    "ProductID": "17",
                                    "ProductName": "Product BLCAX",
                                    "TotalUnitsSold": "978",
                                    "TotalAmount": "35482.20"
                                },
                                {
                                    "ProductID": "18",
                                    "ProductName": "Product CKEDC",
                                    "TotalUnitsSold": "539",
                                    "TotalAmount": "31987.50"
                                },
                                {
                                    "ProductID": "28",
                                    "ProductName": "Product OFBNT",
                                    "TotalUnitsSold": "640",
                                    "TotalAmount": "26865.60"
                                },
                                {
                                    "ProductID": "72",
                                    "ProductName": "Product GEEOO",
                                    "TotalUnitsSold": "806",
                                    "TotalAmount": "25738.80"
                                },
                                {
                                    "ProductID": "43",
                                    "ProductName": "Product ZZZHR",
                                    "TotalUnitsSold": "580",
                                    "TotalAmount": "25079.20"
                                },
                                {
                                    "ProductID": "69",
                                    "ProductName": "Product COAXA",
                                    "TotalUnitsSold": "714",
                                    "TotalAmount": "24307.20"
                                },
                                {
                                    "ProductID": "20",
                                    "ProductName": "Product QHFFP",
                                    "TotalUnitsSold": "313",
                                    "TotalAmount": "23635.80"
                                },
                                {
                                    "ProductID": "64",
                                    "ProductName": "Product HCQDE",
                                    "TotalUnitsSold": "740",
                                    "TotalAmount": "23009.00"
                                },
                                {
                                    "ProductID": "7",
                                    "ProductName": "Product HMLNI",
                                    "TotalUnitsSold": "763",
                                    "TotalAmount": "22464.00"
                                },
                                {
                                    "ProductID": "10",
                                    "ProductName": "Product YHXGE",
                                    "TotalUnitsSold": "742",
                                    "TotalAmount": "22140.20"
                                },
                                {
                                    "ProductID": "26",
                                    "ProductName": "Product HLGZA",
                                    "TotalUnitsSold": "753",
                                    "TotalAmount": "21534.90"
                                },
                                {
                                    "ProductID": "53",
                                    "ProductName": "Product BKGEA",
                                    "TotalUnitsSold": "722",
                                    "TotalAmount": "21510.20"
                                },
                                {
                                    "ProductID": "71",
                                    "ProductName": "Product MYMOI",
                                    "TotalUnitsSold": "1057",
                                    "TotalAmount": "20876.50"
                                },
                                {
                                    "ProductID": "55",
                                    "ProductName": "Product YYWRT",
                                    "TotalUnitsSold": "903",
                                    "TotalAmount": "19512.00"
                                },
                                {
                                    "ProductID": "40",
                                    "ProductName": "Product YZIXQ",
                                    "TotalUnitsSold": "1103",
                                    "TotalAmount": "19048.30"
                                },
                                {
                                    "ProductID": "16",
                                    "ProductName": "Product PAFRH",
                                    "TotalUnitsSold": "1158",
                                    "TotalAmount": "18748.05"
                                },
                                {
                                    "ProductID": "2",
                                    "ProductName": "Product RECZE",
                                    "TotalUnitsSold": "1057",
                                    "TotalAmount": "18559.20"
                                },
                                {
                                    "ProductID": "63",
                                    "ProductName": "Product ICKNK",
                                    "TotalUnitsSold": "445",
                                    "TotalAmount": "17696.30"
                                },
                                {
                                    "ProductID": "76",
                                    "ProductName": "Product JYGFE",
                                    "TotalUnitsSold": "981",
                                    "TotalAmount": "16794.00"
                                },
                                {
                                    "ProductID": "61",
                                    "ProductName": "Product XYZPE",
                                    "TotalUnitsSold": "603",
                                    "TotalAmount": "16438.80"
                                },
                                {
                                    "ProductID": "31",
                                    "ProductName": "Product XWOXC",
                                    "TotalUnitsSold": "1397",
                                    "TotalAmount": "16172.50"
                                },
                                {
                                    "ProductID": "27",
                                    "ProductName": "Product SMIOH",
                                    "TotalUnitsSold": "365",
                                    "TotalAmount": "15231.50"
                                },
                                {
                                    "ProductID": "30",
                                    "ProductName": "Product LYERX",
                                    "TotalUnitsSold": "612",
                                    "TotalAmount": "14775.54"
                                },
                                {
                                    "ProductID": "65",
                                    "ProductName": "Product XYWBZ",
                                    "TotalUnitsSold": "745",
                                    "TotalAmount": "14607.00"
                                },
                                {
                                    "ProductID": "36",
                                    "ProductName": "Product GMKIJ",
                                    "TotalUnitsSold": "805",
                                    "TotalAmount": "14542.60"
                                },
                                {
                                    "ProductID": "35",
                                    "ProductName": "Product NEVTJ",
                                    "TotalUnitsSold": "883",
                                    "TotalAmount": "14536.80"
                                },
                                {
                                    "ProductID": "1",
                                    "ProductName": "Product HHYDP",
                                    "TotalUnitsSold": "828",
                                    "TotalAmount": "14277.60"
                                },
                                {
                                    "ProductID": "11",
                                    "ProductName": "Product QMVUN",
                                    "TotalUnitsSold": "706",
                                    "TotalAmount": "13902.00"
                                },
                                {
                                    "ProductID": "8",
                                    "ProductName": "Product WVJFP",
                                    "TotalUnitsSold": "372",
                                    "TotalAmount": "13760.00"
                                },
                                {
                                    "ProductID": "39",
                                    "ProductName": "Product LSOFL",
                                    "TotalUnitsSold": "793",
                                    "TotalAmount": "13150.80"
                                },
                                {
                                    "ProductID": "12",
                                    "ProductName": "Product OSFNS",
                                    "TotalUnitsSold": "344",
                                    "TotalAmount": "12866.80"
                                },
                                {
                                    "ProductID": "70",
                                    "ProductName": "Product TOONT",
                                    "TotalUnitsSold": "817",
                                    "TotalAmount": "11472.00"
                                },
                                {
                                    "ProductID": "44",
                                    "ProductName": "Product VJIEO",
                                    "TotalUnitsSold": "601",
                                    "TotalAmount": "10524.20"
                                },
                                {
                                    "ProductID": "77",
                                    "ProductName": "Product LUNZZ",
                                    "TotalUnitsSold": "791",
                                    "TotalAmount": "9685.00"
                                },
                                {
                                    "ProductID": "21",
                                    "ProductName": "Product VJZZH",
                                    "TotalUnitsSold": "1016",
                                    "TotalAmount": "9636.00"
                                },
                                {
                                    "ProductID": "49",
                                    "ProductName": "Product FPYPN",
                                    "TotalUnitsSold": "520",
                                    "TotalAmount": "9500.00"
                                },
                                {
                                    "ProductID": "4",
                                    "ProductName": "Product KSBRM",
                                    "TotalUnitsSold": "453",
                                    "TotalAmount": "9424.80"
                                },
                                {
                                    "ProductID": "68",
                                    "ProductName": "Product TBTBL",
                                    "TotalUnitsSold": "799",
                                    "TotalAmount": "9362.50"
                                },
                                {
                                    "ProductID": "42",
                                    "ProductName": "Product RJVNM",
                                    "TotalUnitsSold": "697",
                                    "TotalAmount": "9332.40"
                                },
                                {
                                    "ProductID": "32",
                                    "ProductName": "Product NUNAW",
                                    "TotalUnitsSold": "297",
                                    "TotalAmount": "9171.20"
                                },
                                {
                                    "ProductID": "41",
                                    "ProductName": "Product TTEEX",
                                    "TotalUnitsSold": "981",
                                    "TotalAmount": "9098.10"
                                },
                                {
                                    "ProductID": "9",
                                    "ProductName": "Product AOZBW",
                                    "TotalUnitsSold": "95",
                                    "TotalAmount": "8827.00"
                                },
                                {
                                    "ProductID": "75",
                                    "ProductName": "Product BWRLG",
                                    "TotalUnitsSold": "1155",
                                    "TotalAmount": "8650.55"
                                },
                                {
                                    "ProductID": "14",
                                    "ProductName": "Product PWCJB",
                                    "TotalUnitsSold": "404",
                                    "TotalAmount": "8630.40"
                                },
                                {
                                    "ProductID": "57",
                                    "ProductName": "Product OVLQI",
                                    "TotalUnitsSold": "434",
                                    "TotalAmount": "7807.80"
                                },
                                {
                                    "ProductID": "6",
                                    "ProductName": "Product VAIIV",
                                    "TotalUnitsSold": "301",
                                    "TotalAmount": "7345.00"
                                },
                                {
                                    "ProductID": "22",
                                    "ProductName": "Product CPHFY",
                                    "TotalUnitsSold": "348",
                                    "TotalAmount": "7232.40"
                                },
                                {
                                    "ProductID": "34",
                                    "ProductName": "Product SWNJY",
                                    "TotalUnitsSold": "506",
                                    "TotalAmount": "6678.00"
                                },
                                {
                                    "ProductID": "58",
                                    "ProductName": "Product ACRVI",
                                    "TotalUnitsSold": "534",
                                    "TotalAmount": "6664.75"
                                },
                                {
                                    "ProductID": "19",
                                    "ProductName": "Product XKXDO",
                                    "TotalUnitsSold": "723",
                                    "TotalAmount": "6159.50"
                                },
                                {
                                    "ProductID": "46",
                                    "ProductName": "Product CBRRL",
                                    "TotalUnitsSold": "548",
                                    "TotalAmount": "6144.00"
                                },
                                {
                                    "ProductID": "5",
                                    "ProductName": "Product EPEIM",
                                    "TotalUnitsSold": "298",
                                    "TotalAmount": "5801.15"
                                },
                                {
                                    "ProductID": "13",
                                    "ProductName": "Product POXFU",
                                    "TotalUnitsSold": "891",
                                    "TotalAmount": "5234.40"
                                },
                                {
                                    "ProductID": "54",
                                    "ProductName": "Product QAQRL",
                                    "TotalUnitsSold": "755",
                                    "TotalAmount": "5121.00"
                                },
                                {
                                    "ProductID": "23",
                                    "ProductName": "Product JLUDZ",
                                    "TotalUnitsSold": "580",
                                    "TotalAmount": "4840.20"
                                },
                                {
                                    "ProductID": "24",
                                    "ProductName": "Product QOGNU",
                                    "TotalUnitsSold": "1125",
                                    "TotalAmount": "4782.60"
                                },
                                {
                                    "ProductID": "45",
                                    "ProductName": "Product AQOKR",
                                    "TotalUnitsSold": "508",
                                    "TotalAmount": "4740.50"
                                },
                                {
                                    "ProductID": "47",
                                    "ProductName": "Product EZZPR",
                                    "TotalUnitsSold": "485",
                                    "TotalAmount": "4358.60"
                                },
                                {
                                    "ProductID": "73",
                                    "ProductName": "Product WEUJZ",
                                    "TotalUnitsSold": "293",
                                    "TotalAmount": "4200.00"
                                },
                                {
                                    "ProductID": "25",
                                    "ProductName": "Product LYLNI",
                                    "TotalUnitsSold": "318",
                                    "TotalAmount": "4051.60"
                                },
                                {
                                    "ProductID": "66",
                                    "ProductName": "Product LQMGN",
                                    "TotalUnitsSold": "239",
                                    "TotalAmount": "3519.00"
                                },
                                {
                                    "ProductID": "50",
                                    "ProductName": "Product BIUDV",
                                    "TotalUnitsSold": "235",
                                    "TotalAmount": "3510.00"
                                },
                                {
                                    "ProductID": "52",
                                    "ProductName": "Product QSRXF",
                                    "TotalUnitsSold": "500",
                                    "TotalAmount": "3383.80"
                                },
                                {
                                    "ProductID": "3",
                                    "ProductName": "Product IMEHJ",
                                    "TotalUnitsSold": "328",
                                    "TotalAmount": "3080.00"
                                },
                                {
                                    "ProductID": "37",
                                    "ProductName": "Product EVFFA",
                                    "TotalUnitsSold": "125",
                                    "TotalAmount": "3047.20"
                                },
                                {
                                    "ProductID": "74",
                                    "ProductName": "Product BKAZJ",
                                    "TotalUnitsSold": "297",
                                    "TotalAmount": "2566.00"
                                },
                                {
                                    "ProductID": "67",
                                    "ProductName": "Product XLXQF",
                                    "TotalUnitsSold": "184",
                                    "TotalAmount": "2562.00"
                                },
                                {
                                    "ProductID": "15",
                                    "ProductName": "Product KSZOI",
                                    "TotalUnitsSold": "122",
                                    "TotalAmount": "1813.50"
                                },
                                {
                                    "ProductID": "33",
                                    "ProductName": "Product ASTMN",
                                    "TotalUnitsSold": "755",
                                    "TotalAmount": "1713.50"
                                },
                                {
                                    "ProductID": "48",
                                    "ProductName": "Product MYNXN",
                                    "TotalUnitsSold": "138",
                                    "TotalAmount": "1542.75"
                                }
                            ]
                        },
                        "text/html": [
                            "<table>",
                            "<tr><th>ProductID</th><th>ProductName</th><th>TotalUnitsSold</th><th>TotalAmount</th></tr>",
                            "<tr><td>38</td><td>Product QDOMO</td><td>623</td><td>149984.20</td></tr>",
                            "<tr><td>29</td><td>Product VJXYN</td><td>746</td><td>87736.40</td></tr>",
                            "<tr><td>59</td><td>Product UKXRI</td><td>1496</td><td>76296.00</td></tr>",
                            "<tr><td>60</td><td>Product WHBYK</td><td>1577</td><td>50286.00</td></tr>",
                            "<tr><td>62</td><td>Product WUXYK</td><td>1083</td><td>49827.90</td></tr>",
                            "<tr><td>56</td><td>Product VKCMF</td><td>1263</td><td>45121.20</td></tr>",
                            "<tr><td>51</td><td>Product APITJ</td><td>886</td><td>44742.60</td></tr>",
                            "<tr><td>17</td><td>Product BLCAX</td><td>978</td><td>35482.20</td></tr>",
                            "<tr><td>18</td><td>Product CKEDC</td><td>539</td><td>31987.50</td></tr>",
                            "<tr><td>28</td><td>Product OFBNT</td><td>640</td><td>26865.60</td></tr>",
                            "<tr><td>72</td><td>Product GEEOO</td><td>806</td><td>25738.80</td></tr>",
                            "<tr><td>43</td><td>Product ZZZHR</td><td>580</td><td>25079.20</td></tr>",
                            "<tr><td>69</td><td>Product COAXA</td><td>714</td><td>24307.20</td></tr>",
                            "<tr><td>20</td><td>Product QHFFP</td><td>313</td><td>23635.80</td></tr>",
                            "<tr><td>64</td><td>Product HCQDE</td><td>740</td><td>23009.00</td></tr>",
                            "<tr><td>7</td><td>Product HMLNI</td><td>763</td><td>22464.00</td></tr>",
                            "<tr><td>10</td><td>Product YHXGE</td><td>742</td><td>22140.20</td></tr>",
                            "<tr><td>26</td><td>Product HLGZA</td><td>753</td><td>21534.90</td></tr>",
                            "<tr><td>53</td><td>Product BKGEA</td><td>722</td><td>21510.20</td></tr>",
                            "<tr><td>71</td><td>Product MYMOI</td><td>1057</td><td>20876.50</td></tr>",
                            "<tr><td>55</td><td>Product YYWRT</td><td>903</td><td>19512.00</td></tr>",
                            "<tr><td>40</td><td>Product YZIXQ</td><td>1103</td><td>19048.30</td></tr>",
                            "<tr><td>16</td><td>Product PAFRH</td><td>1158</td><td>18748.05</td></tr>",
                            "<tr><td>2</td><td>Product RECZE</td><td>1057</td><td>18559.20</td></tr>",
                            "<tr><td>63</td><td>Product ICKNK</td><td>445</td><td>17696.30</td></tr>",
                            "<tr><td>76</td><td>Product JYGFE</td><td>981</td><td>16794.00</td></tr>",
                            "<tr><td>61</td><td>Product XYZPE</td><td>603</td><td>16438.80</td></tr>",
                            "<tr><td>31</td><td>Product XWOXC</td><td>1397</td><td>16172.50</td></tr>",
                            "<tr><td>27</td><td>Product SMIOH</td><td>365</td><td>15231.50</td></tr>",
                            "<tr><td>30</td><td>Product LYERX</td><td>612</td><td>14775.54</td></tr>",
                            "<tr><td>65</td><td>Product XYWBZ</td><td>745</td><td>14607.00</td></tr>",
                            "<tr><td>36</td><td>Product GMKIJ</td><td>805</td><td>14542.60</td></tr>",
                            "<tr><td>35</td><td>Product NEVTJ</td><td>883</td><td>14536.80</td></tr>",
                            "<tr><td>1</td><td>Product HHYDP</td><td>828</td><td>14277.60</td></tr>",
                            "<tr><td>11</td><td>Product QMVUN</td><td>706</td><td>13902.00</td></tr>",
                            "<tr><td>8</td><td>Product WVJFP</td><td>372</td><td>13760.00</td></tr>",
                            "<tr><td>39</td><td>Product LSOFL</td><td>793</td><td>13150.80</td></tr>",
                            "<tr><td>12</td><td>Product OSFNS</td><td>344</td><td>12866.80</td></tr>",
                            "<tr><td>70</td><td>Product TOONT</td><td>817</td><td>11472.00</td></tr>",
                            "<tr><td>44</td><td>Product VJIEO</td><td>601</td><td>10524.20</td></tr>",
                            "<tr><td>77</td><td>Product LUNZZ</td><td>791</td><td>9685.00</td></tr>",
                            "<tr><td>21</td><td>Product VJZZH</td><td>1016</td><td>9636.00</td></tr>",
                            "<tr><td>49</td><td>Product FPYPN</td><td>520</td><td>9500.00</td></tr>",
                            "<tr><td>4</td><td>Product KSBRM</td><td>453</td><td>9424.80</td></tr>",
                            "<tr><td>68</td><td>Product TBTBL</td><td>799</td><td>9362.50</td></tr>",
                            "<tr><td>42</td><td>Product RJVNM</td><td>697</td><td>9332.40</td></tr>",
                            "<tr><td>32</td><td>Product NUNAW</td><td>297</td><td>9171.20</td></tr>",
                            "<tr><td>41</td><td>Product TTEEX</td><td>981</td><td>9098.10</td></tr>",
                            "<tr><td>9</td><td>Product AOZBW</td><td>95</td><td>8827.00</td></tr>",
                            "<tr><td>75</td><td>Product BWRLG</td><td>1155</td><td>8650.55</td></tr>",
                            "<tr><td>14</td><td>Product PWCJB</td><td>404</td><td>8630.40</td></tr>",
                            "<tr><td>57</td><td>Product OVLQI</td><td>434</td><td>7807.80</td></tr>",
                            "<tr><td>6</td><td>Product VAIIV</td><td>301</td><td>7345.00</td></tr>",
                            "<tr><td>22</td><td>Product CPHFY</td><td>348</td><td>7232.40</td></tr>",
                            "<tr><td>34</td><td>Product SWNJY</td><td>506</td><td>6678.00</td></tr>",
                            "<tr><td>58</td><td>Product ACRVI</td><td>534</td><td>6664.75</td></tr>",
                            "<tr><td>19</td><td>Product XKXDO</td><td>723</td><td>6159.50</td></tr>",
                            "<tr><td>46</td><td>Product CBRRL</td><td>548</td><td>6144.00</td></tr>",
                            "<tr><td>5</td><td>Product EPEIM</td><td>298</td><td>5801.15</td></tr>",
                            "<tr><td>13</td><td>Product POXFU</td><td>891</td><td>5234.40</td></tr>",
                            "<tr><td>54</td><td>Product QAQRL</td><td>755</td><td>5121.00</td></tr>",
                            "<tr><td>23</td><td>Product JLUDZ</td><td>580</td><td>4840.20</td></tr>",
                            "<tr><td>24</td><td>Product QOGNU</td><td>1125</td><td>4782.60</td></tr>",
                            "<tr><td>45</td><td>Product AQOKR</td><td>508</td><td>4740.50</td></tr>",
                            "<tr><td>47</td><td>Product EZZPR</td><td>485</td><td>4358.60</td></tr>",
                            "<tr><td>73</td><td>Product WEUJZ</td><td>293</td><td>4200.00</td></tr>",
                            "<tr><td>25</td><td>Product LYLNI</td><td>318</td><td>4051.60</td></tr>",
                            "<tr><td>66</td><td>Product LQMGN</td><td>239</td><td>3519.00</td></tr>",
                            "<tr><td>50</td><td>Product BIUDV</td><td>235</td><td>3510.00</td></tr>",
                            "<tr><td>52</td><td>Product QSRXF</td><td>500</td><td>3383.80</td></tr>",
                            "<tr><td>3</td><td>Product IMEHJ</td><td>328</td><td>3080.00</td></tr>",
                            "<tr><td>37</td><td>Product EVFFA</td><td>125</td><td>3047.20</td></tr>",
                            "<tr><td>74</td><td>Product BKAZJ</td><td>297</td><td>2566.00</td></tr>",
                            "<tr><td>67</td><td>Product XLXQF</td><td>184</td><td>2562.00</td></tr>",
                            "<tr><td>15</td><td>Product KSZOI</td><td>122</td><td>1813.50</td></tr>",
                            "<tr><td>33</td><td>Product ASTMN</td><td>755</td><td>1713.50</td></tr>",
                            "<tr><td>48</td><td>Product MYNXN</td><td>138</td><td>1542.75</td></tr>",
                            "</table>"
                        ]
                    }
                }
            ],
            "execution_count": 31
        },
        {
            "cell_type": "markdown",
            "source": [
                "Case 4: Reports are showing that we have some discontinued products that are still being sold. Management is furious, and is looking find which of these products have actually been sold and how much money they have brought in. Find these products that are discontinued yet have still been sold to generate revenue"
            ],
            "metadata": {
                "azdata_cell_guid": "cb529c1f-d1fe-4432-9e01-c66619a8632b"
            },
            "attachments": {}
        },
        {
            "cell_type": "code",
            "source": [
                "--Join product table with order detail to get product names,\r\n",
                "--filter on product table for discontinued products.\r\n",
                "--Find the Total Amount that each of these products were sold for.\r\n",
                "SELECT od.ProductID, p.ProductName, SUM(od.Quantity * od.UnitPrice) AS TotalAmount\r\n",
                "FROM Sales.OrderDetail od\r\n",
                "JOIN Production.Product p ON od.ProductID = p.ProductID\r\n",
                "WHERE p.Discontinued = 1  \r\n",
                "GROUP BY od.ProductID, p.ProductName\r\n",
                "ORDER BY TotalAmount DESC;"
            ],
            "metadata": {
                "azdata_cell_guid": "c5f5cc09-cc93-4601-abbf-9a8e348ee347",
                "language": "sql",
                "tags": []
            },
            "outputs": [
                {
                    "output_type": "display_data",
                    "data": {
                        "text/html": "(8 rows affected)"
                    },
                    "metadata": {}
                },
                {
                    "output_type": "display_data",
                    "data": {
                        "text/html": "Total execution time: 00:00:00.026"
                    },
                    "metadata": {}
                },
                {
                    "output_type": "execute_result",
                    "metadata": {},
                    "execution_count": 26,
                    "data": {
                        "application/vnd.dataresource+json": {
                            "schema": {
                                "fields": [
                                    {
                                        "name": "ProductID"
                                    },
                                    {
                                        "name": "ProductName"
                                    },
                                    {
                                        "name": "TotalAmount"
                                    }
                                ]
                            },
                            "data": [
                                {
                                    "ProductID": "29",
                                    "ProductName": "Product VJXYN",
                                    "TotalAmount": "87736.40"
                                },
                                {
                                    "ProductID": "9",
                                    "ProductName": "Product AOZBW",
                                    "TotalAmount": "8827.00"
                                },
                                {
                                    "ProductID": "24",
                                    "ProductName": "Product QOGNU",
                                    "TotalAmount": "4782.60"
                                },
                                {
                                    "ProductID": "42",
                                    "ProductName": "Product RJVNM",
                                    "TotalAmount": "9332.40"
                                },
                                {
                                    "ProductID": "5",
                                    "ProductName": "Product EPEIM",
                                    "TotalAmount": "5801.15"
                                },
                                {
                                    "ProductID": "53",
                                    "ProductName": "Product BKGEA",
                                    "TotalAmount": "21510.20"
                                },
                                {
                                    "ProductID": "17",
                                    "ProductName": "Product BLCAX",
                                    "TotalAmount": "35482.20"
                                },
                                {
                                    "ProductID": "28",
                                    "ProductName": "Product OFBNT",
                                    "TotalAmount": "26865.60"
                                }
                            ]
                        },
                        "text/html": [
                            "<table>",
                            "<tr><th>ProductID</th><th>ProductName</th><th>TotalAmount</th></tr>",
                            "<tr><td>29</td><td>Product VJXYN</td><td>87736.40</td></tr>",
                            "<tr><td>9</td><td>Product AOZBW</td><td>8827.00</td></tr>",
                            "<tr><td>24</td><td>Product QOGNU</td><td>4782.60</td></tr>",
                            "<tr><td>42</td><td>Product RJVNM</td><td>9332.40</td></tr>",
                            "<tr><td>5</td><td>Product EPEIM</td><td>5801.15</td></tr>",
                            "<tr><td>53</td><td>Product BKGEA</td><td>21510.20</td></tr>",
                            "<tr><td>17</td><td>Product BLCAX</td><td>35482.20</td></tr>",
                            "<tr><td>28</td><td>Product OFBNT</td><td>26865.60</td></tr>",
                            "</table>"
                        ]
                    }
                }
            ],
            "execution_count": 26
        },
        {
            "cell_type": "markdown",
            "source": [
                "Case 5: Management has noticed that a high value order was never delivered. They want to find the shipper responsible for the delivery of this order. Find the shipper."
            ],
            "metadata": {
                "azdata_cell_guid": "415cd2c9-33b8-4f87-88af-d60f94e7379b"
            },
            "attachments": {}
        },
        {
            "cell_type": "code",
            "source": [
                "--Find the most valuable order that hasn't been shipped yet (ShipToDate IS NULL)\r\n",
                "SELECT TOP 1 od.OrderId, o.CustomerId, SUM(od.Quantity * od.UnitPrice) AS OrderTotal, o.ShipToDate\r\n",
                "FROM Sales.[OrderDetail] as od\r\n",
                "JOIN Sales.[Order] AS o ON od.OrderId = o.OrderId\r\n",
                "WHERE o.ShipToDate IS NULL\r\n",
                "GROUP BY od.OrderID, o.CustomerId, o.ShipToDate\r\n",
                "ORDER BY OrderTotal DESC\r\n",
                "\r\n",
                "--Use the OrderId from the previous result to find the shipper responsible\r\n",
                "SELECT o.OrderId, s.ShipperId, s.ShipperCompanyName\r\n",
                "FROM Sales.[Order] AS o\r\n",
                "JOIN Sales.Shipper AS s ON o.ShipperId = s.ShipperId\r\n",
                "WHERE o.OrderId = 11072;"
            ],
            "metadata": {
                "azdata_cell_guid": "0a4f4190-672a-4f37-afb6-f437345d905a",
                "language": "sql"
            },
            "outputs": [
                {
                    "output_type": "display_data",
                    "data": {
                        "text/html": "(1 row affected)"
                    },
                    "metadata": {}
                },
                {
                    "output_type": "display_data",
                    "data": {
                        "text/html": "(1 row affected)"
                    },
                    "metadata": {}
                },
                {
                    "output_type": "display_data",
                    "data": {
                        "text/html": "Total execution time: 00:00:00.092"
                    },
                    "metadata": {}
                },
                {
                    "output_type": "execute_result",
                    "metadata": {},
                    "execution_count": 32,
                    "data": {
                        "application/vnd.dataresource+json": {
                            "schema": {
                                "fields": [
                                    {
                                        "name": "OrderId"
                                    },
                                    {
                                        "name": "CustomerId"
                                    },
                                    {
                                        "name": "OrderTotal"
                                    },
                                    {
                                        "name": "ShipToDate"
                                    }
                                ]
                            },
                            "data": [
                                {
                                    "OrderId": "11072",
                                    "CustomerId": "20",
                                    "OrderTotal": "5218.00",
                                    "ShipToDate": "NULL"
                                }
                            ]
                        },
                        "text/html": [
                            "<table>",
                            "<tr><th>OrderId</th><th>CustomerId</th><th>OrderTotal</th><th>ShipToDate</th></tr>",
                            "<tr><td>11072</td><td>20</td><td>5218.00</td><td>NULL</td></tr>",
                            "</table>"
                        ]
                    }
                },
                {
                    "output_type": "execute_result",
                    "metadata": {},
                    "execution_count": 32,
                    "data": {
                        "application/vnd.dataresource+json": {
                            "schema": {
                                "fields": [
                                    {
                                        "name": "OrderId"
                                    },
                                    {
                                        "name": "ShipperId"
                                    },
                                    {
                                        "name": "ShipperCompanyName"
                                    }
                                ]
                            },
                            "data": [
                                {
                                    "OrderId": "11072",
                                    "ShipperId": "2",
                                    "ShipperCompanyName": "Shipper ETYNR"
                                }
                            ]
                        },
                        "text/html": [
                            "<table>",
                            "<tr><th>OrderId</th><th>ShipperId</th><th>ShipperCompanyName</th></tr>",
                            "<tr><td>11072</td><td>2</td><td>Shipper ETYNR</td></tr>",
                            "</table>"
                        ]
                    }
                }
            ],
            "execution_count": 32
        },
        {
            "cell_type": "markdown",
            "source": [
                "Case 6: The CEO Sara Davis heard a rumor that two of her employees have made more than her in total sales. She wants you to find those two employees."
            ],
            "metadata": {
                "azdata_cell_guid": "7d17873a-1421-4950-8819-f1a762e1257f"
            },
            "attachments": {}
        },
        {
            "cell_type": "code",
            "source": [
                "--Join the employee, Order and OrderDetail tables to calculate total sales made by each employee\r\n",
                "--Aggregate the total sales per employeee and group by employee ID and Name and Order them\r\n",
                "SELECT e.EmployeeID, e.EmployeeFirstName, e.EmployeeLastName AS EmployeeName, SUM(od.UnitPrice * od.Quantity) AS TotalSales\r\n",
                "FROM HumanResources.Employee e\r\n",
                "JOIN Sales.[Order] o ON e.EmployeeID = o.EmployeeID\r\n",
                "JOIN Sales.OrderDetail od ON o.OrderID = od.OrderID\r\n",
                "GROUP BY e.EmployeeID, e.EmployeeFirstName, e.EmployeeLastName\r\n",
                "ORDER BY TotalSales DESC"
            ],
            "metadata": {
                "azdata_cell_guid": "8fb3e331-6ff3-42ab-b460-e3ad332aee74",
                "language": "sql",
                "tags": []
            },
            "outputs": [
                {
                    "output_type": "display_data",
                    "data": {
                        "text/html": "(9 rows affected)"
                    },
                    "metadata": {}
                },
                {
                    "output_type": "display_data",
                    "data": {
                        "text/html": "Total execution time: 00:00:00.063"
                    },
                    "metadata": {}
                },
                {
                    "output_type": "execute_result",
                    "metadata": {},
                    "execution_count": 28,
                    "data": {
                        "application/vnd.dataresource+json": {
                            "schema": {
                                "fields": [
                                    {
                                        "name": "EmployeeID"
                                    },
                                    {
                                        "name": "EmployeeFirstName"
                                    },
                                    {
                                        "name": "EmployeeName"
                                    },
                                    {
                                        "name": "TotalSales"
                                    }
                                ]
                            },
                            "data": [
                                {
                                    "EmployeeID": "4",
                                    "EmployeeFirstName": "Yael",
                                    "EmployeeName": "Peled",
                                    "TotalSales": "250187.45"
                                },
                                {
                                    "EmployeeID": "3",
                                    "EmployeeFirstName": "Judy",
                                    "EmployeeName": "Lew",
                                    "TotalSales": "213051.30"
                                },
                                {
                                    "EmployeeID": "1",
                                    "EmployeeFirstName": "Sara",
                                    "EmployeeName": "Davis",
                                    "TotalSales": "202143.71"
                                },
                                {
                                    "EmployeeID": "2",
                                    "EmployeeFirstName": "Don",
                                    "EmployeeName": "Funk",
                                    "TotalSales": "177749.26"
                                },
                                {
                                    "EmployeeID": "7",
                                    "EmployeeFirstName": "Russell",
                                    "EmployeeName": "King",
                                    "TotalSales": "141295.99"
                                },
                                {
                                    "EmployeeID": "8",
                                    "EmployeeFirstName": "Maria",
                                    "EmployeeName": "Cameron",
                                    "TotalSales": "133301.03"
                                },
                                {
                                    "EmployeeID": "9",
                                    "EmployeeFirstName": "Patricia",
                                    "EmployeeName": "Doyle",
                                    "TotalSales": "82964.00"
                                },
                                {
                                    "EmployeeID": "6",
                                    "EmployeeFirstName": "Paul",
                                    "EmployeeName": "Suurs",
                                    "TotalSales": "78198.10"
                                },
                                {
                                    "EmployeeID": "5",
                                    "EmployeeFirstName": "Sven",
                                    "EmployeeName": "Mortensen",
                                    "TotalSales": "75567.75"
                                }
                            ]
                        },
                        "text/html": [
                            "<table>",
                            "<tr><th>EmployeeID</th><th>EmployeeFirstName</th><th>EmployeeName</th><th>TotalSales</th></tr>",
                            "<tr><td>4</td><td>Yael</td><td>Peled</td><td>250187.45</td></tr>",
                            "<tr><td>3</td><td>Judy</td><td>Lew</td><td>213051.30</td></tr>",
                            "<tr><td>1</td><td>Sara</td><td>Davis</td><td>202143.71</td></tr>",
                            "<tr><td>2</td><td>Don</td><td>Funk</td><td>177749.26</td></tr>",
                            "<tr><td>7</td><td>Russell</td><td>King</td><td>141295.99</td></tr>",
                            "<tr><td>8</td><td>Maria</td><td>Cameron</td><td>133301.03</td></tr>",
                            "<tr><td>9</td><td>Patricia</td><td>Doyle</td><td>82964.00</td></tr>",
                            "<tr><td>6</td><td>Paul</td><td>Suurs</td><td>78198.10</td></tr>",
                            "<tr><td>5</td><td>Sven</td><td>Mortensen</td><td>75567.75</td></tr>",
                            "</table>"
                        ]
                    }
                }
            ],
            "execution_count": 28
        },
        {
            "cell_type": "markdown",
            "source": [
                "Case 7: Management is looking for the customer who has spent on average the most per order. Find the customer so they can get a hefty discount."
            ],
            "metadata": {
                "azdata_cell_guid": "e30a4b8d-1bce-4876-86f1-a15ed56fb7ad"
            },
            "attachments": {}
        },
        {
            "cell_type": "code",
            "source": [
                "--Join the customer, Order and OrderDetail tables to link customers with their orders and orderdetails\r\n",
                "--Calculate average order value per customer \r\n",
                "--Return the top customer based on highest average order value\r\n",
                "SELECT TOP 1 c.CustomerCompanyName,\r\n",
                "\tAVG (od.UnitPrice * od.Quantity * (1 - od.DiscountPercentage)) AS AvgOrderValue\r\n",
                "FROM Sales.Customer as c\r\n",
                "JOIN Sales.[Order] as o ON c.CustomerID = o.CustomerID\r\n",
                "JOIN Sales.OrderDetail as od ON o.OrderID = od.OrderId\r\n",
                "GROUP BY c.CustomerCompanyName\r\n",
                "ORDER BY AvgOrderValue DESC;"
            ],
            "metadata": {
                "azdata_cell_guid": "b08e5400-97cd-4074-9638-837faae647a6",
                "language": "sql",
                "tags": []
            },
            "outputs": [
                {
                    "output_type": "display_data",
                    "data": {
                        "text/html": "(1 row affected)"
                    },
                    "metadata": {}
                },
                {
                    "output_type": "display_data",
                    "data": {
                        "text/html": "Total execution time: 00:00:00.042"
                    },
                    "metadata": {}
                },
                {
                    "output_type": "execute_result",
                    "metadata": {},
                    "execution_count": 7,
                    "data": {
                        "application/vnd.dataresource+json": {
                            "schema": {
                                "fields": [
                                    {
                                        "name": "CustomerCompanyName"
                                    },
                                    {
                                        "name": "AvgOrderValue"
                                    }
                                ]
                            },
                            "data": [
                                {
                                    "CustomerCompanyName": "Customer IRRVL",
                                    "AvgOrderValue": "1282.2942441"
                                }
                            ]
                        },
                        "text/html": [
                            "<table>",
                            "<tr><th>CustomerCompanyName</th><th>AvgOrderValue</th></tr>",
                            "<tr><td>Customer IRRVL</td><td>1282.2942441</td></tr>",
                            "</table>"
                        ]
                    }
                }
            ],
            "execution_count": 7
        }
    ]
}