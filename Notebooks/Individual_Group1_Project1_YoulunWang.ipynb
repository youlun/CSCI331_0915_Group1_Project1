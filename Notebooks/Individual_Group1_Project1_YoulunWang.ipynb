{
    "metadata": {
        "kernelspec": {
            "name": "SQL",
            "display_name": "SQL",
            "language": "sql"
        },
        "language_info": {
            "name": "sql",
            "version": ""
        }
    },
    "nbformat_minor": 2,
    "nbformat": 4,
    "cells": [
        {
            "cell_type": "markdown",
            "source": [
                "**Mystery #1:**\n",
                "\n",
                "Customer Elliott, Patrick emailed us complaining that he is having issues reorder a past order.  \n",
                "He wants to reorder the same order he placed on 2020-07-04. Can you figure out what might be the reason he is unable to place that order? Hint\\* could it be an inventory issue?"
            ],
            "metadata": {
                "azdata_cell_guid": "69bf2efd-ed4d-4455-813a-3ae62fd728cf"
            },
            "attachments": {}
        },
        {
            "cell_type": "code",
            "source": [
                "--solution\n",
                "\n",
                "---step # 1 find the Customer ID\n",
                "SELECT *\n",
                "FROM Sales.Customer\n",
                "WHERE CustomerContactName LIKE 'Elliott%'\n",
                "\n",
                "---step #2 find the order date matching the customer\n",
                "SELECT *\n",
                "FROM Sales.OrderDetail\n",
                "WHERE OrderID = (SELECT OrderId\n",
                "        FROM sales.[Order]\n",
                "        WHERE OrderDate = '2020-07-04' AND CustomerId = 85)\n",
                "\n",
                "--step #3 check the 3 items part of this order, which is where you'll find that item 42 is discontinued."
            ],
            "metadata": {
                "azdata_cell_guid": "b3cbe99a-9d3c-4afb-aa94-974e388f2ba5",
                "language": "sql"
            },
            "outputs": [
                {
                    "output_type": "display_data",
                    "data": {
                        "text/html": "(1 row affected)"
                    },
                    "metadata": {}
                },
                {
                    "output_type": "display_data",
                    "data": {
                        "text/html": "(3 rows affected)"
                    },
                    "metadata": {}
                },
                {
                    "output_type": "display_data",
                    "data": {
                        "text/html": "Total execution time: 00:00:00.010"
                    },
                    "metadata": {}
                },
                {
                    "output_type": "execute_result",
                    "metadata": {},
                    "execution_count": 9,
                    "data": {
                        "application/vnd.dataresource+json": {
                            "schema": {
                                "fields": [
                                    {
                                        "name": "CustomerId"
                                    },
                                    {
                                        "name": "CustomerCompanyName"
                                    },
                                    {
                                        "name": "CustomerContactName"
                                    },
                                    {
                                        "name": "CustomerContactTitle"
                                    },
                                    {
                                        "name": "CustomerAddress"
                                    },
                                    {
                                        "name": "CustomerCity"
                                    },
                                    {
                                        "name": "CustomerRegion"
                                    },
                                    {
                                        "name": "CustomerPostalCode"
                                    },
                                    {
                                        "name": "CustomerCountry"
                                    },
                                    {
                                        "name": "CustomerPhoneNumber"
                                    },
                                    {
                                        "name": "CustomerFaxNumber"
                                    }
                                ]
                            },
                            "data": [
                                {
                                    "CustomerId": "85",
                                    "CustomerCompanyName": "Customer ENQZT",
                                    "CustomerContactName": "Elliott, Patrick",
                                    "CustomerContactTitle": "Accounting Manager",
                                    "CustomerAddress": "5678 rue de l'Abbaye",
                                    "CustomerCity": "Reims",
                                    "CustomerRegion": "NULL",
                                    "CustomerPostalCode": "10082",
                                    "CustomerCountry": "France",
                                    "CustomerPhoneNumber": "56.78.90.12",
                                    "CustomerFaxNumber": "56.78.90.13"
                                }
                            ]
                        },
                        "text/html": [
                            "<table>",
                            "<tr><th>CustomerId</th><th>CustomerCompanyName</th><th>CustomerContactName</th><th>CustomerContactTitle</th><th>CustomerAddress</th><th>CustomerCity</th><th>CustomerRegion</th><th>CustomerPostalCode</th><th>CustomerCountry</th><th>CustomerPhoneNumber</th><th>CustomerFaxNumber</th></tr>",
                            "<tr><td>85</td><td>Customer ENQZT</td><td>Elliott, Patrick</td><td>Accounting Manager</td><td>5678 rue de l&#39;Abbaye</td><td>Reims</td><td>NULL</td><td>10082</td><td>France</td><td>56.78.90.12</td><td>56.78.90.13</td></tr>",
                            "</table>"
                        ]
                    }
                },
                {
                    "output_type": "execute_result",
                    "metadata": {},
                    "execution_count": 9,
                    "data": {
                        "application/vnd.dataresource+json": {
                            "schema": {
                                "fields": [
                                    {
                                        "name": "OrderId"
                                    },
                                    {
                                        "name": "ProductId"
                                    },
                                    {
                                        "name": "UnitPrice"
                                    },
                                    {
                                        "name": "Quantity"
                                    },
                                    {
                                        "name": "DiscountPercentage"
                                    },
                                    {
                                        "name": "DiscountedLineAmount"
                                    },
                                    {
                                        "name": "LineAmount"
                                    }
                                ]
                            },
                            "data": [
                                {
                                    "OrderId": "10248",
                                    "ProductId": "11",
                                    "UnitPrice": "14.00",
                                    "Quantity": "12",
                                    "DiscountPercentage": "0.000",
                                    "DiscountedLineAmount": "168.0000000",
                                    "LineAmount": "168.00"
                                },
                                {
                                    "OrderId": "10248",
                                    "ProductId": "42",
                                    "UnitPrice": "9.80",
                                    "Quantity": "10",
                                    "DiscountPercentage": "0.000",
                                    "DiscountedLineAmount": "98.0000000",
                                    "LineAmount": "98.00"
                                },
                                {
                                    "OrderId": "10248",
                                    "ProductId": "72",
                                    "UnitPrice": "34.80",
                                    "Quantity": "5",
                                    "DiscountPercentage": "0.000",
                                    "DiscountedLineAmount": "174.0000000",
                                    "LineAmount": "174.00"
                                }
                            ]
                        },
                        "text/html": [
                            "<table>",
                            "<tr><th>OrderId</th><th>ProductId</th><th>UnitPrice</th><th>Quantity</th><th>DiscountPercentage</th><th>DiscountedLineAmount</th><th>LineAmount</th></tr>",
                            "<tr><td>10248</td><td>11</td><td>14.00</td><td>12</td><td>0.000</td><td>168.0000000</td><td>168.00</td></tr>",
                            "<tr><td>10248</td><td>42</td><td>9.80</td><td>10</td><td>0.000</td><td>98.0000000</td><td>98.00</td></tr>",
                            "<tr><td>10248</td><td>72</td><td>34.80</td><td>5</td><td>0.000</td><td>174.0000000</td><td>174.00</td></tr>",
                            "</table>"
                        ]
                    }
                }
            ],
            "execution_count": 9
        },
        {
            "cell_type": "markdown",
            "source": [
                "**Mystery #2:**\n",
                "\n",
                "Two customers(cx id 68 and 65) are complaining their most recent orders have not been received, can you figure out where the missing orders went?"
            ],
            "metadata": {
                "language": "sql",
                "azdata_cell_guid": "029b567c-d82e-4e93-87c1-c258bc68588b"
            },
            "attachments": {}
        },
        {
            "cell_type": "code",
            "source": [
                "--if we query the sales.order details regarding the two cx, we'll see the the most recent orders are not shipped yet!\n",
                "SELECT TOP 10 *\n",
                "FROM sales.[Order] o\n",
                "WHERE o.CustomerId IN (68, 65)\n",
                "ORDER BY o.OrderDate DESC;"
            ],
            "metadata": {
                "language": "sql",
                "azdata_cell_guid": "3c22fd5b-fba8-4d25-bd67-df366e64f3ee"
            },
            "outputs": [
                {
                    "output_type": "display_data",
                    "data": {
                        "text/html": "(10 rows affected)"
                    },
                    "metadata": {}
                },
                {
                    "output_type": "display_data",
                    "data": {
                        "text/html": "Total execution time: 00:00:00.010"
                    },
                    "metadata": {}
                },
                {
                    "output_type": "execute_result",
                    "metadata": {},
                    "execution_count": 8,
                    "data": {
                        "application/vnd.dataresource+json": {
                            "schema": {
                                "fields": [
                                    {
                                        "name": "OrderId"
                                    },
                                    {
                                        "name": "CustomerId"
                                    },
                                    {
                                        "name": "EmployeeId"
                                    },
                                    {
                                        "name": "ShipperId"
                                    },
                                    {
                                        "name": "OrderDate"
                                    },
                                    {
                                        "name": "RequiredDate"
                                    },
                                    {
                                        "name": "ShipToDate"
                                    },
                                    {
                                        "name": "Freight"
                                    },
                                    {
                                        "name": "ShipToName"
                                    },
                                    {
                                        "name": "ShipToAddress"
                                    },
                                    {
                                        "name": "ShipToCity"
                                    },
                                    {
                                        "name": "ShipToRegion"
                                    },
                                    {
                                        "name": "ShipToPostalCode"
                                    },
                                    {
                                        "name": "ShipToCountry"
                                    }
                                ]
                            },
                            "data": [
                                {
                                    "OrderId": "11075",
                                    "CustomerId": "68",
                                    "EmployeeId": "8",
                                    "ShipperId": "2",
                                    "OrderDate": "2022-05-06",
                                    "RequiredDate": "2022-06-03",
                                    "ShipToDate": "NULL",
                                    "Freight": "6.19",
                                    "ShipToName": "Ship to 68-A",
                                    "ShipToAddress": "Starenweg 6789",
                                    "ShipToCity": "Genève",
                                    "ShipToRegion": "NULL",
                                    "ShipToPostalCode": "10294",
                                    "ShipToCountry": "Switzerland"
                                },
                                {
                                    "OrderId": "11077",
                                    "CustomerId": "65",
                                    "EmployeeId": "1",
                                    "ShipperId": "2",
                                    "OrderDate": "2022-05-06",
                                    "RequiredDate": "2022-06-03",
                                    "ShipToDate": "NULL",
                                    "Freight": "8.53",
                                    "ShipToName": "Ship to 65-A",
                                    "ShipToAddress": "7890 Milton Dr.",
                                    "ShipToCity": "Albuquerque",
                                    "ShipToRegion": "NM",
                                    "ShipToPostalCode": "10285",
                                    "ShipToCountry": "USA"
                                },
                                {
                                    "OrderId": "11033",
                                    "CustomerId": "68",
                                    "EmployeeId": "7",
                                    "ShipperId": "3",
                                    "OrderDate": "2022-04-17",
                                    "RequiredDate": "2022-05-15",
                                    "ShipToDate": "2022-04-23",
                                    "Freight": "84.74",
                                    "ShipToName": "Ship to 68-A",
                                    "ShipToAddress": "Starenweg 6789",
                                    "ShipToCity": "Genève",
                                    "ShipToRegion": "NULL",
                                    "ShipToPostalCode": "10294",
                                    "ShipToCountry": "Switzerland"
                                },
                                {
                                    "OrderId": "11000",
                                    "CustomerId": "65",
                                    "EmployeeId": "2",
                                    "ShipperId": "3",
                                    "OrderDate": "2022-04-06",
                                    "RequiredDate": "2022-05-04",
                                    "ShipToDate": "2022-04-14",
                                    "Freight": "55.12",
                                    "ShipToName": "Ship to 65-A",
                                    "ShipToAddress": "7890 Milton Dr.",
                                    "ShipToCity": "Albuquerque",
                                    "ShipToRegion": "NM",
                                    "ShipToPostalCode": "10285",
                                    "ShipToCountry": "USA"
                                },
                                {
                                    "OrderId": "10988",
                                    "CustomerId": "65",
                                    "EmployeeId": "3",
                                    "ShipperId": "2",
                                    "OrderDate": "2022-03-31",
                                    "RequiredDate": "2022-04-28",
                                    "ShipToDate": "2022-04-10",
                                    "Freight": "61.14",
                                    "ShipToName": "Ship to 65-A",
                                    "ShipToAddress": "7890 Milton Dr.",
                                    "ShipToCity": "Albuquerque",
                                    "ShipToRegion": "NM",
                                    "ShipToPostalCode": "10285",
                                    "ShipToCountry": "USA"
                                },
                                {
                                    "OrderId": "10951",
                                    "CustomerId": "68",
                                    "EmployeeId": "9",
                                    "ShipperId": "2",
                                    "OrderDate": "2022-03-16",
                                    "RequiredDate": "2022-04-27",
                                    "ShipToDate": "2022-04-07",
                                    "Freight": "30.85",
                                    "ShipToName": "Ship to 68-A",
                                    "ShipToAddress": "Starenweg 6789",
                                    "ShipToCity": "Genève",
                                    "ShipToRegion": "NULL",
                                    "ShipToPostalCode": "10294",
                                    "ShipToCountry": "Switzerland"
                                },
                                {
                                    "OrderId": "10931",
                                    "CustomerId": "68",
                                    "EmployeeId": "4",
                                    "ShipperId": "2",
                                    "OrderDate": "2022-03-06",
                                    "RequiredDate": "2022-03-20",
                                    "ShipToDate": "2022-03-19",
                                    "Freight": "13.60",
                                    "ShipToName": "Ship to 68-B",
                                    "ShipToAddress": "Starenweg 7890",
                                    "ShipToCity": "Genève",
                                    "ShipToRegion": "NULL",
                                    "ShipToPostalCode": "10295",
                                    "ShipToCountry": "Switzerland"
                                },
                                {
                                    "OrderId": "10889",
                                    "CustomerId": "65",
                                    "EmployeeId": "9",
                                    "ShipperId": "3",
                                    "OrderDate": "2022-02-16",
                                    "RequiredDate": "2022-03-16",
                                    "ShipToDate": "2022-02-23",
                                    "Freight": "280.61",
                                    "ShipToName": "Ship to 65-C",
                                    "ShipToAddress": "9012 Milton Dr.",
                                    "ShipToCity": "Albuquerque",
                                    "ShipToRegion": "NM",
                                    "ShipToPostalCode": "10287",
                                    "ShipToCountry": "USA"
                                },
                                {
                                    "OrderId": "10852",
                                    "CustomerId": "65",
                                    "EmployeeId": "8",
                                    "ShipperId": "1",
                                    "OrderDate": "2022-01-26",
                                    "RequiredDate": "2022-02-09",
                                    "ShipToDate": "2022-01-30",
                                    "Freight": "174.05",
                                    "ShipToName": "Ship to 65-A",
                                    "ShipToAddress": "7890 Milton Dr.",
                                    "ShipToCity": "Albuquerque",
                                    "ShipToRegion": "NM",
                                    "ShipToPostalCode": "10285",
                                    "ShipToCountry": "USA"
                                },
                                {
                                    "OrderId": "10820",
                                    "CustomerId": "65",
                                    "EmployeeId": "3",
                                    "ShipperId": "2",
                                    "OrderDate": "2022-01-07",
                                    "RequiredDate": "2022-02-04",
                                    "ShipToDate": "2022-01-13",
                                    "Freight": "37.52",
                                    "ShipToName": "Ship to 65-B",
                                    "ShipToAddress": "8901 Milton Dr.",
                                    "ShipToCity": "Albuquerque",
                                    "ShipToRegion": "NM",
                                    "ShipToPostalCode": "10286",
                                    "ShipToCountry": "USA"
                                }
                            ]
                        },
                        "text/html": [
                            "<table>",
                            "<tr><th>OrderId</th><th>CustomerId</th><th>EmployeeId</th><th>ShipperId</th><th>OrderDate</th><th>RequiredDate</th><th>ShipToDate</th><th>Freight</th><th>ShipToName</th><th>ShipToAddress</th><th>ShipToCity</th><th>ShipToRegion</th><th>ShipToPostalCode</th><th>ShipToCountry</th></tr>",
                            "<tr><td>11075</td><td>68</td><td>8</td><td>2</td><td>2022-05-06</td><td>2022-06-03</td><td>NULL</td><td>6.19</td><td>Ship to 68-A</td><td>Starenweg 6789</td><td>Genève</td><td>NULL</td><td>10294</td><td>Switzerland</td></tr>",
                            "<tr><td>11077</td><td>65</td><td>1</td><td>2</td><td>2022-05-06</td><td>2022-06-03</td><td>NULL</td><td>8.53</td><td>Ship to 65-A</td><td>7890 Milton Dr.</td><td>Albuquerque</td><td>NM</td><td>10285</td><td>USA</td></tr>",
                            "<tr><td>11033</td><td>68</td><td>7</td><td>3</td><td>2022-04-17</td><td>2022-05-15</td><td>2022-04-23</td><td>84.74</td><td>Ship to 68-A</td><td>Starenweg 6789</td><td>Genève</td><td>NULL</td><td>10294</td><td>Switzerland</td></tr>",
                            "<tr><td>11000</td><td>65</td><td>2</td><td>3</td><td>2022-04-06</td><td>2022-05-04</td><td>2022-04-14</td><td>55.12</td><td>Ship to 65-A</td><td>7890 Milton Dr.</td><td>Albuquerque</td><td>NM</td><td>10285</td><td>USA</td></tr>",
                            "<tr><td>10988</td><td>65</td><td>3</td><td>2</td><td>2022-03-31</td><td>2022-04-28</td><td>2022-04-10</td><td>61.14</td><td>Ship to 65-A</td><td>7890 Milton Dr.</td><td>Albuquerque</td><td>NM</td><td>10285</td><td>USA</td></tr>",
                            "<tr><td>10951</td><td>68</td><td>9</td><td>2</td><td>2022-03-16</td><td>2022-04-27</td><td>2022-04-07</td><td>30.85</td><td>Ship to 68-A</td><td>Starenweg 6789</td><td>Genève</td><td>NULL</td><td>10294</td><td>Switzerland</td></tr>",
                            "<tr><td>10931</td><td>68</td><td>4</td><td>2</td><td>2022-03-06</td><td>2022-03-20</td><td>2022-03-19</td><td>13.60</td><td>Ship to 68-B</td><td>Starenweg 7890</td><td>Genève</td><td>NULL</td><td>10295</td><td>Switzerland</td></tr>",
                            "<tr><td>10889</td><td>65</td><td>9</td><td>3</td><td>2022-02-16</td><td>2022-03-16</td><td>2022-02-23</td><td>280.61</td><td>Ship to 65-C</td><td>9012 Milton Dr.</td><td>Albuquerque</td><td>NM</td><td>10287</td><td>USA</td></tr>",
                            "<tr><td>10852</td><td>65</td><td>8</td><td>1</td><td>2022-01-26</td><td>2022-02-09</td><td>2022-01-30</td><td>174.05</td><td>Ship to 65-A</td><td>7890 Milton Dr.</td><td>Albuquerque</td><td>NM</td><td>10285</td><td>USA</td></tr>",
                            "<tr><td>10820</td><td>65</td><td>3</td><td>2</td><td>2022-01-07</td><td>2022-02-04</td><td>2022-01-13</td><td>37.52</td><td>Ship to 65-B</td><td>8901 Milton Dr.</td><td>Albuquerque</td><td>NM</td><td>10286</td><td>USA</td></tr>",
                            "</table>"
                        ]
                    }
                }
            ],
            "execution_count": 8
        },
        {
            "cell_type": "markdown",
            "source": [
                "**Mystery #3**\n",
                "\n",
                "Employee ranking shows that Sara Davis has the #1 most orders in history and will be receiving the BONUS!! However Yael Peled claims that he should be the TOP employee with highest Total Orders. Help solve this dispute and get the BONUS to the rightful winner."
            ],
            "metadata": {
                "language": "sql",
                "azdata_cell_guid": "c6466dcd-8509-49cc-be67-1cbd9760539c"
            },
            "attachments": {}
        },
        {
            "cell_type": "code",
            "source": [
                "-- find out who are those employees, now that we have the employee ID, we can find out their total order.\n",
                "Select *\n",
                "FROM HumanResources.Employee AS e\n",
                "WHERE e.EmployeeLastName IN ('Davis', 'Peled')\n",
                ""
            ],
            "metadata": {
                "language": "sql",
                "azdata_cell_guid": "9428ec65-47ff-4b69-848a-26ad2fd2a1f4"
            },
            "outputs": [
                {
                    "output_type": "display_data",
                    "data": {
                        "text/html": "(2 rows affected)"
                    },
                    "metadata": {}
                },
                {
                    "output_type": "display_data",
                    "data": {
                        "text/html": "Total execution time: 00:00:00.010"
                    },
                    "metadata": {}
                },
                {
                    "output_type": "execute_result",
                    "metadata": {},
                    "execution_count": 7,
                    "data": {
                        "application/vnd.dataresource+json": {
                            "schema": {
                                "fields": [
                                    {
                                        "name": "EmployeeId"
                                    },
                                    {
                                        "name": "EmployeeLastName"
                                    },
                                    {
                                        "name": "EmployeeFirstName"
                                    },
                                    {
                                        "name": "EmployeeTitle"
                                    },
                                    {
                                        "name": "EmployeeTitleOfCourtesy"
                                    },
                                    {
                                        "name": "BirthDate"
                                    },
                                    {
                                        "name": "HireDate"
                                    },
                                    {
                                        "name": "EmployeeAddress"
                                    },
                                    {
                                        "name": "EmployeeCity"
                                    },
                                    {
                                        "name": "EmployeeRegion"
                                    },
                                    {
                                        "name": "EmployeePostalCode"
                                    },
                                    {
                                        "name": "EmployeeCountry"
                                    },
                                    {
                                        "name": "EmployeePhoneNumber"
                                    },
                                    {
                                        "name": "EmployeeManagerId"
                                    }
                                ]
                            },
                            "data": [
                                {
                                    "EmployeeId": "1",
                                    "EmployeeLastName": "Davis",
                                    "EmployeeFirstName": "Sara",
                                    "EmployeeTitle": "CEO",
                                    "EmployeeTitleOfCourtesy": "Ms.",
                                    "BirthDate": "1968-12-08",
                                    "HireDate": "2020-05-01",
                                    "EmployeeAddress": "7890 - 20th Ave. E., Apt. 2A",
                                    "EmployeeCity": "Seattle",
                                    "EmployeeRegion": "WA",
                                    "EmployeePostalCode": "10003",
                                    "EmployeeCountry": "USA",
                                    "EmployeePhoneNumber": "(206) 555-0101",
                                    "EmployeeManagerId": "NULL"
                                },
                                {
                                    "EmployeeId": "4",
                                    "EmployeeLastName": "Peled",
                                    "EmployeeFirstName": "Yael",
                                    "EmployeeTitle": "Sales Representative",
                                    "EmployeeTitleOfCourtesy": "Mrs.",
                                    "BirthDate": "1957-09-19",
                                    "HireDate": "2021-05-03",
                                    "EmployeeAddress": "5678 Old Redmond Rd.",
                                    "EmployeeCity": "Redmond",
                                    "EmployeeRegion": "WA",
                                    "EmployeePostalCode": "10009",
                                    "EmployeeCountry": "USA",
                                    "EmployeePhoneNumber": "(206) 555-0104",
                                    "EmployeeManagerId": "3"
                                }
                            ]
                        },
                        "text/html": [
                            "<table>",
                            "<tr><th>EmployeeId</th><th>EmployeeLastName</th><th>EmployeeFirstName</th><th>EmployeeTitle</th><th>EmployeeTitleOfCourtesy</th><th>BirthDate</th><th>HireDate</th><th>EmployeeAddress</th><th>EmployeeCity</th><th>EmployeeRegion</th><th>EmployeePostalCode</th><th>EmployeeCountry</th><th>EmployeePhoneNumber</th><th>EmployeeManagerId</th></tr>",
                            "<tr><td>1</td><td>Davis</td><td>Sara</td><td>CEO</td><td>Ms.</td><td>1968-12-08</td><td>2020-05-01</td><td>7890 - 20th Ave. E., Apt. 2A</td><td>Seattle</td><td>WA</td><td>10003</td><td>USA</td><td>(206) 555-0101</td><td>NULL</td></tr>",
                            "<tr><td>4</td><td>Peled</td><td>Yael</td><td>Sales Representative</td><td>Mrs.</td><td>1957-09-19</td><td>2021-05-03</td><td>5678 Old Redmond Rd.</td><td>Redmond</td><td>WA</td><td>10009</td><td>USA</td><td>(206) 555-0104</td><td>3</td></tr>",
                            "</table>"
                        ]
                    }
                }
            ],
            "execution_count": 7
        },
        {
            "cell_type": "code",
            "source": [
                "--After conducting a aggregation of the order totals, we can see that indeed, Yael is the highest ORDERS!\n",
                "--Also Sara seems to be the CEO, hmm I wonder if it has anything to do with that.\n",
                "SELECT COUNT(o.OrderId) AS OrderTotal, o.EmployeeId \n",
                "FROM Sales.[Order] o \n",
                "GROUP BY o.EmployeeId \n",
                "ORDER BY OrderTotal DESC "
            ],
            "metadata": {
                "language": "sql",
                "azdata_cell_guid": "219025df-b010-4bb8-9dd1-75351be5a011"
            },
            "outputs": [
                {
                    "output_type": "display_data",
                    "data": {
                        "text/html": "(9 rows affected)"
                    },
                    "metadata": {}
                },
                {
                    "output_type": "display_data",
                    "data": {
                        "text/html": "Total execution time: 00:00:00.008"
                    },
                    "metadata": {}
                },
                {
                    "output_type": "execute_result",
                    "metadata": {},
                    "execution_count": 6,
                    "data": {
                        "application/vnd.dataresource+json": {
                            "schema": {
                                "fields": [
                                    {
                                        "name": "OrderTotal"
                                    },
                                    {
                                        "name": "EmployeeId"
                                    }
                                ]
                            },
                            "data": [
                                {
                                    "OrderTotal": "156",
                                    "EmployeeId": "4"
                                },
                                {
                                    "OrderTotal": "127",
                                    "EmployeeId": "3"
                                },
                                {
                                    "OrderTotal": "123",
                                    "EmployeeId": "1"
                                },
                                {
                                    "OrderTotal": "104",
                                    "EmployeeId": "8"
                                },
                                {
                                    "OrderTotal": "96",
                                    "EmployeeId": "2"
                                },
                                {
                                    "OrderTotal": "72",
                                    "EmployeeId": "7"
                                },
                                {
                                    "OrderTotal": "67",
                                    "EmployeeId": "6"
                                },
                                {
                                    "OrderTotal": "43",
                                    "EmployeeId": "9"
                                },
                                {
                                    "OrderTotal": "42",
                                    "EmployeeId": "5"
                                }
                            ]
                        },
                        "text/html": [
                            "<table>",
                            "<tr><th>OrderTotal</th><th>EmployeeId</th></tr>",
                            "<tr><td>156</td><td>4</td></tr>",
                            "<tr><td>127</td><td>3</td></tr>",
                            "<tr><td>123</td><td>1</td></tr>",
                            "<tr><td>104</td><td>8</td></tr>",
                            "<tr><td>96</td><td>2</td></tr>",
                            "<tr><td>72</td><td>7</td></tr>",
                            "<tr><td>67</td><td>6</td></tr>",
                            "<tr><td>43</td><td>9</td></tr>",
                            "<tr><td>42</td><td>5</td></tr>",
                            "</table>"
                        ]
                    }
                }
            ],
            "execution_count": 6
        },
        {
            "cell_type": "markdown",
            "source": [
                "**Mystery #4**\n",
                "\n",
                "Customer is complaing he hasnt received his order yet. His order ID is 11073.\n",
                "\n",
                "Our staff says that he already shipped that order and shipper XFDRH picked it up already.\n",
                "\n",
                "Solve this mysterious package and what could've happened?"
            ],
            "metadata": {
                "language": "sql",
                "azdata_cell_guid": "52c48889-0c86-4954-a6b3-83d1253e577a"
            },
            "attachments": {}
        },
        {
            "cell_type": "code",
            "source": [
                "SELECT *\n",
                "FROM sales.[Order] o \n",
                "WHERE o.OrderId = 11073\n",
                "\n",
                "--doing some digging you'll see that the order id was supposed to be shipped with shipper ETYNR and hasnt shipped yet\n",
                "--ShipToDate is Null, but staff claims XFDRH picked it up. DUN DUN DUN! \n",
                "--taking a look at the shipper ID list, XFDRH doesnt exist.\n",
                "\n",
                "SELECT *\n",
                "FROM sales.Shipper s  "
            ],
            "metadata": {
                "language": "sql",
                "azdata_cell_guid": "14ab967e-dd1f-44b9-b9af-3481089abe02"
            },
            "outputs": [
                {
                    "output_type": "display_data",
                    "data": {
                        "text/html": "(1 row affected)"
                    },
                    "metadata": {}
                },
                {
                    "output_type": "display_data",
                    "data": {
                        "text/html": "(3 rows affected)"
                    },
                    "metadata": {}
                },
                {
                    "output_type": "display_data",
                    "data": {
                        "text/html": "Total execution time: 00:00:00.010"
                    },
                    "metadata": {}
                },
                {
                    "output_type": "execute_result",
                    "metadata": {},
                    "execution_count": 5,
                    "data": {
                        "application/vnd.dataresource+json": {
                            "schema": {
                                "fields": [
                                    {
                                        "name": "OrderId"
                                    },
                                    {
                                        "name": "CustomerId"
                                    },
                                    {
                                        "name": "EmployeeId"
                                    },
                                    {
                                        "name": "ShipperId"
                                    },
                                    {
                                        "name": "OrderDate"
                                    },
                                    {
                                        "name": "RequiredDate"
                                    },
                                    {
                                        "name": "ShipToDate"
                                    },
                                    {
                                        "name": "Freight"
                                    },
                                    {
                                        "name": "ShipToName"
                                    },
                                    {
                                        "name": "ShipToAddress"
                                    },
                                    {
                                        "name": "ShipToCity"
                                    },
                                    {
                                        "name": "ShipToRegion"
                                    },
                                    {
                                        "name": "ShipToPostalCode"
                                    },
                                    {
                                        "name": "ShipToCountry"
                                    }
                                ]
                            },
                            "data": [
                                {
                                    "OrderId": "11073",
                                    "CustomerId": "58",
                                    "EmployeeId": "2",
                                    "ShipperId": "2",
                                    "OrderDate": "2022-05-05",
                                    "RequiredDate": "2022-06-02",
                                    "ShipToDate": "NULL",
                                    "Freight": "24.95",
                                    "ShipToName": "Ship to 58-B",
                                    "ShipToAddress": "Calle Dr. Jorge Cash 4567",
                                    "ShipToCity": "México D.F.",
                                    "ShipToRegion": "NULL",
                                    "ShipToPostalCode": "10262",
                                    "ShipToCountry": "Mexico"
                                }
                            ]
                        },
                        "text/html": [
                            "<table>",
                            "<tr><th>OrderId</th><th>CustomerId</th><th>EmployeeId</th><th>ShipperId</th><th>OrderDate</th><th>RequiredDate</th><th>ShipToDate</th><th>Freight</th><th>ShipToName</th><th>ShipToAddress</th><th>ShipToCity</th><th>ShipToRegion</th><th>ShipToPostalCode</th><th>ShipToCountry</th></tr>",
                            "<tr><td>11073</td><td>58</td><td>2</td><td>2</td><td>2022-05-05</td><td>2022-06-02</td><td>NULL</td><td>24.95</td><td>Ship to 58-B</td><td>Calle Dr. Jorge Cash 4567</td><td>México D.F.</td><td>NULL</td><td>10262</td><td>Mexico</td></tr>",
                            "</table>"
                        ]
                    }
                },
                {
                    "output_type": "execute_result",
                    "metadata": {},
                    "execution_count": 5,
                    "data": {
                        "application/vnd.dataresource+json": {
                            "schema": {
                                "fields": [
                                    {
                                        "name": "ShipperId"
                                    },
                                    {
                                        "name": "ShipperCompanyName"
                                    },
                                    {
                                        "name": "PhoneNumber"
                                    }
                                ]
                            },
                            "data": [
                                {
                                    "ShipperId": "1",
                                    "ShipperCompanyName": "Shipper GVSUA",
                                    "PhoneNumber": "(503) 555-0137"
                                },
                                {
                                    "ShipperId": "2",
                                    "ShipperCompanyName": "Shipper ETYNR",
                                    "PhoneNumber": "(425) 555-0136"
                                },
                                {
                                    "ShipperId": "3",
                                    "ShipperCompanyName": "Shipper ZHISN",
                                    "PhoneNumber": "(415) 555-0138"
                                }
                            ]
                        },
                        "text/html": [
                            "<table>",
                            "<tr><th>ShipperId</th><th>ShipperCompanyName</th><th>PhoneNumber</th></tr>",
                            "<tr><td>1</td><td>Shipper GVSUA</td><td>(503) 555-0137</td></tr>",
                            "<tr><td>2</td><td>Shipper ETYNR</td><td>(425) 555-0136</td></tr>",
                            "<tr><td>3</td><td>Shipper ZHISN</td><td>(415) 555-0138</td></tr>",
                            "</table>"
                        ]
                    }
                }
            ],
            "execution_count": 5
        },
        {
            "cell_type": "markdown",
            "source": [
                "**Mystery #5**\n",
                "\n",
                "**Employee said he faxed over the next batch of purchases from supplier QZGUF however, its been well over 2 months and no replies from supplier. Can you investigate the problem?  \n",
                "**"
            ],
            "metadata": {
                "language": "sql",
                "azdata_cell_guid": "10541835-2fc4-4b91-899a-9741367e924d"
            },
            "attachments": {}
        },
        {
            "cell_type": "code",
            "source": [
                "--a query to look up the supplier fax number shows that it's null! uh-oh seems like they dont receive fax!\n",
                "SELECT s.SupplierCompanyName , s.SupplierFaxNumber \n",
                "FROM Production.Supplier s \n",
                "WHERE s.SupplierCompanyName LIKE '%QZGUF%'"
            ],
            "metadata": {
                "language": "sql",
                "azdata_cell_guid": "4f33d1ac-27ab-49fb-807c-9ad4350b0945"
            },
            "outputs": [
                {
                    "output_type": "display_data",
                    "data": {
                        "text/html": "(1 row affected)"
                    },
                    "metadata": {}
                },
                {
                    "output_type": "display_data",
                    "data": {
                        "text/html": "Total execution time: 00:00:00.005"
                    },
                    "metadata": {}
                },
                {
                    "output_type": "execute_result",
                    "metadata": {},
                    "execution_count": 4,
                    "data": {
                        "application/vnd.dataresource+json": {
                            "schema": {
                                "fields": [
                                    {
                                        "name": "SupplierCompanyName"
                                    },
                                    {
                                        "name": "SupplierFaxNumber"
                                    }
                                ]
                            },
                            "data": [
                                {
                                    "SupplierCompanyName": "Supplier QZGUF",
                                    "SupplierFaxNumber": "NULL"
                                }
                            ]
                        },
                        "text/html": [
                            "<table>",
                            "<tr><th>SupplierCompanyName</th><th>SupplierFaxNumber</th></tr>",
                            "<tr><td>Supplier QZGUF</td><td>NULL</td></tr>",
                            "</table>"
                        ]
                    }
                }
            ],
            "execution_count": 4
        },
        {
            "cell_type": "markdown",
            "source": [
                "Mystery #6\n",
                "\n",
                "Judy Lew says that he noticed Sven Mortensen always playing games on his phone at work for the past 3 months, and that there have been several complaints of customers that Sven hasnt been responsive. Can you check to see if that's a concern for performance?"
            ],
            "metadata": {
                "language": "sql",
                "azdata_cell_guid": "4e12a7be-9135-45e8-9589-f54b5b1da7e7"
            },
            "attachments": {}
        },
        {
            "cell_type": "code",
            "source": [
                "--Solution finding the past 3 month of orders shows that indeed, employeeID 5 (Sven) has only had 5 orders!\n",
                "-- and only 1 order for the past month\n",
                "SELECT o.EmployeeId, COUNT(o.OrderId) AS TotalOrders\n",
                "FROM sales.[Order] o\n",
                "WHERE o.OrderDate >= DATEADD(month, -1, (SELECT MAX(OrderDate) FROM sales.[Order]))\n",
                "GROUP BY o.EmployeeId\n",
                "ORDER BY o.EmployeeId ASC"
            ],
            "metadata": {
                "language": "sql",
                "azdata_cell_guid": "cfbdd99e-86d1-45e7-b55b-a027cd577911"
            },
            "outputs": [
                {
                    "output_type": "display_data",
                    "data": {
                        "text/html": "(9 rows affected)"
                    },
                    "metadata": {}
                },
                {
                    "output_type": "display_data",
                    "data": {
                        "text/html": "Total execution time: 00:00:00.004"
                    },
                    "metadata": {}
                },
                {
                    "output_type": "execute_result",
                    "metadata": {},
                    "execution_count": 3,
                    "data": {
                        "application/vnd.dataresource+json": {
                            "schema": {
                                "fields": [
                                    {
                                        "name": "EmployeeId"
                                    },
                                    {
                                        "name": "TotalOrders"
                                    }
                                ]
                            },
                            "data": [
                                {
                                    "EmployeeId": "1",
                                    "TotalOrders": "10"
                                },
                                {
                                    "EmployeeId": "2",
                                    "TotalOrders": "18"
                                },
                                {
                                    "EmployeeId": "3",
                                    "TotalOrders": "10"
                                },
                                {
                                    "EmployeeId": "4",
                                    "TotalOrders": "11"
                                },
                                {
                                    "EmployeeId": "5",
                                    "TotalOrders": "1"
                                },
                                {
                                    "EmployeeId": "6",
                                    "TotalOrders": "4"
                                },
                                {
                                    "EmployeeId": "7",
                                    "TotalOrders": "10"
                                },
                                {
                                    "EmployeeId": "8",
                                    "TotalOrders": "10"
                                },
                                {
                                    "EmployeeId": "9",
                                    "TotalOrders": "4"
                                }
                            ]
                        },
                        "text/html": [
                            "<table>",
                            "<tr><th>EmployeeId</th><th>TotalOrders</th></tr>",
                            "<tr><td>1</td><td>10</td></tr>",
                            "<tr><td>2</td><td>18</td></tr>",
                            "<tr><td>3</td><td>10</td></tr>",
                            "<tr><td>4</td><td>11</td></tr>",
                            "<tr><td>5</td><td>1</td></tr>",
                            "<tr><td>6</td><td>4</td></tr>",
                            "<tr><td>7</td><td>10</td></tr>",
                            "<tr><td>8</td><td>10</td></tr>",
                            "<tr><td>9</td><td>4</td></tr>",
                            "</table>"
                        ]
                    }
                }
            ],
            "execution_count": 3
        },
        {
            "cell_type": "markdown",
            "source": [
                "**Mystery # 7**\n",
                "\n",
                "**The mysterious price hike. Customer XYZ is claiming that they purhcase product QDOMO always at $210 per unit, but got charged $263 per unit. Investigate the database for any price discrepencies, figure out what happened?**"
            ],
            "metadata": {
                "language": "sql",
                "azdata_cell_guid": "a3b01fbf-bbf8-45a8-8494-f6a2c887b49a"
            },
            "attachments": {}
        },
        {
            "cell_type": "code",
            "source": [
                "--Solution: initial query to find if price actually changed.\n",
                "\n",
                "SELECT *\n",
                "FROM sales.OrderDetail od \n",
                "WHERE od.ProductId = 38\n",
                "ORDER BY od.orderID\n",
                "\n",
                "-- indeed price was originally 210 for some orders but increased to 263 between order 10479 and 10518\n",
                "--find out when this happened\n",
                "SELECT o.OrderId , o.OrderDate \n",
                "FROM Sales.[Order] o  \n",
                "WHERE o.OrderId IN (10479, 10518)\n",
                "\n",
                "--SEEMS like between 2021-03-19 and 2021-04-25 prices hiked up! mystery solved."
            ],
            "metadata": {
                "language": "sql",
                "azdata_cell_guid": "5f33b463-b430-4439-95e3-7887aec7e85e"
            },
            "outputs": [
                {
                    "output_type": "display_data",
                    "data": {
                        "text/html": "(24 rows affected)"
                    },
                    "metadata": {}
                },
                {
                    "output_type": "display_data",
                    "data": {
                        "text/html": "(2 rows affected)"
                    },
                    "metadata": {}
                },
                {
                    "output_type": "display_data",
                    "data": {
                        "text/html": "Total execution time: 00:00:00.006"
                    },
                    "metadata": {}
                },
                {
                    "output_type": "execute_result",
                    "metadata": {},
                    "execution_count": 2,
                    "data": {
                        "application/vnd.dataresource+json": {
                            "schema": {
                                "fields": [
                                    {
                                        "name": "OrderId"
                                    },
                                    {
                                        "name": "ProductId"
                                    },
                                    {
                                        "name": "UnitPrice"
                                    },
                                    {
                                        "name": "Quantity"
                                    },
                                    {
                                        "name": "DiscountPercentage"
                                    },
                                    {
                                        "name": "DiscountedLineAmount"
                                    },
                                    {
                                        "name": "LineAmount"
                                    }
                                ]
                            },
                            "data": [
                                {
                                    "OrderId": "10329",
                                    "ProductId": "38",
                                    "UnitPrice": "210.80",
                                    "Quantity": "20",
                                    "DiscountPercentage": "0.050",
                                    "DiscountedLineAmount": "4005.2000000",
                                    "LineAmount": "4216.00"
                                },
                                {
                                    "OrderId": "10351",
                                    "ProductId": "38",
                                    "UnitPrice": "210.80",
                                    "Quantity": "20",
                                    "DiscountPercentage": "0.050",
                                    "DiscountedLineAmount": "4005.2000000",
                                    "LineAmount": "4216.00"
                                },
                                {
                                    "OrderId": "10353",
                                    "ProductId": "38",
                                    "UnitPrice": "210.80",
                                    "Quantity": "50",
                                    "DiscountPercentage": "0.200",
                                    "DiscountedLineAmount": "8432.0000000",
                                    "LineAmount": "10540.00"
                                },
                                {
                                    "OrderId": "10360",
                                    "ProductId": "38",
                                    "UnitPrice": "210.80",
                                    "Quantity": "10",
                                    "DiscountPercentage": "0.000",
                                    "DiscountedLineAmount": "2108.0000000",
                                    "LineAmount": "2108.00"
                                },
                                {
                                    "OrderId": "10372",
                                    "ProductId": "38",
                                    "UnitPrice": "210.80",
                                    "Quantity": "40",
                                    "DiscountPercentage": "0.250",
                                    "DiscountedLineAmount": "6324.0000000",
                                    "LineAmount": "8432.00"
                                },
                                {
                                    "OrderId": "10417",
                                    "ProductId": "38",
                                    "UnitPrice": "210.80",
                                    "Quantity": "50",
                                    "DiscountPercentage": "0.000",
                                    "DiscountedLineAmount": "10540.0000000",
                                    "LineAmount": "10540.00"
                                },
                                {
                                    "OrderId": "10424",
                                    "ProductId": "38",
                                    "UnitPrice": "210.80",
                                    "Quantity": "49",
                                    "DiscountPercentage": "0.200",
                                    "DiscountedLineAmount": "8263.3600000",
                                    "LineAmount": "10329.20"
                                },
                                {
                                    "OrderId": "10479",
                                    "ProductId": "38",
                                    "UnitPrice": "210.80",
                                    "Quantity": "30",
                                    "DiscountPercentage": "0.000",
                                    "DiscountedLineAmount": "6324.0000000",
                                    "LineAmount": "6324.00"
                                },
                                {
                                    "OrderId": "10518",
                                    "ProductId": "38",
                                    "UnitPrice": "263.50",
                                    "Quantity": "15",
                                    "DiscountPercentage": "0.000",
                                    "DiscountedLineAmount": "3952.5000000",
                                    "LineAmount": "3952.50"
                                },
                                {
                                    "OrderId": "10540",
                                    "ProductId": "38",
                                    "UnitPrice": "263.50",
                                    "Quantity": "30",
                                    "DiscountPercentage": "0.000",
                                    "DiscountedLineAmount": "7905.0000000",
                                    "LineAmount": "7905.00"
                                },
                                {
                                    "OrderId": "10541",
                                    "ProductId": "38",
                                    "UnitPrice": "263.50",
                                    "Quantity": "4",
                                    "DiscountPercentage": "0.100",
                                    "DiscountedLineAmount": "948.6000000",
                                    "LineAmount": "1054.00"
                                },
                                {
                                    "OrderId": "10616",
                                    "ProductId": "38",
                                    "UnitPrice": "263.50",
                                    "Quantity": "15",
                                    "DiscountPercentage": "0.050",
                                    "DiscountedLineAmount": "3754.8750000",
                                    "LineAmount": "3952.50"
                                },
                                {
                                    "OrderId": "10672",
                                    "ProductId": "38",
                                    "UnitPrice": "263.50",
                                    "Quantity": "15",
                                    "DiscountPercentage": "0.100",
                                    "DiscountedLineAmount": "3557.2500000",
                                    "LineAmount": "3952.50"
                                },
                                {
                                    "OrderId": "10783",
                                    "ProductId": "38",
                                    "UnitPrice": "263.50",
                                    "Quantity": "5",
                                    "DiscountPercentage": "0.000",
                                    "DiscountedLineAmount": "1317.5000000",
                                    "LineAmount": "1317.50"
                                },
                                {
                                    "OrderId": "10805",
                                    "ProductId": "38",
                                    "UnitPrice": "263.50",
                                    "Quantity": "10",
                                    "DiscountPercentage": "0.000",
                                    "DiscountedLineAmount": "2635.0000000",
                                    "LineAmount": "2635.00"
                                },
                                {
                                    "OrderId": "10816",
                                    "ProductId": "38",
                                    "UnitPrice": "263.50",
                                    "Quantity": "30",
                                    "DiscountPercentage": "0.050",
                                    "DiscountedLineAmount": "7509.7500000",
                                    "LineAmount": "7905.00"
                                },
                                {
                                    "OrderId": "10817",
                                    "ProductId": "38",
                                    "UnitPrice": "263.50",
                                    "Quantity": "30",
                                    "DiscountPercentage": "0.000",
                                    "DiscountedLineAmount": "7905.0000000",
                                    "LineAmount": "7905.00"
                                },
                                {
                                    "OrderId": "10828",
                                    "ProductId": "38",
                                    "UnitPrice": "263.50",
                                    "Quantity": "2",
                                    "DiscountPercentage": "0.000",
                                    "DiscountedLineAmount": "527.0000000",
                                    "LineAmount": "527.00"
                                },
                                {
                                    "OrderId": "10831",
                                    "ProductId": "38",
                                    "UnitPrice": "263.50",
                                    "Quantity": "8",
                                    "DiscountPercentage": "0.000",
                                    "DiscountedLineAmount": "2108.0000000",
                                    "LineAmount": "2108.00"
                                },
                                {
                                    "OrderId": "10865",
                                    "ProductId": "38",
                                    "UnitPrice": "263.50",
                                    "Quantity": "60",
                                    "DiscountPercentage": "0.050",
                                    "DiscountedLineAmount": "15019.5000000",
                                    "LineAmount": "15810.00"
                                },
                                {
                                    "OrderId": "10889",
                                    "ProductId": "38",
                                    "UnitPrice": "263.50",
                                    "Quantity": "40",
                                    "DiscountPercentage": "0.000",
                                    "DiscountedLineAmount": "10540.0000000",
                                    "LineAmount": "10540.00"
                                },
                                {
                                    "OrderId": "10964",
                                    "ProductId": "38",
                                    "UnitPrice": "263.50",
                                    "Quantity": "5",
                                    "DiscountPercentage": "0.000",
                                    "DiscountedLineAmount": "1317.5000000",
                                    "LineAmount": "1317.50"
                                },
                                {
                                    "OrderId": "10981",
                                    "ProductId": "38",
                                    "UnitPrice": "263.50",
                                    "Quantity": "60",
                                    "DiscountPercentage": "0.000",
                                    "DiscountedLineAmount": "15810.0000000",
                                    "LineAmount": "15810.00"
                                },
                                {
                                    "OrderId": "11032",
                                    "ProductId": "38",
                                    "UnitPrice": "263.50",
                                    "Quantity": "25",
                                    "DiscountPercentage": "0.000",
                                    "DiscountedLineAmount": "6587.5000000",
                                    "LineAmount": "6587.50"
                                }
                            ]
                        },
                        "text/html": [
                            "<table>",
                            "<tr><th>OrderId</th><th>ProductId</th><th>UnitPrice</th><th>Quantity</th><th>DiscountPercentage</th><th>DiscountedLineAmount</th><th>LineAmount</th></tr>",
                            "<tr><td>10329</td><td>38</td><td>210.80</td><td>20</td><td>0.050</td><td>4005.2000000</td><td>4216.00</td></tr>",
                            "<tr><td>10351</td><td>38</td><td>210.80</td><td>20</td><td>0.050</td><td>4005.2000000</td><td>4216.00</td></tr>",
                            "<tr><td>10353</td><td>38</td><td>210.80</td><td>50</td><td>0.200</td><td>8432.0000000</td><td>10540.00</td></tr>",
                            "<tr><td>10360</td><td>38</td><td>210.80</td><td>10</td><td>0.000</td><td>2108.0000000</td><td>2108.00</td></tr>",
                            "<tr><td>10372</td><td>38</td><td>210.80</td><td>40</td><td>0.250</td><td>6324.0000000</td><td>8432.00</td></tr>",
                            "<tr><td>10417</td><td>38</td><td>210.80</td><td>50</td><td>0.000</td><td>10540.0000000</td><td>10540.00</td></tr>",
                            "<tr><td>10424</td><td>38</td><td>210.80</td><td>49</td><td>0.200</td><td>8263.3600000</td><td>10329.20</td></tr>",
                            "<tr><td>10479</td><td>38</td><td>210.80</td><td>30</td><td>0.000</td><td>6324.0000000</td><td>6324.00</td></tr>",
                            "<tr><td>10518</td><td>38</td><td>263.50</td><td>15</td><td>0.000</td><td>3952.5000000</td><td>3952.50</td></tr>",
                            "<tr><td>10540</td><td>38</td><td>263.50</td><td>30</td><td>0.000</td><td>7905.0000000</td><td>7905.00</td></tr>",
                            "<tr><td>10541</td><td>38</td><td>263.50</td><td>4</td><td>0.100</td><td>948.6000000</td><td>1054.00</td></tr>",
                            "<tr><td>10616</td><td>38</td><td>263.50</td><td>15</td><td>0.050</td><td>3754.8750000</td><td>3952.50</td></tr>",
                            "<tr><td>10672</td><td>38</td><td>263.50</td><td>15</td><td>0.100</td><td>3557.2500000</td><td>3952.50</td></tr>",
                            "<tr><td>10783</td><td>38</td><td>263.50</td><td>5</td><td>0.000</td><td>1317.5000000</td><td>1317.50</td></tr>",
                            "<tr><td>10805</td><td>38</td><td>263.50</td><td>10</td><td>0.000</td><td>2635.0000000</td><td>2635.00</td></tr>",
                            "<tr><td>10816</td><td>38</td><td>263.50</td><td>30</td><td>0.050</td><td>7509.7500000</td><td>7905.00</td></tr>",
                            "<tr><td>10817</td><td>38</td><td>263.50</td><td>30</td><td>0.000</td><td>7905.0000000</td><td>7905.00</td></tr>",
                            "<tr><td>10828</td><td>38</td><td>263.50</td><td>2</td><td>0.000</td><td>527.0000000</td><td>527.00</td></tr>",
                            "<tr><td>10831</td><td>38</td><td>263.50</td><td>8</td><td>0.000</td><td>2108.0000000</td><td>2108.00</td></tr>",
                            "<tr><td>10865</td><td>38</td><td>263.50</td><td>60</td><td>0.050</td><td>15019.5000000</td><td>15810.00</td></tr>",
                            "<tr><td>10889</td><td>38</td><td>263.50</td><td>40</td><td>0.000</td><td>10540.0000000</td><td>10540.00</td></tr>",
                            "<tr><td>10964</td><td>38</td><td>263.50</td><td>5</td><td>0.000</td><td>1317.5000000</td><td>1317.50</td></tr>",
                            "<tr><td>10981</td><td>38</td><td>263.50</td><td>60</td><td>0.000</td><td>15810.0000000</td><td>15810.00</td></tr>",
                            "<tr><td>11032</td><td>38</td><td>263.50</td><td>25</td><td>0.000</td><td>6587.5000000</td><td>6587.50</td></tr>",
                            "</table>"
                        ]
                    }
                },
                {
                    "output_type": "execute_result",
                    "metadata": {},
                    "execution_count": 2,
                    "data": {
                        "application/vnd.dataresource+json": {
                            "schema": {
                                "fields": [
                                    {
                                        "name": "OrderId"
                                    },
                                    {
                                        "name": "OrderDate"
                                    }
                                ]
                            },
                            "data": [
                                {
                                    "OrderId": "10479",
                                    "OrderDate": "2021-03-19"
                                },
                                {
                                    "OrderId": "10518",
                                    "OrderDate": "2021-04-25"
                                }
                            ]
                        },
                        "text/html": [
                            "<table>",
                            "<tr><th>OrderId</th><th>OrderDate</th></tr>",
                            "<tr><td>10479</td><td>2021-03-19</td></tr>",
                            "<tr><td>10518</td><td>2021-04-25</td></tr>",
                            "</table>"
                        ]
                    }
                }
            ],
            "execution_count": 2
        }
    ]
}