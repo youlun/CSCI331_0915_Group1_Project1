{
    "metadata": {
        "kernelspec": {
            "name": "SQL",
            "display_name": "SQL",
            "language": "sql"
        },
        "language_info": {
            "name": "sql",
            "version": ""
        }
    },
    "nbformat_minor": 2,
    "nbformat": 4,
    "cells": [
        {
            "cell_type": "markdown",
            "source": [
                "# <span style=\"color:darkblue;\"><strong>Northwinds2024 Mystery Cases&nbsp;</strong></span> \n",
                "\n",
                "Welcome to the **Northwinds2024 investigative SQL lab**!\n",
                "\n",
                "You will solve multiple **database mysteries** by querying orders, employees, products, suppliers, and customers.\n",
                "\n",
                "Each case contains:\n",
                "\n",
                "- **A story**\n",
                "- **Objectives**\n",
                "- **Step-by-step SQL queries**\n",
                "- **Hints** to guide your investigation"
            ],
            "metadata": {
                "azdata_cell_guid": "1ce73ab2-111b-4c39-89c4-aeaa3e973bb7",
                "language": ""
            },
            "attachments": {}
        },
        {
            "cell_type": "markdown",
            "source": [
                "## <span style=\"color:darkred;\">**Case #001: The Vanishing Briefcase**</span>\n",
                "\n",
                "<p style=\"color:gray; font-size:14px;\"><b>Story:</b>  \n",
                "A high-security briefcase with prototype designs is missing from Blue Note Tech.  \n",
                "Security cameras show a figure in a trench coat near the loading dock.</p>\n",
                "\n",
                "<p style=\"color:gray; font-size:14px;\"><b>Objectives:</b></p>\n",
                "<ul style=\"color:darkgreen; font-size:14px;\">\n",
                "<li>Retrieve recent orders handled by managers from <code>Sales.[Order]</code>.</li>\n",
                "<li>Identify the employee in <code>HumanResources.Employee</code> who is a manager.</li>\n",
                "<li>Verify their hire date or title to track recent activity.</li>\n",
                "</ul>\n",
                "\n",
                "<p style=\"color:darkorange; font-size:14px;\"><b>Hint:</b> Managers may have handled these orders.</p>"
            ],
            "metadata": {
                "azdata_cell_guid": "710b56cb-e8e2-4949-8dc9-d658de51dc92",
                "language": ""
            },
            "attachments": {}
        },
        {
            "cell_type": "code",
            "source": [
                "SELECT \n",
                "    hre.EmployeeFirstName,\n",
                "    hre.EmployeeLastName,\n",
                "    hre.EmployeeTitle,\n",
                "    so.OrderId,\n",
                "    so.OrderDate,\n",
                "    so.ShipToName,\n",
                "    so.Freight\n",
                "FROM Sales.[Order] AS so\n",
                "JOIN HumanResources.Employee AS hre ON so.EmployeeId = hre.EmployeeId\n",
                "WHERE hre.EmployeeTitle LIKE '%Manager%';\n",
                "\n",
                "SELECT he.EmployeeId, he.EmployeeFirstName, he.EmployeeLastName, he.EmployeeTitle, he.HireDate, he.BirthDate\n",
                "FROM HumanResources.Employee AS he\n",
                "WHERE EmployeeTitle LIKE '%Manager%';"
            ],
            "metadata": {
                "azdata_cell_guid": "04146ce9-109a-440d-ae15-2f74261e4200",
                "language": "sql"
            },
            "outputs": [
                {
                    "output_type": "display_data",
                    "data": {
                        "text/html": "(169 rows affected)"
                    },
                    "metadata": {}
                },
                {
                    "output_type": "display_data",
                    "data": {
                        "text/html": "(2 rows affected)"
                    },
                    "metadata": {}
                },
                {
                    "output_type": "display_data",
                    "data": {
                        "text/html": "Total execution time: 00:00:00.026"
                    },
                    "metadata": {}
                },
                {
                    "output_type": "execute_result",
                    "metadata": {},
                    "execution_count": 3,
                    "data": {
                        "application/vnd.dataresource+json": {
                            "schema": {
                                "fields": [
                                    {
                                        "name": "EmployeeFirstName"
                                    },
                                    {
                                        "name": "EmployeeLastName"
                                    },
                                    {
                                        "name": "EmployeeTitle"
                                    },
                                    {
                                        "name": "OrderId"
                                    },
                                    {
                                        "name": "OrderDate"
                                    },
                                    {
                                        "name": "ShipToName"
                                    },
                                    {
                                        "name": "Freight"
                                    }
                                ]
                            },
                            "data": [
                                {
                                    "EmployeeFirstName": "Sven",
                                    "EmployeeLastName": "Mortensen",
                                    "EmployeeTitle": "Sales Manager",
                                    "OrderId": "10248",
                                    "OrderDate": "2020-07-04",
                                    "ShipToName": "Ship to 85-B",
                                    "Freight": "32.38"
                                },
                                {
                                    "EmployeeFirstName": "Judy",
                                    "EmployeeLastName": "Lew",
                                    "EmployeeTitle": "Sales Manager",
                                    "OrderId": "10251",
                                    "OrderDate": "2020-07-08",
                                    "ShipToName": "Ship to 84-A",
                                    "Freight": "41.34"
                                },
                                {
                                    "EmployeeFirstName": "Judy",
                                    "EmployeeLastName": "Lew",
                                    "EmployeeTitle": "Sales Manager",
                                    "OrderId": "10253",
                                    "OrderDate": "2020-07-10",
                                    "ShipToName": "Destination JPAIY",
                                    "Freight": "58.17"
                                },
                                {
                                    "EmployeeFirstName": "Sven",
                                    "EmployeeLastName": "Mortensen",
                                    "EmployeeTitle": "Sales Manager",
                                    "OrderId": "10254",
                                    "OrderDate": "2020-07-11",
                                    "ShipToName": "Destination YUJRD",
                                    "Freight": "22.98"
                                },
                                {
                                    "EmployeeFirstName": "Judy",
                                    "EmployeeLastName": "Lew",
                                    "EmployeeTitle": "Sales Manager",
                                    "OrderId": "10256",
                                    "OrderDate": "2020-07-15",
                                    "ShipToName": "Ship to 88-B",
                                    "Freight": "13.97"
                                },
                                {
                                    "EmployeeFirstName": "Judy",
                                    "EmployeeLastName": "Lew",
                                    "EmployeeTitle": "Sales Manager",
                                    "OrderId": "10266",
                                    "OrderDate": "2020-07-26",
                                    "ShipToName": "Ship to 87-B",
                                    "Freight": "25.73"
                                },
                                {
                                    "EmployeeFirstName": "Sven",
                                    "EmployeeLastName": "Mortensen",
                                    "EmployeeTitle": "Sales Manager",
                                    "OrderId": "10269",
                                    "OrderDate": "2020-07-31",
                                    "ShipToName": "Ship to 89-B",
                                    "Freight": "4.56"
                                },
                                {
                                    "EmployeeFirstName": "Judy",
                                    "EmployeeLastName": "Lew",
                                    "EmployeeTitle": "Sales Manager",
                                    "OrderId": "10273",
                                    "OrderDate": "2020-08-05",
                                    "ShipToName": "Ship to 63-A",
                                    "Freight": "76.07"
                                },
                                {
                                    "EmployeeFirstName": "Judy",
                                    "EmployeeLastName": "Lew",
                                    "EmployeeTitle": "Sales Manager",
                                    "OrderId": "10283",
                                    "OrderDate": "2020-08-16",
                                    "ShipToName": "Ship to 46-A",
                                    "Freight": "84.81"
                                },
                                {
                                    "EmployeeFirstName": "Sven",
                                    "EmployeeLastName": "Mortensen",
                                    "EmployeeTitle": "Sales Manager",
                                    "OrderId": "10297",
                                    "OrderDate": "2020-09-04",
                                    "ShipToName": "Ship to 7-C",
                                    "Freight": "5.74"
                                },
                                {
                                    "EmployeeFirstName": "Judy",
                                    "EmployeeLastName": "Lew",
                                    "EmployeeTitle": "Sales Manager",
                                    "OrderId": "10309",
                                    "OrderDate": "2020-09-19",
                                    "ShipToName": "Destination ATSOA",
                                    "Freight": "47.30"
                                },
                                {
                                    "EmployeeFirstName": "Sven",
                                    "EmployeeLastName": "Mortensen",
                                    "EmployeeTitle": "Sales Manager",
                                    "OrderId": "10320",
                                    "OrderDate": "2020-10-03",
                                    "ShipToName": "Ship to 87-A",
                                    "Freight": "34.57"
                                },
                                {
                                    "EmployeeFirstName": "Judy",
                                    "EmployeeLastName": "Lew",
                                    "EmployeeTitle": "Sales Manager",
                                    "OrderId": "10321",
                                    "OrderDate": "2020-10-03",
                                    "ShipToName": "Destination LMVGS",
                                    "Freight": "3.43"
                                },
                                {
                                    "EmployeeFirstName": "Judy",
                                    "EmployeeLastName": "Lew",
                                    "EmployeeTitle": "Sales Manager",
                                    "OrderId": "10330",
                                    "OrderDate": "2020-10-16",
                                    "ShipToName": "Ship to 46-A",
                                    "Freight": "12.75"
                                },
                                {
                                    "EmployeeFirstName": "Judy",
                                    "EmployeeLastName": "Lew",
                                    "EmployeeTitle": "Sales Manager",
                                    "OrderId": "10332",
                                    "OrderDate": "2020-10-17",
                                    "ShipToName": "Ship to 51-B",
                                    "Freight": "52.84"
                                },
                                {
                                    "EmployeeFirstName": "Sven",
                                    "EmployeeLastName": "Mortensen",
                                    "EmployeeTitle": "Sales Manager",
                                    "OrderId": "10333",
                                    "OrderDate": "2020-10-18",
                                    "ShipToName": "Ship to 87-C",
                                    "Freight": "0.59"
                                },
                                {
                                    "EmployeeFirstName": "Judy",
                                    "EmployeeLastName": "Lew",
                                    "EmployeeTitle": "Sales Manager",
                                    "OrderId": "10346",
                                    "OrderDate": "2020-11-05",
                                    "ShipToName": "Ship to 65-A",
                                    "Freight": "142.08"
                                },
                                {
                                    "EmployeeFirstName": "Judy",
                                    "EmployeeLastName": "Lew",
                                    "EmployeeTitle": "Sales Manager",
                                    "OrderId": "10352",
                                    "OrderDate": "2020-11-12",
                                    "ShipToName": "Destination OTSWR",
                                    "Freight": "1.30"
                                },
                                {
                                    "EmployeeFirstName": "Sven",
                                    "EmployeeLastName": "Mortensen",
                                    "EmployeeTitle": "Sales Manager",
                                    "OrderId": "10358",
                                    "OrderDate": "2020-11-20",
                                    "ShipToName": "Ship to 41-C",
                                    "Freight": "19.64"
                                },
                                {
                                    "EmployeeFirstName": "Sven",
                                    "EmployeeLastName": "Mortensen",
                                    "EmployeeTitle": "Sales Manager",
                                    "OrderId": "10359",
                                    "OrderDate": "2020-11-21",
                                    "ShipToName": "Ship to 72-C",
                                    "Freight": "288.43"
                                },
                                {
                                    "EmployeeFirstName": "Judy",
                                    "EmployeeLastName": "Lew",
                                    "EmployeeTitle": "Sales Manager",
                                    "OrderId": "10362",
                                    "OrderDate": "2020-11-25",
                                    "ShipToName": "Ship to 9-B",
                                    "Freight": "96.04"
                                },
                                {
                                    "EmployeeFirstName": "Judy",
                                    "EmployeeLastName": "Lew",
                                    "EmployeeTitle": "Sales Manager",
                                    "OrderId": "10365",
                                    "OrderDate": "2020-11-27",
                                    "ShipToName": "Destination FQFLS",
                                    "Freight": "22.00"
                                },
                                {
                                    "EmployeeFirstName": "Sven",
                                    "EmployeeLastName": "Mortensen",
                                    "EmployeeTitle": "Sales Manager",
                                    "OrderId": "10372",
                                    "OrderDate": "2020-12-04",
                                    "ShipToName": "Ship to 62-A",
                                    "Freight": "890.78"
                                },
                                {
                                    "EmployeeFirstName": "Judy",
                                    "EmployeeLastName": "Lew",
                                    "EmployeeTitle": "Sales Manager",
                                    "OrderId": "10375",
                                    "OrderDate": "2020-12-06",
                                    "ShipToName": "Destination HOHCR",
                                    "Freight": "20.12"
                                },
                                {
                                    "EmployeeFirstName": "Sven",
                                    "EmployeeLastName": "Mortensen",
                                    "EmployeeTitle": "Sales Manager",
                                    "OrderId": "10378",
                                    "OrderDate": "2020-12-10",
                                    "ShipToName": "Destination KBSBN",
                                    "Freight": "5.44"
                                },
                                {
                                    "EmployeeFirstName": "Judy",
                                    "EmployeeLastName": "Lew",
                                    "EmployeeTitle": "Sales Manager",
                                    "OrderId": "10381",
                                    "OrderDate": "2020-12-12",
                                    "ShipToName": "Ship to 46-C",
                                    "Freight": "7.99"
                                },
                                {
                                    "EmployeeFirstName": "Judy",
                                    "EmployeeLastName": "Lew",
                                    "EmployeeTitle": "Sales Manager",
                                    "OrderId": "10384",
                                    "OrderDate": "2020-12-16",
                                    "ShipToName": "Ship to 5-C",
                                    "Freight": "168.64"
                                },
                                {
                                    "EmployeeFirstName": "Judy",
                                    "EmployeeLastName": "Lew",
                                    "EmployeeTitle": "Sales Manager",
                                    "OrderId": "10391",
                                    "OrderDate": "2020-12-23",
                                    "ShipToName": "Destination AJTHX",
                                    "Freight": "5.45"
                                },
                                {
                                    "EmployeeFirstName": "Sven",
                                    "EmployeeLastName": "Mortensen",
                                    "EmployeeTitle": "Sales Manager",
                                    "OrderId": "10397",
                                    "OrderDate": "2020-12-27",
                                    "ShipToName": "Ship to 60-A",
                                    "Freight": "60.26"
                                },
                                {
                                    "EmployeeFirstName": "Judy",
                                    "EmployeeLastName": "Lew",
                                    "EmployeeTitle": "Sales Manager",
                                    "OrderId": "10409",
                                    "OrderDate": "2021-01-09",
                                    "ShipToName": "Ship to 54-C",
                                    "Freight": "29.83"
                                },
                                {
                                    "EmployeeFirstName": "Judy",
                                    "EmployeeLastName": "Lew",
                                    "EmployeeTitle": "Sales Manager",
                                    "OrderId": "10410",
                                    "OrderDate": "2021-01-10",
                                    "ShipToName": "Destination OLSSJ",
                                    "Freight": "2.40"
                                },
                                {
                                    "EmployeeFirstName": "Judy",
                                    "EmployeeLastName": "Lew",
                                    "EmployeeTitle": "Sales Manager",
                                    "OrderId": "10413",
                                    "OrderDate": "2021-01-14",
                                    "ShipToName": "Destination DWJIO",
                                    "Freight": "95.66"
                                },
                                {
                                    "EmployeeFirstName": "Judy",
                                    "EmployeeLastName": "Lew",
                                    "EmployeeTitle": "Sales Manager",
                                    "OrderId": "10415",
                                    "OrderDate": "2021-01-15",
                                    "ShipToName": "Destination AWPJG",
                                    "Freight": "0.20"
                                },
                                {
                                    "EmployeeFirstName": "Judy",
                                    "EmployeeLastName": "Lew",
                                    "EmployeeTitle": "Sales Manager",
                                    "OrderId": "10420",
                                    "OrderDate": "2021-01-21",
                                    "ShipToName": "Ship to 88-C",
                                    "Freight": "44.12"
                                },
                                {
                                    "EmployeeFirstName": "Judy",
                                    "EmployeeLastName": "Lew",
                                    "EmployeeTitle": "Sales Manager",
                                    "OrderId": "10429",
                                    "OrderDate": "2021-01-29",
                                    "ShipToName": "Destination DGKOU",
                                    "Freight": "56.63"
                                },
                                {
                                    "EmployeeFirstName": "Judy",
                                    "EmployeeLastName": "Lew",
                                    "EmployeeTitle": "Sales Manager",
                                    "OrderId": "10432",
                                    "OrderDate": "2021-01-31",
                                    "ShipToName": "Ship to 75-A",
                                    "Freight": "4.34"
                                },
                                {
                                    "EmployeeFirstName": "Judy",
                                    "EmployeeLastName": "Lew",
                                    "EmployeeTitle": "Sales Manager",
                                    "OrderId": "10433",
                                    "OrderDate": "2021-02-03",
                                    "ShipToName": "Ship to 60-A",
                                    "Freight": "73.83"
                                },
                                {
                                    "EmployeeFirstName": "Judy",
                                    "EmployeeLastName": "Lew",
                                    "EmployeeTitle": "Sales Manager",
                                    "OrderId": "10434",
                                    "OrderDate": "2021-02-03",
                                    "ShipToName": "Destination NCKKO",
                                    "Freight": "17.92"
                                },
                                {
                                    "EmployeeFirstName": "Judy",
                                    "EmployeeLastName": "Lew",
                                    "EmployeeTitle": "Sales Manager",
                                    "OrderId": "10436",
                                    "OrderDate": "2021-02-05",
                                    "ShipToName": "Ship to 7-C",
                                    "Freight": "156.66"
                                },
                                {
                                    "EmployeeFirstName": "Judy",
                                    "EmployeeLastName": "Lew",
                                    "EmployeeTitle": "Sales Manager",
                                    "OrderId": "10438",
                                    "OrderDate": "2021-02-06",
                                    "ShipToName": "Ship to 79-A",
                                    "Freight": "8.24"
                                },
                                {
                                    "EmployeeFirstName": "Judy",
                                    "EmployeeLastName": "Lew",
                                    "EmployeeTitle": "Sales Manager",
                                    "OrderId": "10441",
                                    "OrderDate": "2021-02-10",
                                    "ShipToName": "Ship to 55-C",
                                    "Freight": "73.02"
                                },
                                {
                                    "EmployeeFirstName": "Judy",
                                    "EmployeeLastName": "Lew",
                                    "EmployeeTitle": "Sales Manager",
                                    "OrderId": "10442",
                                    "OrderDate": "2021-02-11",
                                    "ShipToName": "Destination RVDMF",
                                    "Freight": "47.94"
                                },
                                {
                                    "EmployeeFirstName": "Judy",
                                    "EmployeeLastName": "Lew",
                                    "EmployeeTitle": "Sales Manager",
                                    "OrderId": "10444",
                                    "OrderDate": "2021-02-12",
                                    "ShipToName": "Ship to 5-B",
                                    "Freight": "3.50"
                                },
                                {
                                    "EmployeeFirstName": "Judy",
                                    "EmployeeLastName": "Lew",
                                    "EmployeeTitle": "Sales Manager",
                                    "OrderId": "10445",
                                    "OrderDate": "2021-02-13",
                                    "ShipToName": "Ship to 5-A",
                                    "Freight": "9.30"
                                },
                                {
                                    "EmployeeFirstName": "Judy",
                                    "EmployeeLastName": "Lew",
                                    "EmployeeTitle": "Sales Manager",
                                    "OrderId": "10449",
                                    "OrderDate": "2021-02-18",
                                    "ShipToName": "Ship to 7-C",
                                    "Freight": "53.30"
                                },
                                {
                                    "EmployeeFirstName": "Sven",
                                    "EmployeeLastName": "Mortensen",
                                    "EmployeeTitle": "Sales Manager",
                                    "OrderId": "10463",
                                    "OrderDate": "2021-03-04",
                                    "ShipToName": "Ship to 76-B",
                                    "Freight": "14.78"
                                },
                                {
                                    "EmployeeFirstName": "Judy",
                                    "EmployeeLastName": "Lew",
                                    "EmployeeTitle": "Sales Manager",
                                    "OrderId": "10468",
                                    "OrderDate": "2021-03-07",
                                    "ShipToName": "Destination RMBHM",
                                    "Freight": "44.12"
                                },
                                {
                                    "EmployeeFirstName": "Sven",
                                    "EmployeeLastName": "Mortensen",
                                    "EmployeeTitle": "Sales Manager",
                                    "OrderId": "10474",
                                    "OrderDate": "2021-03-13",
                                    "ShipToName": "Ship to 58-C",
                                    "Freight": "83.49"
                                },
                                {
                                    "EmployeeFirstName": "Sven",
                                    "EmployeeLastName": "Mortensen",
                                    "EmployeeTitle": "Sales Manager",
                                    "OrderId": "10477",
                                    "OrderDate": "2021-03-17",
                                    "ShipToName": "Ship to 60-A",
                                    "Freight": "13.02"
                                },
                                {
                                    "EmployeeFirstName": "Judy",
                                    "EmployeeLastName": "Lew",
                                    "EmployeeTitle": "Sales Manager",
                                    "OrderId": "10479",
                                    "OrderDate": "2021-03-19",
                                    "ShipToName": "Ship to 65-C",
                                    "Freight": "708.95"
                                },
                                {
                                    "EmployeeFirstName": "Judy",
                                    "EmployeeLastName": "Lew",
                                    "EmployeeTitle": "Sales Manager",
                                    "OrderId": "10484",
                                    "OrderDate": "2021-03-24",
                                    "ShipToName": "Destination DLEUN",
                                    "Freight": "6.88"
                                },
                                {
                                    "EmployeeFirstName": "Judy",
                                    "EmployeeLastName": "Lew",
                                    "EmployeeTitle": "Sales Manager",
                                    "OrderId": "10492",
                                    "OrderDate": "2021-04-01",
                                    "ShipToName": "Destination XJIBQ",
                                    "Freight": "62.89"
                                },
                                {
                                    "EmployeeFirstName": "Judy",
                                    "EmployeeLastName": "Lew",
                                    "EmployeeTitle": "Sales Manager",
                                    "OrderId": "10495",
                                    "OrderDate": "2021-04-03",
                                    "ShipToName": "Ship to 42-C",
                                    "Freight": "4.65"
                                },
                                {
                                    "EmployeeFirstName": "Judy",
                                    "EmployeeLastName": "Lew",
                                    "EmployeeTitle": "Sales Manager",
                                    "OrderId": "10505",
                                    "OrderDate": "2021-04-14",
                                    "ShipToName": "Ship to 51-B",
                                    "Freight": "7.13"
                                },
                                {
                                    "EmployeeFirstName": "Judy",
                                    "EmployeeLastName": "Lew",
                                    "EmployeeTitle": "Sales Manager",
                                    "OrderId": "10514",
                                    "OrderDate": "2021-04-22",
                                    "ShipToName": "Destination CUVPF",
                                    "Freight": "789.95"
                                },
                                {
                                    "EmployeeFirstName": "Judy",
                                    "EmployeeLastName": "Lew",
                                    "EmployeeTitle": "Sales Manager",
                                    "OrderId": "10517",
                                    "OrderDate": "2021-04-24",
                                    "ShipToName": "Ship to 53-A",
                                    "Freight": "32.07"
                                },
                                {
                                    "EmployeeFirstName": "Sven",
                                    "EmployeeLastName": "Mortensen",
                                    "EmployeeTitle": "Sales Manager",
                                    "OrderId": "10529",
                                    "OrderDate": "2021-05-07",
                                    "ShipToName": "Ship to 50-B",
                                    "Freight": "66.69"
                                },
                                {
                                    "EmployeeFirstName": "Judy",
                                    "EmployeeLastName": "Lew",
                                    "EmployeeTitle": "Sales Manager",
                                    "OrderId": "10530",
                                    "OrderDate": "2021-05-08",
                                    "ShipToName": "Ship to 59-C",
                                    "Freight": "339.22"
                                },
                                {
                                    "EmployeeFirstName": "Judy",
                                    "EmployeeLastName": "Lew",
                                    "EmployeeTitle": "Sales Manager",
                                    "OrderId": "10536",
                                    "OrderDate": "2021-05-14",
                                    "ShipToName": "Ship to 44-B",
                                    "Freight": "58.88"
                                },
                                {
                                    "EmployeeFirstName": "Judy",
                                    "EmployeeLastName": "Lew",
                                    "EmployeeTitle": "Sales Manager",
                                    "OrderId": "10540",
                                    "OrderDate": "2021-05-19",
                                    "ShipToName": "Ship to 63-C",
                                    "Freight": "1007.64"
                                },
                                {
                                    "EmployeeFirstName": "Judy",
                                    "EmployeeLastName": "Lew",
                                    "EmployeeTitle": "Sales Manager",
                                    "OrderId": "10547",
                                    "OrderDate": "2021-05-23",
                                    "ShipToName": "Ship to 72-C",
                                    "Freight": "178.43"
                                },
                                {
                                    "EmployeeFirstName": "Judy",
                                    "EmployeeLastName": "Lew",
                                    "EmployeeTitle": "Sales Manager",
                                    "OrderId": "10548",
                                    "OrderDate": "2021-05-26",
                                    "ShipToName": "Ship to 79-A",
                                    "Freight": "1.43"
                                },
                                {
                                    "EmployeeFirstName": "Sven",
                                    "EmployeeLastName": "Mortensen",
                                    "EmployeeTitle": "Sales Manager",
                                    "OrderId": "10549",
                                    "OrderDate": "2021-05-27",
                                    "ShipToName": "Ship to 63-C",
                                    "Freight": "171.24"
                                },
                                {
                                    "EmployeeFirstName": "Judy",
                                    "EmployeeLastName": "Lew",
                                    "EmployeeTitle": "Sales Manager",
                                    "OrderId": "10568",
                                    "OrderDate": "2021-06-13",
                                    "ShipToName": "Destination VPNNG",
                                    "Freight": "6.54"
                                },
                                {
                                    "EmployeeFirstName": "Sven",
                                    "EmployeeLastName": "Mortensen",
                                    "EmployeeTitle": "Sales Manager",
                                    "OrderId": "10569",
                                    "OrderDate": "2021-06-16",
                                    "ShipToName": "Ship to 65-B",
                                    "Freight": "58.98"
                                },
                                {
                                    "EmployeeFirstName": "Judy",
                                    "EmployeeLastName": "Lew",
                                    "EmployeeTitle": "Sales Manager",
                                    "OrderId": "10570",
                                    "OrderDate": "2021-06-17",
                                    "ShipToName": "Ship to 51-C",
                                    "Freight": "188.99"
                                },
                                {
                                    "EmployeeFirstName": "Judy",
                                    "EmployeeLastName": "Lew",
                                    "EmployeeTitle": "Sales Manager",
                                    "OrderId": "10572",
                                    "OrderDate": "2021-06-18",
                                    "ShipToName": "Ship to 5-B",
                                    "Freight": "116.43"
                                },
                                {
                                    "EmployeeFirstName": "Sven",
                                    "EmployeeLastName": "Mortensen",
                                    "EmployeeTitle": "Sales Manager",
                                    "OrderId": "10575",
                                    "OrderDate": "2021-06-20",
                                    "ShipToName": "Ship to 52-C",
                                    "Freight": "127.34"
                                },
                                {
                                    "EmployeeFirstName": "Judy",
                                    "EmployeeLastName": "Lew",
                                    "EmployeeTitle": "Sales Manager",
                                    "OrderId": "10576",
                                    "OrderDate": "2021-06-23",
                                    "ShipToName": "Ship to 80-C",
                                    "Freight": "18.56"
                                },
                                {
                                    "EmployeeFirstName": "Judy",
                                    "EmployeeLastName": "Lew",
                                    "EmployeeTitle": "Sales Manager",
                                    "OrderId": "10581",
                                    "OrderDate": "2021-06-26",
                                    "ShipToName": "Destination SSYXZ",
                                    "Freight": "3.01"
                                },
                                {
                                    "EmployeeFirstName": "Judy",
                                    "EmployeeLastName": "Lew",
                                    "EmployeeTitle": "Sales Manager",
                                    "OrderId": "10582",
                                    "OrderDate": "2021-06-27",
                                    "ShipToName": "Ship to 6-A",
                                    "Freight": "27.71"
                                },
                                {
                                    "EmployeeFirstName": "Judy",
                                    "EmployeeLastName": "Lew",
                                    "EmployeeTitle": "Sales Manager",
                                    "OrderId": "10592",
                                    "OrderDate": "2021-07-08",
                                    "ShipToName": "Ship to 44-B",
                                    "Freight": "32.10"
                                },
                                {
                                    "EmployeeFirstName": "Judy",
                                    "EmployeeLastName": "Lew",
                                    "EmployeeTitle": "Sales Manager",
                                    "OrderId": "10594",
                                    "OrderDate": "2021-07-09",
                                    "ShipToName": "Ship to 55-B",
                                    "Freight": "5.24"
                                },
                                {
                                    "EmployeeFirstName": "Sven",
                                    "EmployeeLastName": "Mortensen",
                                    "EmployeeTitle": "Sales Manager",
                                    "OrderId": "10607",
                                    "OrderDate": "2021-07-22",
                                    "ShipToName": "Ship to 71-C",
                                    "Freight": "200.24"
                                },
                                {
                                    "EmployeeFirstName": "Judy",
                                    "EmployeeLastName": "Lew",
                                    "EmployeeTitle": "Sales Manager",
                                    "OrderId": "10619",
                                    "OrderDate": "2021-08-04",
                                    "ShipToName": "Ship to 51-B",
                                    "Freight": "91.05"
                                },
                                {
                                    "EmployeeFirstName": "Judy",
                                    "EmployeeLastName": "Lew",
                                    "EmployeeTitle": "Sales Manager",
                                    "OrderId": "10625",
                                    "OrderDate": "2021-08-08",
                                    "ShipToName": "Destination QOTQA",
                                    "Freight": "43.90"
                                },
                                {
                                    "EmployeeFirstName": "Judy",
                                    "EmployeeLastName": "Lew",
                                    "EmployeeTitle": "Sales Manager",
                                    "OrderId": "10638",
                                    "OrderDate": "2021-08-20",
                                    "ShipToName": "Ship to 47-B",
                                    "Freight": "158.44"
                                },
                                {
                                    "EmployeeFirstName": "Judy",
                                    "EmployeeLastName": "Lew",
                                    "EmployeeTitle": "Sales Manager",
                                    "OrderId": "10644",
                                    "OrderDate": "2021-08-25",
                                    "ShipToName": "Ship to 88-A",
                                    "Freight": "0.14"
                                },
                                {
                                    "EmployeeFirstName": "Sven",
                                    "EmployeeLastName": "Mortensen",
                                    "EmployeeTitle": "Sales Manager",
                                    "OrderId": "10648",
                                    "OrderDate": "2021-08-28",
                                    "ShipToName": "Ship to 67-C",
                                    "Freight": "14.25"
                                },
                                {
                                    "EmployeeFirstName": "Sven",
                                    "EmployeeLastName": "Mortensen",
                                    "EmployeeTitle": "Sales Manager",
                                    "OrderId": "10649",
                                    "OrderDate": "2021-08-28",
                                    "ShipToName": "Ship to 50-B",
                                    "Freight": "6.20"
                                },
                                {
                                    "EmployeeFirstName": "Sven",
                                    "EmployeeLastName": "Mortensen",
                                    "EmployeeTitle": "Sales Manager",
                                    "OrderId": "10650",
                                    "OrderDate": "2021-08-29",
                                    "ShipToName": "Destination SSYXZ",
                                    "Freight": "176.81"
                                },
                                {
                                    "EmployeeFirstName": "Sven",
                                    "EmployeeLastName": "Mortensen",
                                    "EmployeeTitle": "Sales Manager",
                                    "OrderId": "10654",
                                    "OrderDate": "2021-09-02",
                                    "ShipToName": "Ship to 5-C",
                                    "Freight": "55.26"
                                },
                                {
                                    "EmployeeFirstName": "Judy",
                                    "EmployeeLastName": "Lew",
                                    "EmployeeTitle": "Sales Manager",
                                    "OrderId": "10662",
                                    "OrderDate": "2021-09-09",
                                    "ShipToName": "Ship to 48-C",
                                    "Freight": "1.28"
                                },
                                {
                                    "EmployeeFirstName": "Sven",
                                    "EmployeeLastName": "Mortensen",
                                    "EmployeeTitle": "Sales Manager",
                                    "OrderId": "10675",
                                    "OrderDate": "2021-09-19",
                                    "ShipToName": "Destination WEGWI",
                                    "Freight": "31.85"
                                },
                                {
                                    "EmployeeFirstName": "Judy",
                                    "EmployeeLastName": "Lew",
                                    "EmployeeTitle": "Sales Manager",
                                    "OrderId": "10681",
                                    "OrderDate": "2021-09-25",
                                    "ShipToName": "Destination AVQUS",
                                    "Freight": "76.13"
                                },
                                {
                                    "EmployeeFirstName": "Judy",
                                    "EmployeeLastName": "Lew",
                                    "EmployeeTitle": "Sales Manager",
                                    "OrderId": "10682",
                                    "OrderDate": "2021-09-25",
                                    "ShipToName": "Destination RTGIS",
                                    "Freight": "36.13"
                                },
                                {
                                    "EmployeeFirstName": "Judy",
                                    "EmployeeLastName": "Lew",
                                    "EmployeeTitle": "Sales Manager",
                                    "OrderId": "10684",
                                    "OrderDate": "2021-09-26",
                                    "ShipToName": "Ship to 56-B",
                                    "Freight": "145.63"
                                },
                                {
                                    "EmployeeFirstName": "Judy",
                                    "EmployeeLastName": "Lew",
                                    "EmployeeTitle": "Sales Manager",
                                    "OrderId": "10693",
                                    "OrderDate": "2021-10-06",
                                    "ShipToName": "Ship to 89-C",
                                    "Freight": "139.34"
                                },
                                {
                                    "EmployeeFirstName": "Judy",
                                    "EmployeeLastName": "Lew",
                                    "EmployeeTitle": "Sales Manager",
                                    "OrderId": "10697",
                                    "OrderDate": "2021-10-08",
                                    "ShipToName": "Ship to 47-B",
                                    "Freight": "45.52"
                                },
                                {
                                    "EmployeeFirstName": "Judy",
                                    "EmployeeLastName": "Lew",
                                    "EmployeeTitle": "Sales Manager",
                                    "OrderId": "10699",
                                    "OrderDate": "2021-10-09",
                                    "ShipToName": "Ship to 52-B",
                                    "Freight": "0.58"
                                },
                                {
                                    "EmployeeFirstName": "Judy",
                                    "EmployeeLastName": "Lew",
                                    "EmployeeTitle": "Sales Manager",
                                    "OrderId": "10700",
                                    "OrderDate": "2021-10-10",
                                    "ShipToName": "Ship to 71-C",
                                    "Freight": "65.10"
                                },
                                {
                                    "EmployeeFirstName": "Sven",
                                    "EmployeeLastName": "Mortensen",
                                    "EmployeeTitle": "Sales Manager",
                                    "OrderId": "10711",
                                    "OrderDate": "2021-10-21",
                                    "ShipToName": "Ship to 71-A",
                                    "Freight": "52.41"
                                },
                                {
                                    "EmployeeFirstName": "Judy",
                                    "EmployeeLastName": "Lew",
                                    "EmployeeTitle": "Sales Manager",
                                    "OrderId": "10712",
                                    "OrderDate": "2021-10-21",
                                    "ShipToName": "Destination KPVYJ",
                                    "Freight": "89.93"
                                },
                                {
                                    "EmployeeFirstName": "Sven",
                                    "EmployeeLastName": "Mortensen",
                                    "EmployeeTitle": "Sales Manager",
                                    "OrderId": "10714",
                                    "OrderDate": "2021-10-22",
                                    "ShipToName": "Ship to 71-A",
                                    "Freight": "24.49"
                                },
                                {
                                    "EmployeeFirstName": "Judy",
                                    "EmployeeLastName": "Lew",
                                    "EmployeeTitle": "Sales Manager",
                                    "OrderId": "10715",
                                    "OrderDate": "2021-10-23",
                                    "ShipToName": "Ship to 9-B",
                                    "Freight": "63.20"
                                },
                                {
                                    "EmployeeFirstName": "Sven",
                                    "EmployeeLastName": "Mortensen",
                                    "EmployeeTitle": "Sales Manager",
                                    "OrderId": "10721",
                                    "OrderDate": "2021-10-29",
                                    "ShipToName": "Ship to 63-A",
                                    "Freight": "48.92"
                                },
                                {
                                    "EmployeeFirstName": "Judy",
                                    "EmployeeLastName": "Lew",
                                    "EmployeeTitle": "Sales Manager",
                                    "OrderId": "10723",
                                    "OrderDate": "2021-10-30",
                                    "ShipToName": "Ship to 89-C",
                                    "Freight": "21.72"
                                },
                                {
                                    "EmployeeFirstName": "Sven",
                                    "EmployeeLastName": "Mortensen",
                                    "EmployeeTitle": "Sales Manager",
                                    "OrderId": "10730",
                                    "OrderDate": "2021-11-05",
                                    "ShipToName": "Ship to 9-A",
                                    "Freight": "20.12"
                                },
                                {
                                    "EmployeeFirstName": "Judy",
                                    "EmployeeLastName": "Lew",
                                    "EmployeeTitle": "Sales Manager",
                                    "OrderId": "10732",
                                    "OrderDate": "2021-11-06",
                                    "ShipToName": "Ship to 9-A",
                                    "Freight": "16.97"
                                },
                                {
                                    "EmployeeFirstName": "Judy",
                                    "EmployeeLastName": "Lew",
                                    "EmployeeTitle": "Sales Manager",
                                    "OrderId": "10739",
                                    "OrderDate": "2021-11-12",
                                    "ShipToName": "Ship to 85-C",
                                    "Freight": "11.08"
                                },
                                {
                                    "EmployeeFirstName": "Judy",
                                    "EmployeeLastName": "Lew",
                                    "EmployeeTitle": "Sales Manager",
                                    "OrderId": "10742",
                                    "OrderDate": "2021-11-14",
                                    "ShipToName": "Destination LPHSI",
                                    "Freight": "243.73"
                                },
                                {
                                    "EmployeeFirstName": "Judy",
                                    "EmployeeLastName": "Lew",
                                    "EmployeeTitle": "Sales Manager",
                                    "OrderId": "10748",
                                    "OrderDate": "2021-11-20",
                                    "ShipToName": "Ship to 71-B",
                                    "Freight": "232.55"
                                },
                                {
                                    "EmployeeFirstName": "Judy",
                                    "EmployeeLastName": "Lew",
                                    "EmployeeTitle": "Sales Manager",
                                    "OrderId": "10751",
                                    "OrderDate": "2021-11-24",
                                    "ShipToName": "Ship to 68-A",
                                    "Freight": "130.79"
                                },
                                {
                                    "EmployeeFirstName": "Judy",
                                    "EmployeeLastName": "Lew",
                                    "EmployeeTitle": "Sales Manager",
                                    "OrderId": "10753",
                                    "OrderDate": "2021-11-25",
                                    "ShipToName": "Destination DICGM",
                                    "Freight": "7.70"
                                },
                                {
                                    "EmployeeFirstName": "Judy",
                                    "EmployeeLastName": "Lew",
                                    "EmployeeTitle": "Sales Manager",
                                    "OrderId": "10758",
                                    "OrderDate": "2021-11-28",
                                    "ShipToName": "Ship to 68-C",
                                    "Freight": "138.17"
                                },
                                {
                                    "EmployeeFirstName": "Judy",
                                    "EmployeeLastName": "Lew",
                                    "EmployeeTitle": "Sales Manager",
                                    "OrderId": "10759",
                                    "OrderDate": "2021-11-28",
                                    "ShipToName": "Destination QOTQA",
                                    "Freight": "11.99"
                                },
                                {
                                    "EmployeeFirstName": "Sven",
                                    "EmployeeLastName": "Mortensen",
                                    "EmployeeTitle": "Sales Manager",
                                    "OrderId": "10761",
                                    "OrderDate": "2021-12-02",
                                    "ShipToName": "Ship to 65-B",
                                    "Freight": "18.66"
                                },
                                {
                                    "EmployeeFirstName": "Judy",
                                    "EmployeeLastName": "Lew",
                                    "EmployeeTitle": "Sales Manager",
                                    "OrderId": "10762",
                                    "OrderDate": "2021-12-02",
                                    "ShipToName": "Destination YCMPK",
                                    "Freight": "328.74"
                                },
                                {
                                    "EmployeeFirstName": "Judy",
                                    "EmployeeLastName": "Lew",
                                    "EmployeeTitle": "Sales Manager",
                                    "OrderId": "10763",
                                    "OrderDate": "2021-12-03",
                                    "ShipToName": "Destination PXQRR",
                                    "Freight": "37.35"
                                },
                                {
                                    "EmployeeFirstName": "Judy",
                                    "EmployeeLastName": "Lew",
                                    "EmployeeTitle": "Sales Manager",
                                    "OrderId": "10765",
                                    "OrderDate": "2021-12-04",
                                    "ShipToName": "Ship to 63-A",
                                    "Freight": "42.74"
                                },
                                {
                                    "EmployeeFirstName": "Judy",
                                    "EmployeeLastName": "Lew",
                                    "EmployeeTitle": "Sales Manager",
                                    "OrderId": "10768",
                                    "OrderDate": "2021-12-08",
                                    "ShipToName": "Ship to 4-B",
                                    "Freight": "146.32"
                                },
                                {
                                    "EmployeeFirstName": "Judy",
                                    "EmployeeLastName": "Lew",
                                    "EmployeeTitle": "Sales Manager",
                                    "OrderId": "10769",
                                    "OrderDate": "2021-12-08",
                                    "ShipToName": "Ship to 83-C",
                                    "Freight": "65.06"
                                },
                                {
                                    "EmployeeFirstName": "Judy",
                                    "EmployeeLastName": "Lew",
                                    "EmployeeTitle": "Sales Manager",
                                    "OrderId": "10772",
                                    "OrderDate": "2021-12-10",
                                    "ShipToName": "Ship to 44-B",
                                    "Freight": "91.28"
                                },
                                {
                                    "EmployeeFirstName": "Judy",
                                    "EmployeeLastName": "Lew",
                                    "EmployeeTitle": "Sales Manager",
                                    "OrderId": "10778",
                                    "OrderDate": "2021-12-16",
                                    "ShipToName": "Ship to 5-A",
                                    "Freight": "6.79"
                                },
                                {
                                    "EmployeeFirstName": "Judy",
                                    "EmployeeLastName": "Lew",
                                    "EmployeeTitle": "Sales Manager",
                                    "OrderId": "10779",
                                    "OrderDate": "2021-12-16",
                                    "ShipToName": "Ship to 52-A",
                                    "Freight": "58.13"
                                },
                                {
                                    "EmployeeFirstName": "Judy",
                                    "EmployeeLastName": "Lew",
                                    "EmployeeTitle": "Sales Manager",
                                    "OrderId": "10793",
                                    "OrderDate": "2021-12-24",
                                    "ShipToName": "Ship to 4-B",
                                    "Freight": "4.52"
                                },
                                {
                                    "EmployeeFirstName": "Judy",
                                    "EmployeeLastName": "Lew",
                                    "EmployeeTitle": "Sales Manager",
                                    "OrderId": "10796",
                                    "OrderDate": "2021-12-25",
                                    "ShipToName": "Destination UOUWK",
                                    "Freight": "26.52"
                                },
                                {
                                    "EmployeeFirstName": "Judy",
                                    "EmployeeLastName": "Lew",
                                    "EmployeeTitle": "Sales Manager",
                                    "OrderId": "10806",
                                    "OrderDate": "2021-12-31",
                                    "ShipToName": "Ship to 84-C",
                                    "Freight": "22.11"
                                },
                                {
                                    "EmployeeFirstName": "Sven",
                                    "EmployeeLastName": "Mortensen",
                                    "EmployeeTitle": "Sales Manager",
                                    "OrderId": "10812",
                                    "OrderDate": "2022-01-02",
                                    "ShipToName": "Ship to 66-B",
                                    "Freight": "59.78"
                                },
                                {
                                    "EmployeeFirstName": "Judy",
                                    "EmployeeLastName": "Lew",
                                    "EmployeeTitle": "Sales Manager",
                                    "OrderId": "10814",
                                    "OrderDate": "2022-01-05",
                                    "ShipToName": "Ship to 84-B",
                                    "Freight": "130.94"
                                },
                                {
                                    "EmployeeFirstName": "Judy",
                                    "EmployeeLastName": "Lew",
                                    "EmployeeTitle": "Sales Manager",
                                    "OrderId": "10817",
                                    "OrderDate": "2022-01-06",
                                    "ShipToName": "Destination RMBHM",
                                    "Freight": "306.07"
                                },
                                {
                                    "EmployeeFirstName": "Judy",
                                    "EmployeeLastName": "Lew",
                                    "EmployeeTitle": "Sales Manager",
                                    "OrderId": "10820",
                                    "OrderDate": "2022-01-07",
                                    "ShipToName": "Ship to 65-B",
                                    "Freight": "37.52"
                                },
                                {
                                    "EmployeeFirstName": "Sven",
                                    "EmployeeLastName": "Mortensen",
                                    "EmployeeTitle": "Sales Manager",
                                    "OrderId": "10823",
                                    "OrderDate": "2022-01-09",
                                    "ShipToName": "Ship to 46-A",
                                    "Freight": "163.97"
                                },
                                {
                                    "EmployeeFirstName": "Judy",
                                    "EmployeeLastName": "Lew",
                                    "EmployeeTitle": "Sales Manager",
                                    "OrderId": "10831",
                                    "OrderDate": "2022-01-14",
                                    "ShipToName": "Ship to 70-B",
                                    "Freight": "72.19"
                                },
                                {
                                    "EmployeeFirstName": "Judy",
                                    "EmployeeLastName": "Lew",
                                    "EmployeeTitle": "Sales Manager",
                                    "OrderId": "10838",
                                    "OrderDate": "2022-01-19",
                                    "ShipToName": "Ship to 47-A",
                                    "Freight": "59.28"
                                },
                                {
                                    "EmployeeFirstName": "Judy",
                                    "EmployeeLastName": "Lew",
                                    "EmployeeTitle": "Sales Manager",
                                    "OrderId": "10839",
                                    "OrderDate": "2022-01-19",
                                    "ShipToName": "Ship to 81-C",
                                    "Freight": "35.43"
                                },
                                {
                                    "EmployeeFirstName": "Sven",
                                    "EmployeeLastName": "Mortensen",
                                    "EmployeeTitle": "Sales Manager",
                                    "OrderId": "10841",
                                    "OrderDate": "2022-01-20",
                                    "ShipToName": "Ship to 76-B",
                                    "Freight": "424.30"
                                },
                                {
                                    "EmployeeFirstName": "Sven",
                                    "EmployeeLastName": "Mortensen",
                                    "EmployeeTitle": "Sales Manager",
                                    "OrderId": "10851",
                                    "OrderDate": "2022-01-26",
                                    "ShipToName": "Ship to 67-C",
                                    "Freight": "160.55"
                                },
                                {
                                    "EmployeeFirstName": "Judy",
                                    "EmployeeLastName": "Lew",
                                    "EmployeeTitle": "Sales Manager",
                                    "OrderId": "10854",
                                    "OrderDate": "2022-01-27",
                                    "ShipToName": "Destination CUVPF",
                                    "Freight": "100.22"
                                },
                                {
                                    "EmployeeFirstName": "Judy",
                                    "EmployeeLastName": "Lew",
                                    "EmployeeTitle": "Sales Manager",
                                    "OrderId": "10855",
                                    "OrderDate": "2022-01-27",
                                    "ShipToName": "Ship to 55-A",
                                    "Freight": "170.97"
                                },
                                {
                                    "EmployeeFirstName": "Judy",
                                    "EmployeeLastName": "Lew",
                                    "EmployeeTitle": "Sales Manager",
                                    "OrderId": "10856",
                                    "OrderDate": "2022-01-28",
                                    "ShipToName": "Destination FQFLS",
                                    "Freight": "58.43"
                                },
                                {
                                    "EmployeeFirstName": "Judy",
                                    "EmployeeLastName": "Lew",
                                    "EmployeeTitle": "Sales Manager",
                                    "OrderId": "10860",
                                    "OrderDate": "2022-01-29",
                                    "ShipToName": "Destination XBVKN",
                                    "Freight": "19.26"
                                },
                                {
                                    "EmployeeFirstName": "Sven",
                                    "EmployeeLastName": "Mortensen",
                                    "EmployeeTitle": "Sales Manager",
                                    "OrderId": "10866",
                                    "OrderDate": "2022-02-03",
                                    "ShipToName": "Ship to 5-B",
                                    "Freight": "109.11"
                                },
                                {
                                    "EmployeeFirstName": "Sven",
                                    "EmployeeLastName": "Mortensen",
                                    "EmployeeTitle": "Sales Manager",
                                    "OrderId": "10869",
                                    "OrderDate": "2022-02-04",
                                    "ShipToName": "Ship to 72-A",
                                    "Freight": "143.28"
                                },
                                {
                                    "EmployeeFirstName": "Sven",
                                    "EmployeeLastName": "Mortensen",
                                    "EmployeeTitle": "Sales Manager",
                                    "OrderId": "10870",
                                    "OrderDate": "2022-02-04",
                                    "ShipToName": "Ship to 91-A",
                                    "Freight": "12.04"
                                },
                                {
                                    "EmployeeFirstName": "Sven",
                                    "EmployeeLastName": "Mortensen",
                                    "EmployeeTitle": "Sales Manager",
                                    "OrderId": "10872",
                                    "OrderDate": "2022-02-05",
                                    "ShipToName": "Destination GGQIR",
                                    "Freight": "175.32"
                                },
                                {
                                    "EmployeeFirstName": "Sven",
                                    "EmployeeLastName": "Mortensen",
                                    "EmployeeTitle": "Sales Manager",
                                    "OrderId": "10874",
                                    "OrderDate": "2022-02-06",
                                    "ShipToName": "Destination IIYDD",
                                    "Freight": "19.58"
                                },
                                {
                                    "EmployeeFirstName": "Judy",
                                    "EmployeeLastName": "Lew",
                                    "EmployeeTitle": "Sales Manager",
                                    "OrderId": "10879",
                                    "OrderDate": "2022-02-10",
                                    "ShipToName": "Ship to 90-A",
                                    "Freight": "8.50"
                                },
                                {
                                    "EmployeeFirstName": "Judy",
                                    "EmployeeLastName": "Lew",
                                    "EmployeeTitle": "Sales Manager",
                                    "OrderId": "10895",
                                    "OrderDate": "2022-02-18",
                                    "ShipToName": "Destination CUVPF",
                                    "Freight": "162.75"
                                },
                                {
                                    "EmployeeFirstName": "Judy",
                                    "EmployeeLastName": "Lew",
                                    "EmployeeTitle": "Sales Manager",
                                    "OrderId": "10897",
                                    "OrderDate": "2022-02-19",
                                    "ShipToName": "Destination DGKOU",
                                    "Freight": "603.54"
                                },
                                {
                                    "EmployeeFirstName": "Sven",
                                    "EmployeeLastName": "Mortensen",
                                    "EmployeeTitle": "Sales Manager",
                                    "OrderId": "10899",
                                    "OrderDate": "2022-02-20",
                                    "ShipToName": "Ship to 46-C",
                                    "Freight": "1.21"
                                },
                                {
                                    "EmployeeFirstName": "Judy",
                                    "EmployeeLastName": "Lew",
                                    "EmployeeTitle": "Sales Manager",
                                    "OrderId": "10903",
                                    "OrderDate": "2022-02-24",
                                    "ShipToName": "Destination DPCVR",
                                    "Freight": "36.71"
                                },
                                {
                                    "EmployeeFirstName": "Judy",
                                    "EmployeeLastName": "Lew",
                                    "EmployeeTitle": "Sales Manager",
                                    "OrderId": "10904",
                                    "OrderDate": "2022-02-24",
                                    "ShipToName": "Ship to 89-A",
                                    "Freight": "162.95"
                                },
                                {
                                    "EmployeeFirstName": "Judy",
                                    "EmployeeLastName": "Lew",
                                    "EmployeeTitle": "Sales Manager",
                                    "OrderId": "10911",
                                    "OrderDate": "2022-02-26",
                                    "ShipToName": "Destination IIYDD",
                                    "Freight": "38.19"
                                },
                                {
                                    "EmployeeFirstName": "Judy",
                                    "EmployeeLastName": "Lew",
                                    "EmployeeTitle": "Sales Manager",
                                    "OrderId": "10918",
                                    "OrderDate": "2022-03-02",
                                    "ShipToName": "Destination OLSSJ",
                                    "Freight": "48.83"
                                },
                                {
                                    "EmployeeFirstName": "Sven",
                                    "EmployeeLastName": "Mortensen",
                                    "EmployeeTitle": "Sales Manager",
                                    "OrderId": "10922",
                                    "OrderDate": "2022-03-03",
                                    "ShipToName": "Destination DPCVR",
                                    "Freight": "62.74"
                                },
                                {
                                    "EmployeeFirstName": "Judy",
                                    "EmployeeLastName": "Lew",
                                    "EmployeeTitle": "Sales Manager",
                                    "OrderId": "10924",
                                    "OrderDate": "2022-03-04",
                                    "ShipToName": "Ship to 5-A",
                                    "Freight": "151.52"
                                },
                                {
                                    "EmployeeFirstName": "Judy",
                                    "EmployeeLastName": "Lew",
                                    "EmployeeTitle": "Sales Manager",
                                    "OrderId": "10925",
                                    "OrderDate": "2022-03-04",
                                    "ShipToName": "Destination JPAIY",
                                    "Freight": "2.27"
                                },
                                {
                                    "EmployeeFirstName": "Judy",
                                    "EmployeeLastName": "Lew",
                                    "EmployeeTitle": "Sales Manager",
                                    "OrderId": "10934",
                                    "OrderDate": "2022-03-09",
                                    "ShipToName": "Ship to 44-C",
                                    "Freight": "32.01"
                                },
                                {
                                    "EmployeeFirstName": "Judy",
                                    "EmployeeLastName": "Lew",
                                    "EmployeeTitle": "Sales Manager",
                                    "OrderId": "10936",
                                    "OrderDate": "2022-03-09",
                                    "ShipToName": "Destination AVQUS",
                                    "Freight": "33.68"
                                },
                                {
                                    "EmployeeFirstName": "Judy",
                                    "EmployeeLastName": "Lew",
                                    "EmployeeTitle": "Sales Manager",
                                    "OrderId": "10938",
                                    "OrderDate": "2022-03-10",
                                    "ShipToName": "Ship to 63-C",
                                    "Freight": "31.89"
                                },
                                {
                                    "EmployeeFirstName": "Judy",
                                    "EmployeeLastName": "Lew",
                                    "EmployeeTitle": "Sales Manager",
                                    "OrderId": "10947",
                                    "OrderDate": "2022-03-13",
                                    "ShipToName": "Destination NZASL",
                                    "Freight": "3.26"
                                },
                                {
                                    "EmployeeFirstName": "Judy",
                                    "EmployeeLastName": "Lew",
                                    "EmployeeTitle": "Sales Manager",
                                    "OrderId": "10948",
                                    "OrderDate": "2022-03-13",
                                    "ShipToName": "Destination GGQIR",
                                    "Freight": "23.39"
                                },
                                {
                                    "EmployeeFirstName": "Sven",
                                    "EmployeeLastName": "Mortensen",
                                    "EmployeeTitle": "Sales Manager",
                                    "OrderId": "10954",
                                    "OrderDate": "2022-03-17",
                                    "ShipToName": "Ship to 47-B",
                                    "Freight": "27.91"
                                },
                                {
                                    "EmployeeFirstName": "Judy",
                                    "EmployeeLastName": "Lew",
                                    "EmployeeTitle": "Sales Manager",
                                    "OrderId": "10960",
                                    "OrderDate": "2022-03-19",
                                    "ShipToName": "Destination SXYQX",
                                    "Freight": "2.08"
                                },
                                {
                                    "EmployeeFirstName": "Judy",
                                    "EmployeeLastName": "Lew",
                                    "EmployeeTitle": "Sales Manager",
                                    "OrderId": "10964",
                                    "OrderDate": "2022-03-20",
                                    "ShipToName": "Ship to 74-B",
                                    "Freight": "87.38"
                                },
                                {
                                    "EmployeeFirstName": "Judy",
                                    "EmployeeLastName": "Lew",
                                    "EmployeeTitle": "Sales Manager",
                                    "OrderId": "10974",
                                    "OrderDate": "2022-03-25",
                                    "ShipToName": "Ship to 75-B",
                                    "Freight": "12.96"
                                },
                                {
                                    "EmployeeFirstName": "Judy",
                                    "EmployeeLastName": "Lew",
                                    "EmployeeTitle": "Sales Manager",
                                    "OrderId": "10988",
                                    "OrderDate": "2022-03-31",
                                    "ShipToName": "Ship to 65-A",
                                    "Freight": "61.14"
                                },
                                {
                                    "EmployeeFirstName": "Judy",
                                    "EmployeeLastName": "Lew",
                                    "EmployeeTitle": "Sales Manager",
                                    "OrderId": "11003",
                                    "OrderDate": "2022-04-06",
                                    "ShipToName": "Ship to 78-B",
                                    "Freight": "14.91"
                                },
                                {
                                    "EmployeeFirstName": "Judy",
                                    "EmployeeLastName": "Lew",
                                    "EmployeeTitle": "Sales Manager",
                                    "OrderId": "11004",
                                    "OrderDate": "2022-04-07",
                                    "ShipToName": "Ship to 50-C",
                                    "Freight": "44.84"
                                },
                                {
                                    "EmployeeFirstName": "Judy",
                                    "EmployeeLastName": "Lew",
                                    "EmployeeTitle": "Sales Manager",
                                    "OrderId": "11006",
                                    "OrderDate": "2022-04-07",
                                    "ShipToName": "Destination LLUXZ",
                                    "Freight": "25.19"
                                },
                                {
                                    "EmployeeFirstName": "Judy",
                                    "EmployeeLastName": "Lew",
                                    "EmployeeTitle": "Sales Manager",
                                    "OrderId": "11011",
                                    "OrderDate": "2022-04-09",
                                    "ShipToName": "Destination LOUIE",
                                    "Freight": "1.21"
                                },
                                {
                                    "EmployeeFirstName": "Judy",
                                    "EmployeeLastName": "Lew",
                                    "EmployeeTitle": "Sales Manager",
                                    "OrderId": "11021",
                                    "OrderDate": "2022-04-14",
                                    "ShipToName": "Ship to 63-B",
                                    "Freight": "297.18"
                                },
                                {
                                    "EmployeeFirstName": "Judy",
                                    "EmployeeLastName": "Lew",
                                    "EmployeeTitle": "Sales Manager",
                                    "OrderId": "11041",
                                    "OrderDate": "2022-04-22",
                                    "ShipToName": "Destination YUJRD",
                                    "Freight": "48.22"
                                },
                                {
                                    "EmployeeFirstName": "Sven",
                                    "EmployeeLastName": "Mortensen",
                                    "EmployeeTitle": "Sales Manager",
                                    "OrderId": "11043",
                                    "OrderDate": "2022-04-22",
                                    "ShipToName": "Ship to 74-B",
                                    "Freight": "8.80"
                                },
                                {
                                    "EmployeeFirstName": "Judy",
                                    "EmployeeLastName": "Lew",
                                    "EmployeeTitle": "Sales Manager",
                                    "OrderId": "11049",
                                    "OrderDate": "2022-04-24",
                                    "ShipToName": "Destination XOIGC",
                                    "Freight": "8.34"
                                },
                                {
                                    "EmployeeFirstName": "Judy",
                                    "EmployeeLastName": "Lew",
                                    "EmployeeTitle": "Sales Manager",
                                    "OrderId": "11052",
                                    "OrderDate": "2022-04-27",
                                    "ShipToName": "Destination DPCVR",
                                    "Freight": "67.26"
                                },
                                {
                                    "EmployeeFirstName": "Judy",
                                    "EmployeeLastName": "Lew",
                                    "EmployeeTitle": "Sales Manager",
                                    "OrderId": "11057",
                                    "OrderDate": "2022-04-29",
                                    "ShipToName": "Ship to 53-C",
                                    "Freight": "4.13"
                                },
                                {
                                    "EmployeeFirstName": "Judy",
                                    "EmployeeLastName": "Lew",
                                    "EmployeeTitle": "Sales Manager",
                                    "OrderId": "11063",
                                    "OrderDate": "2022-04-30",
                                    "ShipToName": "Destination KPVYJ",
                                    "Freight": "81.73"
                                }
                            ]
                        },
                        "text/html": [
                            "<table>",
                            "<tr><th>EmployeeFirstName</th><th>EmployeeLastName</th><th>EmployeeTitle</th><th>OrderId</th><th>OrderDate</th><th>ShipToName</th><th>Freight</th></tr>",
                            "<tr><td>Sven</td><td>Mortensen</td><td>Sales Manager</td><td>10248</td><td>2020-07-04</td><td>Ship to 85-B</td><td>32.38</td></tr>",
                            "<tr><td>Judy</td><td>Lew</td><td>Sales Manager</td><td>10251</td><td>2020-07-08</td><td>Ship to 84-A</td><td>41.34</td></tr>",
                            "<tr><td>Judy</td><td>Lew</td><td>Sales Manager</td><td>10253</td><td>2020-07-10</td><td>Destination JPAIY</td><td>58.17</td></tr>",
                            "<tr><td>Sven</td><td>Mortensen</td><td>Sales Manager</td><td>10254</td><td>2020-07-11</td><td>Destination YUJRD</td><td>22.98</td></tr>",
                            "<tr><td>Judy</td><td>Lew</td><td>Sales Manager</td><td>10256</td><td>2020-07-15</td><td>Ship to 88-B</td><td>13.97</td></tr>",
                            "<tr><td>Judy</td><td>Lew</td><td>Sales Manager</td><td>10266</td><td>2020-07-26</td><td>Ship to 87-B</td><td>25.73</td></tr>",
                            "<tr><td>Sven</td><td>Mortensen</td><td>Sales Manager</td><td>10269</td><td>2020-07-31</td><td>Ship to 89-B</td><td>4.56</td></tr>",
                            "<tr><td>Judy</td><td>Lew</td><td>Sales Manager</td><td>10273</td><td>2020-08-05</td><td>Ship to 63-A</td><td>76.07</td></tr>",
                            "<tr><td>Judy</td><td>Lew</td><td>Sales Manager</td><td>10283</td><td>2020-08-16</td><td>Ship to 46-A</td><td>84.81</td></tr>",
                            "<tr><td>Sven</td><td>Mortensen</td><td>Sales Manager</td><td>10297</td><td>2020-09-04</td><td>Ship to 7-C</td><td>5.74</td></tr>",
                            "<tr><td>Judy</td><td>Lew</td><td>Sales Manager</td><td>10309</td><td>2020-09-19</td><td>Destination ATSOA</td><td>47.30</td></tr>",
                            "<tr><td>Sven</td><td>Mortensen</td><td>Sales Manager</td><td>10320</td><td>2020-10-03</td><td>Ship to 87-A</td><td>34.57</td></tr>",
                            "<tr><td>Judy</td><td>Lew</td><td>Sales Manager</td><td>10321</td><td>2020-10-03</td><td>Destination LMVGS</td><td>3.43</td></tr>",
                            "<tr><td>Judy</td><td>Lew</td><td>Sales Manager</td><td>10330</td><td>2020-10-16</td><td>Ship to 46-A</td><td>12.75</td></tr>",
                            "<tr><td>Judy</td><td>Lew</td><td>Sales Manager</td><td>10332</td><td>2020-10-17</td><td>Ship to 51-B</td><td>52.84</td></tr>",
                            "<tr><td>Sven</td><td>Mortensen</td><td>Sales Manager</td><td>10333</td><td>2020-10-18</td><td>Ship to 87-C</td><td>0.59</td></tr>",
                            "<tr><td>Judy</td><td>Lew</td><td>Sales Manager</td><td>10346</td><td>2020-11-05</td><td>Ship to 65-A</td><td>142.08</td></tr>",
                            "<tr><td>Judy</td><td>Lew</td><td>Sales Manager</td><td>10352</td><td>2020-11-12</td><td>Destination OTSWR</td><td>1.30</td></tr>",
                            "<tr><td>Sven</td><td>Mortensen</td><td>Sales Manager</td><td>10358</td><td>2020-11-20</td><td>Ship to 41-C</td><td>19.64</td></tr>",
                            "<tr><td>Sven</td><td>Mortensen</td><td>Sales Manager</td><td>10359</td><td>2020-11-21</td><td>Ship to 72-C</td><td>288.43</td></tr>",
                            "<tr><td>Judy</td><td>Lew</td><td>Sales Manager</td><td>10362</td><td>2020-11-25</td><td>Ship to 9-B</td><td>96.04</td></tr>",
                            "<tr><td>Judy</td><td>Lew</td><td>Sales Manager</td><td>10365</td><td>2020-11-27</td><td>Destination FQFLS</td><td>22.00</td></tr>",
                            "<tr><td>Sven</td><td>Mortensen</td><td>Sales Manager</td><td>10372</td><td>2020-12-04</td><td>Ship to 62-A</td><td>890.78</td></tr>",
                            "<tr><td>Judy</td><td>Lew</td><td>Sales Manager</td><td>10375</td><td>2020-12-06</td><td>Destination HOHCR</td><td>20.12</td></tr>",
                            "<tr><td>Sven</td><td>Mortensen</td><td>Sales Manager</td><td>10378</td><td>2020-12-10</td><td>Destination KBSBN</td><td>5.44</td></tr>",
                            "<tr><td>Judy</td><td>Lew</td><td>Sales Manager</td><td>10381</td><td>2020-12-12</td><td>Ship to 46-C</td><td>7.99</td></tr>",
                            "<tr><td>Judy</td><td>Lew</td><td>Sales Manager</td><td>10384</td><td>2020-12-16</td><td>Ship to 5-C</td><td>168.64</td></tr>",
                            "<tr><td>Judy</td><td>Lew</td><td>Sales Manager</td><td>10391</td><td>2020-12-23</td><td>Destination AJTHX</td><td>5.45</td></tr>",
                            "<tr><td>Sven</td><td>Mortensen</td><td>Sales Manager</td><td>10397</td><td>2020-12-27</td><td>Ship to 60-A</td><td>60.26</td></tr>",
                            "<tr><td>Judy</td><td>Lew</td><td>Sales Manager</td><td>10409</td><td>2021-01-09</td><td>Ship to 54-C</td><td>29.83</td></tr>",
                            "<tr><td>Judy</td><td>Lew</td><td>Sales Manager</td><td>10410</td><td>2021-01-10</td><td>Destination OLSSJ</td><td>2.40</td></tr>",
                            "<tr><td>Judy</td><td>Lew</td><td>Sales Manager</td><td>10413</td><td>2021-01-14</td><td>Destination DWJIO</td><td>95.66</td></tr>",
                            "<tr><td>Judy</td><td>Lew</td><td>Sales Manager</td><td>10415</td><td>2021-01-15</td><td>Destination AWPJG</td><td>0.20</td></tr>",
                            "<tr><td>Judy</td><td>Lew</td><td>Sales Manager</td><td>10420</td><td>2021-01-21</td><td>Ship to 88-C</td><td>44.12</td></tr>",
                            "<tr><td>Judy</td><td>Lew</td><td>Sales Manager</td><td>10429</td><td>2021-01-29</td><td>Destination DGKOU</td><td>56.63</td></tr>",
                            "<tr><td>Judy</td><td>Lew</td><td>Sales Manager</td><td>10432</td><td>2021-01-31</td><td>Ship to 75-A</td><td>4.34</td></tr>",
                            "<tr><td>Judy</td><td>Lew</td><td>Sales Manager</td><td>10433</td><td>2021-02-03</td><td>Ship to 60-A</td><td>73.83</td></tr>",
                            "<tr><td>Judy</td><td>Lew</td><td>Sales Manager</td><td>10434</td><td>2021-02-03</td><td>Destination NCKKO</td><td>17.92</td></tr>",
                            "<tr><td>Judy</td><td>Lew</td><td>Sales Manager</td><td>10436</td><td>2021-02-05</td><td>Ship to 7-C</td><td>156.66</td></tr>",
                            "<tr><td>Judy</td><td>Lew</td><td>Sales Manager</td><td>10438</td><td>2021-02-06</td><td>Ship to 79-A</td><td>8.24</td></tr>",
                            "<tr><td>Judy</td><td>Lew</td><td>Sales Manager</td><td>10441</td><td>2021-02-10</td><td>Ship to 55-C</td><td>73.02</td></tr>",
                            "<tr><td>Judy</td><td>Lew</td><td>Sales Manager</td><td>10442</td><td>2021-02-11</td><td>Destination RVDMF</td><td>47.94</td></tr>",
                            "<tr><td>Judy</td><td>Lew</td><td>Sales Manager</td><td>10444</td><td>2021-02-12</td><td>Ship to 5-B</td><td>3.50</td></tr>",
                            "<tr><td>Judy</td><td>Lew</td><td>Sales Manager</td><td>10445</td><td>2021-02-13</td><td>Ship to 5-A</td><td>9.30</td></tr>",
                            "<tr><td>Judy</td><td>Lew</td><td>Sales Manager</td><td>10449</td><td>2021-02-18</td><td>Ship to 7-C</td><td>53.30</td></tr>",
                            "<tr><td>Sven</td><td>Mortensen</td><td>Sales Manager</td><td>10463</td><td>2021-03-04</td><td>Ship to 76-B</td><td>14.78</td></tr>",
                            "<tr><td>Judy</td><td>Lew</td><td>Sales Manager</td><td>10468</td><td>2021-03-07</td><td>Destination RMBHM</td><td>44.12</td></tr>",
                            "<tr><td>Sven</td><td>Mortensen</td><td>Sales Manager</td><td>10474</td><td>2021-03-13</td><td>Ship to 58-C</td><td>83.49</td></tr>",
                            "<tr><td>Sven</td><td>Mortensen</td><td>Sales Manager</td><td>10477</td><td>2021-03-17</td><td>Ship to 60-A</td><td>13.02</td></tr>",
                            "<tr><td>Judy</td><td>Lew</td><td>Sales Manager</td><td>10479</td><td>2021-03-19</td><td>Ship to 65-C</td><td>708.95</td></tr>",
                            "<tr><td>Judy</td><td>Lew</td><td>Sales Manager</td><td>10484</td><td>2021-03-24</td><td>Destination DLEUN</td><td>6.88</td></tr>",
                            "<tr><td>Judy</td><td>Lew</td><td>Sales Manager</td><td>10492</td><td>2021-04-01</td><td>Destination XJIBQ</td><td>62.89</td></tr>",
                            "<tr><td>Judy</td><td>Lew</td><td>Sales Manager</td><td>10495</td><td>2021-04-03</td><td>Ship to 42-C</td><td>4.65</td></tr>",
                            "<tr><td>Judy</td><td>Lew</td><td>Sales Manager</td><td>10505</td><td>2021-04-14</td><td>Ship to 51-B</td><td>7.13</td></tr>",
                            "<tr><td>Judy</td><td>Lew</td><td>Sales Manager</td><td>10514</td><td>2021-04-22</td><td>Destination CUVPF</td><td>789.95</td></tr>",
                            "<tr><td>Judy</td><td>Lew</td><td>Sales Manager</td><td>10517</td><td>2021-04-24</td><td>Ship to 53-A</td><td>32.07</td></tr>",
                            "<tr><td>Sven</td><td>Mortensen</td><td>Sales Manager</td><td>10529</td><td>2021-05-07</td><td>Ship to 50-B</td><td>66.69</td></tr>",
                            "<tr><td>Judy</td><td>Lew</td><td>Sales Manager</td><td>10530</td><td>2021-05-08</td><td>Ship to 59-C</td><td>339.22</td></tr>",
                            "<tr><td>Judy</td><td>Lew</td><td>Sales Manager</td><td>10536</td><td>2021-05-14</td><td>Ship to 44-B</td><td>58.88</td></tr>",
                            "<tr><td>Judy</td><td>Lew</td><td>Sales Manager</td><td>10540</td><td>2021-05-19</td><td>Ship to 63-C</td><td>1007.64</td></tr>",
                            "<tr><td>Judy</td><td>Lew</td><td>Sales Manager</td><td>10547</td><td>2021-05-23</td><td>Ship to 72-C</td><td>178.43</td></tr>",
                            "<tr><td>Judy</td><td>Lew</td><td>Sales Manager</td><td>10548</td><td>2021-05-26</td><td>Ship to 79-A</td><td>1.43</td></tr>",
                            "<tr><td>Sven</td><td>Mortensen</td><td>Sales Manager</td><td>10549</td><td>2021-05-27</td><td>Ship to 63-C</td><td>171.24</td></tr>",
                            "<tr><td>Judy</td><td>Lew</td><td>Sales Manager</td><td>10568</td><td>2021-06-13</td><td>Destination VPNNG</td><td>6.54</td></tr>",
                            "<tr><td>Sven</td><td>Mortensen</td><td>Sales Manager</td><td>10569</td><td>2021-06-16</td><td>Ship to 65-B</td><td>58.98</td></tr>",
                            "<tr><td>Judy</td><td>Lew</td><td>Sales Manager</td><td>10570</td><td>2021-06-17</td><td>Ship to 51-C</td><td>188.99</td></tr>",
                            "<tr><td>Judy</td><td>Lew</td><td>Sales Manager</td><td>10572</td><td>2021-06-18</td><td>Ship to 5-B</td><td>116.43</td></tr>",
                            "<tr><td>Sven</td><td>Mortensen</td><td>Sales Manager</td><td>10575</td><td>2021-06-20</td><td>Ship to 52-C</td><td>127.34</td></tr>",
                            "<tr><td>Judy</td><td>Lew</td><td>Sales Manager</td><td>10576</td><td>2021-06-23</td><td>Ship to 80-C</td><td>18.56</td></tr>",
                            "<tr><td>Judy</td><td>Lew</td><td>Sales Manager</td><td>10581</td><td>2021-06-26</td><td>Destination SSYXZ</td><td>3.01</td></tr>",
                            "<tr><td>Judy</td><td>Lew</td><td>Sales Manager</td><td>10582</td><td>2021-06-27</td><td>Ship to 6-A</td><td>27.71</td></tr>",
                            "<tr><td>Judy</td><td>Lew</td><td>Sales Manager</td><td>10592</td><td>2021-07-08</td><td>Ship to 44-B</td><td>32.10</td></tr>",
                            "<tr><td>Judy</td><td>Lew</td><td>Sales Manager</td><td>10594</td><td>2021-07-09</td><td>Ship to 55-B</td><td>5.24</td></tr>",
                            "<tr><td>Sven</td><td>Mortensen</td><td>Sales Manager</td><td>10607</td><td>2021-07-22</td><td>Ship to 71-C</td><td>200.24</td></tr>",
                            "<tr><td>Judy</td><td>Lew</td><td>Sales Manager</td><td>10619</td><td>2021-08-04</td><td>Ship to 51-B</td><td>91.05</td></tr>",
                            "<tr><td>Judy</td><td>Lew</td><td>Sales Manager</td><td>10625</td><td>2021-08-08</td><td>Destination QOTQA</td><td>43.90</td></tr>",
                            "<tr><td>Judy</td><td>Lew</td><td>Sales Manager</td><td>10638</td><td>2021-08-20</td><td>Ship to 47-B</td><td>158.44</td></tr>",
                            "<tr><td>Judy</td><td>Lew</td><td>Sales Manager</td><td>10644</td><td>2021-08-25</td><td>Ship to 88-A</td><td>0.14</td></tr>",
                            "<tr><td>Sven</td><td>Mortensen</td><td>Sales Manager</td><td>10648</td><td>2021-08-28</td><td>Ship to 67-C</td><td>14.25</td></tr>",
                            "<tr><td>Sven</td><td>Mortensen</td><td>Sales Manager</td><td>10649</td><td>2021-08-28</td><td>Ship to 50-B</td><td>6.20</td></tr>",
                            "<tr><td>Sven</td><td>Mortensen</td><td>Sales Manager</td><td>10650</td><td>2021-08-29</td><td>Destination SSYXZ</td><td>176.81</td></tr>",
                            "<tr><td>Sven</td><td>Mortensen</td><td>Sales Manager</td><td>10654</td><td>2021-09-02</td><td>Ship to 5-C</td><td>55.26</td></tr>",
                            "<tr><td>Judy</td><td>Lew</td><td>Sales Manager</td><td>10662</td><td>2021-09-09</td><td>Ship to 48-C</td><td>1.28</td></tr>",
                            "<tr><td>Sven</td><td>Mortensen</td><td>Sales Manager</td><td>10675</td><td>2021-09-19</td><td>Destination WEGWI</td><td>31.85</td></tr>",
                            "<tr><td>Judy</td><td>Lew</td><td>Sales Manager</td><td>10681</td><td>2021-09-25</td><td>Destination AVQUS</td><td>76.13</td></tr>",
                            "<tr><td>Judy</td><td>Lew</td><td>Sales Manager</td><td>10682</td><td>2021-09-25</td><td>Destination RTGIS</td><td>36.13</td></tr>",
                            "<tr><td>Judy</td><td>Lew</td><td>Sales Manager</td><td>10684</td><td>2021-09-26</td><td>Ship to 56-B</td><td>145.63</td></tr>",
                            "<tr><td>Judy</td><td>Lew</td><td>Sales Manager</td><td>10693</td><td>2021-10-06</td><td>Ship to 89-C</td><td>139.34</td></tr>",
                            "<tr><td>Judy</td><td>Lew</td><td>Sales Manager</td><td>10697</td><td>2021-10-08</td><td>Ship to 47-B</td><td>45.52</td></tr>",
                            "<tr><td>Judy</td><td>Lew</td><td>Sales Manager</td><td>10699</td><td>2021-10-09</td><td>Ship to 52-B</td><td>0.58</td></tr>",
                            "<tr><td>Judy</td><td>Lew</td><td>Sales Manager</td><td>10700</td><td>2021-10-10</td><td>Ship to 71-C</td><td>65.10</td></tr>",
                            "<tr><td>Sven</td><td>Mortensen</td><td>Sales Manager</td><td>10711</td><td>2021-10-21</td><td>Ship to 71-A</td><td>52.41</td></tr>",
                            "<tr><td>Judy</td><td>Lew</td><td>Sales Manager</td><td>10712</td><td>2021-10-21</td><td>Destination KPVYJ</td><td>89.93</td></tr>",
                            "<tr><td>Sven</td><td>Mortensen</td><td>Sales Manager</td><td>10714</td><td>2021-10-22</td><td>Ship to 71-A</td><td>24.49</td></tr>",
                            "<tr><td>Judy</td><td>Lew</td><td>Sales Manager</td><td>10715</td><td>2021-10-23</td><td>Ship to 9-B</td><td>63.20</td></tr>",
                            "<tr><td>Sven</td><td>Mortensen</td><td>Sales Manager</td><td>10721</td><td>2021-10-29</td><td>Ship to 63-A</td><td>48.92</td></tr>",
                            "<tr><td>Judy</td><td>Lew</td><td>Sales Manager</td><td>10723</td><td>2021-10-30</td><td>Ship to 89-C</td><td>21.72</td></tr>",
                            "<tr><td>Sven</td><td>Mortensen</td><td>Sales Manager</td><td>10730</td><td>2021-11-05</td><td>Ship to 9-A</td><td>20.12</td></tr>",
                            "<tr><td>Judy</td><td>Lew</td><td>Sales Manager</td><td>10732</td><td>2021-11-06</td><td>Ship to 9-A</td><td>16.97</td></tr>",
                            "<tr><td>Judy</td><td>Lew</td><td>Sales Manager</td><td>10739</td><td>2021-11-12</td><td>Ship to 85-C</td><td>11.08</td></tr>",
                            "<tr><td>Judy</td><td>Lew</td><td>Sales Manager</td><td>10742</td><td>2021-11-14</td><td>Destination LPHSI</td><td>243.73</td></tr>",
                            "<tr><td>Judy</td><td>Lew</td><td>Sales Manager</td><td>10748</td><td>2021-11-20</td><td>Ship to 71-B</td><td>232.55</td></tr>",
                            "<tr><td>Judy</td><td>Lew</td><td>Sales Manager</td><td>10751</td><td>2021-11-24</td><td>Ship to 68-A</td><td>130.79</td></tr>",
                            "<tr><td>Judy</td><td>Lew</td><td>Sales Manager</td><td>10753</td><td>2021-11-25</td><td>Destination DICGM</td><td>7.70</td></tr>",
                            "<tr><td>Judy</td><td>Lew</td><td>Sales Manager</td><td>10758</td><td>2021-11-28</td><td>Ship to 68-C</td><td>138.17</td></tr>",
                            "<tr><td>Judy</td><td>Lew</td><td>Sales Manager</td><td>10759</td><td>2021-11-28</td><td>Destination QOTQA</td><td>11.99</td></tr>",
                            "<tr><td>Sven</td><td>Mortensen</td><td>Sales Manager</td><td>10761</td><td>2021-12-02</td><td>Ship to 65-B</td><td>18.66</td></tr>",
                            "<tr><td>Judy</td><td>Lew</td><td>Sales Manager</td><td>10762</td><td>2021-12-02</td><td>Destination YCMPK</td><td>328.74</td></tr>",
                            "<tr><td>Judy</td><td>Lew</td><td>Sales Manager</td><td>10763</td><td>2021-12-03</td><td>Destination PXQRR</td><td>37.35</td></tr>",
                            "<tr><td>Judy</td><td>Lew</td><td>Sales Manager</td><td>10765</td><td>2021-12-04</td><td>Ship to 63-A</td><td>42.74</td></tr>",
                            "<tr><td>Judy</td><td>Lew</td><td>Sales Manager</td><td>10768</td><td>2021-12-08</td><td>Ship to 4-B</td><td>146.32</td></tr>",
                            "<tr><td>Judy</td><td>Lew</td><td>Sales Manager</td><td>10769</td><td>2021-12-08</td><td>Ship to 83-C</td><td>65.06</td></tr>",
                            "<tr><td>Judy</td><td>Lew</td><td>Sales Manager</td><td>10772</td><td>2021-12-10</td><td>Ship to 44-B</td><td>91.28</td></tr>",
                            "<tr><td>Judy</td><td>Lew</td><td>Sales Manager</td><td>10778</td><td>2021-12-16</td><td>Ship to 5-A</td><td>6.79</td></tr>",
                            "<tr><td>Judy</td><td>Lew</td><td>Sales Manager</td><td>10779</td><td>2021-12-16</td><td>Ship to 52-A</td><td>58.13</td></tr>",
                            "<tr><td>Judy</td><td>Lew</td><td>Sales Manager</td><td>10793</td><td>2021-12-24</td><td>Ship to 4-B</td><td>4.52</td></tr>",
                            "<tr><td>Judy</td><td>Lew</td><td>Sales Manager</td><td>10796</td><td>2021-12-25</td><td>Destination UOUWK</td><td>26.52</td></tr>",
                            "<tr><td>Judy</td><td>Lew</td><td>Sales Manager</td><td>10806</td><td>2021-12-31</td><td>Ship to 84-C</td><td>22.11</td></tr>",
                            "<tr><td>Sven</td><td>Mortensen</td><td>Sales Manager</td><td>10812</td><td>2022-01-02</td><td>Ship to 66-B</td><td>59.78</td></tr>",
                            "<tr><td>Judy</td><td>Lew</td><td>Sales Manager</td><td>10814</td><td>2022-01-05</td><td>Ship to 84-B</td><td>130.94</td></tr>",
                            "<tr><td>Judy</td><td>Lew</td><td>Sales Manager</td><td>10817</td><td>2022-01-06</td><td>Destination RMBHM</td><td>306.07</td></tr>",
                            "<tr><td>Judy</td><td>Lew</td><td>Sales Manager</td><td>10820</td><td>2022-01-07</td><td>Ship to 65-B</td><td>37.52</td></tr>",
                            "<tr><td>Sven</td><td>Mortensen</td><td>Sales Manager</td><td>10823</td><td>2022-01-09</td><td>Ship to 46-A</td><td>163.97</td></tr>",
                            "<tr><td>Judy</td><td>Lew</td><td>Sales Manager</td><td>10831</td><td>2022-01-14</td><td>Ship to 70-B</td><td>72.19</td></tr>",
                            "<tr><td>Judy</td><td>Lew</td><td>Sales Manager</td><td>10838</td><td>2022-01-19</td><td>Ship to 47-A</td><td>59.28</td></tr>",
                            "<tr><td>Judy</td><td>Lew</td><td>Sales Manager</td><td>10839</td><td>2022-01-19</td><td>Ship to 81-C</td><td>35.43</td></tr>",
                            "<tr><td>Sven</td><td>Mortensen</td><td>Sales Manager</td><td>10841</td><td>2022-01-20</td><td>Ship to 76-B</td><td>424.30</td></tr>",
                            "<tr><td>Sven</td><td>Mortensen</td><td>Sales Manager</td><td>10851</td><td>2022-01-26</td><td>Ship to 67-C</td><td>160.55</td></tr>",
                            "<tr><td>Judy</td><td>Lew</td><td>Sales Manager</td><td>10854</td><td>2022-01-27</td><td>Destination CUVPF</td><td>100.22</td></tr>",
                            "<tr><td>Judy</td><td>Lew</td><td>Sales Manager</td><td>10855</td><td>2022-01-27</td><td>Ship to 55-A</td><td>170.97</td></tr>",
                            "<tr><td>Judy</td><td>Lew</td><td>Sales Manager</td><td>10856</td><td>2022-01-28</td><td>Destination FQFLS</td><td>58.43</td></tr>",
                            "<tr><td>Judy</td><td>Lew</td><td>Sales Manager</td><td>10860</td><td>2022-01-29</td><td>Destination XBVKN</td><td>19.26</td></tr>",
                            "<tr><td>Sven</td><td>Mortensen</td><td>Sales Manager</td><td>10866</td><td>2022-02-03</td><td>Ship to 5-B</td><td>109.11</td></tr>",
                            "<tr><td>Sven</td><td>Mortensen</td><td>Sales Manager</td><td>10869</td><td>2022-02-04</td><td>Ship to 72-A</td><td>143.28</td></tr>",
                            "<tr><td>Sven</td><td>Mortensen</td><td>Sales Manager</td><td>10870</td><td>2022-02-04</td><td>Ship to 91-A</td><td>12.04</td></tr>",
                            "<tr><td>Sven</td><td>Mortensen</td><td>Sales Manager</td><td>10872</td><td>2022-02-05</td><td>Destination GGQIR</td><td>175.32</td></tr>",
                            "<tr><td>Sven</td><td>Mortensen</td><td>Sales Manager</td><td>10874</td><td>2022-02-06</td><td>Destination IIYDD</td><td>19.58</td></tr>",
                            "<tr><td>Judy</td><td>Lew</td><td>Sales Manager</td><td>10879</td><td>2022-02-10</td><td>Ship to 90-A</td><td>8.50</td></tr>",
                            "<tr><td>Judy</td><td>Lew</td><td>Sales Manager</td><td>10895</td><td>2022-02-18</td><td>Destination CUVPF</td><td>162.75</td></tr>",
                            "<tr><td>Judy</td><td>Lew</td><td>Sales Manager</td><td>10897</td><td>2022-02-19</td><td>Destination DGKOU</td><td>603.54</td></tr>",
                            "<tr><td>Sven</td><td>Mortensen</td><td>Sales Manager</td><td>10899</td><td>2022-02-20</td><td>Ship to 46-C</td><td>1.21</td></tr>",
                            "<tr><td>Judy</td><td>Lew</td><td>Sales Manager</td><td>10903</td><td>2022-02-24</td><td>Destination DPCVR</td><td>36.71</td></tr>",
                            "<tr><td>Judy</td><td>Lew</td><td>Sales Manager</td><td>10904</td><td>2022-02-24</td><td>Ship to 89-A</td><td>162.95</td></tr>",
                            "<tr><td>Judy</td><td>Lew</td><td>Sales Manager</td><td>10911</td><td>2022-02-26</td><td>Destination IIYDD</td><td>38.19</td></tr>",
                            "<tr><td>Judy</td><td>Lew</td><td>Sales Manager</td><td>10918</td><td>2022-03-02</td><td>Destination OLSSJ</td><td>48.83</td></tr>",
                            "<tr><td>Sven</td><td>Mortensen</td><td>Sales Manager</td><td>10922</td><td>2022-03-03</td><td>Destination DPCVR</td><td>62.74</td></tr>",
                            "<tr><td>Judy</td><td>Lew</td><td>Sales Manager</td><td>10924</td><td>2022-03-04</td><td>Ship to 5-A</td><td>151.52</td></tr>",
                            "<tr><td>Judy</td><td>Lew</td><td>Sales Manager</td><td>10925</td><td>2022-03-04</td><td>Destination JPAIY</td><td>2.27</td></tr>",
                            "<tr><td>Judy</td><td>Lew</td><td>Sales Manager</td><td>10934</td><td>2022-03-09</td><td>Ship to 44-C</td><td>32.01</td></tr>",
                            "<tr><td>Judy</td><td>Lew</td><td>Sales Manager</td><td>10936</td><td>2022-03-09</td><td>Destination AVQUS</td><td>33.68</td></tr>",
                            "<tr><td>Judy</td><td>Lew</td><td>Sales Manager</td><td>10938</td><td>2022-03-10</td><td>Ship to 63-C</td><td>31.89</td></tr>",
                            "<tr><td>Judy</td><td>Lew</td><td>Sales Manager</td><td>10947</td><td>2022-03-13</td><td>Destination NZASL</td><td>3.26</td></tr>",
                            "<tr><td>Judy</td><td>Lew</td><td>Sales Manager</td><td>10948</td><td>2022-03-13</td><td>Destination GGQIR</td><td>23.39</td></tr>",
                            "<tr><td>Sven</td><td>Mortensen</td><td>Sales Manager</td><td>10954</td><td>2022-03-17</td><td>Ship to 47-B</td><td>27.91</td></tr>",
                            "<tr><td>Judy</td><td>Lew</td><td>Sales Manager</td><td>10960</td><td>2022-03-19</td><td>Destination SXYQX</td><td>2.08</td></tr>",
                            "<tr><td>Judy</td><td>Lew</td><td>Sales Manager</td><td>10964</td><td>2022-03-20</td><td>Ship to 74-B</td><td>87.38</td></tr>",
                            "<tr><td>Judy</td><td>Lew</td><td>Sales Manager</td><td>10974</td><td>2022-03-25</td><td>Ship to 75-B</td><td>12.96</td></tr>",
                            "<tr><td>Judy</td><td>Lew</td><td>Sales Manager</td><td>10988</td><td>2022-03-31</td><td>Ship to 65-A</td><td>61.14</td></tr>",
                            "<tr><td>Judy</td><td>Lew</td><td>Sales Manager</td><td>11003</td><td>2022-04-06</td><td>Ship to 78-B</td><td>14.91</td></tr>",
                            "<tr><td>Judy</td><td>Lew</td><td>Sales Manager</td><td>11004</td><td>2022-04-07</td><td>Ship to 50-C</td><td>44.84</td></tr>",
                            "<tr><td>Judy</td><td>Lew</td><td>Sales Manager</td><td>11006</td><td>2022-04-07</td><td>Destination LLUXZ</td><td>25.19</td></tr>",
                            "<tr><td>Judy</td><td>Lew</td><td>Sales Manager</td><td>11011</td><td>2022-04-09</td><td>Destination LOUIE</td><td>1.21</td></tr>",
                            "<tr><td>Judy</td><td>Lew</td><td>Sales Manager</td><td>11021</td><td>2022-04-14</td><td>Ship to 63-B</td><td>297.18</td></tr>",
                            "<tr><td>Judy</td><td>Lew</td><td>Sales Manager</td><td>11041</td><td>2022-04-22</td><td>Destination YUJRD</td><td>48.22</td></tr>",
                            "<tr><td>Sven</td><td>Mortensen</td><td>Sales Manager</td><td>11043</td><td>2022-04-22</td><td>Ship to 74-B</td><td>8.80</td></tr>",
                            "<tr><td>Judy</td><td>Lew</td><td>Sales Manager</td><td>11049</td><td>2022-04-24</td><td>Destination XOIGC</td><td>8.34</td></tr>",
                            "<tr><td>Judy</td><td>Lew</td><td>Sales Manager</td><td>11052</td><td>2022-04-27</td><td>Destination DPCVR</td><td>67.26</td></tr>",
                            "<tr><td>Judy</td><td>Lew</td><td>Sales Manager</td><td>11057</td><td>2022-04-29</td><td>Ship to 53-C</td><td>4.13</td></tr>",
                            "<tr><td>Judy</td><td>Lew</td><td>Sales Manager</td><td>11063</td><td>2022-04-30</td><td>Destination KPVYJ</td><td>81.73</td></tr>",
                            "</table>"
                        ]
                    }
                },
                {
                    "output_type": "execute_result",
                    "metadata": {},
                    "execution_count": 3,
                    "data": {
                        "application/vnd.dataresource+json": {
                            "schema": {
                                "fields": [
                                    {
                                        "name": "EmployeeId"
                                    },
                                    {
                                        "name": "EmployeeFirstName"
                                    },
                                    {
                                        "name": "EmployeeLastName"
                                    },
                                    {
                                        "name": "EmployeeTitle"
                                    },
                                    {
                                        "name": "HireDate"
                                    },
                                    {
                                        "name": "BirthDate"
                                    }
                                ]
                            },
                            "data": [
                                {
                                    "EmployeeId": "3",
                                    "EmployeeFirstName": "Judy",
                                    "EmployeeLastName": "Lew",
                                    "EmployeeTitle": "Sales Manager",
                                    "HireDate": "2020-04-01",
                                    "BirthDate": "1983-08-30"
                                },
                                {
                                    "EmployeeId": "5",
                                    "EmployeeFirstName": "Sven",
                                    "EmployeeLastName": "Mortensen",
                                    "EmployeeTitle": "Sales Manager",
                                    "HireDate": "2021-10-17",
                                    "BirthDate": "1975-03-04"
                                }
                            ]
                        },
                        "text/html": [
                            "<table>",
                            "<tr><th>EmployeeId</th><th>EmployeeFirstName</th><th>EmployeeLastName</th><th>EmployeeTitle</th><th>HireDate</th><th>BirthDate</th></tr>",
                            "<tr><td>3</td><td>Judy</td><td>Lew</td><td>Sales Manager</td><td>2020-04-01</td><td>1983-08-30</td></tr>",
                            "<tr><td>5</td><td>Sven</td><td>Mortensen</td><td>Sales Manager</td><td>2021-10-17</td><td>1975-03-04</td></tr>",
                            "</table>"
                        ]
                    }
                }
            ],
            "execution_count": 3
        },
        {
            "cell_type": "markdown",
            "source": [
                "## <span style=\"color:darkred;\">**Case #002: The VIP Shipment Mystery**</span>\n",
                "\n",
                "<p style=\"color:gray; font-size:14px;\"><b>Story:</b>  \n",
                "At NextGen Tech Supply, a VIP client has been placing unusually large shipments across multiple product lines.  \n",
                "Some orders seem split strategically, making inventory reconciliation tricky.</p>\n",
                "\n",
                "<p style=\"color:gray; font-size:14px;\"><b>Objectives:</b></p>\n",
                "<ul style=\"color:darkgreen; font-size:14px;\">\n",
                "<li>Find the customer with the most orders.</li>\n",
                "<li>Identify the employees handling orders for this VIP customer.</li>\n",
                "<li>Verify employee roles (ensure they are managers).</li>\n",
                "</ul>\n",
                "\n",
                "<p style=\"color:darkorange; font-size:14px;\"><b>Hint:</b> Look at employees linked to the top customer.</p>\n",
                ""
            ],
            "metadata": {
                "language": "",
                "azdata_cell_guid": "4b65840b-bf2c-4096-92e6-1786899c295a"
            },
            "attachments": {}
        },
        {
            "cell_type": "code",
            "source": [
                "SELECT \n",
                "    so.CustomerId,\n",
                "    COUNT(DISTINCT so.OrderId) AS NumberOfOrders\n",
                "FROM Sales.[Order] AS so\n",
                "JOIN Sales.OrderDetail od ON so.OrderId = od.OrderId\n",
                "GROUP BY so.CustomerId\n",
                "ORDER BY NumberOfOrders DESC;\n",
                "\n",
                "SELECT DISTINCT hre.EmployeeId, hre.EmployeeLastName, hre.EmployeeFirstName\n",
                "FROM HumanResources.Employee AS hre\n",
                "JOIN Sales.[Order] o ON hre.EmployeeId = o.EmployeeId\n",
                "WHERE o.CustomerId = 71;\n",
                "\n",
                "SELECT hre.EmployeeId, hre.EmployeeLastName, hre.EmployeeFirstName, hre.EmployeeTitle\n",
                "FROM HumanResources.Employee as hre\n",
                "WHERE EmployeeId IN (\n",
                "    SELECT DISTINCT e.EmployeeId\n",
                "    FROM HumanResources.Employee AS e\n",
                "    JOIN Sales.[Order] o ON e.EmployeeId = o.EmployeeId\n",
                "    WHERE o.CustomerId = 71\n",
                ");\n",
                ""
            ],
            "metadata": {
                "language": "sql",
                "azdata_cell_guid": "85790f0f-8692-45b8-98a8-3fcd0bce41e5"
            },
            "outputs": [
                {
                    "output_type": "display_data",
                    "data": {
                        "text/html": "(89 rows affected)"
                    },
                    "metadata": {}
                },
                {
                    "output_type": "display_data",
                    "data": {
                        "text/html": "(9 rows affected)"
                    },
                    "metadata": {}
                },
                {
                    "output_type": "display_data",
                    "data": {
                        "text/html": "(9 rows affected)"
                    },
                    "metadata": {}
                },
                {
                    "output_type": "display_data",
                    "data": {
                        "text/html": "Total execution time: 00:00:00.007"
                    },
                    "metadata": {}
                },
                {
                    "output_type": "execute_result",
                    "execution_count": 10,
                    "data": {
                        "application/vnd.dataresource+json": {
                            "schema": {
                                "fields": [
                                    {
                                        "name": "CustomerId"
                                    },
                                    {
                                        "name": "NumberOfOrders"
                                    }
                                ]
                            },
                            "data": [
                                {
                                    "CustomerId": "71",
                                    "NumberOfOrders": "31"
                                },
                                {
                                    "CustomerId": "20",
                                    "NumberOfOrders": "30"
                                },
                                {
                                    "CustomerId": "63",
                                    "NumberOfOrders": "28"
                                },
                                {
                                    "CustomerId": "24",
                                    "NumberOfOrders": "19"
                                },
                                {
                                    "CustomerId": "37",
                                    "NumberOfOrders": "19"
                                },
                                {
                                    "CustomerId": "35",
                                    "NumberOfOrders": "18"
                                },
                                {
                                    "CustomerId": "5",
                                    "NumberOfOrders": "18"
                                },
                                {
                                    "CustomerId": "65",
                                    "NumberOfOrders": "18"
                                },
                                {
                                    "CustomerId": "9",
                                    "NumberOfOrders": "17"
                                },
                                {
                                    "CustomerId": "25",
                                    "NumberOfOrders": "15"
                                },
                                {
                                    "CustomerId": "44",
                                    "NumberOfOrders": "15"
                                },
                                {
                                    "CustomerId": "87",
                                    "NumberOfOrders": "15"
                                },
                                {
                                    "CustomerId": "89",
                                    "NumberOfOrders": "14"
                                },
                                {
                                    "CustomerId": "46",
                                    "NumberOfOrders": "14"
                                },
                                {
                                    "CustomerId": "39",
                                    "NumberOfOrders": "14"
                                },
                                {
                                    "CustomerId": "41",
                                    "NumberOfOrders": "14"
                                },
                                {
                                    "CustomerId": "34",
                                    "NumberOfOrders": "14"
                                },
                                {
                                    "CustomerId": "10",
                                    "NumberOfOrders": "14"
                                },
                                {
                                    "CustomerId": "4",
                                    "NumberOfOrders": "13"
                                },
                                {
                                    "CustomerId": "51",
                                    "NumberOfOrders": "13"
                                },
                                {
                                    "CustomerId": "62",
                                    "NumberOfOrders": "13"
                                },
                                {
                                    "CustomerId": "66",
                                    "NumberOfOrders": "12"
                                },
                                {
                                    "CustomerId": "47",
                                    "NumberOfOrders": "12"
                                },
                                {
                                    "CustomerId": "76",
                                    "NumberOfOrders": "12"
                                },
                                {
                                    "CustomerId": "83",
                                    "NumberOfOrders": "11"
                                },
                                {
                                    "CustomerId": "67",
                                    "NumberOfOrders": "11"
                                },
                                {
                                    "CustomerId": "7",
                                    "NumberOfOrders": "11"
                                },
                                {
                                    "CustomerId": "32",
                                    "NumberOfOrders": "11"
                                },
                                {
                                    "CustomerId": "30",
                                    "NumberOfOrders": "10"
                                },
                                {
                                    "CustomerId": "38",
                                    "NumberOfOrders": "10"
                                },
                                {
                                    "CustomerId": "11",
                                    "NumberOfOrders": "10"
                                },
                                {
                                    "CustomerId": "68",
                                    "NumberOfOrders": "10"
                                },
                                {
                                    "CustomerId": "59",
                                    "NumberOfOrders": "10"
                                },
                                {
                                    "CustomerId": "49",
                                    "NumberOfOrders": "10"
                                },
                                {
                                    "CustomerId": "55",
                                    "NumberOfOrders": "10"
                                },
                                {
                                    "CustomerId": "56",
                                    "NumberOfOrders": "10"
                                },
                                {
                                    "CustomerId": "84",
                                    "NumberOfOrders": "10"
                                },
                                {
                                    "CustomerId": "86",
                                    "NumberOfOrders": "10"
                                },
                                {
                                    "CustomerId": "80",
                                    "NumberOfOrders": "10"
                                },
                                {
                                    "CustomerId": "88",
                                    "NumberOfOrders": "9"
                                },
                                {
                                    "CustomerId": "61",
                                    "NumberOfOrders": "9"
                                },
                                {
                                    "CustomerId": "75",
                                    "NumberOfOrders": "9"
                                },
                                {
                                    "CustomerId": "72",
                                    "NumberOfOrders": "9"
                                },
                                {
                                    "CustomerId": "31",
                                    "NumberOfOrders": "9"
                                },
                                {
                                    "CustomerId": "19",
                                    "NumberOfOrders": "8"
                                },
                                {
                                    "CustomerId": "28",
                                    "NumberOfOrders": "8"
                                },
                                {
                                    "CustomerId": "14",
                                    "NumberOfOrders": "8"
                                },
                                {
                                    "CustomerId": "48",
                                    "NumberOfOrders": "8"
                                },
                                {
                                    "CustomerId": "50",
                                    "NumberOfOrders": "7"
                                },
                                {
                                    "CustomerId": "73",
                                    "NumberOfOrders": "7"
                                },
                                {
                                    "CustomerId": "6",
                                    "NumberOfOrders": "7"
                                },
                                {
                                    "CustomerId": "3",
                                    "NumberOfOrders": "7"
                                },
                                {
                                    "CustomerId": "21",
                                    "NumberOfOrders": "7"
                                },
                                {
                                    "CustomerId": "90",
                                    "NumberOfOrders": "7"
                                },
                                {
                                    "CustomerId": "91",
                                    "NumberOfOrders": "7"
                                },
                                {
                                    "CustomerId": "81",
                                    "NumberOfOrders": "6"
                                },
                                {
                                    "CustomerId": "79",
                                    "NumberOfOrders": "6"
                                },
                                {
                                    "CustomerId": "27",
                                    "NumberOfOrders": "6"
                                },
                                {
                                    "CustomerId": "1",
                                    "NumberOfOrders": "6"
                                },
                                {
                                    "CustomerId": "17",
                                    "NumberOfOrders": "6"
                                },
                                {
                                    "CustomerId": "12",
                                    "NumberOfOrders": "6"
                                },
                                {
                                    "CustomerId": "70",
                                    "NumberOfOrders": "6"
                                },
                                {
                                    "CustomerId": "58",
                                    "NumberOfOrders": "6"
                                },
                                {
                                    "CustomerId": "54",
                                    "NumberOfOrders": "5"
                                },
                                {
                                    "CustomerId": "52",
                                    "NumberOfOrders": "5"
                                },
                                {
                                    "CustomerId": "64",
                                    "NumberOfOrders": "5"
                                },
                                {
                                    "CustomerId": "60",
                                    "NumberOfOrders": "5"
                                },
                                {
                                    "CustomerId": "69",
                                    "NumberOfOrders": "5"
                                },
                                {
                                    "CustomerId": "15",
                                    "NumberOfOrders": "5"
                                },
                                {
                                    "CustomerId": "29",
                                    "NumberOfOrders": "5"
                                },
                                {
                                    "CustomerId": "23",
                                    "NumberOfOrders": "5"
                                },
                                {
                                    "CustomerId": "36",
                                    "NumberOfOrders": "5"
                                },
                                {
                                    "CustomerId": "85",
                                    "NumberOfOrders": "5"
                                },
                                {
                                    "CustomerId": "77",
                                    "NumberOfOrders": "4"
                                },
                                {
                                    "CustomerId": "18",
                                    "NumberOfOrders": "4"
                                },
                                {
                                    "CustomerId": "2",
                                    "NumberOfOrders": "4"
                                },
                                {
                                    "CustomerId": "74",
                                    "NumberOfOrders": "4"
                                },
                                {
                                    "CustomerId": "45",
                                    "NumberOfOrders": "4"
                                },
                                {
                                    "CustomerId": "40",
                                    "NumberOfOrders": "4"
                                },
                                {
                                    "CustomerId": "42",
                                    "NumberOfOrders": "3"
                                },
                                {
                                    "CustomerId": "53",
                                    "NumberOfOrders": "3"
                                },
                                {
                                    "CustomerId": "8",
                                    "NumberOfOrders": "3"
                                },
                                {
                                    "CustomerId": "16",
                                    "NumberOfOrders": "3"
                                },
                                {
                                    "CustomerId": "26",
                                    "NumberOfOrders": "3"
                                },
                                {
                                    "CustomerId": "78",
                                    "NumberOfOrders": "3"
                                },
                                {
                                    "CustomerId": "82",
                                    "NumberOfOrders": "3"
                                },
                                {
                                    "CustomerId": "33",
                                    "NumberOfOrders": "2"
                                },
                                {
                                    "CustomerId": "43",
                                    "NumberOfOrders": "2"
                                },
                                {
                                    "CustomerId": "13",
                                    "NumberOfOrders": "1"
                                }
                            ]
                        },
                        "text/html": "<table><tr><th>CustomerId</th><th>NumberOfOrders</th></tr><tr><td>71</td><td>31</td></tr><tr><td>20</td><td>30</td></tr><tr><td>63</td><td>28</td></tr><tr><td>24</td><td>19</td></tr><tr><td>37</td><td>19</td></tr><tr><td>35</td><td>18</td></tr><tr><td>5</td><td>18</td></tr><tr><td>65</td><td>18</td></tr><tr><td>9</td><td>17</td></tr><tr><td>25</td><td>15</td></tr><tr><td>44</td><td>15</td></tr><tr><td>87</td><td>15</td></tr><tr><td>89</td><td>14</td></tr><tr><td>46</td><td>14</td></tr><tr><td>39</td><td>14</td></tr><tr><td>41</td><td>14</td></tr><tr><td>34</td><td>14</td></tr><tr><td>10</td><td>14</td></tr><tr><td>4</td><td>13</td></tr><tr><td>51</td><td>13</td></tr><tr><td>62</td><td>13</td></tr><tr><td>66</td><td>12</td></tr><tr><td>47</td><td>12</td></tr><tr><td>76</td><td>12</td></tr><tr><td>83</td><td>11</td></tr><tr><td>67</td><td>11</td></tr><tr><td>7</td><td>11</td></tr><tr><td>32</td><td>11</td></tr><tr><td>30</td><td>10</td></tr><tr><td>38</td><td>10</td></tr><tr><td>11</td><td>10</td></tr><tr><td>68</td><td>10</td></tr><tr><td>59</td><td>10</td></tr><tr><td>49</td><td>10</td></tr><tr><td>55</td><td>10</td></tr><tr><td>56</td><td>10</td></tr><tr><td>84</td><td>10</td></tr><tr><td>86</td><td>10</td></tr><tr><td>80</td><td>10</td></tr><tr><td>88</td><td>9</td></tr><tr><td>61</td><td>9</td></tr><tr><td>75</td><td>9</td></tr><tr><td>72</td><td>9</td></tr><tr><td>31</td><td>9</td></tr><tr><td>19</td><td>8</td></tr><tr><td>28</td><td>8</td></tr><tr><td>14</td><td>8</td></tr><tr><td>48</td><td>8</td></tr><tr><td>50</td><td>7</td></tr><tr><td>73</td><td>7</td></tr><tr><td>6</td><td>7</td></tr><tr><td>3</td><td>7</td></tr><tr><td>21</td><td>7</td></tr><tr><td>90</td><td>7</td></tr><tr><td>91</td><td>7</td></tr><tr><td>81</td><td>6</td></tr><tr><td>79</td><td>6</td></tr><tr><td>27</td><td>6</td></tr><tr><td>1</td><td>6</td></tr><tr><td>17</td><td>6</td></tr><tr><td>12</td><td>6</td></tr><tr><td>70</td><td>6</td></tr><tr><td>58</td><td>6</td></tr><tr><td>54</td><td>5</td></tr><tr><td>52</td><td>5</td></tr><tr><td>64</td><td>5</td></tr><tr><td>60</td><td>5</td></tr><tr><td>69</td><td>5</td></tr><tr><td>15</td><td>5</td></tr><tr><td>29</td><td>5</td></tr><tr><td>23</td><td>5</td></tr><tr><td>36</td><td>5</td></tr><tr><td>85</td><td>5</td></tr><tr><td>77</td><td>4</td></tr><tr><td>18</td><td>4</td></tr><tr><td>2</td><td>4</td></tr><tr><td>74</td><td>4</td></tr><tr><td>45</td><td>4</td></tr><tr><td>40</td><td>4</td></tr><tr><td>42</td><td>3</td></tr><tr><td>53</td><td>3</td></tr><tr><td>8</td><td>3</td></tr><tr><td>16</td><td>3</td></tr><tr><td>26</td><td>3</td></tr><tr><td>78</td><td>3</td></tr><tr><td>82</td><td>3</td></tr><tr><td>33</td><td>2</td></tr><tr><td>43</td><td>2</td></tr><tr><td>13</td><td>1</td></tr></table>"
                    },
                    "metadata": {}
                },
                {
                    "output_type": "execute_result",
                    "execution_count": 10,
                    "data": {
                        "application/vnd.dataresource+json": {
                            "schema": {
                                "fields": [
                                    {
                                        "name": "EmployeeId"
                                    },
                                    {
                                        "name": "EmployeeLastName"
                                    },
                                    {
                                        "name": "EmployeeFirstName"
                                    }
                                ]
                            },
                            "data": [
                                {
                                    "EmployeeId": "1",
                                    "EmployeeLastName": "Davis",
                                    "EmployeeFirstName": "Sara"
                                },
                                {
                                    "EmployeeId": "2",
                                    "EmployeeLastName": "Funk",
                                    "EmployeeFirstName": "Don"
                                },
                                {
                                    "EmployeeId": "3",
                                    "EmployeeLastName": "Lew",
                                    "EmployeeFirstName": "Judy"
                                },
                                {
                                    "EmployeeId": "4",
                                    "EmployeeLastName": "Peled",
                                    "EmployeeFirstName": "Yael"
                                },
                                {
                                    "EmployeeId": "5",
                                    "EmployeeLastName": "Mortensen",
                                    "EmployeeFirstName": "Sven"
                                },
                                {
                                    "EmployeeId": "6",
                                    "EmployeeLastName": "Suurs",
                                    "EmployeeFirstName": "Paul"
                                },
                                {
                                    "EmployeeId": "7",
                                    "EmployeeLastName": "King",
                                    "EmployeeFirstName": "Russell"
                                },
                                {
                                    "EmployeeId": "8",
                                    "EmployeeLastName": "Cameron",
                                    "EmployeeFirstName": "Maria"
                                },
                                {
                                    "EmployeeId": "9",
                                    "EmployeeLastName": "Doyle",
                                    "EmployeeFirstName": "Patricia"
                                }
                            ]
                        },
                        "text/html": "<table><tr><th>EmployeeId</th><th>EmployeeLastName</th><th>EmployeeFirstName</th></tr><tr><td>1</td><td>Davis</td><td>Sara</td></tr><tr><td>2</td><td>Funk</td><td>Don</td></tr><tr><td>3</td><td>Lew</td><td>Judy</td></tr><tr><td>4</td><td>Peled</td><td>Yael</td></tr><tr><td>5</td><td>Mortensen</td><td>Sven</td></tr><tr><td>6</td><td>Suurs</td><td>Paul</td></tr><tr><td>7</td><td>King</td><td>Russell</td></tr><tr><td>8</td><td>Cameron</td><td>Maria</td></tr><tr><td>9</td><td>Doyle</td><td>Patricia</td></tr></table>"
                    },
                    "metadata": {}
                },
                {
                    "output_type": "execute_result",
                    "execution_count": 10,
                    "data": {
                        "application/vnd.dataresource+json": {
                            "schema": {
                                "fields": [
                                    {
                                        "name": "EmployeeId"
                                    },
                                    {
                                        "name": "EmployeeLastName"
                                    },
                                    {
                                        "name": "EmployeeFirstName"
                                    },
                                    {
                                        "name": "EmployeeTitle"
                                    }
                                ]
                            },
                            "data": [
                                {
                                    "EmployeeId": "1",
                                    "EmployeeLastName": "Davis",
                                    "EmployeeFirstName": "Sara",
                                    "EmployeeTitle": "CEO"
                                },
                                {
                                    "EmployeeId": "2",
                                    "EmployeeLastName": "Funk",
                                    "EmployeeFirstName": "Don",
                                    "EmployeeTitle": "Vice President, Sales"
                                },
                                {
                                    "EmployeeId": "3",
                                    "EmployeeLastName": "Lew",
                                    "EmployeeFirstName": "Judy",
                                    "EmployeeTitle": "Sales Manager"
                                },
                                {
                                    "EmployeeId": "4",
                                    "EmployeeLastName": "Peled",
                                    "EmployeeFirstName": "Yael",
                                    "EmployeeTitle": "Sales Representative"
                                },
                                {
                                    "EmployeeId": "5",
                                    "EmployeeLastName": "Mortensen",
                                    "EmployeeFirstName": "Sven",
                                    "EmployeeTitle": "Sales Manager"
                                },
                                {
                                    "EmployeeId": "6",
                                    "EmployeeLastName": "Suurs",
                                    "EmployeeFirstName": "Paul",
                                    "EmployeeTitle": "Sales Representative"
                                },
                                {
                                    "EmployeeId": "7",
                                    "EmployeeLastName": "King",
                                    "EmployeeFirstName": "Russell",
                                    "EmployeeTitle": "Sales Representative"
                                },
                                {
                                    "EmployeeId": "8",
                                    "EmployeeLastName": "Cameron",
                                    "EmployeeFirstName": "Maria",
                                    "EmployeeTitle": "Sales Representative"
                                },
                                {
                                    "EmployeeId": "9",
                                    "EmployeeLastName": "Doyle",
                                    "EmployeeFirstName": "Patricia",
                                    "EmployeeTitle": "Sales Representative"
                                }
                            ]
                        },
                        "text/html": "<table><tr><th>EmployeeId</th><th>EmployeeLastName</th><th>EmployeeFirstName</th><th>EmployeeTitle</th></tr><tr><td>1</td><td>Davis</td><td>Sara</td><td>CEO</td></tr><tr><td>2</td><td>Funk</td><td>Don</td><td>Vice President, Sales</td></tr><tr><td>3</td><td>Lew</td><td>Judy</td><td>Sales Manager</td></tr><tr><td>4</td><td>Peled</td><td>Yael</td><td>Sales Representative</td></tr><tr><td>5</td><td>Mortensen</td><td>Sven</td><td>Sales Manager</td></tr><tr><td>6</td><td>Suurs</td><td>Paul</td><td>Sales Representative</td></tr><tr><td>7</td><td>King</td><td>Russell</td><td>Sales Representative</td></tr><tr><td>8</td><td>Cameron</td><td>Maria</td><td>Sales Representative</td></tr><tr><td>9</td><td>Doyle</td><td>Patricia</td><td>Sales Representative</td></tr></table>"
                    },
                    "metadata": {}
                }
            ],
            "execution_count": 10
        },
        {
            "cell_type": "markdown",
            "source": [
                "## <span style=\"color:darkred;\">**Case #003: The Largest Single Order**</span>\n",
                "\n",
                "<p style=\"color:gray; font-size:14px;\"><b>Story:</b>  \n",
                "A single order had a massive quantity. The company wants to find out who processed it.</p>\n",
                "\n",
                "<p style=\"color:gray; font-size:14px;\"><b>Objectives:</b></p>\n",
                "<ul style=\"color:darkgreen; font-size:14px;\">\n",
                "<li>Find the order with the largest total quantity.</li>\n",
                "<li>Identify the employee who processed it.</li>\n",
                "</ul>\n",
                "\n",
                "<p style=\"color:darkorange; font-size:14px;\"><b>Hint:</b> Use aggregate functions and joins with OrderDetail.</p>\n",
                ""
            ],
            "metadata": {
                "language": "",
                "azdata_cell_guid": "c4d78827-cf7c-42fb-a68f-4f79dddf7396"
            },
            "attachments": {}
        },
        {
            "cell_type": "code",
            "source": [
                "WITH OrderQuantities AS (\n",
                "    SELECT so.OrderId, SUM(od.Quantity) AS TotalQuantity\n",
                "    FROM Sales.[Order] AS so\n",
                "    JOIN Sales.OrderDetail od ON so.OrderId = od.OrderId\n",
                "    GROUP BY so.OrderId\n",
                ")\n",
                "SELECT TOP (1) oq.OrderId, TotalQuantity\n",
                "FROM OrderQuantities AS oq\n",
                "ORDER BY TotalQuantity DESC;\n",
                "\n",
                "-- Find employee responsible\n",
                "SELECT hre.EmployeeId, hre.EmployeeLastName, hre.EmployeeFirstName \n",
                "FROM HumanResources.Employee AS hre\n",
                "JOIN Sales.[Order] o ON hre.EmployeeId = o.EmployeeId\n",
                "WHERE o.OrderId = 11077;\n",
                ""
            ],
            "metadata": {
                "language": "sql",
                "azdata_cell_guid": "7fdbade4-0b6c-4160-92d4-b9a7a421a699"
            },
            "outputs": [
                {
                    "output_type": "display_data",
                    "data": {
                        "text/html": "(1 row affected)"
                    },
                    "metadata": {}
                },
                {
                    "output_type": "display_data",
                    "data": {
                        "text/html": "(1 row affected)"
                    },
                    "metadata": {}
                },
                {
                    "output_type": "display_data",
                    "data": {
                        "text/html": "Total execution time: 00:00:00.003"
                    },
                    "metadata": {}
                },
                {
                    "output_type": "execute_result",
                    "execution_count": 11,
                    "data": {
                        "application/vnd.dataresource+json": {
                            "schema": {
                                "fields": [
                                    {
                                        "name": "OrderId"
                                    },
                                    {
                                        "name": "TotalQuantity"
                                    }
                                ]
                            },
                            "data": [
                                {
                                    "OrderId": "10895",
                                    "TotalQuantity": "346"
                                }
                            ]
                        },
                        "text/html": "<table><tr><th>OrderId</th><th>TotalQuantity</th></tr><tr><td>10895</td><td>346</td></tr></table>"
                    },
                    "metadata": {}
                },
                {
                    "output_type": "execute_result",
                    "execution_count": 11,
                    "data": {
                        "application/vnd.dataresource+json": {
                            "schema": {
                                "fields": [
                                    {
                                        "name": "EmployeeId"
                                    },
                                    {
                                        "name": "EmployeeLastName"
                                    },
                                    {
                                        "name": "EmployeeFirstName"
                                    }
                                ]
                            },
                            "data": [
                                {
                                    "EmployeeId": "1",
                                    "EmployeeLastName": "Davis",
                                    "EmployeeFirstName": "Sara"
                                }
                            ]
                        },
                        "text/html": "<table><tr><th>EmployeeId</th><th>EmployeeLastName</th><th>EmployeeFirstName</th></tr><tr><td>1</td><td>Davis</td><td>Sara</td></tr></table>"
                    },
                    "metadata": {}
                }
            ],
            "execution_count": 11
        },
        {
            "cell_type": "markdown",
            "source": [
                "## <span style=\"color:darkred;\">**Case #004: Overpriced Shipment**</span>\n",
                "\n",
                "<p style=\"color:gray; font-size:14px;\"><b>Story:</b>  \n",
                "A string of complaints about high shipment costs has caught the attention of legal authorities.  \n",
                "One customer is frustrated with their exorbitant freight bills.</p>\n",
                "\n",
                "<p style=\"color:gray; font-size:14px;\"><b>Objectives:</b></p>\n",
                "<ul style=\"color:darkgreen; font-size:14px;\">\n",
                "<li>Identify the customer with the highest total freight.</li>\n",
                "<li>Determine the shippers responsible for this customer’s orders.</li>\n",
                "</ul>\n",
                "\n",
                "<p style=\"color:darkorange; font-size:14px;\"><b>Hint:</b> Aggregate freight by customer and join with shippers.</p>\n",
                ""
            ],
            "metadata": {
                "language": "",
                "azdata_cell_guid": "e7ff4fec-4382-492a-90b8-3c1608cae6b3"
            },
            "attachments": {}
        },
        {
            "cell_type": "code",
            "source": [
                "SELECT so.CustomerId, SUM(so.Freight) AS TotalFreight\n",
                "FROM Sales.[Order] AS so\n",
                "GROUP BY CustomerId\n",
                "ORDER BY TotalFreight DESC;\n",
                "\n",
                "SELECT DISTINCT ss.ShipperId, ss.ShipperCompanyName\n",
                "FROM Sales.Shipper AS ss\n",
                "JOIN Sales.[Order] AS so ON so.ShipperId = so.ShipperId\n",
                "WHERE so.CustomerId = 71;\n",
                ""
            ],
            "metadata": {
                "language": "sql",
                "azdata_cell_guid": "b069938a-3cb1-4d3e-9922-1270f7fe192e"
            },
            "outputs": [
                {
                    "output_type": "display_data",
                    "data": {
                        "text/html": "(89 rows affected)"
                    },
                    "metadata": {}
                },
                {
                    "output_type": "display_data",
                    "data": {
                        "text/html": "(3 rows affected)"
                    },
                    "metadata": {}
                },
                {
                    "output_type": "display_data",
                    "data": {
                        "text/html": "Total execution time: 00:00:00.305"
                    },
                    "metadata": {}
                },
                {
                    "output_type": "execute_result",
                    "metadata": {},
                    "execution_count": 1,
                    "data": {
                        "application/vnd.dataresource+json": {
                            "schema": {
                                "fields": [
                                    {
                                        "name": "CustomerId"
                                    },
                                    {
                                        "name": "TotalFreight"
                                    }
                                ]
                            },
                            "data": [
                                {
                                    "CustomerId": "71",
                                    "TotalFreight": "6683.70"
                                },
                                {
                                    "CustomerId": "20",
                                    "TotalFreight": "6205.39"
                                },
                                {
                                    "CustomerId": "63",
                                    "TotalFreight": "5605.63"
                                },
                                {
                                    "CustomerId": "37",
                                    "TotalFreight": "2755.24"
                                },
                                {
                                    "CustomerId": "65",
                                    "TotalFreight": "2134.21"
                                },
                                {
                                    "CustomerId": "62",
                                    "TotalFreight": "1982.70"
                                },
                                {
                                    "CustomerId": "24",
                                    "TotalFreight": "1678.08"
                                },
                                {
                                    "CustomerId": "5",
                                    "TotalFreight": "1559.52"
                                },
                                {
                                    "CustomerId": "25",
                                    "TotalFreight": "1403.44"
                                },
                                {
                                    "CustomerId": "51",
                                    "TotalFreight": "1394.22"
                                },
                                {
                                    "CustomerId": "9",
                                    "TotalFreight": "1357.87"
                                },
                                {
                                    "CustomerId": "89",
                                    "TotalFreight": "1353.06"
                                },
                                {
                                    "CustomerId": "35",
                                    "TotalFreight": "1259.16"
                                },
                                {
                                    "CustomerId": "59",
                                    "TotalFreight": "1186.11"
                                },
                                {
                                    "CustomerId": "32",
                                    "TotalFreight": "1087.61"
                                },
                                {
                                    "CustomerId": "44",
                                    "TotalFreight": "1017.03"
                                },
                                {
                                    "CustomerId": "68",
                                    "TotalFreight": "1001.29"
                                },
                                {
                                    "CustomerId": "55",
                                    "TotalFreight": "983.53"
                                },
                                {
                                    "CustomerId": "83",
                                    "TotalFreight": "947.34"
                                },
                                {
                                    "CustomerId": "72",
                                    "TotalFreight": "913.81"
                                },
                                {
                                    "CustomerId": "56",
                                    "TotalFreight": "862.74"
                                },
                                {
                                    "CustomerId": "19",
                                    "TotalFreight": "832.34"
                                },
                                {
                                    "CustomerId": "87",
                                    "TotalFreight": "822.48"
                                },
                                {
                                    "CustomerId": "76",
                                    "TotalFreight": "821.23"
                                },
                                {
                                    "CustomerId": "39",
                                    "TotalFreight": "813.68"
                                },
                                {
                                    "CustomerId": "10",
                                    "TotalFreight": "793.95"
                                },
                                {
                                    "CustomerId": "46",
                                    "TotalFreight": "734.41"
                                },
                                {
                                    "CustomerId": "34",
                                    "TotalFreight": "724.77"
                                },
                                {
                                    "CustomerId": "47",
                                    "TotalFreight": "673.81"
                                },
                                {
                                    "CustomerId": "23",
                                    "TotalFreight": "637.94"
                                },
                                {
                                    "CustomerId": "41",
                                    "TotalFreight": "635.82"
                                },
                                {
                                    "CustomerId": "67",
                                    "TotalFreight": "632.95"
                                },
                                {
                                    "CustomerId": "7",
                                    "TotalFreight": "623.66"
                                },
                                {
                                    "CustomerId": "30",
                                    "TotalFreight": "568.27"
                                },
                                {
                                    "CustomerId": "75",
                                    "TotalFreight": "558.67"
                                },
                                {
                                    "CustomerId": "84",
                                    "TotalFreight": "493.25"
                                },
                                {
                                    "CustomerId": "80",
                                    "TotalFreight": "475.63"
                                },
                                {
                                    "CustomerId": "4",
                                    "TotalFreight": "471.95"
                                },
                                {
                                    "CustomerId": "49",
                                    "TotalFreight": "469.75"
                                },
                                {
                                    "CustomerId": "50",
                                    "TotalFreight": "458.91"
                                },
                                {
                                    "CustomerId": "73",
                                    "TotalFreight": "448.85"
                                },
                                {
                                    "CustomerId": "86",
                                    "TotalFreight": "432.87"
                                },
                                {
                                    "CustomerId": "14",
                                    "TotalFreight": "367.24"
                                },
                                {
                                    "CustomerId": "60",
                                    "TotalFreight": "364.86"
                                },
                                {
                                    "CustomerId": "38",
                                    "TotalFreight": "363.65"
                                },
                                {
                                    "CustomerId": "61",
                                    "TotalFreight": "327.55"
                                },
                                {
                                    "CustomerId": "31",
                                    "TotalFreight": "322.38"
                                },
                                {
                                    "CustomerId": "52",
                                    "TotalFreight": "322.04"
                                },
                                {
                                    "CustomerId": "66",
                                    "TotalFreight": "319.56"
                                },
                                {
                                    "CustomerId": "54",
                                    "TotalFreight": "306.64"
                                },
                                {
                                    "CustomerId": "17",
                                    "TotalFreight": "306.04"
                                },
                                {
                                    "CustomerId": "11",
                                    "TotalFreight": "281.31"
                                },
                                {
                                    "CustomerId": "28",
                                    "TotalFreight": "278.67"
                                },
                                {
                                    "CustomerId": "58",
                                    "TotalFreight": "277.96"
                                },
                                {
                                    "CustomerId": "70",
                                    "TotalFreight": "275.50"
                                },
                                {
                                    "CustomerId": "81",
                                    "TotalFreight": "274.56"
                                },
                                {
                                    "CustomerId": "3",
                                    "TotalFreight": "268.52"
                                },
                                {
                                    "CustomerId": "77",
                                    "TotalFreight": "262.09"
                                },
                                {
                                    "CustomerId": "21",
                                    "TotalFreight": "232.75"
                                },
                                {
                                    "CustomerId": "1",
                                    "TotalFreight": "225.58"
                                },
                                {
                                    "CustomerId": "64",
                                    "TotalFreight": "219.18"
                                },
                                {
                                    "CustomerId": "36",
                                    "TotalFreight": "207.08"
                                },
                                {
                                    "CustomerId": "45",
                                    "TotalFreight": "202.11"
                                },
                                {
                                    "CustomerId": "88",
                                    "TotalFreight": "194.71"
                                },
                                {
                                    "CustomerId": "8",
                                    "TotalFreight": "191.17"
                                },
                                {
                                    "CustomerId": "15",
                                    "TotalFreight": "187.82"
                                },
                                {
                                    "CustomerId": "91",
                                    "TotalFreight": "175.74"
                                },
                                {
                                    "CustomerId": "26",
                                    "TotalFreight": "171.42"
                                },
                                {
                                    "CustomerId": "6",
                                    "TotalFreight": "168.26"
                                },
                                {
                                    "CustomerId": "78",
                                    "TotalFreight": "129.96"
                                },
                                {
                                    "CustomerId": "79",
                                    "TotalFreight": "125.97"
                                },
                                {
                                    "CustomerId": "74",
                                    "TotalFreight": "108.28"
                                },
                                {
                                    "CustomerId": "2",
                                    "TotalFreight": "97.42"
                                },
                                {
                                    "CustomerId": "90",
                                    "TotalFreight": "88.41"
                                },
                                {
                                    "CustomerId": "40",
                                    "TotalFreight": "87.49"
                                },
                                {
                                    "CustomerId": "48",
                                    "TotalFreight": "79.86"
                                },
                                {
                                    "CustomerId": "27",
                                    "TotalFreight": "75.13"
                                },
                                {
                                    "CustomerId": "12",
                                    "TotalFreight": "72.76"
                                },
                                {
                                    "CustomerId": "82",
                                    "TotalFreight": "70.01"
                                },
                                {
                                    "CustomerId": "33",
                                    "TotalFreight": "67.80"
                                },
                                {
                                    "CustomerId": "69",
                                    "TotalFreight": "64.47"
                                },
                                {
                                    "CustomerId": "18",
                                    "TotalFreight": "63.70"
                                },
                                {
                                    "CustomerId": "85",
                                    "TotalFreight": "58.41"
                                },
                                {
                                    "CustomerId": "16",
                                    "TotalFreight": "53.62"
                                },
                                {
                                    "CustomerId": "29",
                                    "TotalFreight": "37.98"
                                },
                                {
                                    "CustomerId": "53",
                                    "TotalFreight": "37.59"
                                },
                                {
                                    "CustomerId": "43",
                                    "TotalFreight": "19.40"
                                },
                                {
                                    "CustomerId": "42",
                                    "TotalFreight": "9.92"
                                },
                                {
                                    "CustomerId": "13",
                                    "TotalFreight": "3.25"
                                }
                            ]
                        },
                        "text/html": [
                            "<table>",
                            "<tr><th>CustomerId</th><th>TotalFreight</th></tr>",
                            "<tr><td>71</td><td>6683.70</td></tr>",
                            "<tr><td>20</td><td>6205.39</td></tr>",
                            "<tr><td>63</td><td>5605.63</td></tr>",
                            "<tr><td>37</td><td>2755.24</td></tr>",
                            "<tr><td>65</td><td>2134.21</td></tr>",
                            "<tr><td>62</td><td>1982.70</td></tr>",
                            "<tr><td>24</td><td>1678.08</td></tr>",
                            "<tr><td>5</td><td>1559.52</td></tr>",
                            "<tr><td>25</td><td>1403.44</td></tr>",
                            "<tr><td>51</td><td>1394.22</td></tr>",
                            "<tr><td>9</td><td>1357.87</td></tr>",
                            "<tr><td>89</td><td>1353.06</td></tr>",
                            "<tr><td>35</td><td>1259.16</td></tr>",
                            "<tr><td>59</td><td>1186.11</td></tr>",
                            "<tr><td>32</td><td>1087.61</td></tr>",
                            "<tr><td>44</td><td>1017.03</td></tr>",
                            "<tr><td>68</td><td>1001.29</td></tr>",
                            "<tr><td>55</td><td>983.53</td></tr>",
                            "<tr><td>83</td><td>947.34</td></tr>",
                            "<tr><td>72</td><td>913.81</td></tr>",
                            "<tr><td>56</td><td>862.74</td></tr>",
                            "<tr><td>19</td><td>832.34</td></tr>",
                            "<tr><td>87</td><td>822.48</td></tr>",
                            "<tr><td>76</td><td>821.23</td></tr>",
                            "<tr><td>39</td><td>813.68</td></tr>",
                            "<tr><td>10</td><td>793.95</td></tr>",
                            "<tr><td>46</td><td>734.41</td></tr>",
                            "<tr><td>34</td><td>724.77</td></tr>",
                            "<tr><td>47</td><td>673.81</td></tr>",
                            "<tr><td>23</td><td>637.94</td></tr>",
                            "<tr><td>41</td><td>635.82</td></tr>",
                            "<tr><td>67</td><td>632.95</td></tr>",
                            "<tr><td>7</td><td>623.66</td></tr>",
                            "<tr><td>30</td><td>568.27</td></tr>",
                            "<tr><td>75</td><td>558.67</td></tr>",
                            "<tr><td>84</td><td>493.25</td></tr>",
                            "<tr><td>80</td><td>475.63</td></tr>",
                            "<tr><td>4</td><td>471.95</td></tr>",
                            "<tr><td>49</td><td>469.75</td></tr>",
                            "<tr><td>50</td><td>458.91</td></tr>",
                            "<tr><td>73</td><td>448.85</td></tr>",
                            "<tr><td>86</td><td>432.87</td></tr>",
                            "<tr><td>14</td><td>367.24</td></tr>",
                            "<tr><td>60</td><td>364.86</td></tr>",
                            "<tr><td>38</td><td>363.65</td></tr>",
                            "<tr><td>61</td><td>327.55</td></tr>",
                            "<tr><td>31</td><td>322.38</td></tr>",
                            "<tr><td>52</td><td>322.04</td></tr>",
                            "<tr><td>66</td><td>319.56</td></tr>",
                            "<tr><td>54</td><td>306.64</td></tr>",
                            "<tr><td>17</td><td>306.04</td></tr>",
                            "<tr><td>11</td><td>281.31</td></tr>",
                            "<tr><td>28</td><td>278.67</td></tr>",
                            "<tr><td>58</td><td>277.96</td></tr>",
                            "<tr><td>70</td><td>275.50</td></tr>",
                            "<tr><td>81</td><td>274.56</td></tr>",
                            "<tr><td>3</td><td>268.52</td></tr>",
                            "<tr><td>77</td><td>262.09</td></tr>",
                            "<tr><td>21</td><td>232.75</td></tr>",
                            "<tr><td>1</td><td>225.58</td></tr>",
                            "<tr><td>64</td><td>219.18</td></tr>",
                            "<tr><td>36</td><td>207.08</td></tr>",
                            "<tr><td>45</td><td>202.11</td></tr>",
                            "<tr><td>88</td><td>194.71</td></tr>",
                            "<tr><td>8</td><td>191.17</td></tr>",
                            "<tr><td>15</td><td>187.82</td></tr>",
                            "<tr><td>91</td><td>175.74</td></tr>",
                            "<tr><td>26</td><td>171.42</td></tr>",
                            "<tr><td>6</td><td>168.26</td></tr>",
                            "<tr><td>78</td><td>129.96</td></tr>",
                            "<tr><td>79</td><td>125.97</td></tr>",
                            "<tr><td>74</td><td>108.28</td></tr>",
                            "<tr><td>2</td><td>97.42</td></tr>",
                            "<tr><td>90</td><td>88.41</td></tr>",
                            "<tr><td>40</td><td>87.49</td></tr>",
                            "<tr><td>48</td><td>79.86</td></tr>",
                            "<tr><td>27</td><td>75.13</td></tr>",
                            "<tr><td>12</td><td>72.76</td></tr>",
                            "<tr><td>82</td><td>70.01</td></tr>",
                            "<tr><td>33</td><td>67.80</td></tr>",
                            "<tr><td>69</td><td>64.47</td></tr>",
                            "<tr><td>18</td><td>63.70</td></tr>",
                            "<tr><td>85</td><td>58.41</td></tr>",
                            "<tr><td>16</td><td>53.62</td></tr>",
                            "<tr><td>29</td><td>37.98</td></tr>",
                            "<tr><td>53</td><td>37.59</td></tr>",
                            "<tr><td>43</td><td>19.40</td></tr>",
                            "<tr><td>42</td><td>9.92</td></tr>",
                            "<tr><td>13</td><td>3.25</td></tr>",
                            "</table>"
                        ]
                    }
                },
                {
                    "output_type": "execute_result",
                    "metadata": {},
                    "execution_count": 1,
                    "data": {
                        "application/vnd.dataresource+json": {
                            "schema": {
                                "fields": [
                                    {
                                        "name": "ShipperId"
                                    },
                                    {
                                        "name": "ShipperCompanyName"
                                    }
                                ]
                            },
                            "data": [
                                {
                                    "ShipperId": "1",
                                    "ShipperCompanyName": "Shipper GVSUA"
                                },
                                {
                                    "ShipperId": "2",
                                    "ShipperCompanyName": "Shipper ETYNR"
                                },
                                {
                                    "ShipperId": "3",
                                    "ShipperCompanyName": "Shipper ZHISN"
                                }
                            ]
                        },
                        "text/html": [
                            "<table>",
                            "<tr><th>ShipperId</th><th>ShipperCompanyName</th></tr>",
                            "<tr><td>1</td><td>Shipper GVSUA</td></tr>",
                            "<tr><td>2</td><td>Shipper ETYNR</td></tr>",
                            "<tr><td>3</td><td>Shipper ZHISN</td></tr>",
                            "</table>"
                        ]
                    }
                }
            ],
            "execution_count": 1
        },
        {
            "cell_type": "markdown",
            "source": [
                "## <span style=\"color:darkred;\">**Case #005: The Veteran Hire**</span>\n",
                "\n",
                "<p style=\"color:gray; font-size:14px;\"><b>Story:</b>  \n",
                "One employee was already an adult when hired and is now approaching retirement.  \n",
                "Their current position in the company is unknown.</p>\n",
                "\n",
                "<p style=\"color:gray; font-size:14px;\"><b>Objectives:</b></p>\n",
                "<ul style=\"color:darkgreen; font-size:14px;\">\n",
                "<li>Identify the employee who was 18 or older at hire.</li>\n",
                "<li>Retrieve their current job title using EmployeeId.</li>\n",
                "</ul>\n",
                "\n",
                "<p style=\"color:darkorange; font-size:14px;\"><b>Hint:</b> Use date difference between BirthDate and HireDate.</p>\n",
                ""
            ],
            "metadata": {
                "azdata_cell_guid": "983f7326-c870-449c-931f-cc5ef2c329e2",
                "language": ""
            },
            "attachments": {}
        },
        {
            "cell_type": "code",
            "source": [
                "SELECT he.EmployeeId,\n",
                "       he.EmployeeFirstName,\n",
                "       he.EmployeeLastName,\n",
                "       he.BirthDate,\n",
                "       he.HireDate,\n",
                "       DATEDIFF(YEAR, BirthDate, HireDate) AS AgeAtHire\n",
                "FROM HumanResources.Employee AS he\n",
                "WHERE DATEDIFF(YEAR, BirthDate, HireDate) >= 18;\n",
                "\n",
                "SELECT he.EmployeeId,\n",
                "       he.EmployeeFirstName,\n",
                "       he.EmployeeLastName,\n",
                "       he.EmployeeTitle\n",
                "FROM HumanResources.Employee AS he\n",
                "WHERE EmployeeId = 4;\n",
                ""
            ],
            "metadata": {
                "azdata_cell_guid": "c88643cc-00f7-4397-87b7-58f237c7798c",
                "language": "sql"
            },
            "outputs": [
                {
                    "output_type": "display_data",
                    "data": {
                        "text/html": "(9 rows affected)"
                    },
                    "metadata": {}
                },
                {
                    "output_type": "display_data",
                    "data": {
                        "text/html": "(1 row affected)"
                    },
                    "metadata": {}
                },
                {
                    "output_type": "display_data",
                    "data": {
                        "text/html": "Total execution time: 00:00:00.050"
                    },
                    "metadata": {}
                },
                {
                    "output_type": "execute_result",
                    "metadata": {},
                    "execution_count": 2,
                    "data": {
                        "application/vnd.dataresource+json": {
                            "schema": {
                                "fields": [
                                    {
                                        "name": "EmployeeId"
                                    },
                                    {
                                        "name": "EmployeeFirstName"
                                    },
                                    {
                                        "name": "EmployeeLastName"
                                    },
                                    {
                                        "name": "BirthDate"
                                    },
                                    {
                                        "name": "HireDate"
                                    },
                                    {
                                        "name": "AgeAtHire"
                                    }
                                ]
                            },
                            "data": [
                                {
                                    "EmployeeId": "1",
                                    "EmployeeFirstName": "Sara",
                                    "EmployeeLastName": "Davis",
                                    "BirthDate": "1968-12-08",
                                    "HireDate": "2020-05-01",
                                    "AgeAtHire": "52"
                                },
                                {
                                    "EmployeeId": "2",
                                    "EmployeeFirstName": "Don",
                                    "EmployeeLastName": "Funk",
                                    "BirthDate": "1972-02-19",
                                    "HireDate": "2020-08-14",
                                    "AgeAtHire": "48"
                                },
                                {
                                    "EmployeeId": "3",
                                    "EmployeeFirstName": "Judy",
                                    "EmployeeLastName": "Lew",
                                    "BirthDate": "1983-08-30",
                                    "HireDate": "2020-04-01",
                                    "AgeAtHire": "37"
                                },
                                {
                                    "EmployeeId": "4",
                                    "EmployeeFirstName": "Yael",
                                    "EmployeeLastName": "Peled",
                                    "BirthDate": "1957-09-19",
                                    "HireDate": "2021-05-03",
                                    "AgeAtHire": "64"
                                },
                                {
                                    "EmployeeId": "5",
                                    "EmployeeFirstName": "Sven",
                                    "EmployeeLastName": "Mortensen",
                                    "BirthDate": "1975-03-04",
                                    "HireDate": "2021-10-17",
                                    "AgeAtHire": "46"
                                },
                                {
                                    "EmployeeId": "6",
                                    "EmployeeFirstName": "Paul",
                                    "EmployeeLastName": "Suurs",
                                    "BirthDate": "1983-07-02",
                                    "HireDate": "2021-10-17",
                                    "AgeAtHire": "38"
                                },
                                {
                                    "EmployeeId": "7",
                                    "EmployeeFirstName": "Russell",
                                    "EmployeeLastName": "King",
                                    "BirthDate": "1980-05-29",
                                    "HireDate": "2022-01-02",
                                    "AgeAtHire": "42"
                                },
                                {
                                    "EmployeeId": "8",
                                    "EmployeeFirstName": "Maria",
                                    "EmployeeLastName": "Cameron",
                                    "BirthDate": "1978-01-09",
                                    "HireDate": "2022-03-05",
                                    "AgeAtHire": "44"
                                },
                                {
                                    "EmployeeId": "9",
                                    "EmployeeFirstName": "Patricia",
                                    "EmployeeLastName": "Doyle",
                                    "BirthDate": "1986-01-27",
                                    "HireDate": "2022-11-15",
                                    "AgeAtHire": "36"
                                }
                            ]
                        },
                        "text/html": [
                            "<table>",
                            "<tr><th>EmployeeId</th><th>EmployeeFirstName</th><th>EmployeeLastName</th><th>BirthDate</th><th>HireDate</th><th>AgeAtHire</th></tr>",
                            "<tr><td>1</td><td>Sara</td><td>Davis</td><td>1968-12-08</td><td>2020-05-01</td><td>52</td></tr>",
                            "<tr><td>2</td><td>Don</td><td>Funk</td><td>1972-02-19</td><td>2020-08-14</td><td>48</td></tr>",
                            "<tr><td>3</td><td>Judy</td><td>Lew</td><td>1983-08-30</td><td>2020-04-01</td><td>37</td></tr>",
                            "<tr><td>4</td><td>Yael</td><td>Peled</td><td>1957-09-19</td><td>2021-05-03</td><td>64</td></tr>",
                            "<tr><td>5</td><td>Sven</td><td>Mortensen</td><td>1975-03-04</td><td>2021-10-17</td><td>46</td></tr>",
                            "<tr><td>6</td><td>Paul</td><td>Suurs</td><td>1983-07-02</td><td>2021-10-17</td><td>38</td></tr>",
                            "<tr><td>7</td><td>Russell</td><td>King</td><td>1980-05-29</td><td>2022-01-02</td><td>42</td></tr>",
                            "<tr><td>8</td><td>Maria</td><td>Cameron</td><td>1978-01-09</td><td>2022-03-05</td><td>44</td></tr>",
                            "<tr><td>9</td><td>Patricia</td><td>Doyle</td><td>1986-01-27</td><td>2022-11-15</td><td>36</td></tr>",
                            "</table>"
                        ]
                    }
                },
                {
                    "output_type": "execute_result",
                    "metadata": {},
                    "execution_count": 2,
                    "data": {
                        "application/vnd.dataresource+json": {
                            "schema": {
                                "fields": [
                                    {
                                        "name": "EmployeeId"
                                    },
                                    {
                                        "name": "EmployeeFirstName"
                                    },
                                    {
                                        "name": "EmployeeLastName"
                                    },
                                    {
                                        "name": "EmployeeTitle"
                                    }
                                ]
                            },
                            "data": [
                                {
                                    "EmployeeId": "4",
                                    "EmployeeFirstName": "Yael",
                                    "EmployeeLastName": "Peled",
                                    "EmployeeTitle": "Sales Representative"
                                }
                            ]
                        },
                        "text/html": [
                            "<table>",
                            "<tr><th>EmployeeId</th><th>EmployeeFirstName</th><th>EmployeeLastName</th><th>EmployeeTitle</th></tr>",
                            "<tr><td>4</td><td>Yael</td><td>Peled</td><td>Sales Representative</td></tr>",
                            "</table>"
                        ]
                    }
                }
            ],
            "execution_count": 2
        },
        {
            "cell_type": "markdown",
            "source": [
                "## <span style=\"color:darkred;\">**Case #006: The Missing Shipment**</span>\n",
                "\n",
                "<p style=\"color:gray; font-size:14px;\"><b>Story:</b>  \n",
                "A shipment never arrived at its destination. Several orders have no ShipToDate.</p>\n",
                "\n",
                "<p style=\"color:gray; font-size:14px;\"><b>Objectives:</b></p>\n",
                "<ul style=\"color:darkgreen; font-size:14px;\">\n",
                "<li>Identify top 3 orders never shipped.</li>\n",
                "<li>Find employees responsible for these orders.</li>\n",
                "<li>Determine affected customers.</li>\n",
                "</ul>\n",
                "\n",
                "<p style=\"color:darkorange; font-size:14px;\"><b>Hint:</b> Focus on managers handling these orders.</p>\n",
                ""
            ],
            "metadata": {
                "azdata_cell_guid": "b3e65649-0cc9-4ba8-a614-a50ec5e154c6",
                "language": ""
            },
            "attachments": {}
        },
        {
            "cell_type": "code",
            "source": [
                "SELECT TOP(3) so.OrderId, so.CustomerId, so.EmployeeId, so.OrderDate, so.ShipToName\n",
                "FROM Sales.[Order]  AS so \n",
                "WHERE ShipToDate IS NULL;\n",
                "\n",
                "SELECT DISTINCT hre.EmployeeId, hre.EmployeeFirstName, hre.EmployeeLastName, hre.EmployeeTitle\n",
                "FROM HumanResources.Employee AS hre\n",
                "WHERE EmployeeId IN (7,6,1);\n",
                "\n",
                "SELECT DISTINCT sc.CustomerId, sc.CustomerCompanyName\n",
                "FROM Sales.Customer AS sc\n",
                "WHERE CustomerId IN (20,64,47);\n",
                ""
            ],
            "metadata": {
                "azdata_cell_guid": "7755871f-7f2f-4456-bd66-d0f34dc00e60",
                "language": "sql"
            },
            "outputs": [
                {
                    "output_type": "display_data",
                    "data": {
                        "text/html": "(3 rows affected)"
                    },
                    "metadata": {}
                },
                {
                    "output_type": "display_data",
                    "data": {
                        "text/html": "(3 rows affected)"
                    },
                    "metadata": {}
                },
                {
                    "output_type": "display_data",
                    "data": {
                        "text/html": "(3 rows affected)"
                    },
                    "metadata": {}
                },
                {
                    "output_type": "display_data",
                    "data": {
                        "text/html": "Total execution time: 00:00:00.006"
                    },
                    "metadata": {}
                },
                {
                    "output_type": "execute_result",
                    "execution_count": 14,
                    "data": {
                        "application/vnd.dataresource+json": {
                            "schema": {
                                "fields": [
                                    {
                                        "name": "OrderId"
                                    },
                                    {
                                        "name": "CustomerId"
                                    },
                                    {
                                        "name": "EmployeeId"
                                    },
                                    {
                                        "name": "OrderDate"
                                    },
                                    {
                                        "name": "ShipToName"
                                    }
                                ]
                            },
                            "data": [
                                {
                                    "OrderId": "11008",
                                    "CustomerId": "20",
                                    "EmployeeId": "7",
                                    "OrderDate": "2022-04-08",
                                    "ShipToName": "Destination CUVPF"
                                },
                                {
                                    "OrderId": "11019",
                                    "CustomerId": "64",
                                    "EmployeeId": "6",
                                    "OrderDate": "2022-04-13",
                                    "ShipToName": "Ship to 64-B"
                                },
                                {
                                    "OrderId": "11039",
                                    "CustomerId": "47",
                                    "EmployeeId": "1",
                                    "OrderDate": "2022-04-21",
                                    "ShipToName": "Ship to 47-C"
                                }
                            ]
                        },
                        "text/html": "<table><tr><th>OrderId</th><th>CustomerId</th><th>EmployeeId</th><th>OrderDate</th><th>ShipToName</th></tr><tr><td>11008</td><td>20</td><td>7</td><td>2022-04-08</td><td>Destination CUVPF</td></tr><tr><td>11019</td><td>64</td><td>6</td><td>2022-04-13</td><td>Ship to 64-B</td></tr><tr><td>11039</td><td>47</td><td>1</td><td>2022-04-21</td><td>Ship to 47-C</td></tr></table>"
                    },
                    "metadata": {}
                },
                {
                    "output_type": "execute_result",
                    "execution_count": 14,
                    "data": {
                        "application/vnd.dataresource+json": {
                            "schema": {
                                "fields": [
                                    {
                                        "name": "EmployeeId"
                                    },
                                    {
                                        "name": "EmployeeFirstName"
                                    },
                                    {
                                        "name": "EmployeeLastName"
                                    },
                                    {
                                        "name": "EmployeeTitle"
                                    }
                                ]
                            },
                            "data": [
                                {
                                    "EmployeeId": "1",
                                    "EmployeeFirstName": "Sara",
                                    "EmployeeLastName": "Davis",
                                    "EmployeeTitle": "CEO"
                                },
                                {
                                    "EmployeeId": "6",
                                    "EmployeeFirstName": "Paul",
                                    "EmployeeLastName": "Suurs",
                                    "EmployeeTitle": "Sales Representative"
                                },
                                {
                                    "EmployeeId": "7",
                                    "EmployeeFirstName": "Russell",
                                    "EmployeeLastName": "King",
                                    "EmployeeTitle": "Sales Representative"
                                }
                            ]
                        },
                        "text/html": "<table><tr><th>EmployeeId</th><th>EmployeeFirstName</th><th>EmployeeLastName</th><th>EmployeeTitle</th></tr><tr><td>1</td><td>Sara</td><td>Davis</td><td>CEO</td></tr><tr><td>6</td><td>Paul</td><td>Suurs</td><td>Sales Representative</td></tr><tr><td>7</td><td>Russell</td><td>King</td><td>Sales Representative</td></tr></table>"
                    },
                    "metadata": {}
                },
                {
                    "output_type": "execute_result",
                    "execution_count": 14,
                    "data": {
                        "application/vnd.dataresource+json": {
                            "schema": {
                                "fields": [
                                    {
                                        "name": "CustomerId"
                                    },
                                    {
                                        "name": "CustomerCompanyName"
                                    }
                                ]
                            },
                            "data": [
                                {
                                    "CustomerId": "20",
                                    "CustomerCompanyName": "Customer THHDP"
                                },
                                {
                                    "CustomerId": "47",
                                    "CustomerCompanyName": "Customer PSQUZ"
                                },
                                {
                                    "CustomerId": "64",
                                    "CustomerCompanyName": "Customer LWGMD"
                                }
                            ]
                        },
                        "text/html": "<table><tr><th>CustomerId</th><th>CustomerCompanyName</th></tr><tr><td>20</td><td>Customer THHDP</td></tr><tr><td>47</td><td>Customer PSQUZ</td></tr><tr><td>64</td><td>Customer LWGMD</td></tr></table>"
                    },
                    "metadata": {}
                }
            ],
            "execution_count": 14
        },
        {
            "cell_type": "markdown",
            "source": [
                "## <span style=\"color:darkred;\">**Case #007: The Secret Supplier**</span>\n",
                "\n",
                "<p style=\"color:gray; font-size:14px;\"><b>Story:</b>  \n",
                "A supplier seems to supply products for only a single category. Investigate these special suppliers.</p>\n",
                "\n",
                "<p style=\"color:gray; font-size:14px;\"><b>Objectives:</b></p>\n",
                "<ul style=\"color:darkgreen; font-size:14px;\">\n",
                "<li>Identify suppliers supplying products in only one category.</li>\n",
                "<li>List products supplied by these suppliers.</li>\n",
                "</ul>\n",
                "\n",
                "<p style=\"color:darkorange; font-size:14px;\"><b>Hint:</b> Use GROUP BY and HAVING to count distinct categories per supplier.</p>\n",
                ""
            ],
            "metadata": {
                "azdata_cell_guid": "dac8c7c5-287e-4676-993c-1aae4306c2b3",
                "language": ""
            },
            "attachments": {}
        },
        {
            "cell_type": "code",
            "source": [
                "SELECT TOP (2) pp.SupplierId\n",
                "FROM Production.Product AS pp\n",
                "GROUP BY SupplierId\n",
                "HAVING COUNT(DISTINCT CategoryId) = 1;\n",
                "\n",
                "SELECT pp.ProductId, pp.ProductName, pp.SupplierId, pp.CategoryId\n",
                "FROM Production.Product AS pp\n",
                "WHERE SupplierId IN (2,5)"
            ],
            "metadata": {
                "azdata_cell_guid": "6a0eb659-0f6a-438c-8e9d-2f34fbde09d7",
                "language": "sql"
            },
            "outputs": [
                {
                    "output_type": "display_data",
                    "data": {
                        "text/html": "(2 rows affected)"
                    },
                    "metadata": {}
                },
                {
                    "output_type": "display_data",
                    "data": {
                        "text/html": "(6 rows affected)"
                    },
                    "metadata": {}
                },
                {
                    "output_type": "display_data",
                    "data": {
                        "text/html": "Total execution time: 00:00:00.003"
                    },
                    "metadata": {}
                },
                {
                    "output_type": "execute_result",
                    "execution_count": 15,
                    "data": {
                        "application/vnd.dataresource+json": {
                            "schema": {
                                "fields": [
                                    {
                                        "name": "SupplierId"
                                    }
                                ]
                            },
                            "data": [
                                {
                                    "SupplierId": "2"
                                },
                                {
                                    "SupplierId": "5"
                                }
                            ]
                        },
                        "text/html": "<table><tr><th>SupplierId</th></tr><tr><td>2</td></tr><tr><td>5</td></tr></table>"
                    },
                    "metadata": {}
                },
                {
                    "output_type": "execute_result",
                    "execution_count": 15,
                    "data": {
                        "application/vnd.dataresource+json": {
                            "schema": {
                                "fields": [
                                    {
                                        "name": "ProductId"
                                    },
                                    {
                                        "name": "ProductName"
                                    },
                                    {
                                        "name": "SupplierId"
                                    },
                                    {
                                        "name": "CategoryId"
                                    }
                                ]
                            },
                            "data": [
                                {
                                    "ProductId": "4",
                                    "ProductName": "Product KSBRM",
                                    "SupplierId": "2",
                                    "CategoryId": "2"
                                },
                                {
                                    "ProductId": "5",
                                    "ProductName": "Product EPEIM",
                                    "SupplierId": "2",
                                    "CategoryId": "2"
                                },
                                {
                                    "ProductId": "11",
                                    "ProductName": "Product QMVUN",
                                    "SupplierId": "5",
                                    "CategoryId": "4"
                                },
                                {
                                    "ProductId": "12",
                                    "ProductName": "Product OSFNS",
                                    "SupplierId": "5",
                                    "CategoryId": "4"
                                },
                                {
                                    "ProductId": "65",
                                    "ProductName": "Product XYWBZ",
                                    "SupplierId": "2",
                                    "CategoryId": "2"
                                },
                                {
                                    "ProductId": "66",
                                    "ProductName": "Product LQMGN",
                                    "SupplierId": "2",
                                    "CategoryId": "2"
                                }
                            ]
                        },
                        "text/html": "<table><tr><th>ProductId</th><th>ProductName</th><th>SupplierId</th><th>CategoryId</th></tr><tr><td>4</td><td>Product KSBRM</td><td>2</td><td>2</td></tr><tr><td>5</td><td>Product EPEIM</td><td>2</td><td>2</td></tr><tr><td>11</td><td>Product QMVUN</td><td>5</td><td>4</td></tr><tr><td>12</td><td>Product OSFNS</td><td>5</td><td>4</td></tr><tr><td>65</td><td>Product XYWBZ</td><td>2</td><td>2</td></tr><tr><td>66</td><td>Product LQMGN</td><td>2</td><td>2</td></tr></table>"
                    },
                    "metadata": {}
                }
            ],
            "execution_count": 15
        }
    ]
}