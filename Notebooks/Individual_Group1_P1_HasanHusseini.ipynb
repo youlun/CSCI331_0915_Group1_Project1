{
    "metadata": {
        "kernelspec": {
            "name": "SQL",
            "display_name": "SQL",
            "language": "sql"
        },
        "language_info": {
            "name": "sql",
            "version": ""
        }
    },
    "nbformat_minor": 2,
    "nbformat": 4,
    "cells": [
        {
            "cell_type": "markdown",
            "source": [
                "Empty Shells and Hollow Sales\n",
                "\n",
                "Among the busy chatter of businessmen & women in suits, a stressed voice rings out above all - \"It's been going on for too long, these orders just don't look right, and the numbers don't add up! There has to be something malicious going on!<span style=\"color: var(--vscode-foreground);\">\" the CEO says in the boardroom. Pointing to you, the freshly hired Database intern, ID 86, and the senior developer you're working under, she orders \"You two, drop what you're doing and work on getting to the bottom of this. I'll send you the details.\"</span>\n",
                "\n",
                "<span style=\"color: var(--vscode-foreground);\">A few minutes later, after the meeting, you ask in your head, what could it be? Money laundering? Who could be doing it? An organized crime syndicate? Maybe even a foreign government? None of these are impossible, after all. But it could also just be the fault of some buggy code, especially with AI starting to become prevalent as of this year.\" Before you can think it through, your phone buzzes with a notification - opening it, it reads:</span>\n",
                "\n",
                "<span style=\"color: var(--vscode-foreground);\">From: <a href=\"mailto:sardavis1975@northwinds.com\" data-href=\"mailto:sardavis1975@northwinds.com\" title=\"mailto:sardavis1975@northwinds.com\" is-markdown=\"true\" is-absolute=\"false\">sardavis1975@northwinds.com</a></span>\n",
                "\n",
                "<span style=\"color: var(--vscode-foreground);\">Hello,&nbsp;DB_INT_0086</span>\n",
                "\n",
                "This is a message from the office of Sara Davis, CEO of NorthWinds. As you heard earlier, we've begun to suspect that some entity is using our company to move something through our company. I've decided to delegate this task to you, as all other DB teams are occupied with other necessary or urgent tasks. You're not alone in this, however, and the senior developer you're working under has provided you with some instructions, attached below.\n",
                "\n",
                "\"Hey, you might be wondering why this is a database issue and not a cybersec one. Also might be wondering why the CEO trusted an intern with such a task - Knowing her, she probably just sees potential in you. Anyways, some of the execs had a moment of genius and realized that the best way to track this is by seeing where the money and products move in the database. We're fairly sure this would most realistically be through the use of shell companies, as they're the best way to do these kinds of operations. Here's what you'll be querying for: \n",
                "\n",
                "Look for companies with low order quantities that also have huge order values. We don't wanna mix our data up, so stick to the last 12 months.\n",
                "\n",
                "See if these potential shell companies all send to the same regions. \n",
                "\n",
                "Note any common suppliers\n",
                "\n",
                "Note whether any employees within the company works with these shell companies and processes their transactions\n",
                "\n",
                "Tie it together - What leads can we gain from inside the company, and better yet, if possible - Who is behind all of this? -Don Funk\"\n",
                "\n",
                "You will have until 10/26/2021 11:59 PM. I consider this to be the ultimate test - If you get me the information I need, your hiring into the company past the internship is guaranteed. Good luck and have good thinking."
            ],
            "metadata": {
                "azdata_cell_guid": "d571b553-ca2e-471b-81c7-3a0df72a4e87"
            },
            "attachments": {}
        },
        {
            "cell_type": "code",
            "source": [
                "SELECT TOP 25\r\n",
                "    od.OrderID,\r\n",
                "    o.CustomerID,\r\n",
                "    SUM(od.UnitPrice * od.Quantity) AS TotalOrderValue\r\n",
                "FROM Sales.OrderDetail AS od\r\n",
                "JOIN Sales.[Order] AS o ON o.OrderID = od.OrderID\r\n",
                "WHERE o.OrderDate >= DATEADD(YEAR, -4, GETDATE()) \r\n",
                "-- Note: No orders from 2022-25, so we simply set the story to take place in 2021 and ignore that that says -4.\r\n",
                "GROUP BY od.OrderID, o.CustomerID\r\n",
                "ORDER BY TotalOrderValue DESC;"
            ],
            "metadata": {
                "azdata_cell_guid": "29896564-11b1-457c-9065-3dc4cdc87d17",
                "language": "sql",
                "tags": []
            },
            "outputs": [
                {
                    "output_type": "display_data",
                    "data": {
                        "text/html": "(25 rows affected)"
                    },
                    "metadata": {}
                },
                {
                    "output_type": "display_data",
                    "data": {
                        "text/html": "Total execution time: 00:00:00.006"
                    },
                    "metadata": {}
                },
                {
                    "output_type": "execute_result",
                    "execution_count": 20,
                    "data": {
                        "application/vnd.dataresource+json": {
                            "schema": {
                                "fields": [
                                    {
                                        "name": "OrderID"
                                    },
                                    {
                                        "name": "CustomerID"
                                    },
                                    {
                                        "name": "TotalOrderValue"
                                    }
                                ]
                            },
                            "data": [
                                {
                                    "OrderID": "10865",
                                    "CustomerID": "63",
                                    "TotalOrderValue": "17250.00"
                                },
                                {
                                    "OrderID": "11030",
                                    "CustomerID": "71",
                                    "TotalOrderValue": "16321.90"
                                },
                                {
                                    "OrderID": "10981",
                                    "CustomerID": "34",
                                    "TotalOrderValue": "15810.00"
                                },
                                {
                                    "OrderID": "10817",
                                    "CustomerID": "39",
                                    "TotalOrderValue": "11490.70"
                                },
                                {
                                    "OrderID": "10889",
                                    "CustomerID": "65",
                                    "TotalOrderValue": "11380.00"
                                },
                                {
                                    "OrderID": "10897",
                                    "CustomerID": "37",
                                    "TotalOrderValue": "10835.24"
                                },
                                {
                                    "OrderID": "11032",
                                    "CustomerID": "89",
                                    "TotalOrderValue": "8902.50"
                                },
                                {
                                    "OrderID": "10816",
                                    "CustomerID": "32",
                                    "TotalOrderValue": "8891.00"
                                },
                                {
                                    "OrderID": "10912",
                                    "CustomerID": "37",
                                    "TotalOrderValue": "8267.40"
                                },
                                {
                                    "OrderID": "10776",
                                    "CustomerID": "20",
                                    "TotalOrderValue": "6984.50"
                                },
                                {
                                    "OrderID": "11021",
                                    "CustomerID": "63",
                                    "TotalOrderValue": "6941.49"
                                },
                                {
                                    "OrderID": "11017",
                                    "CustomerID": "20",
                                    "TotalOrderValue": "6750.00"
                                },
                                {
                                    "OrderID": "10993",
                                    "CustomerID": "24",
                                    "TotalOrderValue": "6527.25"
                                },
                                {
                                    "OrderID": "10895",
                                    "CustomerID": "20",
                                    "TotalOrderValue": "6379.40"
                                },
                                {
                                    "OrderID": "10847",
                                    "CustomerID": "71",
                                    "TotalOrderValue": "6164.90"
                                },
                                {
                                    "OrderID": "10893",
                                    "CustomerID": "39",
                                    "TotalOrderValue": "5502.11"
                                },
                                {
                                    "OrderID": "11072",
                                    "CustomerID": "20",
                                    "TotalOrderValue": "5218.00"
                                },
                                {
                                    "OrderID": "10990",
                                    "CustomerID": "20",
                                    "TotalOrderValue": "4931.00"
                                },
                                {
                                    "OrderID": "11008",
                                    "CustomerID": "20",
                                    "TotalOrderValue": "4903.50"
                                },
                                {
                                    "OrderID": "10979",
                                    "CustomerID": "20",
                                    "TotalOrderValue": "4813.50"
                                },
                                {
                                    "OrderID": "10941",
                                    "CustomerID": "71",
                                    "TotalOrderValue": "4769.00"
                                },
                                {
                                    "OrderID": "11064",
                                    "CustomerID": "71",
                                    "TotalOrderValue": "4722.30"
                                },
                                {
                                    "OrderID": "10836",
                                    "CustomerID": "20",
                                    "TotalOrderValue": "4705.50"
                                },
                                {
                                    "OrderID": "10953",
                                    "CustomerID": "4",
                                    "TotalOrderValue": "4675.00"
                                },
                                {
                                    "OrderID": "10841",
                                    "CustomerID": "76",
                                    "TotalOrderValue": "4581.00"
                                }
                            ]
                        },
                        "text/html": "<table><tr><th>OrderID</th><th>CustomerID</th><th>TotalOrderValue</th></tr><tr><td>10865</td><td>63</td><td>17250.00</td></tr><tr><td>11030</td><td>71</td><td>16321.90</td></tr><tr><td>10981</td><td>34</td><td>15810.00</td></tr><tr><td>10817</td><td>39</td><td>11490.70</td></tr><tr><td>10889</td><td>65</td><td>11380.00</td></tr><tr><td>10897</td><td>37</td><td>10835.24</td></tr><tr><td>11032</td><td>89</td><td>8902.50</td></tr><tr><td>10816</td><td>32</td><td>8891.00</td></tr><tr><td>10912</td><td>37</td><td>8267.40</td></tr><tr><td>10776</td><td>20</td><td>6984.50</td></tr><tr><td>11021</td><td>63</td><td>6941.49</td></tr><tr><td>11017</td><td>20</td><td>6750.00</td></tr><tr><td>10993</td><td>24</td><td>6527.25</td></tr><tr><td>10895</td><td>20</td><td>6379.40</td></tr><tr><td>10847</td><td>71</td><td>6164.90</td></tr><tr><td>10893</td><td>39</td><td>5502.11</td></tr><tr><td>11072</td><td>20</td><td>5218.00</td></tr><tr><td>10990</td><td>20</td><td>4931.00</td></tr><tr><td>11008</td><td>20</td><td>4903.50</td></tr><tr><td>10979</td><td>20</td><td>4813.50</td></tr><tr><td>10941</td><td>71</td><td>4769.00</td></tr><tr><td>11064</td><td>71</td><td>4722.30</td></tr><tr><td>10836</td><td>20</td><td>4705.50</td></tr><tr><td>10953</td><td>4</td><td>4675.00</td></tr><tr><td>10841</td><td>76</td><td>4581.00</td></tr></table>"
                    },
                    "metadata": {}
                }
            ],
            "execution_count": 20
        },
        {
            "cell_type": "markdown",
            "source": [
                "<u>Database Intern 86's Notes - Part 1</u>\n",
                "\n",
                "\"Out of the top 25, a lot of the orders are collectively made up from IDs 65, 71, 39, 37 and 20, all notable for their repeat orders. However, these are not who we're considering. Shell companies usually come in large numbers with low order values each.\n",
                "\n",
                "So the next queries will look at companyIDs **89, 76, 65, 34, 32, 24,** and **4** \\- eliminate from there.\""
            ],
            "metadata": {
                "azdata_cell_guid": "d4d42e3f-0f75-4ad2-90d7-3ec7aa9bc24b"
            },
            "attachments": {}
        },
        {
            "cell_type": "code",
            "source": [
                "SELECT \r\n",
                "    o.CustomerID,\r\n",
                "    COUNT(o.OrderID) AS TotalOrders\r\n",
                "FROM Sales.[Order] AS o\r\n",
                "WHERE o.CustomerID IN (89, 76, 65, 34, 32, 24, 4)\r\n",
                "AND o.OrderDate >= DATEADD(YEAR, -4, GETDATE())\r\n",
                "GROUP BY o.CustomerID\r\n",
                "ORDER BY TotalOrders DESC;"
            ],
            "metadata": {
                "azdata_cell_guid": "7d49aa02-d842-4079-9929-df0f6c985097",
                "language": "sql"
            },
            "outputs": [
                {
                    "output_type": "display_data",
                    "data": {
                        "text/html": "(7 rows affected)"
                    },
                    "metadata": {}
                },
                {
                    "output_type": "display_data",
                    "data": {
                        "text/html": "Total execution time: 00:00:00.010"
                    },
                    "metadata": {}
                },
                {
                    "output_type": "execute_result",
                    "execution_count": 21,
                    "data": {
                        "application/vnd.dataresource+json": {
                            "schema": {
                                "fields": [
                                    {
                                        "name": "CustomerID"
                                    },
                                    {
                                        "name": "TotalOrders"
                                    }
                                ]
                            },
                            "data": [
                                {
                                    "CustomerID": "24",
                                    "TotalOrders": "11"
                                },
                                {
                                    "CustomerID": "34",
                                    "TotalOrders": "9"
                                },
                                {
                                    "CustomerID": "4",
                                    "TotalOrders": "8"
                                },
                                {
                                    "CustomerID": "65",
                                    "TotalOrders": "7"
                                },
                                {
                                    "CustomerID": "76",
                                    "TotalOrders": "7"
                                },
                                {
                                    "CustomerID": "89",
                                    "TotalOrders": "6"
                                },
                                {
                                    "CustomerID": "32",
                                    "TotalOrders": "5"
                                }
                            ]
                        },
                        "text/html": "<table><tr><th>CustomerID</th><th>TotalOrders</th></tr><tr><td>24</td><td>11</td></tr><tr><td>34</td><td>9</td></tr><tr><td>4</td><td>8</td></tr><tr><td>65</td><td>7</td></tr><tr><td>76</td><td>7</td></tr><tr><td>89</td><td>6</td></tr><tr><td>32</td><td>5</td></tr></table>"
                    },
                    "metadata": {}
                }
            ],
            "execution_count": 21
        },
        {
            "cell_type": "markdown",
            "source": [
                "<u>Database Intern 86's Notes - Part 2</u>\n",
                "\n",
                "\"From here, our best leads are **32**, **89**, and maybe **76** and **65** - I'll include them just for investigative purposes. Next up, we find where they shipped their stuff to.\""
            ],
            "metadata": {
                "azdata_cell_guid": "67a5f923-ab35-4282-94c3-4597eef3f976"
            },
            "attachments": {}
        },
        {
            "cell_type": "code",
            "source": [
                "SELECT \r\n",
                "    o.CustomerID,\r\n",
                "    o.ShipToCountry,\r\n",
                "    o.ShipToRegion,\r\n",
                "    o.ShipToCity,\r\n",
                "    COUNT(o.OrderID) AS TotalOrders\r\n",
                "FROM Sales.[Order] AS o\r\n",
                "WHERE o.CustomerID IN (32, 89, 76, 65)\r\n",
                "  AND o.OrderDate >= DATEADD(YEAR, -4, GETDATE())\r\n",
                "GROUP BY o.CustomerID, o.ShipToCountry, o.ShipToRegion, o.ShipToCity\r\n",
                "ORDER BY o.CustomerID, TotalOrders DESC;"
            ],
            "metadata": {
                "azdata_cell_guid": "e2416820-ae77-4e53-b302-5e3c5b72a1e8",
                "language": "sql",
                "tags": []
            },
            "outputs": [
                {
                    "output_type": "display_data",
                    "data": {
                        "text/html": "(4 rows affected)"
                    },
                    "metadata": {}
                },
                {
                    "output_type": "display_data",
                    "data": {
                        "text/html": "Total execution time: 00:00:00.010"
                    },
                    "metadata": {}
                },
                {
                    "output_type": "execute_result",
                    "execution_count": 23,
                    "data": {
                        "application/vnd.dataresource+json": {
                            "schema": {
                                "fields": [
                                    {
                                        "name": "CustomerID"
                                    },
                                    {
                                        "name": "ShipToCountry"
                                    },
                                    {
                                        "name": "ShipToRegion"
                                    },
                                    {
                                        "name": "ShipToCity"
                                    },
                                    {
                                        "name": "TotalOrders"
                                    }
                                ]
                            },
                            "data": [
                                {
                                    "CustomerID": "32",
                                    "ShipToCountry": "USA",
                                    "ShipToRegion": "OR",
                                    "ShipToCity": "Eugene",
                                    "TotalOrders": "5"
                                },
                                {
                                    "CustomerID": "65",
                                    "ShipToCountry": "USA",
                                    "ShipToRegion": "NM",
                                    "ShipToCity": "Albuquerque",
                                    "TotalOrders": "7"
                                },
                                {
                                    "CustomerID": "76",
                                    "ShipToCountry": "Belgium",
                                    "ShipToRegion": "NULL",
                                    "ShipToCity": "Charleroi",
                                    "TotalOrders": "7"
                                },
                                {
                                    "CustomerID": "89",
                                    "ShipToCountry": "USA",
                                    "ShipToRegion": "WA",
                                    "ShipToCity": "Seattle",
                                    "TotalOrders": "6"
                                }
                            ]
                        },
                        "text/html": "<table><tr><th>CustomerID</th><th>ShipToCountry</th><th>ShipToRegion</th><th>ShipToCity</th><th>TotalOrders</th></tr><tr><td>32</td><td>USA</td><td>OR</td><td>Eugene</td><td>5</td></tr><tr><td>65</td><td>USA</td><td>NM</td><td>Albuquerque</td><td>7</td></tr><tr><td>76</td><td>Belgium</td><td>NULL</td><td>Charleroi</td><td>7</td></tr><tr><td>89</td><td>USA</td><td>WA</td><td>Seattle</td><td>6</td></tr></table>"
                    },
                    "metadata": {}
                }
            ],
            "execution_count": 23
        },
        {
            "cell_type": "markdown",
            "source": [
                "<u>Database Intern 86's Notes - Part 3</u>\n",
                "\n",
                "\"Right there, **32** and **89** both ship to the US Northwest - Oregon and Washington States, which border each other. \n",
                "\n",
                "I've now got to see who handled their sales.\""
            ],
            "metadata": {
                "azdata_cell_guid": "ed23461a-7391-4b6d-92be-ba46c4e9bf76"
            },
            "attachments": {}
        },
        {
            "cell_type": "code",
            "source": [
                "SELECT DISTINCT\r\n",
                "    o.CustomerID,\r\n",
                "    o.EmployeeID,\r\n",
                "    e.EmployeeFirstName,\r\n",
                "    e.EmployeeLastName\r\n",
                "FROM Sales.[Order] AS o\r\n",
                "JOIN HumanResources.Employee AS e ON e.EmployeeId = o.EmployeeID\r\n",
                "WHERE o.CustomerID IN (32, 89)\r\n",
                "  AND o.OrderDate >= DATEADD(YEAR, -4, GETDATE())\r\n",
                "ORDER BY o.CustomerID, e.EmployeeLastName, e.EmployeeFirstName;"
            ],
            "metadata": {
                "azdata_cell_guid": "fcdc30bc-694a-4879-9819-aeee7dc221a3",
                "language": "sql"
            },
            "outputs": [
                {
                    "output_type": "display_data",
                    "data": {
                        "text/html": "(6 rows affected)"
                    },
                    "metadata": {}
                },
                {
                    "output_type": "display_data",
                    "data": {
                        "text/html": "Total execution time: 00:00:00.011"
                    },
                    "metadata": {}
                },
                {
                    "output_type": "execute_result",
                    "execution_count": 25,
                    "data": {
                        "application/vnd.dataresource+json": {
                            "schema": {
                                "fields": [
                                    {
                                        "name": "CustomerID"
                                    },
                                    {
                                        "name": "EmployeeID"
                                    },
                                    {
                                        "name": "EmployeeFirstName"
                                    },
                                    {
                                        "name": "EmployeeLastName"
                                    }
                                ]
                            },
                            "data": [
                                {
                                    "CustomerID": "32",
                                    "EmployeeID": "3",
                                    "EmployeeFirstName": "Judy",
                                    "EmployeeLastName": "Lew"
                                },
                                {
                                    "CustomerID": "32",
                                    "EmployeeID": "4",
                                    "EmployeeFirstName": "Yael",
                                    "EmployeeLastName": "Peled"
                                },
                                {
                                    "CustomerID": "89",
                                    "EmployeeID": "2",
                                    "EmployeeFirstName": "Don",
                                    "EmployeeLastName": "Funk"
                                },
                                {
                                    "CustomerID": "89",
                                    "EmployeeID": "7",
                                    "EmployeeFirstName": "Russell",
                                    "EmployeeLastName": "King"
                                },
                                {
                                    "CustomerID": "89",
                                    "EmployeeID": "3",
                                    "EmployeeFirstName": "Judy",
                                    "EmployeeLastName": "Lew"
                                },
                                {
                                    "CustomerID": "89",
                                    "EmployeeID": "4",
                                    "EmployeeFirstName": "Yael",
                                    "EmployeeLastName": "Peled"
                                }
                            ]
                        },
                        "text/html": "<table><tr><th>CustomerID</th><th>EmployeeID</th><th>EmployeeFirstName</th><th>EmployeeLastName</th></tr><tr><td>32</td><td>3</td><td>Judy</td><td>Lew</td></tr><tr><td>32</td><td>4</td><td>Yael</td><td>Peled</td></tr><tr><td>89</td><td>2</td><td>Don</td><td>Funk</td></tr><tr><td>89</td><td>7</td><td>Russell</td><td>King</td></tr><tr><td>89</td><td>3</td><td>Judy</td><td>Lew</td></tr><tr><td>89</td><td>4</td><td>Yael</td><td>Peled</td></tr></table>"
                    },
                    "metadata": {}
                }
            ],
            "execution_count": 25
        },
        {
            "cell_type": "markdown",
            "source": [
                "<u>Database Intern 86's Notes - Part 4</u>\n",
                "\n",
                "Those are the two. **Judy Lew**, and **Yael Peled.** Russel King and Don Funk don't have 32 in common, so we don't need to worry about those two. Plus, these instructions actually are pretty sound, so I don't think Funk would guide me if he was in on this.\n",
                "\n",
                "For good measure, I'm also going to see, what suppliers their stuff came from <span style=\"color: var(--vscode-foreground);\">for these orders.</span>"
            ],
            "metadata": {
                "azdata_cell_guid": "5ad9b6f4-6535-47c5-8efa-61bfcc9ba0d5"
            },
            "attachments": {}
        },
        {
            "cell_type": "code",
            "source": [
                "SELECT \r\n",
                "    o.CustomerID,\r\n",
                "    o.EmployeeID,\r\n",
                "    s.SupplierID,\r\n",
                "    s.SupplierCompanyName AS SupplierName\r\n",
                "FROM Sales.[Order] AS o\r\n",
                "JOIN Sales.OrderDetail AS od \r\n",
                "    ON od.OrderID = o.OrderID\r\n",
                "JOIN Production.Product AS p \r\n",
                "    ON p.ProductID = od.ProductID\r\n",
                "JOIN Production.Supplier AS s \r\n",
                "    ON s.SupplierID = p.SupplierID\r\n",
                "WHERE o.CustomerID IN (32, 89)\r\n",
                "  AND o.EmployeeID IN (3, 4)\r\n",
                "  AND o.OrderDate >= DATEADD(YEAR, -4, GETDATE())\r\n",
                "ORDER BY o.CustomerID, o.EmployeeID, s.SupplierAddress;"
            ],
            "metadata": {
                "azdata_cell_guid": "ebba11bc-a3bc-4f45-812e-76a09611f567",
                "language": "sql"
            },
            "outputs": [
                {
                    "output_type": "display_data",
                    "data": {
                        "text/html": "(19 rows affected)"
                    },
                    "metadata": {}
                },
                {
                    "output_type": "display_data",
                    "data": {
                        "text/html": "Total execution time: 00:00:00.013"
                    },
                    "metadata": {}
                },
                {
                    "output_type": "execute_result",
                    "execution_count": 28,
                    "data": {
                        "application/vnd.dataresource+json": {
                            "schema": {
                                "fields": [
                                    {
                                        "name": "CustomerID"
                                    },
                                    {
                                        "name": "EmployeeID"
                                    },
                                    {
                                        "name": "SupplierID"
                                    },
                                    {
                                        "name": "SupplierName"
                                    }
                                ]
                            },
                            "data": [
                                {
                                    "CustomerID": "32",
                                    "EmployeeID": "3",
                                    "SupplierID": "1",
                                    "SupplierName": "Supplier SWRXU"
                                },
                                {
                                    "CustomerID": "32",
                                    "EmployeeID": "3",
                                    "SupplierID": "12",
                                    "SupplierName": "Supplier SVIYA"
                                },
                                {
                                    "CustomerID": "32",
                                    "EmployeeID": "3",
                                    "SupplierID": "17",
                                    "SupplierName": "Supplier QZGUF"
                                },
                                {
                                    "CustomerID": "32",
                                    "EmployeeID": "4",
                                    "SupplierID": "29",
                                    "SupplierName": "Supplier OGLRK"
                                },
                                {
                                    "CustomerID": "32",
                                    "EmployeeID": "4",
                                    "SupplierID": "18",
                                    "SupplierName": "Supplier LVJUA"
                                },
                                {
                                    "CustomerID": "32",
                                    "EmployeeID": "4",
                                    "SupplierID": "8",
                                    "SupplierName": "Supplier BWGYE"
                                },
                                {
                                    "CustomerID": "32",
                                    "EmployeeID": "4",
                                    "SupplierID": "28",
                                    "SupplierName": "Supplier OAVQT"
                                },
                                {
                                    "CustomerID": "89",
                                    "EmployeeID": "3",
                                    "SupplierID": "29",
                                    "SupplierName": "Supplier OGLRK"
                                },
                                {
                                    "CustomerID": "89",
                                    "EmployeeID": "3",
                                    "SupplierID": "27",
                                    "SupplierName": "Supplier ZRYDZ"
                                },
                                {
                                    "CustomerID": "89",
                                    "EmployeeID": "3",
                                    "SupplierID": "11",
                                    "SupplierName": "Supplier ZPYVS"
                                },
                                {
                                    "CustomerID": "89",
                                    "EmployeeID": "4",
                                    "SupplierID": "29",
                                    "SupplierName": "Supplier OGLRK"
                                },
                                {
                                    "CustomerID": "89",
                                    "EmployeeID": "4",
                                    "SupplierID": "7",
                                    "SupplierName": "Supplier GQRCV"
                                },
                                {
                                    "CustomerID": "89",
                                    "EmployeeID": "4",
                                    "SupplierID": "7",
                                    "SupplierName": "Supplier GQRCV"
                                },
                                {
                                    "CustomerID": "89",
                                    "EmployeeID": "4",
                                    "SupplierID": "16",
                                    "SupplierName": "Supplier UHZRG"
                                },
                                {
                                    "CustomerID": "89",
                                    "EmployeeID": "4",
                                    "SupplierID": "8",
                                    "SupplierName": "Supplier BWGYE"
                                },
                                {
                                    "CustomerID": "89",
                                    "EmployeeID": "4",
                                    "SupplierID": "12",
                                    "SupplierName": "Supplier SVIYA"
                                },
                                {
                                    "CustomerID": "89",
                                    "EmployeeID": "4",
                                    "SupplierID": "15",
                                    "SupplierName": "Supplier NZLIF"
                                },
                                {
                                    "CustomerID": "89",
                                    "EmployeeID": "4",
                                    "SupplierID": "21",
                                    "SupplierName": "Supplier XOXZA"
                                },
                                {
                                    "CustomerID": "89",
                                    "EmployeeID": "4",
                                    "SupplierID": "26",
                                    "SupplierName": "Supplier ZWZDM"
                                }
                            ]
                        },
                        "text/html": "<table><tr><th>CustomerID</th><th>EmployeeID</th><th>SupplierID</th><th>SupplierName</th></tr><tr><td>32</td><td>3</td><td>1</td><td>Supplier SWRXU</td></tr><tr><td>32</td><td>3</td><td>12</td><td>Supplier SVIYA</td></tr><tr><td>32</td><td>3</td><td>17</td><td>Supplier QZGUF</td></tr><tr><td>32</td><td>4</td><td>29</td><td>Supplier OGLRK</td></tr><tr><td>32</td><td>4</td><td>18</td><td>Supplier LVJUA</td></tr><tr><td>32</td><td>4</td><td>8</td><td>Supplier BWGYE</td></tr><tr><td>32</td><td>4</td><td>28</td><td>Supplier OAVQT</td></tr><tr><td>89</td><td>3</td><td>29</td><td>Supplier OGLRK</td></tr><tr><td>89</td><td>3</td><td>27</td><td>Supplier ZRYDZ</td></tr><tr><td>89</td><td>3</td><td>11</td><td>Supplier ZPYVS</td></tr><tr><td>89</td><td>4</td><td>29</td><td>Supplier OGLRK</td></tr><tr><td>89</td><td>4</td><td>7</td><td>Supplier GQRCV</td></tr><tr><td>89</td><td>4</td><td>7</td><td>Supplier GQRCV</td></tr><tr><td>89</td><td>4</td><td>16</td><td>Supplier UHZRG</td></tr><tr><td>89</td><td>4</td><td>8</td><td>Supplier BWGYE</td></tr><tr><td>89</td><td>4</td><td>12</td><td>Supplier SVIYA</td></tr><tr><td>89</td><td>4</td><td>15</td><td>Supplier NZLIF</td></tr><tr><td>89</td><td>4</td><td>21</td><td>Supplier XOXZA</td></tr><tr><td>89</td><td>4</td><td>26</td><td>Supplier ZWZDM</td></tr></table>"
                    },
                    "metadata": {}
                }
            ],
            "execution_count": 28
        },
        {
            "cell_type": "markdown",
            "source": [
                "<u>Database Intern 86's Notes - Part 5</u>\n",
                "\n",
                "\"I've found three supplier companies who fit the requirements. \n",
                "\n",
                "**OGLRK, ID 29,** supplied to both 32 and 89.\n",
                "\n",
                "**SVIYA, ID 12,** supplied to both 32 and 89.\n",
                "\n",
                "**BWGYE, ID 8,** supplied to both 32 and 89.\n",
                "\n",
                "Also I've just realized I forgot to get the company names for 32 and 89, so I'll do that before I send in the data.\""
            ],
            "metadata": {
                "azdata_cell_guid": "e5e659a9-fc55-44a9-a154-d3c168f9f84d"
            },
            "attachments": {}
        },
        {
            "cell_type": "code",
            "source": [
                "SELECT c.CustomerCompanyName,\r\n",
                "c.CustomerId\r\n",
                "FROM Sales.Customer AS c\r\n",
                "WHERE c.CustomerId IN (32, 89);"
            ],
            "metadata": {
                "azdata_cell_guid": "a77e1f00-ff81-4e99-9b44-810169f3cb39",
                "language": "sql"
            },
            "outputs": [
                {
                    "output_type": "display_data",
                    "data": {
                        "text/html": "(2 rows affected)"
                    },
                    "metadata": {}
                },
                {
                    "output_type": "display_data",
                    "data": {
                        "text/html": "Total execution time: 00:00:00.009"
                    },
                    "metadata": {}
                },
                {
                    "output_type": "execute_result",
                    "execution_count": 29,
                    "data": {
                        "application/vnd.dataresource+json": {
                            "schema": {
                                "fields": [
                                    {
                                        "name": "CustomerCompanyName"
                                    },
                                    {
                                        "name": "CustomerId"
                                    }
                                ]
                            },
                            "data": [
                                {
                                    "CustomerCompanyName": "Customer YSIQX",
                                    "CustomerId": "32"
                                },
                                {
                                    "CustomerCompanyName": "Customer YBQTI",
                                    "CustomerId": "89"
                                }
                            ]
                        },
                        "text/html": "<table><tr><th>CustomerCompanyName</th><th>CustomerId</th></tr><tr><td>Customer YSIQX</td><td>32</td></tr><tr><td>Customer YBQTI</td><td>89</td></tr></table>"
                    },
                    "metadata": {}
                }
            ],
            "execution_count": 29
        },
        {
            "cell_type": "markdown",
            "source": [
                "To: [sardavis1975@northwinds.com](mailto:sardavis@gmail.com)\n",
                "\n",
                "CC: [davfunk1987@northwinds.com](mailto:davfunk1987@northwinds.com)\n",
                "\n",
                "Subject: NorthWinds Database Querying Results\n",
                "\n",
                "Good evening, I hope this email finds you well.\n",
                "\n",
                "Thanks to both of your instructions, I've managed to pinpoint two companies which seem to be moving money through our company, the suppliers they purchase from, and possibly two salespeople that have been handling their orders. I will list below the names as well as attach the ipynb file containing my queries and notes. I hope that the company may take this information and use it to further investigate and shut down the illegal operation. For the resources I have access to, I believe I have closed thecase as far as I'm able to, and I hope that this is satisfactory. Have a great night.\n",
                "\n",
                "Suspected Shell Company Names, IDs: YSIQX, 32 & YBQTI, 89\n",
                "\n",
                "Supplier Names, IDs: <span style=\"color: var(--vscode-foreground);\">BWGYE, 8 &amp;&nbsp;</span>  <span style=\"color: var(--vscode-foreground);\">SVIYA, 12 &amp;</span> OGLRK, 29\n",
                "\n",
                "Suspected Salespeople Names, IDs: Judy Lew, 3 & Yael Peled, 4\n",
                "\n",
                "Best,\n",
                "\n",
                "86\n",
                "\n",
                "\\--The End--"
            ],
            "metadata": {
                "azdata_cell_guid": "bcbf5216-1806-4602-8f15-98faf720dd44"
            },
            "attachments": {}
        },
        {
            "cell_type": "markdown",
            "source": [
                "<u>**As I've Written**</u>\n",
                "\n",
                "<span style=\"color: var(--vscode-foreground);\"><i style=\"\">AI Note:</i></span>\n",
                "\n",
                "I came up with the story, writing, etc, but I did have ChatGPT help me with formatting company emails and also with perfecting the query just below Part 4 of the notes (What suppliers were involved?).\n",
                "\n",
                "<u>NACE</u>\n",
                "\n",
                "Critical Thinking - To come up with a story that fit the queries, I had to develop queries that fit the story. and to do that I had to write reactively to the data. In addition, pattern recognition is the foundational skill required to solve this type of problem, which mirrors real-world analytical thinking processes more than simply query writing - I have to think ahead of time and adapt accordingly.\n",
                "\n",
                "Technology - NorthWinds was a completely unfamiliar database, and to navigate it required skill in SQL to write and debug and even refactor queries accordingly. It was also necessary to write the story.\n",
                "\n",
                "Communications/Teamwork & Leadership - In the story, the player character is seen to be practicing pair programming with their senior Don Funk, and in a \"meta\" sense, this project requires good communication and teamwork for sections of it like the video and GitHub. \n",
                "\n",
                "Professionalism - The documentation of the player character's progress, as well as the mock emails serve to mirror the expectations of how an actual database intern should write documentation and emails.\n",
                "\n",
                "Career & Self-Development - Real-world problem solving requires a level of autonomy one cannot reach just by following instructions. By having Funk \"push\" the player in the right direction, they're allowed to discover while still making steady progress on the investigation\n",
                "\n",
                "Equity & Inclusion - For the CEO to reach all the way down to a database intern to help solve an important company issue shows a strong sense of inclusivity. The project also implies the importance of ethical responsibility through the use of data to hold two other company members accountable.\n",
                "\n",
                "<u>Personal Notes</u> (These can be ignored for the purpose of the assignment)\n",
                "\n",
                "I believe I did a good job capturing the \"investigation\" aspect of this project. While 86 (The player character) doesn't solo close the case, it's also just mostly realistic that they can't. They're a fresh hire, and databases do provide a lot of info, but without any hard evidence from actually investigating things on-site, it's not really possible to prove anyone did something. It's also my first thing writing anything like this - anything else I've written out of pure creativity has really just not been about any form of mystery/investigative work or modern concepts like databases and companies. I just hope that above all else I made it realistic. I even went a step above to find the names of the CEO and the senior I was working under, and make them emails to write to. If there are preexisting emails, uhhh.... oops. \n",
                "\n",
                "I was honestly hoping for 65 to have more connections, with it being in Albuqerque, to have some more associations for purposes that may be related to a certain TV show involving _chemistry_ of sorts, but I digress. Would've been funny though."
            ],
            "metadata": {
                "azdata_cell_guid": "0fe067da-a6f0-4fc7-a1e0-f969c8493427"
            },
            "attachments": {}
        }
    ]
}