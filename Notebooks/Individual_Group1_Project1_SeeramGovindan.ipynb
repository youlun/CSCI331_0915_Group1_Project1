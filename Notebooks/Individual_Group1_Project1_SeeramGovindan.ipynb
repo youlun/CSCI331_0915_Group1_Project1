{
    "metadata": {
        "kernelspec": {
            "name": "SQL",
            "display_name": "SQL",
            "language": "sql"
        },
        "language_info": {
            "name": "sql",
            "version": ""
        }
    },
    "nbformat_minor": 2,
    "nbformat": 4,
    "cells": [
        {
            "cell_type": "code",
            "source": [
                "/* \r\n",
                "Mystery #1\r\n",
                "In Providence Territory something has gone wrong.\r\n",
                "Orders from there aren’t being shipped out. \r\n",
                "Find out which customers are affected and who their sales reps are.\r\n",
                "*/\r\n",
                "\r\n",
                "SELECT\r\n",
                "    o.OrderID,\r\n",
                "    c.CompanyName AS Customer,\r\n",
                "    c.Region,\r\n",
                "    o.OrderDate,\r\n",
                "    o.ShippedDate,\r\n",
                "    e.FirstName + ' ' + e.LastName AS SalesRep\r\n",
                "FROM Orders AS o\r\n",
                "JOIN Customers AS c\r\n",
                "    ON o.CustomerID = c.CustomerID\r\n",
                "JOIN Employees AS e\r\n",
                "    ON o.EmployeeID = e.EmployeeID\r\n",
                "WHERE o.ShippedDate IS NULL\r\n",
                "  AND c.Region = 'Providence'\r\n",
                "ORDER BY c.Region, o.OrderDate;\r\n",
                ""
            ],
            "metadata": {
                "azdata_cell_guid": "59a9ceb2-fb2f-446f-9de5-9ddc28a65ae3",
                "language": "sql"
            },
            "outputs": [
                {
                    "output_type": "display_data",
                    "data": {
                        "text/html": "(0 rows affected)"
                    },
                    "metadata": {}
                },
                {
                    "output_type": "display_data",
                    "data": {
                        "text/html": "Total execution time: 00:00:00.005"
                    },
                    "metadata": {}
                },
                {
                    "output_type": "execute_result",
                    "execution_count": 1,
                    "data": {
                        "application/vnd.dataresource+json": {
                            "schema": {
                                "fields": [
                                    {
                                        "name": "OrderID"
                                    },
                                    {
                                        "name": "Customer"
                                    },
                                    {
                                        "name": "Region"
                                    },
                                    {
                                        "name": "OrderDate"
                                    },
                                    {
                                        "name": "ShippedDate"
                                    },
                                    {
                                        "name": "SalesRep"
                                    }
                                ]
                            },
                            "data": []
                        },
                        "text/html": "<table><tr><th>OrderID</th><th>Customer</th><th>Region</th><th>OrderDate</th><th>ShippedDate</th><th>SalesRep</th></tr></table>"
                    },
                    "metadata": {}
                }
            ],
            "execution_count": 1
        },
        {
            "cell_type": "code",
            "source": [
                "/* \r\n",
                "Mystery #2 \r\n",
                "Aniseed Syrup has changed its QuantityPerUnit to \"12 - 550ml bottles.\"\r\n",
                "I heard they were recently under new ownership.\r\n",
                "Find out who is changing these bottle sizes.\r\n",
                "*/\r\n",
                "\r\n",
                "SELECT\r\n",
                "    p.ProductID,\r\n",
                "    p.ProductName,\r\n",
                "    p.QuantityPerUnit,\r\n",
                "    s.CompanyName AS Supplier,\r\n",
                "    s.ContactName AS SupplierContact,\r\n",
                "    s.Country\r\n",
                "FROM Products AS p\r\n",
                "JOIN Suppliers AS s\r\n",
                "    ON p.SupplierID = s.SupplierID\r\n",
                "WHERE p.ProductName = 'Aniseed Syrup';\r\n",
                ""
            ],
            "metadata": {
                "azdata_cell_guid": "445690a5-cc95-40d1-b24e-df39ab83346b",
                "language": "sql"
            },
            "outputs": [
                {
                    "output_type": "display_data",
                    "data": {
                        "text/html": "(1 row affected)"
                    },
                    "metadata": {}
                },
                {
                    "output_type": "display_data",
                    "data": {
                        "text/html": "Total execution time: 00:00:00.024"
                    },
                    "metadata": {}
                },
                {
                    "output_type": "execute_result",
                    "execution_count": 8,
                    "data": {
                        "application/vnd.dataresource+json": {
                            "schema": {
                                "fields": [
                                    {
                                        "name": "ProductID"
                                    },
                                    {
                                        "name": "ProductName"
                                    },
                                    {
                                        "name": "QuantityPerUnit"
                                    },
                                    {
                                        "name": "Supplier"
                                    },
                                    {
                                        "name": "SupplierContact"
                                    },
                                    {
                                        "name": "Country"
                                    }
                                ]
                            },
                            "data": [
                                {
                                    "ProductID": "3",
                                    "ProductName": "Aniseed Syrup",
                                    "QuantityPerUnit": "12 - 550 ml bottles",
                                    "Supplier": "Exotic Liquids",
                                    "SupplierContact": "Charlotte Cooper",
                                    "Country": "UK"
                                }
                            ]
                        },
                        "text/html": "<table><tr><th>ProductID</th><th>ProductName</th><th>QuantityPerUnit</th><th>Supplier</th><th>SupplierContact</th><th>Country</th></tr><tr><td>3</td><td>Aniseed Syrup</td><td>12 - 550 ml bottles</td><td>Exotic Liquids</td><td>Charlotte Cooper</td><td>UK</td></tr></table>"
                    },
                    "metadata": {}
                }
            ],
            "execution_count": 8
        },
        {
            "cell_type": "code",
            "source": [
                "/* \r\n",
                "Mystery #3\r\n",
                "There was a large quantity of orders that were discounted only 0.2%.\r\n",
                "Find out what those orders are.\r\n",
                "*/\r\n",
                "\r\n",
                "SELECT\r\n",
                "    *\r\n",
                "FROM [Order Details]\r\n",
                "WHERE Quantity = 70\r\n",
                "  AND Discount = 0.2;\r\n",
                ""
            ],
            "metadata": {
                "azdata_cell_guid": "ad8e112c-fd99-4c3a-87a7-e71a2ca6d0b8",
                "language": "sql",
                "tags": []
            },
            "outputs": [
                {
                    "output_type": "display_data",
                    "data": {
                        "text/html": "(2 rows affected)"
                    },
                    "metadata": {}
                },
                {
                    "output_type": "display_data",
                    "data": {
                        "text/html": "Total execution time: 00:00:00.004"
                    },
                    "metadata": {}
                },
                {
                    "output_type": "execute_result",
                    "execution_count": 3,
                    "data": {
                        "application/vnd.dataresource+json": {
                            "schema": {
                                "fields": [
                                    {
                                        "name": "OrderID"
                                    },
                                    {
                                        "name": "ProductID"
                                    },
                                    {
                                        "name": "UnitPrice"
                                    },
                                    {
                                        "name": "Quantity"
                                    },
                                    {
                                        "name": "Discount"
                                    }
                                ]
                            },
                            "data": [
                                {
                                    "OrderID": "10430",
                                    "ProductID": "59",
                                    "UnitPrice": "44.00",
                                    "Quantity": "70",
                                    "Discount": "0.2"
                                },
                                {
                                    "OrderID": "10773",
                                    "ProductID": "31",
                                    "UnitPrice": "12.50",
                                    "Quantity": "70",
                                    "Discount": "0.2"
                                }
                            ]
                        },
                        "text/html": "<table><tr><th>OrderID</th><th>ProductID</th><th>UnitPrice</th><th>Quantity</th><th>Discount</th></tr><tr><td>10430</td><td>59</td><td>44.00</td><td>70</td><td>0.2</td></tr><tr><td>10773</td><td>31</td><td>12.50</td><td>70</td><td>0.2</td></tr></table>"
                    },
                    "metadata": {}
                }
            ],
            "execution_count": 3
        },
        {
            "cell_type": "markdown",
            "source": [
                ""
            ],
            "metadata": {
                "azdata_cell_guid": "86ca73ad-d572-48e4-9786-6e1e30a30877"
            }
        },
        {
            "cell_type": "code",
            "source": [
                "/* \r\n",
                "Mystery #4\r\n",
                "An employee is on the inside of one of the suppliers.\r\n",
                "They have something in common that makes it seem suspicious.\r\n",
                "Find out what it is.\r\n",
                "\r\n",
                "*/\r\n",
                "\r\n",
                "SELECT\r\n",
                "    e.EmployeeID,\r\n",
                "    e.FirstName,\r\n",
                "    e.LastName,\r\n",
                "    s.SupplierID,\r\n",
                "    s.CompanyName,\r\n",
                "    s.City\r\n",
                "FROM Employees AS e\r\n",
                "JOIN Suppliers AS s\r\n",
                "    ON e.City = s.City\r\n",
                "ORDER BY e.City;\r\n",
                ""
            ],
            "metadata": {
                "azdata_cell_guid": "4b3f5441-d409-49ba-858f-65babba86d20",
                "language": "sql"
            },
            "outputs": [
                {
                    "output_type": "display_data",
                    "data": {
                        "text/html": "(4 rows affected)"
                    },
                    "metadata": {}
                },
                {
                    "output_type": "display_data",
                    "data": {
                        "text/html": "Total execution time: 00:00:00.013"
                    },
                    "metadata": {}
                },
                {
                    "output_type": "execute_result",
                    "execution_count": 4,
                    "data": {
                        "application/vnd.dataresource+json": {
                            "schema": {
                                "fields": [
                                    {
                                        "name": "EmployeeID"
                                    },
                                    {
                                        "name": "FirstName"
                                    },
                                    {
                                        "name": "LastName"
                                    },
                                    {
                                        "name": "SupplierID"
                                    },
                                    {
                                        "name": "CompanyName"
                                    },
                                    {
                                        "name": "City"
                                    }
                                ]
                            },
                            "data": [
                                {
                                    "EmployeeID": "5",
                                    "FirstName": "Steven",
                                    "LastName": "Buchanan",
                                    "SupplierID": "1",
                                    "CompanyName": "Exotic Liquids",
                                    "City": "London"
                                },
                                {
                                    "EmployeeID": "6",
                                    "FirstName": "Michael",
                                    "LastName": "Suyama",
                                    "SupplierID": "1",
                                    "CompanyName": "Exotic Liquids",
                                    "City": "London"
                                },
                                {
                                    "EmployeeID": "7",
                                    "FirstName": "Robert",
                                    "LastName": "King",
                                    "SupplierID": "1",
                                    "CompanyName": "Exotic Liquids",
                                    "City": "London"
                                },
                                {
                                    "EmployeeID": "9",
                                    "FirstName": "Anne",
                                    "LastName": "Dodsworth",
                                    "SupplierID": "1",
                                    "CompanyName": "Exotic Liquids",
                                    "City": "London"
                                }
                            ]
                        },
                        "text/html": "<table><tr><th>EmployeeID</th><th>FirstName</th><th>LastName</th><th>SupplierID</th><th>CompanyName</th><th>City</th></tr><tr><td>5</td><td>Steven</td><td>Buchanan</td><td>1</td><td>Exotic Liquids</td><td>London</td></tr><tr><td>6</td><td>Michael</td><td>Suyama</td><td>1</td><td>Exotic Liquids</td><td>London</td></tr><tr><td>7</td><td>Robert</td><td>King</td><td>1</td><td>Exotic Liquids</td><td>London</td></tr><tr><td>9</td><td>Anne</td><td>Dodsworth</td><td>1</td><td>Exotic Liquids</td><td>London</td></tr></table>"
                    },
                    "metadata": {}
                }
            ],
            "execution_count": 4
        },
        {
            "cell_type": "code",
            "source": [
                "/* \r\n",
                "Mystery #5 The Discount Conspiracy\r\n",
                "An anonymous tip mentions certain products are being sold at 20% off \r\n",
                "a little too often to be coincidence. Track down these suspicious transactions.\r\n",
                "*/\r\n",
                "\r\n",
                "SELECT\r\n",
                "    o.OrderID,\r\n",
                "    c.CompanyName AS Customer,\r\n",
                "    e.LastName AS SalesRep,\r\n",
                "    p.ProductName,\r\n",
                "    od.Quantity,\r\n",
                "    od.Discount\r\n",
                "FROM [Order Details] AS od\r\n",
                "JOIN Orders AS o ON od.OrderID = o.OrderID\r\n",
                "JOIN Customers AS c ON o.CustomerID = c.CustomerID\r\n",
                "JOIN Employees AS e ON o.EmployeeID = e.EmployeeID\r\n",
                "JOIN Products AS p ON od.ProductID = p.ProductID\r\n",
                "WHERE od.Discount >= 0.2\r\n",
                "ORDER BY od.Discount DESC, od.Quantity DESC;\r\n",
                ""
            ],
            "metadata": {
                "azdata_cell_guid": "0274db40-b8d9-4429-a31e-5c91183bf5ad",
                "language": "sql"
            },
            "outputs": [
                {
                    "output_type": "display_data",
                    "data": {
                        "text/html": "(315 rows affected)"
                    },
                    "metadata": {}
                },
                {
                    "output_type": "display_data",
                    "data": {
                        "text/html": "Total execution time: 00:00:00.020"
                    },
                    "metadata": {}
                },
                {
                    "output_type": "execute_result",
                    "execution_count": 5,
                    "data": {
                        "application/vnd.dataresource+json": {
                            "schema": {
                                "fields": [
                                    {
                                        "name": "OrderID"
                                    },
                                    {
                                        "name": "Customer"
                                    },
                                    {
                                        "name": "SalesRep"
                                    },
                                    {
                                        "name": "ProductName"
                                    },
                                    {
                                        "name": "Quantity"
                                    },
                                    {
                                        "name": "Discount"
                                    }
                                ]
                            },
                            "data": [
                                {
                                    "OrderID": "10595",
                                    "Customer": "Ernst Handel",
                                    "SalesRep": "Fuller",
                                    "ProductName": "Sirop d'érable",
                                    "Quantity": "120",
                                    "Discount": "0.25"
                                },
                                {
                                    "OrderID": "11030",
                                    "Customer": "Save-a-lot Markets",
                                    "SalesRep": "King",
                                    "ProductName": "Chang",
                                    "Quantity": "100",
                                    "Discount": "0.25"
                                },
                                {
                                    "OrderID": "11030",
                                    "Customer": "Save-a-lot Markets",
                                    "SalesRep": "King",
                                    "ProductName": "Raclette Courdavault",
                                    "Quantity": "100",
                                    "Discount": "0.25"
                                },
                                {
                                    "OrderID": "10941",
                                    "Customer": "Save-a-lot Markets",
                                    "SalesRep": "King",
                                    "ProductName": "Scottish Longbreads",
                                    "Quantity": "80",
                                    "Discount": "0.25"
                                },
                                {
                                    "OrderID": "10344",
                                    "Customer": "White Clover Markets",
                                    "SalesRep": "Peacock",
                                    "ProductName": "Northwoods Cranberry Sauce",
                                    "Quantity": "70",
                                    "Discount": "0.25"
                                },
                                {
                                    "OrderID": "10372",
                                    "Customer": "Queen Cozinha",
                                    "SalesRep": "Buchanan",
                                    "ProductName": "Camembert Pierrot",
                                    "Quantity": "70",
                                    "Discount": "0.25"
                                },
                                {
                                    "OrderID": "10393",
                                    "Customer": "Save-a-lot Markets",
                                    "SalesRep": "Davolio",
                                    "ProductName": "Gumbär Gummibärchen",
                                    "Quantity": "70",
                                    "Discount": "0.25"
                                },
                                {
                                    "OrderID": "10595",
                                    "Customer": "Ernst Handel",
                                    "SalesRep": "Fuller",
                                    "ProductName": "Gudbrandsdalsost",
                                    "Quantity": "65",
                                    "Discount": "0.25"
                                },
                                {
                                    "OrderID": "10461",
                                    "Customer": "LILA-Supermercado",
                                    "SalesRep": "Davolio",
                                    "ProductName": "Pâté chinois",
                                    "Quantity": "60",
                                    "Discount": "0.25"
                                },
                                {
                                    "OrderID": "10263",
                                    "Customer": "Ernst Handel",
                                    "SalesRep": "Dodsworth",
                                    "ProductName": "Pavlova",
                                    "Quantity": "60",
                                    "Discount": "0.25"
                                },
                                {
                                    "OrderID": "10263",
                                    "Customer": "Ernst Handel",
                                    "SalesRep": "Dodsworth",
                                    "ProductName": "Nord-Ost Matjeshering",
                                    "Quantity": "60",
                                    "Discount": "0.25"
                                },
                                {
                                    "OrderID": "10918",
                                    "Customer": "Bottom-Dollar Markets",
                                    "SalesRep": "Leverling",
                                    "ProductName": "Chai",
                                    "Quantity": "60",
                                    "Discount": "0.25"
                                },
                                {
                                    "OrderID": "10912",
                                    "Customer": "Hungry Owl All-Night Grocers",
                                    "SalesRep": "Fuller",
                                    "ProductName": "Thüringer Rostbratwurst",
                                    "Quantity": "60",
                                    "Discount": "0.25"
                                },
                                {
                                    "OrderID": "10802",
                                    "Customer": "Simons bistro",
                                    "SalesRep": "Peacock",
                                    "ProductName": "Pâté chinois",
                                    "Quantity": "60",
                                    "Discount": "0.25"
                                },
                                {
                                    "OrderID": "11030",
                                    "Customer": "Save-a-lot Markets",
                                    "SalesRep": "King",
                                    "ProductName": "Thüringer Rostbratwurst",
                                    "Quantity": "60",
                                    "Discount": "0.25"
                                },
                                {
                                    "OrderID": "10993",
                                    "Customer": "Folk och fä HB",
                                    "SalesRep": "King",
                                    "ProductName": "Thüringer Rostbratwurst",
                                    "Quantity": "50",
                                    "Discount": "0.25"
                                },
                                {
                                    "OrderID": "10838",
                                    "Customer": "LINO-Delicateses",
                                    "SalesRep": "Leverling",
                                    "ProductName": "Inlagd Sill",
                                    "Quantity": "50",
                                    "Discount": "0.25"
                                },
                                {
                                    "OrderID": "10680",
                                    "Customer": "Old World Delicatessen",
                                    "SalesRep": "Davolio",
                                    "ProductName": "Pavlova",
                                    "Quantity": "50",
                                    "Discount": "0.25"
                                },
                                {
                                    "OrderID": "10687",
                                    "Customer": "Hungry Owl All-Night Grocers",
                                    "SalesRep": "Dodsworth",
                                    "ProductName": "Mishi Kobe Niku",
                                    "Quantity": "50",
                                    "Discount": "0.25"
                                },
                                {
                                    "OrderID": "10714",
                                    "Customer": "Save-a-lot Markets",
                                    "SalesRep": "Buchanan",
                                    "ProductName": "Zaanse koeken",
                                    "Quantity": "50",
                                    "Discount": "0.25"
                                },
                                {
                                    "OrderID": "10431",
                                    "Customer": "Bottom-Dollar Markets",
                                    "SalesRep": "Peacock",
                                    "ProductName": "Alice Mutton",
                                    "Quantity": "50",
                                    "Discount": "0.25"
                                },
                                {
                                    "OrderID": "10431",
                                    "Customer": "Bottom-Dollar Markets",
                                    "SalesRep": "Peacock",
                                    "ProductName": "Boston Crab Meat",
                                    "Quantity": "50",
                                    "Discount": "0.25"
                                },
                                {
                                    "OrderID": "10938",
                                    "Customer": "QUICK-Stop",
                                    "SalesRep": "Leverling",
                                    "ProductName": "Camembert Pierrot",
                                    "Quantity": "49",
                                    "Discount": "0.25"
                                },
                                {
                                    "OrderID": "10941",
                                    "Customer": "Save-a-lot Markets",
                                    "SalesRep": "King",
                                    "ProductName": "Gorgonzola Telino",
                                    "Quantity": "44",
                                    "Discount": "0.25"
                                },
                                {
                                    "OrderID": "11021",
                                    "Customer": "QUICK-Stop",
                                    "SalesRep": "Leverling",
                                    "ProductName": "Manjimup Dried Apples",
                                    "Quantity": "44",
                                    "Discount": "0.25"
                                },
                                {
                                    "OrderID": "10372",
                                    "Customer": "Queen Cozinha",
                                    "SalesRep": "Buchanan",
                                    "ProductName": "Mozzarella di Giovanni",
                                    "Quantity": "42",
                                    "Discount": "0.25"
                                },
                                {
                                    "OrderID": "10393",
                                    "Customer": "Save-a-lot Markets",
                                    "SalesRep": "Davolio",
                                    "ProductName": "Tofu",
                                    "Quantity": "42",
                                    "Discount": "0.25"
                                },
                                {
                                    "OrderID": "10372",
                                    "Customer": "Queen Cozinha",
                                    "SalesRep": "Buchanan",
                                    "ProductName": "Côte de Blaye",
                                    "Quantity": "40",
                                    "Discount": "0.25"
                                },
                                {
                                    "OrderID": "10298",
                                    "Customer": "Hungry Owl All-Night Grocers",
                                    "SalesRep": "Suyama",
                                    "ProductName": "Inlagd Sill",
                                    "Quantity": "40",
                                    "Discount": "0.25"
                                },
                                {
                                    "OrderID": "10461",
                                    "Customer": "LILA-Supermercado",
                                    "SalesRep": "Davolio",
                                    "ProductName": "Sir Rodney's Scones",
                                    "Quantity": "40",
                                    "Discount": "0.25"
                                },
                                {
                                    "OrderID": "10913",
                                    "Customer": "Queen Cozinha",
                                    "SalesRep": "Peacock",
                                    "ProductName": "Geitost",
                                    "Quantity": "40",
                                    "Discount": "0.25"
                                },
                                {
                                    "OrderID": "10866",
                                    "Customer": "Berglunds snabbköp",
                                    "SalesRep": "Buchanan",
                                    "ProductName": "Nord-Ost Matjeshering",
                                    "Quantity": "40",
                                    "Discount": "0.25"
                                },
                                {
                                    "OrderID": "10912",
                                    "Customer": "Hungry Owl All-Night Grocers",
                                    "SalesRep": "Fuller",
                                    "ProductName": "Queso Cabrales",
                                    "Quantity": "40",
                                    "Discount": "0.25"
                                },
                                {
                                    "OrderID": "10859",
                                    "Customer": "Frankenversand",
                                    "SalesRep": "Davolio",
                                    "ProductName": "Guaraná Fantástica",
                                    "Quantity": "40",
                                    "Discount": "0.25"
                                },
                                {
                                    "OrderID": "10801",
                                    "Customer": "Bólido Comidas preparadas",
                                    "SalesRep": "Peacock",
                                    "ProductName": "Alice Mutton",
                                    "Quantity": "40",
                                    "Discount": "0.25"
                                },
                                {
                                    "OrderID": "10837",
                                    "Customer": "Berglunds snabbköp",
                                    "SalesRep": "Dodsworth",
                                    "ProductName": "Zaanse koeken",
                                    "Quantity": "40",
                                    "Discount": "0.25"
                                },
                                {
                                    "OrderID": "10680",
                                    "Customer": "Old World Delicatessen",
                                    "SalesRep": "Davolio",
                                    "ProductName": "Singaporean Hokkien Fried Mee",
                                    "Quantity": "40",
                                    "Discount": "0.25"
                                },
                                {
                                    "OrderID": "10719",
                                    "Customer": "Let's Stop N Shop",
                                    "SalesRep": "Callahan",
                                    "ProductName": "Tourtière",
                                    "Quantity": "40",
                                    "Discount": "0.25"
                                },
                                {
                                    "OrderID": "10263",
                                    "Customer": "Ernst Handel",
                                    "SalesRep": "Dodsworth",
                                    "ProductName": "Longlife Tofu",
                                    "Quantity": "36",
                                    "Discount": "0.25"
                                },
                                {
                                    "OrderID": "10417",
                                    "Customer": "Simons bistro",
                                    "SalesRep": "Peacock",
                                    "ProductName": "Scottish Longbreads",
                                    "Quantity": "36",
                                    "Discount": "0.25"
                                },
                                {
                                    "OrderID": "10429",
                                    "Customer": "Hungry Owl All-Night Grocers",
                                    "SalesRep": "Leverling",
                                    "ProductName": "Vegie-spread",
                                    "Quantity": "35",
                                    "Discount": "0.25"
                                },
                                {
                                    "OrderID": "10536",
                                    "Customer": "Lehmanns Marktstand",
                                    "SalesRep": "Leverling",
                                    "ProductName": "Camembert Pierrot",
                                    "Quantity": "35",
                                    "Discount": "0.25"
                                },
                                {
                                    "OrderID": "10761",
                                    "Customer": "Rattlesnake Canyon Grocery",
                                    "SalesRep": "Buchanan",
                                    "ProductName": "NuNuCa Nuß-Nougat-Creme",
                                    "Quantity": "35",
                                    "Discount": "0.25"
                                },
                                {
                                    "OrderID": "10795",
                                    "Customer": "Ernst Handel",
                                    "SalesRep": "Callahan",
                                    "ProductName": "Alice Mutton",
                                    "Quantity": "35",
                                    "Discount": "0.25"
                                },
                                {
                                    "OrderID": "10646",
                                    "Customer": "Hungry Owl All-Night Grocers",
                                    "SalesRep": "Dodsworth",
                                    "ProductName": "Original Frankfurter grüne Soße",
                                    "Quantity": "35",
                                    "Discount": "0.25"
                                },
                                {
                                    "OrderID": "10689",
                                    "Customer": "Berglunds snabbköp",
                                    "SalesRep": "Davolio",
                                    "ProductName": "Chai",
                                    "Quantity": "35",
                                    "Discount": "0.25"
                                },
                                {
                                    "OrderID": "10859",
                                    "Customer": "Frankenversand",
                                    "SalesRep": "Davolio",
                                    "ProductName": "Tourtière",
                                    "Quantity": "35",
                                    "Discount": "0.25"
                                },
                                {
                                    "OrderID": "10857",
                                    "Customer": "Berglunds snabbköp",
                                    "SalesRep": "Callahan",
                                    "ProductName": "Gumbär Gummibärchen",
                                    "Quantity": "35",
                                    "Discount": "0.25"
                                },
                                {
                                    "OrderID": "10938",
                                    "Customer": "QUICK-Stop",
                                    "SalesRep": "Leverling",
                                    "ProductName": "Flotemysost",
                                    "Quantity": "35",
                                    "Discount": "0.25"
                                },
                                {
                                    "OrderID": "10993",
                                    "Customer": "Folk och fä HB",
                                    "SalesRep": "King",
                                    "ProductName": "Jack's New England Clam Chowder",
                                    "Quantity": "35",
                                    "Discount": "0.25"
                                },
                                {
                                    "OrderID": "11027",
                                    "Customer": "Bottom-Dollar Markets",
                                    "SalesRep": "Davolio",
                                    "ProductName": "Guaraná Fantástica",
                                    "Quantity": "30",
                                    "Discount": "0.25"
                                },
                                {
                                    "OrderID": "11000",
                                    "Customer": "Rattlesnake Canyon Grocery",
                                    "SalesRep": "Fuller",
                                    "ProductName": "Guaraná Fantástica",
                                    "Quantity": "30",
                                    "Discount": "0.25"
                                },
                                {
                                    "OrderID": "11047",
                                    "Customer": "Eastern Connection",
                                    "SalesRep": "King",
                                    "ProductName": "Chef Anton's Gumbo Mix",
                                    "Quantity": "30",
                                    "Discount": "0.25"
                                },
                                {
                                    "OrderID": "10941",
                                    "Customer": "Save-a-lot Markets",
                                    "SalesRep": "King",
                                    "ProductName": "Tarte au sucre",
                                    "Quantity": "30",
                                    "Discount": "0.25"
                                },
                                {
                                    "OrderID": "10877",
                                    "Customer": "Ricardo Adocicados",
                                    "SalesRep": "Davolio",
                                    "ProductName": "Pavlova",
                                    "Quantity": "30",
                                    "Discount": "0.25"
                                },
                                {
                                    "OrderID": "10913",
                                    "Customer": "Queen Cozinha",
                                    "SalesRep": "Peacock",
                                    "ProductName": "Chef Anton's Cajun Seasoning",
                                    "Quantity": "30",
                                    "Discount": "0.25"
                                },
                                {
                                    "OrderID": "10859",
                                    "Customer": "Frankenversand",
                                    "SalesRep": "Davolio",
                                    "ProductName": "Wimmers gute Semmelknödel",
                                    "Quantity": "30",
                                    "Discount": "0.25"
                                },
                                {
                                    "OrderID": "10802",
                                    "Customer": "Simons bistro",
                                    "SalesRep": "Peacock",
                                    "ProductName": "Manjimup Dried Apples",
                                    "Quantity": "30",
                                    "Discount": "0.25"
                                },
                                {
                                    "OrderID": "10690",
                                    "Customer": "Hanari Carnes",
                                    "SalesRep": "Davolio",
                                    "ProductName": "Original Frankfurter grüne Soße",
                                    "Quantity": "30",
                                    "Discount": "0.25"
                                },
                                {
                                    "OrderID": "10646",
                                    "Customer": "Hungry Owl All-Night Grocers",
                                    "SalesRep": "Dodsworth",
                                    "ProductName": "Flotemysost",
                                    "Quantity": "30",
                                    "Discount": "0.25"
                                },
                                {
                                    "OrderID": "10697",
                                    "Customer": "LINO-Delicateses",
                                    "SalesRep": "Leverling",
                                    "ProductName": "Escargots de Bourgogne",
                                    "Quantity": "30",
                                    "Discount": "0.25"
                                },
                                {
                                    "OrderID": "10697",
                                    "Customer": "LINO-Delicateses",
                                    "SalesRep": "Leverling",
                                    "ProductName": "Outback Lager",
                                    "Quantity": "30",
                                    "Discount": "0.25"
                                },
                                {
                                    "OrderID": "10760",
                                    "Customer": "Maison Dewey",
                                    "SalesRep": "Peacock",
                                    "ProductName": "Ipoh Coffee",
                                    "Quantity": "30",
                                    "Discount": "0.25"
                                },
                                {
                                    "OrderID": "10714",
                                    "Customer": "Save-a-lot Markets",
                                    "SalesRep": "Buchanan",
                                    "ProductName": "Chang",
                                    "Quantity": "30",
                                    "Discount": "0.25"
                                },
                                {
                                    "OrderID": "10755",
                                    "Customer": "Bon app'",
                                    "SalesRep": "Peacock",
                                    "ProductName": "Zaanse koeken",
                                    "Quantity": "30",
                                    "Discount": "0.25"
                                },
                                {
                                    "OrderID": "10755",
                                    "Customer": "Bon app'",
                                    "SalesRep": "Peacock",
                                    "ProductName": "Gnocchi di nonna Alice",
                                    "Quantity": "30",
                                    "Discount": "0.25"
                                },
                                {
                                    "OrderID": "10595",
                                    "Customer": "Ernst Handel",
                                    "SalesRep": "Fuller",
                                    "ProductName": "Steeleye Stout",
                                    "Quantity": "30",
                                    "Discount": "0.25"
                                },
                                {
                                    "OrderID": "10431",
                                    "Customer": "Bottom-Dollar Markets",
                                    "SalesRep": "Peacock",
                                    "ProductName": "Zaanse koeken",
                                    "Quantity": "30",
                                    "Discount": "0.25"
                                },
                                {
                                    "OrderID": "10298",
                                    "Customer": "Hungry Owl All-Night Grocers",
                                    "SalesRep": "Suyama",
                                    "ProductName": "Raclette Courdavault",
                                    "Quantity": "30",
                                    "Discount": "0.25"
                                },
                                {
                                    "OrderID": "10461",
                                    "Customer": "LILA-Supermercado",
                                    "SalesRep": "Davolio",
                                    "ProductName": "Nord-Ost Matjeshering",
                                    "Quantity": "28",
                                    "Discount": "0.25"
                                },
                                {
                                    "OrderID": "10714",
                                    "Customer": "Save-a-lot Markets",
                                    "SalesRep": "Buchanan",
                                    "ProductName": "Alice Mutton",
                                    "Quantity": "27",
                                    "Discount": "0.25"
                                },
                                {
                                    "OrderID": "10755",
                                    "Customer": "Bon app'",
                                    "SalesRep": "Peacock",
                                    "ProductName": "Gudbrandsdalsost",
                                    "Quantity": "25",
                                    "Discount": "0.25"
                                },
                                {
                                    "OrderID": "10802",
                                    "Customer": "Simons bistro",
                                    "SalesRep": "Peacock",
                                    "ProductName": "Nord-Ost Matjeshering",
                                    "Quantity": "25",
                                    "Discount": "0.25"
                                },
                                {
                                    "OrderID": "10838",
                                    "Customer": "LINO-Delicateses",
                                    "SalesRep": "Leverling",
                                    "ProductName": "Carnarvon Tigers",
                                    "Quantity": "25",
                                    "Discount": "0.25"
                                },
                                {
                                    "OrderID": "10918",
                                    "Customer": "Bottom-Dollar Markets",
                                    "SalesRep": "Leverling",
                                    "ProductName": "Camembert Pierrot",
                                    "Quantity": "25",
                                    "Discount": "0.25"
                                },
                                {
                                    "OrderID": "10393",
                                    "Customer": "Save-a-lot Markets",
                                    "SalesRep": "Davolio",
                                    "ProductName": "Chang",
                                    "Quantity": "25",
                                    "Discount": "0.25"
                                },
                                {
                                    "OrderID": "11047",
                                    "Customer": "Eastern Connection",
                                    "SalesRep": "King",
                                    "ProductName": "Chai",
                                    "Quantity": "25",
                                    "Discount": "0.25"
                                },
                                {
                                    "OrderID": "11000",
                                    "Customer": "Rattlesnake Canyon Grocery",
                                    "SalesRep": "Fuller",
                                    "ProductName": "Chef Anton's Cajun Seasoning",
                                    "Quantity": "25",
                                    "Discount": "0.25"
                                },
                                {
                                    "OrderID": "10938",
                                    "Customer": "QUICK-Stop",
                                    "SalesRep": "Leverling",
                                    "ProductName": "Ipoh Coffee",
                                    "Quantity": "24",
                                    "Discount": "0.25"
                                },
                                {
                                    "OrderID": "10487",
                                    "Customer": "Queen Cozinha",
                                    "SalesRep": "Fuller",
                                    "ProductName": "Tourtière",
                                    "Quantity": "24",
                                    "Discount": "0.25"
                                },
                                {
                                    "OrderID": "10460",
                                    "Customer": "Folk och fä HB",
                                    "SalesRep": "Callahan",
                                    "ProductName": "Scottish Longbreads",
                                    "Quantity": "21",
                                    "Discount": "0.25"
                                },
                                {
                                    "OrderID": "10477",
                                    "Customer": "Princesa Isabel Vinhos",
                                    "SalesRep": "Buchanan",
                                    "ProductName": "Sir Rodney's Scones",
                                    "Quantity": "21",
                                    "Discount": "0.25"
                                },
                                {
                                    "OrderID": "10610",
                                    "Customer": "La maison d'Asie",
                                    "SalesRep": "Callahan",
                                    "ProductName": "Inlagd Sill",
                                    "Quantity": "21",
                                    "Discount": "0.25"
                                },
                                {
                                    "OrderID": "10260",
                                    "Customer": "Ottilies Käseladen",
                                    "SalesRep": "Peacock",
                                    "ProductName": "Outback Lager",
                                    "Quantity": "21",
                                    "Discount": "0.25"
                                },
                                {
                                    "OrderID": "10866",
                                    "Customer": "Berglunds snabbköp",
                                    "SalesRep": "Buchanan",
                                    "ProductName": "Chang",
                                    "Quantity": "21",
                                    "Discount": "0.25"
                                },
                                {
                                    "OrderID": "10837",
                                    "Customer": "Berglunds snabbköp",
                                    "SalesRep": "Dodsworth",
                                    "ProductName": "Lakkalikööri",
                                    "Quantity": "21",
                                    "Discount": "0.25"
                                },
                                {
                                    "OrderID": "10643",
                                    "Customer": "Alfreds Futterkiste",
                                    "SalesRep": "Suyama",
                                    "ProductName": "Chartreuse verte",
                                    "Quantity": "21",
                                    "Discount": "0.25"
                                },
                                {
                                    "OrderID": "11027",
                                    "Customer": "Bottom-Dollar Markets",
                                    "SalesRep": "Davolio",
                                    "ProductName": "Tarte au sucre",
                                    "Quantity": "21",
                                    "Discount": "0.25"
                                },
                                {
                                    "OrderID": "10997",
                                    "Customer": "LILA-Supermercado",
                                    "SalesRep": "Callahan",
                                    "ProductName": "Spegesild",
                                    "Quantity": "20",
                                    "Discount": "0.25"
                                },
                                {
                                    "OrderID": "10997",
                                    "Customer": "LILA-Supermercado",
                                    "SalesRep": "Callahan",
                                    "ProductName": "Filo Mix",
                                    "Quantity": "20",
                                    "Discount": "0.25"
                                },
                                {
                                    "OrderID": "11065",
                                    "Customer": "LILA-Supermercado",
                                    "SalesRep": "Callahan",
                                    "ProductName": "Tourtière",
                                    "Quantity": "20",
                                    "Discount": "0.25"
                                },
                                {
                                    "OrderID": "11076",
                                    "Customer": "Bon app'",
                                    "SalesRep": "Peacock",
                                    "ProductName": "Grandma's Boysenberry Spread",
                                    "Quantity": "20",
                                    "Discount": "0.25"
                                },
                                {
                                    "OrderID": "11076",
                                    "Customer": "Bon app'",
                                    "SalesRep": "Peacock",
                                    "ProductName": "Tofu",
                                    "Quantity": "20",
                                    "Discount": "0.25"
                                },
                                {
                                    "OrderID": "10651",
                                    "Customer": "Die Wandernde Kuh",
                                    "SalesRep": "Callahan",
                                    "ProductName": "Gustaf's Knäckebröd",
                                    "Quantity": "20",
                                    "Discount": "0.25"
                                },
                                {
                                    "OrderID": "10680",
                                    "Customer": "Old World Delicatessen",
                                    "SalesRep": "Davolio",
                                    "ProductName": "Gorgonzola Telino",
                                    "Quantity": "20",
                                    "Discount": "0.25"
                                },
                                {
                                    "OrderID": "10690",
                                    "Customer": "Hanari Carnes",
                                    "SalesRep": "Davolio",
                                    "ProductName": "Gnocchi di nonna Alice",
                                    "Quantity": "20",
                                    "Discount": "0.25"
                                },
                                {
                                    "OrderID": "10806",
                                    "Customer": "Victuailles en stock",
                                    "SalesRep": "Leverling",
                                    "ProductName": "Chang",
                                    "Quantity": "20",
                                    "Discount": "0.25"
                                },
                                {
                                    "OrderID": "10801",
                                    "Customer": "Bólido Comidas preparadas",
                                    "SalesRep": "Peacock",
                                    "ProductName": "Thüringer Rostbratwurst",
                                    "Quantity": "20",
                                    "Discount": "0.25"
                                },
                                {
                                    "OrderID": "10938",
                                    "Customer": "QUICK-Stop",
                                    "SalesRep": "Leverling",
                                    "ProductName": "Konbu",
                                    "Quantity": "20",
                                    "Discount": "0.25"
                                },
                                {
                                    "OrderID": "10284",
                                    "Customer": "Lehmanns Marktstand",
                                    "SalesRep": "Peacock",
                                    "ProductName": "Camembert Pierrot",
                                    "Quantity": "20",
                                    "Discount": "0.25"
                                },
                                {
                                    "OrderID": "10640",
                                    "Customer": "Die Wandernde Kuh",
                                    "SalesRep": "Peacock",
                                    "ProductName": "Gudbrandsdalsost",
                                    "Quantity": "20",
                                    "Discount": "0.25"
                                },
                                {
                                    "OrderID": "10477",
                                    "Customer": "Princesa Isabel Vinhos",
                                    "SalesRep": "Buchanan",
                                    "ProductName": "Chartreuse verte",
                                    "Quantity": "20",
                                    "Discount": "0.25"
                                },
                                {
                                    "OrderID": "10425",
                                    "Customer": "La maison d'Asie",
                                    "SalesRep": "Suyama",
                                    "ProductName": "Lakkalikööri",
                                    "Quantity": "20",
                                    "Discount": "0.25"
                                },
                                {
                                    "OrderID": "10369",
                                    "Customer": "Split Rail Beer & Ale",
                                    "SalesRep": "Callahan",
                                    "ProductName": "Gnocchi di nonna Alice",
                                    "Quantity": "18",
                                    "Discount": "0.25"
                                },
                                {
                                    "OrderID": "10944",
                                    "Customer": "Bottom-Dollar Markets",
                                    "SalesRep": "Suyama",
                                    "ProductName": "Gula Malacca",
                                    "Quantity": "18",
                                    "Discount": "0.25"
                                },
                                {
                                    "OrderID": "10714",
                                    "Customer": "Save-a-lot Markets",
                                    "SalesRep": "Buchanan",
                                    "ProductName": "Gnocchi di nonna Alice",
                                    "Quantity": "18",
                                    "Discount": "0.25"
                                },
                                {
                                    "OrderID": "10646",
                                    "Customer": "Hungry Owl All-Night Grocers",
                                    "SalesRep": "Dodsworth",
                                    "ProductName": "Ikura",
                                    "Quantity": "18",
                                    "Discount": "0.25"
                                },
                                {
                                    "OrderID": "11009",
                                    "Customer": "Godos Cocina Típica",
                                    "SalesRep": "Fuller",
                                    "ProductName": "Inlagd Sill",
                                    "Quantity": "18",
                                    "Discount": "0.25"
                                },
                                {
                                    "OrderID": "10260",
                                    "Customer": "Ottilies Käseladen",
                                    "SalesRep": "Peacock",
                                    "ProductName": "Jack's New England Clam Chowder",
                                    "Quantity": "16",
                                    "Discount": "0.25"
                                },
                                {
                                    "OrderID": "10260",
                                    "Customer": "Ottilies Käseladen",
                                    "SalesRep": "Peacock",
                                    "ProductName": "Tarte au sucre",
                                    "Quantity": "15",
                                    "Discount": "0.25"
                                },
                                {
                                    "OrderID": "10279",
                                    "Customer": "Lehmanns Marktstand",
                                    "SalesRep": "Callahan",
                                    "ProductName": "Alice Mutton",
                                    "Quantity": "15",
                                    "Discount": "0.25"
                                },
                                {
                                    "OrderID": "10284",
                                    "Customer": "Lehmanns Marktstand",
                                    "SalesRep": "Peacock",
                                    "ProductName": "Schoggi Schokolade",
                                    "Quantity": "15",
                                    "Discount": "0.25"
                                },
                                {
                                    "OrderID": "10489",
                                    "Customer": "Piccolo und mehr",
                                    "SalesRep": "Suyama",
                                    "ProductName": "Queso Cabrales",
                                    "Quantity": "15",
                                    "Discount": "0.25"
                                },
                                {
                                    "OrderID": "10536",
                                    "Customer": "Lehmanns Marktstand",
                                    "SalesRep": "Leverling",
                                    "ProductName": "Queso Manchego La Pastora",
                                    "Quantity": "15",
                                    "Discount": "0.25"
                                },
                                {
                                    "OrderID": "10640",
                                    "Customer": "Die Wandernde Kuh",
                                    "SalesRep": "Peacock",
                                    "ProductName": "Outback Lager",
                                    "Quantity": "15",
                                    "Discount": "0.25"
                                },
                                {
                                    "OrderID": "10643",
                                    "Customer": "Alfreds Futterkiste",
                                    "SalesRep": "Suyama",
                                    "ProductName": "Rössle Sauerkraut",
                                    "Quantity": "15",
                                    "Discount": "0.25"
                                },
                                {
                                    "OrderID": "10560",
                                    "Customer": "Frankenversand",
                                    "SalesRep": "Callahan",
                                    "ProductName": "Tarte au sucre",
                                    "Quantity": "15",
                                    "Discount": "0.25"
                                },
                                {
                                    "OrderID": "10646",
                                    "Customer": "Hungry Owl All-Night Grocers",
                                    "SalesRep": "Dodsworth",
                                    "ProductName": "Chai",
                                    "Quantity": "15",
                                    "Discount": "0.25"
                                },
                                {
                                    "OrderID": "10770",
                                    "Customer": "Hanari Carnes",
                                    "SalesRep": "Callahan",
                                    "ProductName": "Queso Cabrales",
                                    "Quantity": "15",
                                    "Discount": "0.25"
                                },
                                {
                                    "OrderID": "10806",
                                    "Customer": "Victuailles en stock",
                                    "SalesRep": "Leverling",
                                    "ProductName": "Longlife Tofu",
                                    "Quantity": "15",
                                    "Discount": "0.25"
                                },
                                {
                                    "OrderID": "10755",
                                    "Customer": "Bon app'",
                                    "SalesRep": "Peacock",
                                    "ProductName": "Ravioli Angelo",
                                    "Quantity": "14",
                                    "Discount": "0.25"
                                },
                                {
                                    "OrderID": "10760",
                                    "Customer": "Maison Dewey",
                                    "SalesRep": "Peacock",
                                    "ProductName": "NuNuCa Nuß-Nougat-Creme",
                                    "Quantity": "12",
                                    "Discount": "0.25"
                                },
                                {
                                    "OrderID": "10651",
                                    "Customer": "Die Wandernde Kuh",
                                    "SalesRep": "Callahan",
                                    "ProductName": "Teatime Chocolate Biscuits",
                                    "Quantity": "12",
                                    "Discount": "0.25"
                                },
                                {
                                    "OrderID": "10714",
                                    "Customer": "Save-a-lot Markets",
                                    "SalesRep": "Buchanan",
                                    "ProductName": "Escargots de Bourgogne",
                                    "Quantity": "12",
                                    "Discount": "0.25"
                                },
                                {
                                    "OrderID": "10719",
                                    "Customer": "Let's Stop N Shop",
                                    "SalesRep": "Callahan",
                                    "ProductName": "Carnarvon Tigers",
                                    "Quantity": "12",
                                    "Discount": "0.25"
                                },
                                {
                                    "OrderID": "10372",
                                    "Customer": "Queen Cozinha",
                                    "SalesRep": "Buchanan",
                                    "ProductName": "Sir Rodney's Marmalade",
                                    "Quantity": "12",
                                    "Discount": "0.25"
                                },
                                {
                                    "OrderID": "11021",
                                    "Customer": "QUICK-Stop",
                                    "SalesRep": "Leverling",
                                    "ProductName": "Chang",
                                    "Quantity": "11",
                                    "Discount": "0.25"
                                },
                                {
                                    "OrderID": "11076",
                                    "Customer": "Bon app'",
                                    "SalesRep": "Peacock",
                                    "ProductName": "Teatime Chocolate Biscuits",
                                    "Quantity": "10",
                                    "Discount": "0.25"
                                },
                                {
                                    "OrderID": "10425",
                                    "Customer": "La maison d'Asie",
                                    "SalesRep": "Suyama",
                                    "ProductName": "Pâté chinois",
                                    "Quantity": "10",
                                    "Discount": "0.25"
                                },
                                {
                                    "OrderID": "10548",
                                    "Customer": "Toms Spezialitäten",
                                    "SalesRep": "Leverling",
                                    "ProductName": "Sasquatch Ale",
                                    "Quantity": "10",
                                    "Discount": "0.25"
                                },
                                {
                                    "OrderID": "10857",
                                    "Customer": "Berglunds snabbköp",
                                    "SalesRep": "Callahan",
                                    "ProductName": "Thüringer Rostbratwurst",
                                    "Quantity": "10",
                                    "Discount": "0.25"
                                },
                                {
                                    "OrderID": "10960",
                                    "Customer": "HILARION-Abastos",
                                    "SalesRep": "Leverling",
                                    "ProductName": "Guaraná Fantástica",
                                    "Quantity": "10",
                                    "Discount": "0.25"
                                },
                                {
                                    "OrderID": "10697",
                                    "Customer": "LINO-Delicateses",
                                    "SalesRep": "Leverling",
                                    "ProductName": "Steeleye Stout",
                                    "Quantity": "9",
                                    "Discount": "0.25"
                                },
                                {
                                    "OrderID": "10935",
                                    "Customer": "Wellington Importadora",
                                    "SalesRep": "Peacock",
                                    "ProductName": "Tunnbröd",
                                    "Quantity": "8",
                                    "Discount": "0.25"
                                },
                                {
                                    "OrderID": "10697",
                                    "Customer": "LINO-Delicateses",
                                    "SalesRep": "Leverling",
                                    "ProductName": "Teatime Chocolate Biscuits",
                                    "Quantity": "7",
                                    "Discount": "0.25"
                                },
                                {
                                    "OrderID": "10393",
                                    "Customer": "Save-a-lot Markets",
                                    "SalesRep": "Davolio",
                                    "ProductName": "NuNuCa Nuß-Nougat-Creme",
                                    "Quantity": "7",
                                    "Discount": "0.25"
                                },
                                {
                                    "OrderID": "10687",
                                    "Customer": "Hungry Owl All-Night Grocers",
                                    "SalesRep": "Dodsworth",
                                    "ProductName": "Inlagd Sill",
                                    "Quantity": "6",
                                    "Discount": "0.25"
                                },
                                {
                                    "OrderID": "10866",
                                    "Customer": "Berglunds snabbköp",
                                    "SalesRep": "Buchanan",
                                    "ProductName": "Guaraná Fantástica",
                                    "Quantity": "6",
                                    "Discount": "0.25"
                                },
                                {
                                    "OrderID": "10802",
                                    "Customer": "Simons bistro",
                                    "SalesRep": "Peacock",
                                    "ProductName": "Tarte au sucre",
                                    "Quantity": "5",
                                    "Discount": "0.25"
                                },
                                {
                                    "OrderID": "10944",
                                    "Customer": "Bottom-Dollar Markets",
                                    "SalesRep": "Suyama",
                                    "ProductName": "Queso Cabrales",
                                    "Quantity": "5",
                                    "Discount": "0.25"
                                },
                                {
                                    "OrderID": "10284",
                                    "Customer": "Lehmanns Marktstand",
                                    "SalesRep": "Peacock",
                                    "ProductName": "Laughing Lumberjack Lager",
                                    "Quantity": "5",
                                    "Discount": "0.25"
                                },
                                {
                                    "OrderID": "10602",
                                    "Customer": "Vaffeljernet",
                                    "SalesRep": "Callahan",
                                    "ProductName": "Original Frankfurter grüne Soße",
                                    "Quantity": "5",
                                    "Discount": "0.25"
                                },
                                {
                                    "OrderID": "10460",
                                    "Customer": "Folk och fä HB",
                                    "SalesRep": "Callahan",
                                    "ProductName": "Rhönbräu Klosterbier",
                                    "Quantity": "4",
                                    "Discount": "0.25"
                                },
                                {
                                    "OrderID": "10935",
                                    "Customer": "Wellington Importadora",
                                    "SalesRep": "Peacock",
                                    "ProductName": "Carnarvon Tigers",
                                    "Quantity": "4",
                                    "Discount": "0.25"
                                },
                                {
                                    "OrderID": "10838",
                                    "Customer": "LINO-Delicateses",
                                    "SalesRep": "Leverling",
                                    "ProductName": "Chai",
                                    "Quantity": "4",
                                    "Discount": "0.25"
                                },
                                {
                                    "OrderID": "10843",
                                    "Customer": "Victuailles en stock",
                                    "SalesRep": "Peacock",
                                    "ProductName": "Manjimup Dried Apples",
                                    "Quantity": "4",
                                    "Discount": "0.25"
                                },
                                {
                                    "OrderID": "11065",
                                    "Customer": "LILA-Supermercado",
                                    "SalesRep": "Callahan",
                                    "ProductName": "Nord-Ost Matjeshering",
                                    "Quantity": "4",
                                    "Discount": "0.25"
                                },
                                {
                                    "OrderID": "10900",
                                    "Customer": "Wellington Importadora",
                                    "SalesRep": "Davolio",
                                    "ProductName": "Outback Lager",
                                    "Quantity": "3",
                                    "Discount": "0.25"
                                },
                                {
                                    "OrderID": "10719",
                                    "Customer": "Let's Stop N Shop",
                                    "SalesRep": "Callahan",
                                    "ProductName": "Nord-Ost Matjeshering",
                                    "Quantity": "3",
                                    "Discount": "0.25"
                                },
                                {
                                    "OrderID": "10643",
                                    "Customer": "Alfreds Futterkiste",
                                    "SalesRep": "Suyama",
                                    "ProductName": "Spegesild",
                                    "Quantity": "2",
                                    "Discount": "0.25"
                                },
                                {
                                    "OrderID": "10652",
                                    "Customer": "Gourmet Lanchonetes",
                                    "SalesRep": "Peacock",
                                    "ProductName": "Nord-Ost Matjeshering",
                                    "Quantity": "2",
                                    "Discount": "0.25"
                                },
                                {
                                    "OrderID": "10774",
                                    "Customer": "Folk och fä HB",
                                    "SalesRep": "Peacock",
                                    "ProductName": "Gorgonzola Telino",
                                    "Quantity": "2",
                                    "Discount": "0.25"
                                },
                                {
                                    "OrderID": "10417",
                                    "Customer": "Simons bistro",
                                    "SalesRep": "Peacock",
                                    "ProductName": "Spegesild",
                                    "Quantity": "2",
                                    "Discount": "0.25"
                                },
                                {
                                    "OrderID": "11006",
                                    "Customer": "Great Lakes Food Market",
                                    "SalesRep": "Leverling",
                                    "ProductName": "Thüringer Rostbratwurst",
                                    "Quantity": "2",
                                    "Discount": "0.25"
                                },
                                {
                                    "OrderID": "10588",
                                    "Customer": "QUICK-Stop",
                                    "SalesRep": "Fuller",
                                    "ProductName": "Singaporean Hokkien Fried Mee",
                                    "Quantity": "100",
                                    "Discount": "0.2"
                                },
                                {
                                    "OrderID": "10991",
                                    "Customer": "QUICK-Stop",
                                    "SalesRep": "Davolio",
                                    "ProductName": "Lakkalikööri",
                                    "Quantity": "90",
                                    "Discount": "0.2"
                                },
                                {
                                    "OrderID": "10373",
                                    "Customer": "Hungry Owl All-Night Grocers",
                                    "SalesRep": "Peacock",
                                    "ProductName": "Escargots de Bourgogne",
                                    "Quantity": "80",
                                    "Discount": "0.2"
                                },
                                {
                                    "OrderID": "10847",
                                    "Customer": "Save-a-lot Markets",
                                    "SalesRep": "Peacock",
                                    "ProductName": "Chai",
                                    "Quantity": "80",
                                    "Discount": "0.2"
                                },
                                {
                                    "OrderID": "10773",
                                    "Customer": "Ernst Handel",
                                    "SalesRep": "Davolio",
                                    "ProductName": "Gorgonzola Telino",
                                    "Quantity": "70",
                                    "Discount": "0.2"
                                },
                                {
                                    "OrderID": "10430",
                                    "Customer": "Ernst Handel",
                                    "SalesRep": "Peacock",
                                    "ProductName": "Raclette Courdavault",
                                    "Quantity": "70",
                                    "Discount": "0.2"
                                },
                                {
                                    "OrderID": "10258",
                                    "Customer": "Ernst Handel",
                                    "SalesRep": "Davolio",
                                    "ProductName": "Chef Anton's Gumbo Mix",
                                    "Quantity": "65",
                                    "Discount": "0.2"
                                },
                                {
                                    "OrderID": "10424",
                                    "Customer": "Mère Paillarde",
                                    "SalesRep": "King",
                                    "ProductName": "Steeleye Stout",
                                    "Quantity": "60",
                                    "Discount": "0.2"
                                },
                                {
                                    "OrderID": "10567",
                                    "Customer": "Hungry Owl All-Night Grocers",
                                    "SalesRep": "Davolio",
                                    "ProductName": "Gorgonzola Telino",
                                    "Quantity": "60",
                                    "Discount": "0.2"
                                },
                                {
                                    "OrderID": "10700",
                                    "Customer": "Save-a-lot Markets",
                                    "SalesRep": "Leverling",
                                    "ProductName": "Flotemysost",
                                    "Quantity": "60",
                                    "Discount": "0.2"
                                },
                                {
                                    "OrderID": "10847",
                                    "Customer": "Save-a-lot Markets",
                                    "SalesRep": "Peacock",
                                    "ProductName": "Gravad lax",
                                    "Quantity": "60",
                                    "Discount": "0.2"
                                },
                                {
                                    "OrderID": "10342",
                                    "Customer": "Frankenversand",
                                    "SalesRep": "Peacock",
                                    "ProductName": "Gorgonzola Telino",
                                    "Quantity": "56",
                                    "Discount": "0.2"
                                },
                                {
                                    "OrderID": "10847",
                                    "Customer": "Save-a-lot Markets",
                                    "SalesRep": "Peacock",
                                    "ProductName": "Flotemysost",
                                    "Quantity": "55",
                                    "Discount": "0.2"
                                },
                                {
                                    "OrderID": "10880",
                                    "Customer": "Folk och fä HB",
                                    "SalesRep": "King",
                                    "ProductName": "Outback Lager",
                                    "Quantity": "50",
                                    "Discount": "0.2"
                                },
                                {
                                    "OrderID": "10744",
                                    "Customer": "Vaffeljernet",
                                    "SalesRep": "Suyama",
                                    "ProductName": "Boston Crab Meat",
                                    "Quantity": "50",
                                    "Discount": "0.2"
                                },
                                {
                                    "OrderID": "10353",
                                    "Customer": "Piccolo und mehr",
                                    "SalesRep": "King",
                                    "ProductName": "Côte de Blaye",
                                    "Quantity": "50",
                                    "Discount": "0.2"
                                },
                                {
                                    "OrderID": "10327",
                                    "Customer": "Folk och fä HB",
                                    "SalesRep": "Fuller",
                                    "ProductName": "Queso Cabrales",
                                    "Quantity": "50",
                                    "Discount": "0.2"
                                },
                                {
                                    "OrderID": "10373",
                                    "Customer": "Hungry Owl All-Night Grocers",
                                    "SalesRep": "Peacock",
                                    "ProductName": "Flotemysost",
                                    "Quantity": "50",
                                    "Discount": "0.2"
                                },
                                {
                                    "OrderID": "10258",
                                    "Customer": "Ernst Handel",
                                    "SalesRep": "Davolio",
                                    "ProductName": "Chang",
                                    "Quantity": "50",
                                    "Discount": "0.2"
                                },
                                {
                                    "OrderID": "10581",
                                    "Customer": "Familia Arquibaldo",
                                    "SalesRep": "Leverling",
                                    "ProductName": "Rhönbräu Klosterbier",
                                    "Quantity": "50",
                                    "Discount": "0.2"
                                },
                                {
                                    "OrderID": "10513",
                                    "Customer": "Die Wandernde Kuh",
                                    "SalesRep": "King",
                                    "ProductName": "Mascarpone Fabioli",
                                    "Quantity": "50",
                                    "Discount": "0.2"
                                },
                                {
                                    "OrderID": "10991",
                                    "Customer": "QUICK-Stop",
                                    "SalesRep": "Davolio",
                                    "ProductName": "Chang",
                                    "Quantity": "50",
                                    "Discount": "0.2"
                                },
                                {
                                    "OrderID": "10424",
                                    "Customer": "Mère Paillarde",
                                    "SalesRep": "King",
                                    "ProductName": "Côte de Blaye",
                                    "Quantity": "49",
                                    "Discount": "0.2"
                                },
                                {
                                    "OrderID": "10661",
                                    "Customer": "Hungry Owl All-Night Grocers",
                                    "SalesRep": "King",
                                    "ProductName": "Escargots de Bourgogne",
                                    "Quantity": "49",
                                    "Discount": "0.2"
                                },
                                {
                                    "OrderID": "10335",
                                    "Customer": "Hungry Owl All-Night Grocers",
                                    "SalesRep": "King",
                                    "ProductName": "Manjimup Dried Apples",
                                    "Quantity": "48",
                                    "Discount": "0.2"
                                },
                                {
                                    "OrderID": "10285",
                                    "Customer": "QUICK-Stop",
                                    "SalesRep": "Davolio",
                                    "ProductName": "Chai",
                                    "Quantity": "45",
                                    "Discount": "0.2"
                                },
                                {
                                    "OrderID": "10430",
                                    "Customer": "Ernst Handel",
                                    "SalesRep": "Peacock",
                                    "ProductName": "Alice Mutton",
                                    "Quantity": "45",
                                    "Discount": "0.2"
                                },
                                {
                                    "OrderID": "10667",
                                    "Customer": "Ernst Handel",
                                    "SalesRep": "King",
                                    "ProductName": "Gudbrandsdalsost",
                                    "Quantity": "45",
                                    "Discount": "0.2"
                                },
                                {
                                    "OrderID": "10847",
                                    "Customer": "Save-a-lot Markets",
                                    "SalesRep": "Peacock",
                                    "ProductName": "Camembert Pierrot",
                                    "Quantity": "45",
                                    "Discount": "0.2"
                                },
                                {
                                    "OrderID": "10786",
                                    "Customer": "Queen Cozinha",
                                    "SalesRep": "Callahan",
                                    "ProductName": "Rhönbräu Klosterbier",
                                    "Quantity": "42",
                                    "Discount": "0.2"
                                },
                                {
                                    "OrderID": "10740",
                                    "Customer": "White Clover Markets",
                                    "SalesRep": "Peacock",
                                    "ProductName": "Rogede sild",
                                    "Quantity": "40",
                                    "Discount": "0.2"
                                },
                                {
                                    "OrderID": "10700",
                                    "Customer": "Save-a-lot Markets",
                                    "SalesRep": "Leverling",
                                    "ProductName": "Scottish Longbreads",
                                    "Quantity": "40",
                                    "Discount": "0.2"
                                },
                                {
                                    "OrderID": "10970",
                                    "Customer": "Bólido Comidas preparadas",
                                    "SalesRep": "Dodsworth",
                                    "ProductName": "Filo Mix",
                                    "Quantity": "40",
                                    "Discount": "0.2"
                                },
                                {
                                    "OrderID": "10980",
                                    "Customer": "Folk och fä HB",
                                    "SalesRep": "Peacock",
                                    "ProductName": "Rhönbräu Klosterbier",
                                    "Quantity": "40",
                                    "Discount": "0.2"
                                },
                                {
                                    "OrderID": "10411",
                                    "Customer": "Bottom-Dollar Markets",
                                    "SalesRep": "Dodsworth",
                                    "ProductName": "Gula Malacca",
                                    "Quantity": "40",
                                    "Discount": "0.2"
                                },
                                {
                                    "OrderID": "10285",
                                    "Customer": "QUICK-Stop",
                                    "SalesRep": "Davolio",
                                    "ProductName": "Boston Crab Meat",
                                    "Quantity": "40",
                                    "Discount": "0.2"
                                },
                                {
                                    "OrderID": "10342",
                                    "Customer": "Frankenversand",
                                    "SalesRep": "Peacock",
                                    "ProductName": "Inlagd Sill",
                                    "Quantity": "40",
                                    "Discount": "0.2"
                                },
                                {
                                    "OrderID": "10342",
                                    "Customer": "Frankenversand",
                                    "SalesRep": "Peacock",
                                    "ProductName": "Pâté chinois",
                                    "Quantity": "40",
                                    "Discount": "0.2"
                                },
                                {
                                    "OrderID": "10332",
                                    "Customer": "Mère Paillarde",
                                    "SalesRep": "Leverling",
                                    "ProductName": "Carnarvon Tigers",
                                    "Quantity": "40",
                                    "Discount": "0.2"
                                },
                                {
                                    "OrderID": "10522",
                                    "Customer": "Lehmanns Marktstand",
                                    "SalesRep": "Peacock",
                                    "ProductName": "Chai",
                                    "Quantity": "40",
                                    "Discount": "0.2"
                                },
                                {
                                    "OrderID": "10513",
                                    "Customer": "Die Wandernde Kuh",
                                    "SalesRep": "King",
                                    "ProductName": "Sir Rodney's Scones",
                                    "Quantity": "40",
                                    "Discount": "0.2"
                                },
                                {
                                    "OrderID": "10588",
                                    "Customer": "QUICK-Stop",
                                    "SalesRep": "Fuller",
                                    "ProductName": "Carnarvon Tigers",
                                    "Quantity": "40",
                                    "Discount": "0.2"
                                },
                                {
                                    "OrderID": "10567",
                                    "Customer": "Hungry Owl All-Night Grocers",
                                    "SalesRep": "Davolio",
                                    "ProductName": "Raclette Courdavault",
                                    "Quantity": "40",
                                    "Discount": "0.2"
                                },
                                {
                                    "OrderID": "10555",
                                    "Customer": "Save-a-lot Markets",
                                    "SalesRep": "Suyama",
                                    "ProductName": "Gnocchi di nonna Alice",
                                    "Quantity": "40",
                                    "Discount": "0.2"
                                },
                                {
                                    "OrderID": "10285",
                                    "Customer": "QUICK-Stop",
                                    "SalesRep": "Davolio",
                                    "ProductName": "Perth Pasties",
                                    "Quantity": "36",
                                    "Discount": "0.2"
                                },
                                {
                                    "OrderID": "10847",
                                    "Customer": "Save-a-lot Markets",
                                    "SalesRep": "Peacock",
                                    "ProductName": "Rogede sild",
                                    "Quantity": "36",
                                    "Discount": "0.2"
                                },
                                {
                                    "OrderID": "10796",
                                    "Customer": "HILARION-Abastos",
                                    "SalesRep": "Leverling",
                                    "ProductName": "Wimmers gute Semmelknödel",
                                    "Quantity": "35",
                                    "Discount": "0.2"
                                },
                                {
                                    "OrderID": "10740",
                                    "Customer": "White Clover Markets",
                                    "SalesRep": "Peacock",
                                    "ProductName": "Steeleye Stout",
                                    "Quantity": "35",
                                    "Discount": "0.2"
                                },
                                {
                                    "OrderID": "10327",
                                    "Customer": "Folk och fä HB",
                                    "SalesRep": "Fuller",
                                    "ProductName": "Nord-Ost Matjeshering",
                                    "Quantity": "35",
                                    "Discount": "0.2"
                                },
                                {
                                    "OrderID": "10555",
                                    "Customer": "Save-a-lot Markets",
                                    "SalesRep": "Suyama",
                                    "ProductName": "Teatime Chocolate Biscuits",
                                    "Quantity": "35",
                                    "Discount": "0.2"
                                },
                                {
                                    "OrderID": "10569",
                                    "Customer": "Rattlesnake Canyon Grocery",
                                    "SalesRep": "Buchanan",
                                    "ProductName": "Gorgonzola Telino",
                                    "Quantity": "35",
                                    "Discount": "0.2"
                                },
                                {
                                    "OrderID": "10597",
                                    "Customer": "Piccolo und mehr",
                                    "SalesRep": "King",
                                    "ProductName": "Guaraná Fantástica",
                                    "Quantity": "35",
                                    "Discount": "0.2"
                                },
                                {
                                    "OrderID": "11053",
                                    "Customer": "Piccolo und mehr",
                                    "SalesRep": "Fuller",
                                    "ProductName": "Carnarvon Tigers",
                                    "Quantity": "35",
                                    "Discount": "0.2"
                                },
                                {
                                    "OrderID": "11052",
                                    "Customer": "Hanari Carnes",
                                    "SalesRep": "Leverling",
                                    "ProductName": "Ipoh Coffee",
                                    "Quantity": "30",
                                    "Discount": "0.2"
                                },
                                {
                                    "OrderID": "11041",
                                    "Customer": "Chop-suey Chinese",
                                    "SalesRep": "Leverling",
                                    "ProductName": "Chang",
                                    "Quantity": "30",
                                    "Discount": "0.2"
                                },
                                {
                                    "OrderID": "10596",
                                    "Customer": "White Clover Markets",
                                    "SalesRep": "Callahan",
                                    "ProductName": "Rhönbräu Klosterbier",
                                    "Quantity": "30",
                                    "Discount": "0.2"
                                },
                                {
                                    "OrderID": "10642",
                                    "Customer": "Simons bistro",
                                    "SalesRep": "King",
                                    "ProductName": "Sir Rodney's Scones",
                                    "Quantity": "30",
                                    "Discount": "0.2"
                                },
                                {
                                    "OrderID": "10555",
                                    "Customer": "Save-a-lot Markets",
                                    "SalesRep": "Suyama",
                                    "ProductName": "Tofu",
                                    "Quantity": "30",
                                    "Discount": "0.2"
                                },
                                {
                                    "OrderID": "10464",
                                    "Customer": "Furia Bacalhau e Frutos do Mar",
                                    "SalesRep": "Peacock",
                                    "ProductName": "Gnocchi di nonna Alice",
                                    "Quantity": "30",
                                    "Discount": "0.2"
                                },
                                {
                                    "OrderID": "10327",
                                    "Customer": "Folk och fä HB",
                                    "SalesRep": "Fuller",
                                    "ProductName": "Escargots de Bourgogne",
                                    "Quantity": "30",
                                    "Discount": "0.2"
                                },
                                {
                                    "OrderID": "10357",
                                    "Customer": "LILA-Supermercado",
                                    "SalesRep": "Davolio",
                                    "ProductName": "Ikura",
                                    "Quantity": "30",
                                    "Discount": "0.2"
                                },
                                {
                                    "OrderID": "10424",
                                    "Customer": "Mère Paillarde",
                                    "SalesRep": "King",
                                    "ProductName": "Scottish Longbreads",
                                    "Quantity": "30",
                                    "Discount": "0.2"
                                },
                                {
                                    "OrderID": "10786",
                                    "Customer": "Queen Cozinha",
                                    "SalesRep": "Callahan",
                                    "ProductName": "Northwoods Cranberry Sauce",
                                    "Quantity": "30",
                                    "Discount": "0.2"
                                },
                                {
                                    "OrderID": "10686",
                                    "Customer": "Piccolo und mehr",
                                    "SalesRep": "Fuller",
                                    "ProductName": "Alice Mutton",
                                    "Quantity": "30",
                                    "Discount": "0.2"
                                },
                                {
                                    "OrderID": "10936",
                                    "Customer": "Great Lakes Food Market",
                                    "SalesRep": "Leverling",
                                    "ProductName": "Inlagd Sill",
                                    "Quantity": "30",
                                    "Discount": "0.2"
                                },
                                {
                                    "OrderID": "10930",
                                    "Customer": "Suprêmes délices",
                                    "SalesRep": "Peacock",
                                    "ProductName": "Escargots de Bourgogne",
                                    "Quantity": "30",
                                    "Discount": "0.2"
                                },
                                {
                                    "OrderID": "10880",
                                    "Customer": "Folk och fä HB",
                                    "SalesRep": "King",
                                    "ProductName": "Tunnbröd",
                                    "Quantity": "30",
                                    "Discount": "0.2"
                                },
                                {
                                    "OrderID": "10880",
                                    "Customer": "Folk och fä HB",
                                    "SalesRep": "King",
                                    "ProductName": "Sirop d'érable",
                                    "Quantity": "30",
                                    "Discount": "0.2"
                                },
                                {
                                    "OrderID": "10930",
                                    "Customer": "Suprêmes délices",
                                    "SalesRep": "Peacock",
                                    "ProductName": "Pâté chinois",
                                    "Quantity": "25",
                                    "Discount": "0.2"
                                },
                                {
                                    "OrderID": "10411",
                                    "Customer": "Bottom-Dollar Markets",
                                    "SalesRep": "Dodsworth",
                                    "ProductName": "Jack's New England Clam Chowder",
                                    "Quantity": "25",
                                    "Discount": "0.2"
                                },
                                {
                                    "OrderID": "10335",
                                    "Customer": "Hungry Owl All-Night Grocers",
                                    "SalesRep": "King",
                                    "ProductName": "Gorgonzola Telino",
                                    "Quantity": "25",
                                    "Discount": "0.2"
                                },
                                {
                                    "OrderID": "10327",
                                    "Customer": "Folk och fä HB",
                                    "SalesRep": "Fuller",
                                    "ProductName": "Chang",
                                    "Quantity": "25",
                                    "Discount": "0.2"
                                },
                                {
                                    "OrderID": "10522",
                                    "Customer": "Lehmanns Marktstand",
                                    "SalesRep": "Peacock",
                                    "ProductName": "Boston Crab Meat",
                                    "Quantity": "25",
                                    "Discount": "0.2"
                                },
                                {
                                    "OrderID": "11053",
                                    "Customer": "Piccolo und mehr",
                                    "SalesRep": "Fuller",
                                    "ProductName": "Wimmers gute Semmelknödel",
                                    "Quantity": "25",
                                    "Discount": "0.2"
                                },
                                {
                                    "OrderID": "11077",
                                    "Customer": "Rattlesnake Canyon Grocery",
                                    "SalesRep": "Davolio",
                                    "ProductName": "Chang",
                                    "Quantity": "24",
                                    "Discount": "0.2"
                                },
                                {
                                    "OrderID": "10596",
                                    "Customer": "White Clover Markets",
                                    "SalesRep": "Callahan",
                                    "ProductName": "Vegie-spread",
                                    "Quantity": "24",
                                    "Discount": "0.2"
                                },
                                {
                                    "OrderID": "10342",
                                    "Customer": "Frankenversand",
                                    "SalesRep": "Peacock",
                                    "ProductName": "Chang",
                                    "Quantity": "24",
                                    "Discount": "0.2"
                                },
                                {
                                    "OrderID": "10923",
                                    "Customer": "La maison d'Asie",
                                    "SalesRep": "King",
                                    "ProductName": "Laughing Lumberjack Lager",
                                    "Quantity": "24",
                                    "Discount": "0.2"
                                },
                                {
                                    "OrderID": "10796",
                                    "Customer": "HILARION-Abastos",
                                    "SalesRep": "Leverling",
                                    "ProductName": "Gudbrandsdalsost",
                                    "Quantity": "24",
                                    "Discount": "0.2"
                                },
                                {
                                    "OrderID": "10796",
                                    "Customer": "HILARION-Abastos",
                                    "SalesRep": "Leverling",
                                    "ProductName": "Gumbär Gummibärchen",
                                    "Quantity": "21",
                                    "Discount": "0.2"
                                },
                                {
                                    "OrderID": "10756",
                                    "Customer": "Split Rail Beer & Ale",
                                    "SalesRep": "Callahan",
                                    "ProductName": "Carnarvon Tigers",
                                    "Quantity": "21",
                                    "Discount": "0.2"
                                },
                                {
                                    "OrderID": "10593",
                                    "Customer": "Lehmanns Marktstand",
                                    "SalesRep": "King",
                                    "ProductName": "Sir Rodney's Marmalade",
                                    "Quantity": "21",
                                    "Discount": "0.2"
                                },
                                {
                                    "OrderID": "10593",
                                    "Customer": "Lehmanns Marktstand",
                                    "SalesRep": "King",
                                    "ProductName": "Gudbrandsdalsost",
                                    "Quantity": "20",
                                    "Discount": "0.2"
                                },
                                {
                                    "OrderID": "10555",
                                    "Customer": "Save-a-lot Markets",
                                    "SalesRep": "Suyama",
                                    "ProductName": "Manjimup Dried Apples",
                                    "Quantity": "20",
                                    "Discount": "0.2"
                                },
                                {
                                    "OrderID": "10606",
                                    "Customer": "Tradição Hipermercados",
                                    "SalesRep": "Peacock",
                                    "ProductName": "Chef Anton's Cajun Seasoning",
                                    "Quantity": "20",
                                    "Discount": "0.2"
                                },
                                {
                                    "OrderID": "10606",
                                    "Customer": "Tradição Hipermercados",
                                    "SalesRep": "Peacock",
                                    "ProductName": "Pâté chinois",
                                    "Quantity": "20",
                                    "Discount": "0.2"
                                },
                                {
                                    "OrderID": "10642",
                                    "Customer": "Simons bistro",
                                    "SalesRep": "King",
                                    "ProductName": "Sirop d'érable",
                                    "Quantity": "20",
                                    "Discount": "0.2"
                                },
                                {
                                    "OrderID": "10488",
                                    "Customer": "Frankenversand",
                                    "SalesRep": "Callahan",
                                    "ProductName": "Röd Kaviar",
                                    "Quantity": "20",
                                    "Discount": "0.2"
                                },
                                {
                                    "OrderID": "10522",
                                    "Customer": "Lehmanns Marktstand",
                                    "SalesRep": "Peacock",
                                    "ProductName": "Nord-Ost Matjeshering",
                                    "Quantity": "20",
                                    "Discount": "0.2"
                                },
                                {
                                    "OrderID": "10438",
                                    "Customer": "Toms Spezialitäten",
                                    "SalesRep": "Leverling",
                                    "ProductName": "Sasquatch Ale",
                                    "Quantity": "20",
                                    "Discount": "0.2"
                                },
                                {
                                    "OrderID": "10450",
                                    "Customer": "Victuailles en stock",
                                    "SalesRep": "Callahan",
                                    "ProductName": "Ikura",
                                    "Quantity": "20",
                                    "Discount": "0.2"
                                },
                                {
                                    "OrderID": "10454",
                                    "Customer": "La maison d'Asie",
                                    "SalesRep": "Peacock",
                                    "ProductName": "Pavlova",
                                    "Quantity": "20",
                                    "Discount": "0.2"
                                },
                                {
                                    "OrderID": "10454",
                                    "Customer": "La maison d'Asie",
                                    "SalesRep": "Peacock",
                                    "ProductName": "Geitost",
                                    "Quantity": "20",
                                    "Discount": "0.2"
                                },
                                {
                                    "OrderID": "10388",
                                    "Customer": "Seven Seas Imports",
                                    "SalesRep": "Fuller",
                                    "ProductName": "Filo Mix",
                                    "Quantity": "20",
                                    "Discount": "0.2"
                                },
                                {
                                    "OrderID": "10385",
                                    "Customer": "Split Rail Beer & Ale",
                                    "SalesRep": "Davolio",
                                    "ProductName": "Camembert Pierrot",
                                    "Quantity": "20",
                                    "Discount": "0.2"
                                },
                                {
                                    "OrderID": "10756",
                                    "Customer": "Split Rail Beer & Ale",
                                    "SalesRep": "Callahan",
                                    "ProductName": "Inlagd Sill",
                                    "Quantity": "20",
                                    "Discount": "0.2"
                                },
                                {
                                    "OrderID": "10781",
                                    "Customer": "Wartian Herkku",
                                    "SalesRep": "Fuller",
                                    "ProductName": "Gnocchi di nonna Alice",
                                    "Quantity": "20",
                                    "Discount": "0.2"
                                },
                                {
                                    "OrderID": "10777",
                                    "Customer": "Gourmet Lanchonetes",
                                    "SalesRep": "King",
                                    "ProductName": "Singaporean Hokkien Fried Mee",
                                    "Quantity": "20",
                                    "Discount": "0.2"
                                },
                                {
                                    "OrderID": "10756",
                                    "Customer": "Split Rail Beer & Ale",
                                    "SalesRep": "Callahan",
                                    "ProductName": "Gudbrandsdalsost",
                                    "Quantity": "20",
                                    "Discount": "0.2"
                                },
                                {
                                    "OrderID": "10655",
                                    "Customer": "Reggiani Caseifici",
                                    "SalesRep": "Davolio",
                                    "ProductName": "Jack's New England Clam Chowder",
                                    "Quantity": "20",
                                    "Discount": "0.2"
                                },
                                {
                                    "OrderID": "10991",
                                    "Customer": "QUICK-Stop",
                                    "SalesRep": "Davolio",
                                    "ProductName": "Outback Lager",
                                    "Quantity": "20",
                                    "Discount": "0.2"
                                },
                                {
                                    "OrderID": "10622",
                                    "Customer": "Ricardo Adocicados",
                                    "SalesRep": "Peacock",
                                    "ProductName": "Scottish Longbreads",
                                    "Quantity": "18",
                                    "Discount": "0.2"
                                },
                                {
                                    "OrderID": "10555",
                                    "Customer": "Save-a-lot Markets",
                                    "SalesRep": "Suyama",
                                    "ProductName": "Guaraná Fantástica",
                                    "Quantity": "18",
                                    "Discount": "0.2"
                                },
                                {
                                    "OrderID": "10464",
                                    "Customer": "Furia Bacalhau e Frutos do Mar",
                                    "SalesRep": "Peacock",
                                    "ProductName": "Chef Anton's Cajun Seasoning",
                                    "Quantity": "16",
                                    "Discount": "0.2"
                                },
                                {
                                    "OrderID": "10332",
                                    "Customer": "Mère Paillarde",
                                    "SalesRep": "Leverling",
                                    "ProductName": "Zaanse koeken",
                                    "Quantity": "16",
                                    "Discount": "0.2"
                                },
                                {
                                    "OrderID": "10832",
                                    "Customer": "La maison d'Asie",
                                    "SalesRep": "Fuller",
                                    "ProductName": "Gula Malacca",
                                    "Quantity": "16",
                                    "Discount": "0.2"
                                },
                                {
                                    "OrderID": "10786",
                                    "Customer": "Queen Cozinha",
                                    "SalesRep": "Callahan",
                                    "ProductName": "Nord-Ost Matjeshering",
                                    "Quantity": "15",
                                    "Discount": "0.2"
                                },
                                {
                                    "OrderID": "10794",
                                    "Customer": "Que Delícia",
                                    "SalesRep": "Suyama",
                                    "ProductName": "Tofu",
                                    "Quantity": "15",
                                    "Discount": "0.2"
                                },
                                {
                                    "OrderID": "10741",
                                    "Customer": "Around the Horn",
                                    "SalesRep": "Peacock",
                                    "ProductName": "Chang",
                                    "Quantity": "15",
                                    "Discount": "0.2"
                                },
                                {
                                    "OrderID": "10388",
                                    "Customer": "Seven Seas Imports",
                                    "SalesRep": "Fuller",
                                    "ProductName": "Rogede sild",
                                    "Quantity": "15",
                                    "Discount": "0.2"
                                },
                                {
                                    "OrderID": "10438",
                                    "Customer": "Toms Spezialitäten",
                                    "SalesRep": "Leverling",
                                    "ProductName": "Teatime Chocolate Biscuits",
                                    "Quantity": "15",
                                    "Discount": "0.2"
                                },
                                {
                                    "OrderID": "10438",
                                    "Customer": "Toms Spezialitäten",
                                    "SalesRep": "Leverling",
                                    "ProductName": "Ravioli Angelo",
                                    "Quantity": "15",
                                    "Discount": "0.2"
                                },
                                {
                                    "OrderID": "10513",
                                    "Customer": "Die Wandernde Kuh",
                                    "SalesRep": "King",
                                    "ProductName": "Sirop d'érable",
                                    "Quantity": "15",
                                    "Discount": "0.2"
                                },
                                {
                                    "OrderID": "10740",
                                    "Customer": "White Clover Markets",
                                    "SalesRep": "Peacock",
                                    "ProductName": "Gnocchi di nonna Alice",
                                    "Quantity": "14",
                                    "Discount": "0.2"
                                },
                                {
                                    "OrderID": "10667",
                                    "Customer": "Ernst Handel",
                                    "SalesRep": "King",
                                    "ProductName": "Flotemysost",
                                    "Quantity": "14",
                                    "Discount": "0.2"
                                },
                                {
                                    "OrderID": "10700",
                                    "Customer": "Save-a-lot Markets",
                                    "SalesRep": "Leverling",
                                    "ProductName": "Sasquatch Ale",
                                    "Quantity": "12",
                                    "Discount": "0.2"
                                },
                                {
                                    "OrderID": "10813",
                                    "Customer": "Ricardo Adocicados",
                                    "SalesRep": "Davolio",
                                    "ProductName": "Chang",
                                    "Quantity": "12",
                                    "Discount": "0.2"
                                },
                                {
                                    "OrderID": "10847",
                                    "Customer": "Save-a-lot Markets",
                                    "SalesRep": "Peacock",
                                    "ProductName": "Teatime Chocolate Biscuits",
                                    "Quantity": "12",
                                    "Discount": "0.2"
                                },
                                {
                                    "OrderID": "10955",
                                    "Customer": "Folk och fä HB",
                                    "SalesRep": "Callahan",
                                    "ProductName": "Rhönbräu Klosterbier",
                                    "Quantity": "12",
                                    "Discount": "0.2"
                                },
                                {
                                    "OrderID": "10597",
                                    "Customer": "Piccolo und mehr",
                                    "SalesRep": "King",
                                    "ProductName": "Louisiana Fiery Hot Pepper Sauce",
                                    "Quantity": "12",
                                    "Discount": "0.2"
                                },
                                {
                                    "OrderID": "10353",
                                    "Customer": "Piccolo und mehr",
                                    "SalesRep": "King",
                                    "ProductName": "Queso Cabrales",
                                    "Quantity": "12",
                                    "Discount": "0.2"
                                },
                                {
                                    "OrderID": "10262",
                                    "Customer": "Rattlesnake Canyon Grocery",
                                    "SalesRep": "Callahan",
                                    "ProductName": "Chef Anton's Gumbo Mix",
                                    "Quantity": "12",
                                    "Discount": "0.2"
                                },
                                {
                                    "OrderID": "11062",
                                    "Customer": "Reggiani Caseifici",
                                    "SalesRep": "Peacock",
                                    "ProductName": "Outback Lager",
                                    "Quantity": "12",
                                    "Discount": "0.2"
                                },
                                {
                                    "OrderID": "11062",
                                    "Customer": "Reggiani Caseifici",
                                    "SalesRep": "Peacock",
                                    "ProductName": "Perth Pasties",
                                    "Quantity": "10",
                                    "Discount": "0.2"
                                },
                                {
                                    "OrderID": "11052",
                                    "Customer": "Hanari Carnes",
                                    "SalesRep": "Leverling",
                                    "ProductName": "Sirop d'érable",
                                    "Quantity": "10",
                                    "Discount": "0.2"
                                },
                                {
                                    "OrderID": "11051",
                                    "Customer": "La maison d'Asie",
                                    "SalesRep": "King",
                                    "ProductName": "Guaraná Fantástica",
                                    "Quantity": "10",
                                    "Discount": "0.2"
                                },
                                {
                                    "OrderID": "11049",
                                    "Customer": "Gourmet Lanchonetes",
                                    "SalesRep": "Leverling",
                                    "ProductName": "Chang",
                                    "Quantity": "10",
                                    "Discount": "0.2"
                                },
                                {
                                    "OrderID": "10332",
                                    "Customer": "Mère Paillarde",
                                    "SalesRep": "Leverling",
                                    "ProductName": "Singaporean Hokkien Fried Mee",
                                    "Quantity": "10",
                                    "Discount": "0.2"
                                },
                                {
                                    "OrderID": "10385",
                                    "Customer": "Split Rail Beer & Ale",
                                    "SalesRep": "Davolio",
                                    "ProductName": "Uncle Bob's Organic Dried Pears",
                                    "Quantity": "10",
                                    "Discount": "0.2"
                                },
                                {
                                    "OrderID": "10606",
                                    "Customer": "Tradição Hipermercados",
                                    "SalesRep": "Peacock",
                                    "ProductName": "Tarte au sucre",
                                    "Quantity": "10",
                                    "Discount": "0.2"
                                },
                                {
                                    "OrderID": "10534",
                                    "Customer": "Lehmanns Marktstand",
                                    "SalesRep": "Callahan",
                                    "ProductName": "Boston Crab Meat",
                                    "Quantity": "10",
                                    "Discount": "0.2"
                                },
                                {
                                    "OrderID": "10534",
                                    "Customer": "Lehmanns Marktstand",
                                    "SalesRep": "Callahan",
                                    "ProductName": "Tourtière",
                                    "Quantity": "10",
                                    "Discount": "0.2"
                                },
                                {
                                    "OrderID": "10454",
                                    "Customer": "La maison d'Asie",
                                    "SalesRep": "Peacock",
                                    "ProductName": "Spegesild",
                                    "Quantity": "10",
                                    "Discount": "0.2"
                                },
                                {
                                    "OrderID": "10923",
                                    "Customer": "La maison d'Asie",
                                    "SalesRep": "King",
                                    "ProductName": "Singaporean Hokkien Fried Mee",
                                    "Quantity": "10",
                                    "Discount": "0.2"
                                },
                                {
                                    "OrderID": "10923",
                                    "Customer": "La maison d'Asie",
                                    "SalesRep": "King",
                                    "ProductName": "Ipoh Coffee",
                                    "Quantity": "10",
                                    "Discount": "0.2"
                                },
                                {
                                    "OrderID": "10832",
                                    "Customer": "La maison d'Asie",
                                    "SalesRep": "Fuller",
                                    "ProductName": "NuNuCa Nuß-Nougat-Creme",
                                    "Quantity": "10",
                                    "Discount": "0.2"
                                },
                                {
                                    "OrderID": "10840",
                                    "Customer": "LINO-Delicateses",
                                    "SalesRep": "Peacock",
                                    "ProductName": "Chartreuse verte",
                                    "Quantity": "10",
                                    "Discount": "0.2"
                                },
                                {
                                    "OrderID": "10411",
                                    "Customer": "Bottom-Dollar Markets",
                                    "SalesRep": "Dodsworth",
                                    "ProductName": "Raclette Courdavault",
                                    "Quantity": "9",
                                    "Discount": "0.2"
                                },
                                {
                                    "OrderID": "10385",
                                    "Customer": "Split Rail Beer & Ale",
                                    "SalesRep": "Davolio",
                                    "ProductName": "Scottish Longbreads",
                                    "Quantity": "8",
                                    "Discount": "0.2"
                                },
                                {
                                    "OrderID": "10357",
                                    "Customer": "LILA-Supermercado",
                                    "SalesRep": "Davolio",
                                    "ProductName": "Camembert Pierrot",
                                    "Quantity": "8",
                                    "Discount": "0.2"
                                },
                                {
                                    "OrderID": "10528",
                                    "Customer": "Great Lakes Food Market",
                                    "SalesRep": "Suyama",
                                    "ProductName": "Geitost",
                                    "Quantity": "8",
                                    "Discount": "0.2"
                                },
                                {
                                    "OrderID": "10335",
                                    "Customer": "Hungry Owl All-Night Grocers",
                                    "SalesRep": "King",
                                    "ProductName": "Chang",
                                    "Quantity": "7",
                                    "Discount": "0.2"
                                },
                                {
                                    "OrderID": "10773",
                                    "Customer": "Ernst Handel",
                                    "SalesRep": "Davolio",
                                    "ProductName": "Rhönbräu Klosterbier",
                                    "Quantity": "7",
                                    "Discount": "0.2"
                                },
                                {
                                    "OrderID": "10794",
                                    "Customer": "Que Delícia",
                                    "SalesRep": "Suyama",
                                    "ProductName": "Tourtière",
                                    "Quantity": "6",
                                    "Discount": "0.2"
                                },
                                {
                                    "OrderID": "10756",
                                    "Customer": "Split Rail Beer & Ale",
                                    "SalesRep": "Callahan",
                                    "ProductName": "Scottish Longbreads",
                                    "Quantity": "6",
                                    "Discount": "0.2"
                                },
                                {
                                    "OrderID": "10840",
                                    "Customer": "LINO-Delicateses",
                                    "SalesRep": "Peacock",
                                    "ProductName": "NuNuCa Nuß-Nougat-Creme",
                                    "Quantity": "6",
                                    "Discount": "0.2"
                                },
                                {
                                    "OrderID": "10335",
                                    "Customer": "Hungry Owl All-Night Grocers",
                                    "SalesRep": "King",
                                    "ProductName": "Mascarpone Fabioli",
                                    "Quantity": "6",
                                    "Discount": "0.2"
                                },
                                {
                                    "OrderID": "10258",
                                    "Customer": "Ernst Handel",
                                    "SalesRep": "Davolio",
                                    "ProductName": "Mascarpone Fabioli",
                                    "Quantity": "6",
                                    "Discount": "0.2"
                                },
                                {
                                    "OrderID": "10371",
                                    "Customer": "La maison d'Asie",
                                    "SalesRep": "Davolio",
                                    "ProductName": "Inlagd Sill",
                                    "Quantity": "6",
                                    "Discount": "0.2"
                                },
                                {
                                    "OrderID": "10450",
                                    "Customer": "Victuailles en stock",
                                    "SalesRep": "Callahan",
                                    "ProductName": "Tourtière",
                                    "Quantity": "6",
                                    "Discount": "0.2"
                                },
                                {
                                    "OrderID": "10443",
                                    "Customer": "Reggiani Caseifici",
                                    "SalesRep": "Callahan",
                                    "ProductName": "Queso Cabrales",
                                    "Quantity": "6",
                                    "Discount": "0.2"
                                },
                                {
                                    "OrderID": "10596",
                                    "Customer": "White Clover Markets",
                                    "SalesRep": "Callahan",
                                    "ProductName": "Gnocchi di nonna Alice",
                                    "Quantity": "5",
                                    "Discount": "0.2"
                                },
                                {
                                    "OrderID": "10740",
                                    "Customer": "White Clover Markets",
                                    "SalesRep": "Peacock",
                                    "ProductName": "Rössle Sauerkraut",
                                    "Quantity": "5",
                                    "Discount": "0.2"
                                },
                                {
                                    "OrderID": "10700",
                                    "Customer": "Save-a-lot Markets",
                                    "SalesRep": "Leverling",
                                    "ProductName": "Chai",
                                    "Quantity": "5",
                                    "Discount": "0.2"
                                },
                                {
                                    "OrderID": "11038",
                                    "Customer": "Suprêmes délices",
                                    "SalesRep": "Davolio",
                                    "ProductName": "Boston Crab Meat",
                                    "Quantity": "5",
                                    "Discount": "0.2"
                                },
                                {
                                    "OrderID": "11049",
                                    "Customer": "Gourmet Lanchonetes",
                                    "SalesRep": "Leverling",
                                    "ProductName": "Queso Manchego La Pastora",
                                    "Quantity": "4",
                                    "Discount": "0.2"
                                },
                                {
                                    "OrderID": "10593",
                                    "Customer": "Lehmanns Marktstand",
                                    "SalesRep": "King",
                                    "ProductName": "Lakkalikööri",
                                    "Quantity": "4",
                                    "Discount": "0.2"
                                },
                                {
                                    "OrderID": "10661",
                                    "Customer": "Hungry Owl All-Night Grocers",
                                    "SalesRep": "King",
                                    "ProductName": "Chartreuse verte",
                                    "Quantity": "3",
                                    "Discount": "0.2"
                                },
                                {
                                    "OrderID": "10781",
                                    "Customer": "Wartian Herkku",
                                    "SalesRep": "Fuller",
                                    "ProductName": "Tourtière",
                                    "Quantity": "3",
                                    "Discount": "0.2"
                                },
                                {
                                    "OrderID": "10832",
                                    "Customer": "La maison d'Asie",
                                    "SalesRep": "Fuller",
                                    "ProductName": "Konbu",
                                    "Quantity": "3",
                                    "Discount": "0.2"
                                },
                                {
                                    "OrderID": "10835",
                                    "Customer": "Alfreds Futterkiste",
                                    "SalesRep": "Davolio",
                                    "ProductName": "Original Frankfurter grüne Soße",
                                    "Quantity": "2",
                                    "Discount": "0.2"
                                }
                            ]
                        },
                        "text/html": "<table><tr><th>OrderID</th><th>Customer</th><th>SalesRep</th><th>ProductName</th><th>Quantity</th><th>Discount</th></tr><tr><td>10595</td><td>Ernst Handel</td><td>Fuller</td><td>Sirop d&#39;érable</td><td>120</td><td>0.25</td></tr><tr><td>11030</td><td>Save-a-lot Markets</td><td>King</td><td>Chang</td><td>100</td><td>0.25</td></tr><tr><td>11030</td><td>Save-a-lot Markets</td><td>King</td><td>Raclette Courdavault</td><td>100</td><td>0.25</td></tr><tr><td>10941</td><td>Save-a-lot Markets</td><td>King</td><td>Scottish Longbreads</td><td>80</td><td>0.25</td></tr><tr><td>10344</td><td>White Clover Markets</td><td>Peacock</td><td>Northwoods Cranberry Sauce</td><td>70</td><td>0.25</td></tr><tr><td>10372</td><td>Queen Cozinha</td><td>Buchanan</td><td>Camembert Pierrot</td><td>70</td><td>0.25</td></tr><tr><td>10393</td><td>Save-a-lot Markets</td><td>Davolio</td><td>Gumbär Gummibärchen</td><td>70</td><td>0.25</td></tr><tr><td>10595</td><td>Ernst Handel</td><td>Fuller</td><td>Gudbrandsdalsost</td><td>65</td><td>0.25</td></tr><tr><td>10461</td><td>LILA-Supermercado</td><td>Davolio</td><td>Pâté chinois</td><td>60</td><td>0.25</td></tr><tr><td>10263</td><td>Ernst Handel</td><td>Dodsworth</td><td>Pavlova</td><td>60</td><td>0.25</td></tr><tr><td>10263</td><td>Ernst Handel</td><td>Dodsworth</td><td>Nord-Ost Matjeshering</td><td>60</td><td>0.25</td></tr><tr><td>10918</td><td>Bottom-Dollar Markets</td><td>Leverling</td><td>Chai</td><td>60</td><td>0.25</td></tr><tr><td>10912</td><td>Hungry Owl All-Night Grocers</td><td>Fuller</td><td>Thüringer Rostbratwurst</td><td>60</td><td>0.25</td></tr><tr><td>10802</td><td>Simons bistro</td><td>Peacock</td><td>Pâté chinois</td><td>60</td><td>0.25</td></tr><tr><td>11030</td><td>Save-a-lot Markets</td><td>King</td><td>Thüringer Rostbratwurst</td><td>60</td><td>0.25</td></tr><tr><td>10993</td><td>Folk och fä HB</td><td>King</td><td>Thüringer Rostbratwurst</td><td>50</td><td>0.25</td></tr><tr><td>10838</td><td>LINO-Delicateses</td><td>Leverling</td><td>Inlagd Sill</td><td>50</td><td>0.25</td></tr><tr><td>10680</td><td>Old World Delicatessen</td><td>Davolio</td><td>Pavlova</td><td>50</td><td>0.25</td></tr><tr><td>10687</td><td>Hungry Owl All-Night Grocers</td><td>Dodsworth</td><td>Mishi Kobe Niku</td><td>50</td><td>0.25</td></tr><tr><td>10714</td><td>Save-a-lot Markets</td><td>Buchanan</td><td>Zaanse koeken</td><td>50</td><td>0.25</td></tr><tr><td>10431</td><td>Bottom-Dollar Markets</td><td>Peacock</td><td>Alice Mutton</td><td>50</td><td>0.25</td></tr><tr><td>10431</td><td>Bottom-Dollar Markets</td><td>Peacock</td><td>Boston Crab Meat</td><td>50</td><td>0.25</td></tr><tr><td>10938</td><td>QUICK-Stop</td><td>Leverling</td><td>Camembert Pierrot</td><td>49</td><td>0.25</td></tr><tr><td>10941</td><td>Save-a-lot Markets</td><td>King</td><td>Gorgonzola Telino</td><td>44</td><td>0.25</td></tr><tr><td>11021</td><td>QUICK-Stop</td><td>Leverling</td><td>Manjimup Dried Apples</td><td>44</td><td>0.25</td></tr><tr><td>10372</td><td>Queen Cozinha</td><td>Buchanan</td><td>Mozzarella di Giovanni</td><td>42</td><td>0.25</td></tr><tr><td>10393</td><td>Save-a-lot Markets</td><td>Davolio</td><td>Tofu</td><td>42</td><td>0.25</td></tr><tr><td>10372</td><td>Queen Cozinha</td><td>Buchanan</td><td>Côte de Blaye</td><td>40</td><td>0.25</td></tr><tr><td>10298</td><td>Hungry Owl All-Night Grocers</td><td>Suyama</td><td>Inlagd Sill</td><td>40</td><td>0.25</td></tr><tr><td>10461</td><td>LILA-Supermercado</td><td>Davolio</td><td>Sir Rodney&#39;s Scones</td><td>40</td><td>0.25</td></tr><tr><td>10913</td><td>Queen Cozinha</td><td>Peacock</td><td>Geitost</td><td>40</td><td>0.25</td></tr><tr><td>10866</td><td>Berglunds snabbköp</td><td>Buchanan</td><td>Nord-Ost Matjeshering</td><td>40</td><td>0.25</td></tr><tr><td>10912</td><td>Hungry Owl All-Night Grocers</td><td>Fuller</td><td>Queso Cabrales</td><td>40</td><td>0.25</td></tr><tr><td>10859</td><td>Frankenversand</td><td>Davolio</td><td>Guaraná Fantástica</td><td>40</td><td>0.25</td></tr><tr><td>10801</td><td>Bólido Comidas preparadas</td><td>Peacock</td><td>Alice Mutton</td><td>40</td><td>0.25</td></tr><tr><td>10837</td><td>Berglunds snabbköp</td><td>Dodsworth</td><td>Zaanse koeken</td><td>40</td><td>0.25</td></tr><tr><td>10680</td><td>Old World Delicatessen</td><td>Davolio</td><td>Singaporean Hokkien Fried Mee</td><td>40</td><td>0.25</td></tr><tr><td>10719</td><td>Let&#39;s Stop N Shop</td><td>Callahan</td><td>Tourtière</td><td>40</td><td>0.25</td></tr><tr><td>10263</td><td>Ernst Handel</td><td>Dodsworth</td><td>Longlife Tofu</td><td>36</td><td>0.25</td></tr><tr><td>10417</td><td>Simons bistro</td><td>Peacock</td><td>Scottish Longbreads</td><td>36</td><td>0.25</td></tr><tr><td>10429</td><td>Hungry Owl All-Night Grocers</td><td>Leverling</td><td>Vegie-spread</td><td>35</td><td>0.25</td></tr><tr><td>10536</td><td>Lehmanns Marktstand</td><td>Leverling</td><td>Camembert Pierrot</td><td>35</td><td>0.25</td></tr><tr><td>10761</td><td>Rattlesnake Canyon Grocery</td><td>Buchanan</td><td>NuNuCa Nuß-Nougat-Creme</td><td>35</td><td>0.25</td></tr><tr><td>10795</td><td>Ernst Handel</td><td>Callahan</td><td>Alice Mutton</td><td>35</td><td>0.25</td></tr><tr><td>10646</td><td>Hungry Owl All-Night Grocers</td><td>Dodsworth</td><td>Original Frankfurter grüne Soße</td><td>35</td><td>0.25</td></tr><tr><td>10689</td><td>Berglunds snabbköp</td><td>Davolio</td><td>Chai</td><td>35</td><td>0.25</td></tr><tr><td>10859</td><td>Frankenversand</td><td>Davolio</td><td>Tourtière</td><td>35</td><td>0.25</td></tr><tr><td>10857</td><td>Berglunds snabbköp</td><td>Callahan</td><td>Gumbär Gummibärchen</td><td>35</td><td>0.25</td></tr><tr><td>10938</td><td>QUICK-Stop</td><td>Leverling</td><td>Flotemysost</td><td>35</td><td>0.25</td></tr><tr><td>10993</td><td>Folk och fä HB</td><td>King</td><td>Jack&#39;s New England Clam Chowder</td><td>35</td><td>0.25</td></tr><tr><td>11027</td><td>Bottom-Dollar Markets</td><td>Davolio</td><td>Guaraná Fantástica</td><td>30</td><td>0.25</td></tr><tr><td>11000</td><td>Rattlesnake Canyon Grocery</td><td>Fuller</td><td>Guaraná Fantástica</td><td>30</td><td>0.25</td></tr><tr><td>11047</td><td>Eastern Connection</td><td>King</td><td>Chef Anton&#39;s Gumbo Mix</td><td>30</td><td>0.25</td></tr><tr><td>10941</td><td>Save-a-lot Markets</td><td>King</td><td>Tarte au sucre</td><td>30</td><td>0.25</td></tr><tr><td>10877</td><td>Ricardo Adocicados</td><td>Davolio</td><td>Pavlova</td><td>30</td><td>0.25</td></tr><tr><td>10913</td><td>Queen Cozinha</td><td>Peacock</td><td>Chef Anton&#39;s Cajun Seasoning</td><td>30</td><td>0.25</td></tr><tr><td>10859</td><td>Frankenversand</td><td>Davolio</td><td>Wimmers gute Semmelknödel</td><td>30</td><td>0.25</td></tr><tr><td>10802</td><td>Simons bistro</td><td>Peacock</td><td>Manjimup Dried Apples</td><td>30</td><td>0.25</td></tr><tr><td>10690</td><td>Hanari Carnes</td><td>Davolio</td><td>Original Frankfurter grüne Soße</td><td>30</td><td>0.25</td></tr><tr><td>10646</td><td>Hungry Owl All-Night Grocers</td><td>Dodsworth</td><td>Flotemysost</td><td>30</td><td>0.25</td></tr><tr><td>10697</td><td>LINO-Delicateses</td><td>Leverling</td><td>Escargots de Bourgogne</td><td>30</td><td>0.25</td></tr><tr><td>10697</td><td>LINO-Delicateses</td><td>Leverling</td><td>Outback Lager</td><td>30</td><td>0.25</td></tr><tr><td>10760</td><td>Maison Dewey</td><td>Peacock</td><td>Ipoh Coffee</td><td>30</td><td>0.25</td></tr><tr><td>10714</td><td>Save-a-lot Markets</td><td>Buchanan</td><td>Chang</td><td>30</td><td>0.25</td></tr><tr><td>10755</td><td>Bon app&#39;</td><td>Peacock</td><td>Zaanse koeken</td><td>30</td><td>0.25</td></tr><tr><td>10755</td><td>Bon app&#39;</td><td>Peacock</td><td>Gnocchi di nonna Alice</td><td>30</td><td>0.25</td></tr><tr><td>10595</td><td>Ernst Handel</td><td>Fuller</td><td>Steeleye Stout</td><td>30</td><td>0.25</td></tr><tr><td>10431</td><td>Bottom-Dollar Markets</td><td>Peacock</td><td>Zaanse koeken</td><td>30</td><td>0.25</td></tr><tr><td>10298</td><td>Hungry Owl All-Night Grocers</td><td>Suyama</td><td>Raclette Courdavault</td><td>30</td><td>0.25</td></tr><tr><td>10461</td><td>LILA-Supermercado</td><td>Davolio</td><td>Nord-Ost Matjeshering</td><td>28</td><td>0.25</td></tr><tr><td>10714</td><td>Save-a-lot Markets</td><td>Buchanan</td><td>Alice Mutton</td><td>27</td><td>0.25</td></tr><tr><td>10755</td><td>Bon app&#39;</td><td>Peacock</td><td>Gudbrandsdalsost</td><td>25</td><td>0.25</td></tr><tr><td>10802</td><td>Simons bistro</td><td>Peacock</td><td>Nord-Ost Matjeshering</td><td>25</td><td>0.25</td></tr><tr><td>10838</td><td>LINO-Delicateses</td><td>Leverling</td><td>Carnarvon Tigers</td><td>25</td><td>0.25</td></tr><tr><td>10918</td><td>Bottom-Dollar Markets</td><td>Leverling</td><td>Camembert Pierrot</td><td>25</td><td>0.25</td></tr><tr><td>10393</td><td>Save-a-lot Markets</td><td>Davolio</td><td>Chang</td><td>25</td><td>0.25</td></tr><tr><td>11047</td><td>Eastern Connection</td><td>King</td><td>Chai</td><td>25</td><td>0.25</td></tr><tr><td>11000</td><td>Rattlesnake Canyon Grocery</td><td>Fuller</td><td>Chef Anton&#39;s Cajun Seasoning</td><td>25</td><td>0.25</td></tr><tr><td>10938</td><td>QUICK-Stop</td><td>Leverling</td><td>Ipoh Coffee</td><td>24</td><td>0.25</td></tr><tr><td>10487</td><td>Queen Cozinha</td><td>Fuller</td><td>Tourtière</td><td>24</td><td>0.25</td></tr><tr><td>10460</td><td>Folk och fä HB</td><td>Callahan</td><td>Scottish Longbreads</td><td>21</td><td>0.25</td></tr><tr><td>10477</td><td>Princesa Isabel Vinhos</td><td>Buchanan</td><td>Sir Rodney&#39;s Scones</td><td>21</td><td>0.25</td></tr><tr><td>10610</td><td>La maison d&#39;Asie</td><td>Callahan</td><td>Inlagd Sill</td><td>21</td><td>0.25</td></tr><tr><td>10260</td><td>Ottilies Käseladen</td><td>Peacock</td><td>Outback Lager</td><td>21</td><td>0.25</td></tr><tr><td>10866</td><td>Berglunds snabbköp</td><td>Buchanan</td><td>Chang</td><td>21</td><td>0.25</td></tr><tr><td>10837</td><td>Berglunds snabbköp</td><td>Dodsworth</td><td>Lakkalikööri</td><td>21</td><td>0.25</td></tr><tr><td>10643</td><td>Alfreds Futterkiste</td><td>Suyama</td><td>Chartreuse verte</td><td>21</td><td>0.25</td></tr><tr><td>11027</td><td>Bottom-Dollar Markets</td><td>Davolio</td><td>Tarte au sucre</td><td>21</td><td>0.25</td></tr><tr><td>10997</td><td>LILA-Supermercado</td><td>Callahan</td><td>Spegesild</td><td>20</td><td>0.25</td></tr><tr><td>10997</td><td>LILA-Supermercado</td><td>Callahan</td><td>Filo Mix</td><td>20</td><td>0.25</td></tr><tr><td>11065</td><td>LILA-Supermercado</td><td>Callahan</td><td>Tourtière</td><td>20</td><td>0.25</td></tr><tr><td>11076</td><td>Bon app&#39;</td><td>Peacock</td><td>Grandma&#39;s Boysenberry Spread</td><td>20</td><td>0.25</td></tr><tr><td>11076</td><td>Bon app&#39;</td><td>Peacock</td><td>Tofu</td><td>20</td><td>0.25</td></tr><tr><td>10651</td><td>Die Wandernde Kuh</td><td>Callahan</td><td>Gustaf&#39;s Knäckebröd</td><td>20</td><td>0.25</td></tr><tr><td>10680</td><td>Old World Delicatessen</td><td>Davolio</td><td>Gorgonzola Telino</td><td>20</td><td>0.25</td></tr><tr><td>10690</td><td>Hanari Carnes</td><td>Davolio</td><td>Gnocchi di nonna Alice</td><td>20</td><td>0.25</td></tr><tr><td>10806</td><td>Victuailles en stock</td><td>Leverling</td><td>Chang</td><td>20</td><td>0.25</td></tr><tr><td>10801</td><td>Bólido Comidas preparadas</td><td>Peacock</td><td>Thüringer Rostbratwurst</td><td>20</td><td>0.25</td></tr><tr><td>10938</td><td>QUICK-Stop</td><td>Leverling</td><td>Konbu</td><td>20</td><td>0.25</td></tr><tr><td>10284</td><td>Lehmanns Marktstand</td><td>Peacock</td><td>Camembert Pierrot</td><td>20</td><td>0.25</td></tr><tr><td>10640</td><td>Die Wandernde Kuh</td><td>Peacock</td><td>Gudbrandsdalsost</td><td>20</td><td>0.25</td></tr><tr><td>10477</td><td>Princesa Isabel Vinhos</td><td>Buchanan</td><td>Chartreuse verte</td><td>20</td><td>0.25</td></tr><tr><td>10425</td><td>La maison d&#39;Asie</td><td>Suyama</td><td>Lakkalikööri</td><td>20</td><td>0.25</td></tr><tr><td>10369</td><td>Split Rail Beer &amp; Ale</td><td>Callahan</td><td>Gnocchi di nonna Alice</td><td>18</td><td>0.25</td></tr><tr><td>10944</td><td>Bottom-Dollar Markets</td><td>Suyama</td><td>Gula Malacca</td><td>18</td><td>0.25</td></tr><tr><td>10714</td><td>Save-a-lot Markets</td><td>Buchanan</td><td>Gnocchi di nonna Alice</td><td>18</td><td>0.25</td></tr><tr><td>10646</td><td>Hungry Owl All-Night Grocers</td><td>Dodsworth</td><td>Ikura</td><td>18</td><td>0.25</td></tr><tr><td>11009</td><td>Godos Cocina Típica</td><td>Fuller</td><td>Inlagd Sill</td><td>18</td><td>0.25</td></tr><tr><td>10260</td><td>Ottilies Käseladen</td><td>Peacock</td><td>Jack&#39;s New England Clam Chowder</td><td>16</td><td>0.25</td></tr><tr><td>10260</td><td>Ottilies Käseladen</td><td>Peacock</td><td>Tarte au sucre</td><td>15</td><td>0.25</td></tr><tr><td>10279</td><td>Lehmanns Marktstand</td><td>Callahan</td><td>Alice Mutton</td><td>15</td><td>0.25</td></tr><tr><td>10284</td><td>Lehmanns Marktstand</td><td>Peacock</td><td>Schoggi Schokolade</td><td>15</td><td>0.25</td></tr><tr><td>10489</td><td>Piccolo und mehr</td><td>Suyama</td><td>Queso Cabrales</td><td>15</td><td>0.25</td></tr><tr><td>10536</td><td>Lehmanns Marktstand</td><td>Leverling</td><td>Queso Manchego La Pastora</td><td>15</td><td>0.25</td></tr><tr><td>10640</td><td>Die Wandernde Kuh</td><td>Peacock</td><td>Outback Lager</td><td>15</td><td>0.25</td></tr><tr><td>10643</td><td>Alfreds Futterkiste</td><td>Suyama</td><td>Rössle Sauerkraut</td><td>15</td><td>0.25</td></tr><tr><td>10560</td><td>Frankenversand</td><td>Callahan</td><td>Tarte au sucre</td><td>15</td><td>0.25</td></tr><tr><td>10646</td><td>Hungry Owl All-Night Grocers</td><td>Dodsworth</td><td>Chai</td><td>15</td><td>0.25</td></tr><tr><td>10770</td><td>Hanari Carnes</td><td>Callahan</td><td>Queso Cabrales</td><td>15</td><td>0.25</td></tr><tr><td>10806</td><td>Victuailles en stock</td><td>Leverling</td><td>Longlife Tofu</td><td>15</td><td>0.25</td></tr><tr><td>10755</td><td>Bon app&#39;</td><td>Peacock</td><td>Ravioli Angelo</td><td>14</td><td>0.25</td></tr><tr><td>10760</td><td>Maison Dewey</td><td>Peacock</td><td>NuNuCa Nuß-Nougat-Creme</td><td>12</td><td>0.25</td></tr><tr><td>10651</td><td>Die Wandernde Kuh</td><td>Callahan</td><td>Teatime Chocolate Biscuits</td><td>12</td><td>0.25</td></tr><tr><td>10714</td><td>Save-a-lot Markets</td><td>Buchanan</td><td>Escargots de Bourgogne</td><td>12</td><td>0.25</td></tr><tr><td>10719</td><td>Let&#39;s Stop N Shop</td><td>Callahan</td><td>Carnarvon Tigers</td><td>12</td><td>0.25</td></tr><tr><td>10372</td><td>Queen Cozinha</td><td>Buchanan</td><td>Sir Rodney&#39;s Marmalade</td><td>12</td><td>0.25</td></tr><tr><td>11021</td><td>QUICK-Stop</td><td>Leverling</td><td>Chang</td><td>11</td><td>0.25</td></tr><tr><td>11076</td><td>Bon app&#39;</td><td>Peacock</td><td>Teatime Chocolate Biscuits</td><td>10</td><td>0.25</td></tr><tr><td>10425</td><td>La maison d&#39;Asie</td><td>Suyama</td><td>Pâté chinois</td><td>10</td><td>0.25</td></tr><tr><td>10548</td><td>Toms Spezialitäten</td><td>Leverling</td><td>Sasquatch Ale</td><td>10</td><td>0.25</td></tr><tr><td>10857</td><td>Berglunds snabbköp</td><td>Callahan</td><td>Thüringer Rostbratwurst</td><td>10</td><td>0.25</td></tr><tr><td>10960</td><td>HILARION-Abastos</td><td>Leverling</td><td>Guaraná Fantástica</td><td>10</td><td>0.25</td></tr><tr><td>10697</td><td>LINO-Delicateses</td><td>Leverling</td><td>Steeleye Stout</td><td>9</td><td>0.25</td></tr><tr><td>10935</td><td>Wellington Importadora</td><td>Peacock</td><td>Tunnbröd</td><td>8</td><td>0.25</td></tr><tr><td>10697</td><td>LINO-Delicateses</td><td>Leverling</td><td>Teatime Chocolate Biscuits</td><td>7</td><td>0.25</td></tr><tr><td>10393</td><td>Save-a-lot Markets</td><td>Davolio</td><td>NuNuCa Nuß-Nougat-Creme</td><td>7</td><td>0.25</td></tr><tr><td>10687</td><td>Hungry Owl All-Night Grocers</td><td>Dodsworth</td><td>Inlagd Sill</td><td>6</td><td>0.25</td></tr><tr><td>10866</td><td>Berglunds snabbköp</td><td>Buchanan</td><td>Guaraná Fantástica</td><td>6</td><td>0.25</td></tr><tr><td>10802</td><td>Simons bistro</td><td>Peacock</td><td>Tarte au sucre</td><td>5</td><td>0.25</td></tr><tr><td>10944</td><td>Bottom-Dollar Markets</td><td>Suyama</td><td>Queso Cabrales</td><td>5</td><td>0.25</td></tr><tr><td>10284</td><td>Lehmanns Marktstand</td><td>Peacock</td><td>Laughing Lumberjack Lager</td><td>5</td><td>0.25</td></tr><tr><td>10602</td><td>Vaffeljernet</td><td>Callahan</td><td>Original Frankfurter grüne Soße</td><td>5</td><td>0.25</td></tr><tr><td>10460</td><td>Folk och fä HB</td><td>Callahan</td><td>Rhönbräu Klosterbier</td><td>4</td><td>0.25</td></tr><tr><td>10935</td><td>Wellington Importadora</td><td>Peacock</td><td>Carnarvon Tigers</td><td>4</td><td>0.25</td></tr><tr><td>10838</td><td>LINO-Delicateses</td><td>Leverling</td><td>Chai</td><td>4</td><td>0.25</td></tr><tr><td>10843</td><td>Victuailles en stock</td><td>Peacock</td><td>Manjimup Dried Apples</td><td>4</td><td>0.25</td></tr><tr><td>11065</td><td>LILA-Supermercado</td><td>Callahan</td><td>Nord-Ost Matjeshering</td><td>4</td><td>0.25</td></tr><tr><td>10900</td><td>Wellington Importadora</td><td>Davolio</td><td>Outback Lager</td><td>3</td><td>0.25</td></tr><tr><td>10719</td><td>Let&#39;s Stop N Shop</td><td>Callahan</td><td>Nord-Ost Matjeshering</td><td>3</td><td>0.25</td></tr><tr><td>10643</td><td>Alfreds Futterkiste</td><td>Suyama</td><td>Spegesild</td><td>2</td><td>0.25</td></tr><tr><td>10652</td><td>Gourmet Lanchonetes</td><td>Peacock</td><td>Nord-Ost Matjeshering</td><td>2</td><td>0.25</td></tr><tr><td>10774</td><td>Folk och fä HB</td><td>Peacock</td><td>Gorgonzola Telino</td><td>2</td><td>0.25</td></tr><tr><td>10417</td><td>Simons bistro</td><td>Peacock</td><td>Spegesild</td><td>2</td><td>0.25</td></tr><tr><td>11006</td><td>Great Lakes Food Market</td><td>Leverling</td><td>Thüringer Rostbratwurst</td><td>2</td><td>0.25</td></tr><tr><td>10588</td><td>QUICK-Stop</td><td>Fuller</td><td>Singaporean Hokkien Fried Mee</td><td>100</td><td>0.2</td></tr><tr><td>10991</td><td>QUICK-Stop</td><td>Davolio</td><td>Lakkalikööri</td><td>90</td><td>0.2</td></tr><tr><td>10373</td><td>Hungry Owl All-Night Grocers</td><td>Peacock</td><td>Escargots de Bourgogne</td><td>80</td><td>0.2</td></tr><tr><td>10847</td><td>Save-a-lot Markets</td><td>Peacock</td><td>Chai</td><td>80</td><td>0.2</td></tr><tr><td>10773</td><td>Ernst Handel</td><td>Davolio</td><td>Gorgonzola Telino</td><td>70</td><td>0.2</td></tr><tr><td>10430</td><td>Ernst Handel</td><td>Peacock</td><td>Raclette Courdavault</td><td>70</td><td>0.2</td></tr><tr><td>10258</td><td>Ernst Handel</td><td>Davolio</td><td>Chef Anton&#39;s Gumbo Mix</td><td>65</td><td>0.2</td></tr><tr><td>10424</td><td>Mère Paillarde</td><td>King</td><td>Steeleye Stout</td><td>60</td><td>0.2</td></tr><tr><td>10567</td><td>Hungry Owl All-Night Grocers</td><td>Davolio</td><td>Gorgonzola Telino</td><td>60</td><td>0.2</td></tr><tr><td>10700</td><td>Save-a-lot Markets</td><td>Leverling</td><td>Flotemysost</td><td>60</td><td>0.2</td></tr><tr><td>10847</td><td>Save-a-lot Markets</td><td>Peacock</td><td>Gravad lax</td><td>60</td><td>0.2</td></tr><tr><td>10342</td><td>Frankenversand</td><td>Peacock</td><td>Gorgonzola Telino</td><td>56</td><td>0.2</td></tr><tr><td>10847</td><td>Save-a-lot Markets</td><td>Peacock</td><td>Flotemysost</td><td>55</td><td>0.2</td></tr><tr><td>10880</td><td>Folk och fä HB</td><td>King</td><td>Outback Lager</td><td>50</td><td>0.2</td></tr><tr><td>10744</td><td>Vaffeljernet</td><td>Suyama</td><td>Boston Crab Meat</td><td>50</td><td>0.2</td></tr><tr><td>10353</td><td>Piccolo und mehr</td><td>King</td><td>Côte de Blaye</td><td>50</td><td>0.2</td></tr><tr><td>10327</td><td>Folk och fä HB</td><td>Fuller</td><td>Queso Cabrales</td><td>50</td><td>0.2</td></tr><tr><td>10373</td><td>Hungry Owl All-Night Grocers</td><td>Peacock</td><td>Flotemysost</td><td>50</td><td>0.2</td></tr><tr><td>10258</td><td>Ernst Handel</td><td>Davolio</td><td>Chang</td><td>50</td><td>0.2</td></tr><tr><td>10581</td><td>Familia Arquibaldo</td><td>Leverling</td><td>Rhönbräu Klosterbier</td><td>50</td><td>0.2</td></tr><tr><td>10513</td><td>Die Wandernde Kuh</td><td>King</td><td>Mascarpone Fabioli</td><td>50</td><td>0.2</td></tr><tr><td>10991</td><td>QUICK-Stop</td><td>Davolio</td><td>Chang</td><td>50</td><td>0.2</td></tr><tr><td>10424</td><td>Mère Paillarde</td><td>King</td><td>Côte de Blaye</td><td>49</td><td>0.2</td></tr><tr><td>10661</td><td>Hungry Owl All-Night Grocers</td><td>King</td><td>Escargots de Bourgogne</td><td>49</td><td>0.2</td></tr><tr><td>10335</td><td>Hungry Owl All-Night Grocers</td><td>King</td><td>Manjimup Dried Apples</td><td>48</td><td>0.2</td></tr><tr><td>10285</td><td>QUICK-Stop</td><td>Davolio</td><td>Chai</td><td>45</td><td>0.2</td></tr><tr><td>10430</td><td>Ernst Handel</td><td>Peacock</td><td>Alice Mutton</td><td>45</td><td>0.2</td></tr><tr><td>10667</td><td>Ernst Handel</td><td>King</td><td>Gudbrandsdalsost</td><td>45</td><td>0.2</td></tr><tr><td>10847</td><td>Save-a-lot Markets</td><td>Peacock</td><td>Camembert Pierrot</td><td>45</td><td>0.2</td></tr><tr><td>10786</td><td>Queen Cozinha</td><td>Callahan</td><td>Rhönbräu Klosterbier</td><td>42</td><td>0.2</td></tr><tr><td>10740</td><td>White Clover Markets</td><td>Peacock</td><td>Rogede sild</td><td>40</td><td>0.2</td></tr><tr><td>10700</td><td>Save-a-lot Markets</td><td>Leverling</td><td>Scottish Longbreads</td><td>40</td><td>0.2</td></tr><tr><td>10970</td><td>Bólido Comidas preparadas</td><td>Dodsworth</td><td>Filo Mix</td><td>40</td><td>0.2</td></tr><tr><td>10980</td><td>Folk och fä HB</td><td>Peacock</td><td>Rhönbräu Klosterbier</td><td>40</td><td>0.2</td></tr><tr><td>10411</td><td>Bottom-Dollar Markets</td><td>Dodsworth</td><td>Gula Malacca</td><td>40</td><td>0.2</td></tr><tr><td>10285</td><td>QUICK-Stop</td><td>Davolio</td><td>Boston Crab Meat</td><td>40</td><td>0.2</td></tr><tr><td>10342</td><td>Frankenversand</td><td>Peacock</td><td>Inlagd Sill</td><td>40</td><td>0.2</td></tr><tr><td>10342</td><td>Frankenversand</td><td>Peacock</td><td>Pâté chinois</td><td>40</td><td>0.2</td></tr><tr><td>10332</td><td>Mère Paillarde</td><td>Leverling</td><td>Carnarvon Tigers</td><td>40</td><td>0.2</td></tr><tr><td>10522</td><td>Lehmanns Marktstand</td><td>Peacock</td><td>Chai</td><td>40</td><td>0.2</td></tr><tr><td>10513</td><td>Die Wandernde Kuh</td><td>King</td><td>Sir Rodney&#39;s Scones</td><td>40</td><td>0.2</td></tr><tr><td>10588</td><td>QUICK-Stop</td><td>Fuller</td><td>Carnarvon Tigers</td><td>40</td><td>0.2</td></tr><tr><td>10567</td><td>Hungry Owl All-Night Grocers</td><td>Davolio</td><td>Raclette Courdavault</td><td>40</td><td>0.2</td></tr><tr><td>10555</td><td>Save-a-lot Markets</td><td>Suyama</td><td>Gnocchi di nonna Alice</td><td>40</td><td>0.2</td></tr><tr><td>10285</td><td>QUICK-Stop</td><td>Davolio</td><td>Perth Pasties</td><td>36</td><td>0.2</td></tr><tr><td>10847</td><td>Save-a-lot Markets</td><td>Peacock</td><td>Rogede sild</td><td>36</td><td>0.2</td></tr><tr><td>10796</td><td>HILARION-Abastos</td><td>Leverling</td><td>Wimmers gute Semmelknödel</td><td>35</td><td>0.2</td></tr><tr><td>10740</td><td>White Clover Markets</td><td>Peacock</td><td>Steeleye Stout</td><td>35</td><td>0.2</td></tr><tr><td>10327</td><td>Folk och fä HB</td><td>Fuller</td><td>Nord-Ost Matjeshering</td><td>35</td><td>0.2</td></tr><tr><td>10555</td><td>Save-a-lot Markets</td><td>Suyama</td><td>Teatime Chocolate Biscuits</td><td>35</td><td>0.2</td></tr><tr><td>10569</td><td>Rattlesnake Canyon Grocery</td><td>Buchanan</td><td>Gorgonzola Telino</td><td>35</td><td>0.2</td></tr><tr><td>10597</td><td>Piccolo und mehr</td><td>King</td><td>Guaraná Fantástica</td><td>35</td><td>0.2</td></tr><tr><td>11053</td><td>Piccolo und mehr</td><td>Fuller</td><td>Carnarvon Tigers</td><td>35</td><td>0.2</td></tr><tr><td>11052</td><td>Hanari Carnes</td><td>Leverling</td><td>Ipoh Coffee</td><td>30</td><td>0.2</td></tr><tr><td>11041</td><td>Chop-suey Chinese</td><td>Leverling</td><td>Chang</td><td>30</td><td>0.2</td></tr><tr><td>10596</td><td>White Clover Markets</td><td>Callahan</td><td>Rhönbräu Klosterbier</td><td>30</td><td>0.2</td></tr><tr><td>10642</td><td>Simons bistro</td><td>King</td><td>Sir Rodney&#39;s Scones</td><td>30</td><td>0.2</td></tr><tr><td>10555</td><td>Save-a-lot Markets</td><td>Suyama</td><td>Tofu</td><td>30</td><td>0.2</td></tr><tr><td>10464</td><td>Furia Bacalhau e Frutos do Mar</td><td>Peacock</td><td>Gnocchi di nonna Alice</td><td>30</td><td>0.2</td></tr><tr><td>10327</td><td>Folk och fä HB</td><td>Fuller</td><td>Escargots de Bourgogne</td><td>30</td><td>0.2</td></tr><tr><td>10357</td><td>LILA-Supermercado</td><td>Davolio</td><td>Ikura</td><td>30</td><td>0.2</td></tr><tr><td>10424</td><td>Mère Paillarde</td><td>King</td><td>Scottish Longbreads</td><td>30</td><td>0.2</td></tr><tr><td>10786</td><td>Queen Cozinha</td><td>Callahan</td><td>Northwoods Cranberry Sauce</td><td>30</td><td>0.2</td></tr><tr><td>10686</td><td>Piccolo und mehr</td><td>Fuller</td><td>Alice Mutton</td><td>30</td><td>0.2</td></tr><tr><td>10936</td><td>Great Lakes Food Market</td><td>Leverling</td><td>Inlagd Sill</td><td>30</td><td>0.2</td></tr><tr><td>10930</td><td>Suprêmes délices</td><td>Peacock</td><td>Escargots de Bourgogne</td><td>30</td><td>0.2</td></tr><tr><td>10880</td><td>Folk och fä HB</td><td>King</td><td>Tunnbröd</td><td>30</td><td>0.2</td></tr><tr><td>10880</td><td>Folk och fä HB</td><td>King</td><td>Sirop d&#39;érable</td><td>30</td><td>0.2</td></tr><tr><td>10930</td><td>Suprêmes délices</td><td>Peacock</td><td>Pâté chinois</td><td>25</td><td>0.2</td></tr><tr><td>10411</td><td>Bottom-Dollar Markets</td><td>Dodsworth</td><td>Jack&#39;s New England Clam Chowder</td><td>25</td><td>0.2</td></tr><tr><td>10335</td><td>Hungry Owl All-Night Grocers</td><td>King</td><td>Gorgonzola Telino</td><td>25</td><td>0.2</td></tr><tr><td>10327</td><td>Folk och fä HB</td><td>Fuller</td><td>Chang</td><td>25</td><td>0.2</td></tr><tr><td>10522</td><td>Lehmanns Marktstand</td><td>Peacock</td><td>Boston Crab Meat</td><td>25</td><td>0.2</td></tr><tr><td>11053</td><td>Piccolo und mehr</td><td>Fuller</td><td>Wimmers gute Semmelknödel</td><td>25</td><td>0.2</td></tr><tr><td>11077</td><td>Rattlesnake Canyon Grocery</td><td>Davolio</td><td>Chang</td><td>24</td><td>0.2</td></tr><tr><td>10596</td><td>White Clover Markets</td><td>Callahan</td><td>Vegie-spread</td><td>24</td><td>0.2</td></tr><tr><td>10342</td><td>Frankenversand</td><td>Peacock</td><td>Chang</td><td>24</td><td>0.2</td></tr><tr><td>10923</td><td>La maison d&#39;Asie</td><td>King</td><td>Laughing Lumberjack Lager</td><td>24</td><td>0.2</td></tr><tr><td>10796</td><td>HILARION-Abastos</td><td>Leverling</td><td>Gudbrandsdalsost</td><td>24</td><td>0.2</td></tr><tr><td>10796</td><td>HILARION-Abastos</td><td>Leverling</td><td>Gumbär Gummibärchen</td><td>21</td><td>0.2</td></tr><tr><td>10756</td><td>Split Rail Beer &amp; Ale</td><td>Callahan</td><td>Carnarvon Tigers</td><td>21</td><td>0.2</td></tr><tr><td>10593</td><td>Lehmanns Marktstand</td><td>King</td><td>Sir Rodney&#39;s Marmalade</td><td>21</td><td>0.2</td></tr><tr><td>10593</td><td>Lehmanns Marktstand</td><td>King</td><td>Gudbrandsdalsost</td><td>20</td><td>0.2</td></tr><tr><td>10555</td><td>Save-a-lot Markets</td><td>Suyama</td><td>Manjimup Dried Apples</td><td>20</td><td>0.2</td></tr><tr><td>10606</td><td>Tradição Hipermercados</td><td>Peacock</td><td>Chef Anton&#39;s Cajun Seasoning</td><td>20</td><td>0.2</td></tr><tr><td>10606</td><td>Tradição Hipermercados</td><td>Peacock</td><td>Pâté chinois</td><td>20</td><td>0.2</td></tr><tr><td>10642</td><td>Simons bistro</td><td>King</td><td>Sirop d&#39;érable</td><td>20</td><td>0.2</td></tr><tr><td>10488</td><td>Frankenversand</td><td>Callahan</td><td>Röd Kaviar</td><td>20</td><td>0.2</td></tr><tr><td>10522</td><td>Lehmanns Marktstand</td><td>Peacock</td><td>Nord-Ost Matjeshering</td><td>20</td><td>0.2</td></tr><tr><td>10438</td><td>Toms Spezialitäten</td><td>Leverling</td><td>Sasquatch Ale</td><td>20</td><td>0.2</td></tr><tr><td>10450</td><td>Victuailles en stock</td><td>Callahan</td><td>Ikura</td><td>20</td><td>0.2</td></tr><tr><td>10454</td><td>La maison d&#39;Asie</td><td>Peacock</td><td>Pavlova</td><td>20</td><td>0.2</td></tr><tr><td>10454</td><td>La maison d&#39;Asie</td><td>Peacock</td><td>Geitost</td><td>20</td><td>0.2</td></tr><tr><td>10388</td><td>Seven Seas Imports</td><td>Fuller</td><td>Filo Mix</td><td>20</td><td>0.2</td></tr><tr><td>10385</td><td>Split Rail Beer &amp; Ale</td><td>Davolio</td><td>Camembert Pierrot</td><td>20</td><td>0.2</td></tr><tr><td>10756</td><td>Split Rail Beer &amp; Ale</td><td>Callahan</td><td>Inlagd Sill</td><td>20</td><td>0.2</td></tr><tr><td>10781</td><td>Wartian Herkku</td><td>Fuller</td><td>Gnocchi di nonna Alice</td><td>20</td><td>0.2</td></tr><tr><td>10777</td><td>Gourmet Lanchonetes</td><td>King</td><td>Singaporean Hokkien Fried Mee</td><td>20</td><td>0.2</td></tr><tr><td>10756</td><td>Split Rail Beer &amp; Ale</td><td>Callahan</td><td>Gudbrandsdalsost</td><td>20</td><td>0.2</td></tr><tr><td>10655</td><td>Reggiani Caseifici</td><td>Davolio</td><td>Jack&#39;s New England Clam Chowder</td><td>20</td><td>0.2</td></tr><tr><td>10991</td><td>QUICK-Stop</td><td>Davolio</td><td>Outback Lager</td><td>20</td><td>0.2</td></tr><tr><td>10622</td><td>Ricardo Adocicados</td><td>Peacock</td><td>Scottish Longbreads</td><td>18</td><td>0.2</td></tr><tr><td>10555</td><td>Save-a-lot Markets</td><td>Suyama</td><td>Guaraná Fantástica</td><td>18</td><td>0.2</td></tr><tr><td>10464</td><td>Furia Bacalhau e Frutos do Mar</td><td>Peacock</td><td>Chef Anton&#39;s Cajun Seasoning</td><td>16</td><td>0.2</td></tr><tr><td>10332</td><td>Mère Paillarde</td><td>Leverling</td><td>Zaanse koeken</td><td>16</td><td>0.2</td></tr><tr><td>10832</td><td>La maison d&#39;Asie</td><td>Fuller</td><td>Gula Malacca</td><td>16</td><td>0.2</td></tr><tr><td>10786</td><td>Queen Cozinha</td><td>Callahan</td><td>Nord-Ost Matjeshering</td><td>15</td><td>0.2</td></tr><tr><td>10794</td><td>Que Delícia</td><td>Suyama</td><td>Tofu</td><td>15</td><td>0.2</td></tr><tr><td>10741</td><td>Around the Horn</td><td>Peacock</td><td>Chang</td><td>15</td><td>0.2</td></tr><tr><td>10388</td><td>Seven Seas Imports</td><td>Fuller</td><td>Rogede sild</td><td>15</td><td>0.2</td></tr><tr><td>10438</td><td>Toms Spezialitäten</td><td>Leverling</td><td>Teatime Chocolate Biscuits</td><td>15</td><td>0.2</td></tr><tr><td>10438</td><td>Toms Spezialitäten</td><td>Leverling</td><td>Ravioli Angelo</td><td>15</td><td>0.2</td></tr><tr><td>10513</td><td>Die Wandernde Kuh</td><td>King</td><td>Sirop d&#39;érable</td><td>15</td><td>0.2</td></tr><tr><td>10740</td><td>White Clover Markets</td><td>Peacock</td><td>Gnocchi di nonna Alice</td><td>14</td><td>0.2</td></tr><tr><td>10667</td><td>Ernst Handel</td><td>King</td><td>Flotemysost</td><td>14</td><td>0.2</td></tr><tr><td>10700</td><td>Save-a-lot Markets</td><td>Leverling</td><td>Sasquatch Ale</td><td>12</td><td>0.2</td></tr><tr><td>10813</td><td>Ricardo Adocicados</td><td>Davolio</td><td>Chang</td><td>12</td><td>0.2</td></tr><tr><td>10847</td><td>Save-a-lot Markets</td><td>Peacock</td><td>Teatime Chocolate Biscuits</td><td>12</td><td>0.2</td></tr><tr><td>10955</td><td>Folk och fä HB</td><td>Callahan</td><td>Rhönbräu Klosterbier</td><td>12</td><td>0.2</td></tr><tr><td>10597</td><td>Piccolo und mehr</td><td>King</td><td>Louisiana Fiery Hot Pepper Sauce</td><td>12</td><td>0.2</td></tr><tr><td>10353</td><td>Piccolo und mehr</td><td>King</td><td>Queso Cabrales</td><td>12</td><td>0.2</td></tr><tr><td>10262</td><td>Rattlesnake Canyon Grocery</td><td>Callahan</td><td>Chef Anton&#39;s Gumbo Mix</td><td>12</td><td>0.2</td></tr><tr><td>11062</td><td>Reggiani Caseifici</td><td>Peacock</td><td>Outback Lager</td><td>12</td><td>0.2</td></tr><tr><td>11062</td><td>Reggiani Caseifici</td><td>Peacock</td><td>Perth Pasties</td><td>10</td><td>0.2</td></tr><tr><td>11052</td><td>Hanari Carnes</td><td>Leverling</td><td>Sirop d&#39;érable</td><td>10</td><td>0.2</td></tr><tr><td>11051</td><td>La maison d&#39;Asie</td><td>King</td><td>Guaraná Fantástica</td><td>10</td><td>0.2</td></tr><tr><td>11049</td><td>Gourmet Lanchonetes</td><td>Leverling</td><td>Chang</td><td>10</td><td>0.2</td></tr><tr><td>10332</td><td>Mère Paillarde</td><td>Leverling</td><td>Singaporean Hokkien Fried Mee</td><td>10</td><td>0.2</td></tr><tr><td>10385</td><td>Split Rail Beer &amp; Ale</td><td>Davolio</td><td>Uncle Bob&#39;s Organic Dried Pears</td><td>10</td><td>0.2</td></tr><tr><td>10606</td><td>Tradição Hipermercados</td><td>Peacock</td><td>Tarte au sucre</td><td>10</td><td>0.2</td></tr><tr><td>10534</td><td>Lehmanns Marktstand</td><td>Callahan</td><td>Boston Crab Meat</td><td>10</td><td>0.2</td></tr><tr><td>10534</td><td>Lehmanns Marktstand</td><td>Callahan</td><td>Tourtière</td><td>10</td><td>0.2</td></tr><tr><td>10454</td><td>La maison d&#39;Asie</td><td>Peacock</td><td>Spegesild</td><td>10</td><td>0.2</td></tr><tr><td>10923</td><td>La maison d&#39;Asie</td><td>King</td><td>Singaporean Hokkien Fried Mee</td><td>10</td><td>0.2</td></tr><tr><td>10923</td><td>La maison d&#39;Asie</td><td>King</td><td>Ipoh Coffee</td><td>10</td><td>0.2</td></tr><tr><td>10832</td><td>La maison d&#39;Asie</td><td>Fuller</td><td>NuNuCa Nuß-Nougat-Creme</td><td>10</td><td>0.2</td></tr><tr><td>10840</td><td>LINO-Delicateses</td><td>Peacock</td><td>Chartreuse verte</td><td>10</td><td>0.2</td></tr><tr><td>10411</td><td>Bottom-Dollar Markets</td><td>Dodsworth</td><td>Raclette Courdavault</td><td>9</td><td>0.2</td></tr><tr><td>10385</td><td>Split Rail Beer &amp; Ale</td><td>Davolio</td><td>Scottish Longbreads</td><td>8</td><td>0.2</td></tr><tr><td>10357</td><td>LILA-Supermercado</td><td>Davolio</td><td>Camembert Pierrot</td><td>8</td><td>0.2</td></tr><tr><td>10528</td><td>Great Lakes Food Market</td><td>Suyama</td><td>Geitost</td><td>8</td><td>0.2</td></tr><tr><td>10335</td><td>Hungry Owl All-Night Grocers</td><td>King</td><td>Chang</td><td>7</td><td>0.2</td></tr><tr><td>10773</td><td>Ernst Handel</td><td>Davolio</td><td>Rhönbräu Klosterbier</td><td>7</td><td>0.2</td></tr><tr><td>10794</td><td>Que Delícia</td><td>Suyama</td><td>Tourtière</td><td>6</td><td>0.2</td></tr><tr><td>10756</td><td>Split Rail Beer &amp; Ale</td><td>Callahan</td><td>Scottish Longbreads</td><td>6</td><td>0.2</td></tr><tr><td>10840</td><td>LINO-Delicateses</td><td>Peacock</td><td>NuNuCa Nuß-Nougat-Creme</td><td>6</td><td>0.2</td></tr><tr><td>10335</td><td>Hungry Owl All-Night Grocers</td><td>King</td><td>Mascarpone Fabioli</td><td>6</td><td>0.2</td></tr><tr><td>10258</td><td>Ernst Handel</td><td>Davolio</td><td>Mascarpone Fabioli</td><td>6</td><td>0.2</td></tr><tr><td>10371</td><td>La maison d&#39;Asie</td><td>Davolio</td><td>Inlagd Sill</td><td>6</td><td>0.2</td></tr><tr><td>10450</td><td>Victuailles en stock</td><td>Callahan</td><td>Tourtière</td><td>6</td><td>0.2</td></tr><tr><td>10443</td><td>Reggiani Caseifici</td><td>Callahan</td><td>Queso Cabrales</td><td>6</td><td>0.2</td></tr><tr><td>10596</td><td>White Clover Markets</td><td>Callahan</td><td>Gnocchi di nonna Alice</td><td>5</td><td>0.2</td></tr><tr><td>10740</td><td>White Clover Markets</td><td>Peacock</td><td>Rössle Sauerkraut</td><td>5</td><td>0.2</td></tr><tr><td>10700</td><td>Save-a-lot Markets</td><td>Leverling</td><td>Chai</td><td>5</td><td>0.2</td></tr><tr><td>11038</td><td>Suprêmes délices</td><td>Davolio</td><td>Boston Crab Meat</td><td>5</td><td>0.2</td></tr><tr><td>11049</td><td>Gourmet Lanchonetes</td><td>Leverling</td><td>Queso Manchego La Pastora</td><td>4</td><td>0.2</td></tr><tr><td>10593</td><td>Lehmanns Marktstand</td><td>King</td><td>Lakkalikööri</td><td>4</td><td>0.2</td></tr><tr><td>10661</td><td>Hungry Owl All-Night Grocers</td><td>King</td><td>Chartreuse verte</td><td>3</td><td>0.2</td></tr><tr><td>10781</td><td>Wartian Herkku</td><td>Fuller</td><td>Tourtière</td><td>3</td><td>0.2</td></tr><tr><td>10832</td><td>La maison d&#39;Asie</td><td>Fuller</td><td>Konbu</td><td>3</td><td>0.2</td></tr><tr><td>10835</td><td>Alfreds Futterkiste</td><td>Davolio</td><td>Original Frankfurter grüne Soße</td><td>2</td><td>0.2</td></tr></table>"
                    },
                    "metadata": {}
                }
            ],
            "execution_count": 5
        },
        {
            "cell_type": "code",
            "source": [
                "/* \r\n",
                "Mystery #6\r\n",
                "Is it sloppy data entry or a shell company moving goods under two names?\r\n",
                "Identify duplicate shipping addresses.\r\n",
                "*/\r\n",
                "\r\n",
                "SELECT\r\n",
                "    ShipAddress,\r\n",
                "    ShipCity,\r\n",
                "    ShipCountry,\r\n",
                "    COUNT(*) AS OrdersWithSameAddress\r\n",
                "FROM Orders\r\n",
                "GROUP BY ShipAddress, ShipCity, ShipCountry\r\n",
                "HAVING COUNT(*) > 1\r\n",
                "ORDER BY OrdersWithSameAddress DESC;\r\n",
                ""
            ],
            "metadata": {
                "azdata_cell_guid": "3fe65a16-db08-47e1-abc0-ab2a3f0cb7a6",
                "language": "sql"
            },
            "outputs": [
                {
                    "output_type": "display_data",
                    "data": {
                        "text/html": "(88 rows affected)"
                    },
                    "metadata": {}
                },
                {
                    "output_type": "display_data",
                    "data": {
                        "text/html": "Total execution time: 00:00:00.006"
                    },
                    "metadata": {}
                },
                {
                    "output_type": "execute_result",
                    "execution_count": 6,
                    "data": {
                        "application/vnd.dataresource+json": {
                            "schema": {
                                "fields": [
                                    {
                                        "name": "ShipAddress"
                                    },
                                    {
                                        "name": "ShipCity"
                                    },
                                    {
                                        "name": "ShipCountry"
                                    },
                                    {
                                        "name": "OrdersWithSameAddress"
                                    }
                                ]
                            },
                            "data": [
                                {
                                    "ShipAddress": "187 Suffolk Ln.",
                                    "ShipCity": "Boise",
                                    "ShipCountry": "USA",
                                    "OrdersWithSameAddress": "31"
                                },
                                {
                                    "ShipAddress": "Kirchgasse 6",
                                    "ShipCity": "Graz",
                                    "ShipCountry": "Austria",
                                    "OrdersWithSameAddress": "30"
                                },
                                {
                                    "ShipAddress": "Taucherstraße 10",
                                    "ShipCity": "Cunewalde",
                                    "ShipCountry": "Germany",
                                    "OrdersWithSameAddress": "28"
                                },
                                {
                                    "ShipAddress": "8 Johnstown Road",
                                    "ShipCity": "Cork",
                                    "ShipCountry": "Ireland",
                                    "OrdersWithSameAddress": "19"
                                },
                                {
                                    "ShipAddress": "Åkergatan 24",
                                    "ShipCity": "Bräcke",
                                    "ShipCountry": "Sweden",
                                    "OrdersWithSameAddress": "19"
                                },
                                {
                                    "ShipAddress": "2817 Milton Dr.",
                                    "ShipCity": "Albuquerque",
                                    "ShipCountry": "USA",
                                    "OrdersWithSameAddress": "18"
                                },
                                {
                                    "ShipAddress": "Berguvsvägen  8",
                                    "ShipCity": "Luleå",
                                    "ShipCountry": "Sweden",
                                    "OrdersWithSameAddress": "18"
                                },
                                {
                                    "ShipAddress": "Carrera 22 con Ave. Carlos Soublette #8-35",
                                    "ShipCity": "San Cristóbal",
                                    "ShipCountry": "Venezuela",
                                    "OrdersWithSameAddress": "18"
                                },
                                {
                                    "ShipAddress": "12, rue des Bouchers",
                                    "ShipCity": "Marseille",
                                    "ShipCountry": "France",
                                    "OrdersWithSameAddress": "17"
                                },
                                {
                                    "ShipAddress": "Berliner Platz 43",
                                    "ShipCity": "München",
                                    "ShipCountry": "Germany",
                                    "OrdersWithSameAddress": "15"
                                },
                                {
                                    "ShipAddress": "Magazinweg 7",
                                    "ShipCity": "Frankfurt a.M.",
                                    "ShipCountry": "Germany",
                                    "OrdersWithSameAddress": "15"
                                },
                                {
                                    "ShipAddress": "Torikatu 38",
                                    "ShipCity": "Oulu",
                                    "ShipCountry": "Finland",
                                    "OrdersWithSameAddress": "15"
                                },
                                {
                                    "ShipAddress": "Rua do Paço, 67",
                                    "ShipCity": "Rio de Janeiro",
                                    "ShipCountry": "Brazil",
                                    "OrdersWithSameAddress": "14"
                                },
                                {
                                    "ShipAddress": "Maubelstr. 90",
                                    "ShipCity": "Brandenburg",
                                    "ShipCountry": "Germany",
                                    "OrdersWithSameAddress": "14"
                                },
                                {
                                    "ShipAddress": "Carrera 52 con Ave. Bolívar #65-98 Llano Largo",
                                    "ShipCity": "Barquisimeto",
                                    "ShipCountry": "Venezuela",
                                    "OrdersWithSameAddress": "14"
                                },
                                {
                                    "ShipAddress": "1 rue Alsace-Lorraine",
                                    "ShipCity": "Toulouse",
                                    "ShipCountry": "France",
                                    "OrdersWithSameAddress": "14"
                                },
                                {
                                    "ShipAddress": "1029 - 12th Ave. S.",
                                    "ShipCity": "Seattle",
                                    "ShipCountry": "USA",
                                    "OrdersWithSameAddress": "14"
                                },
                                {
                                    "ShipAddress": "23 Tsawassen Blvd.",
                                    "ShipCity": "Tsawassen",
                                    "ShipCountry": "Canada",
                                    "OrdersWithSameAddress": "14"
                                },
                                {
                                    "ShipAddress": "43 rue St. Laurent",
                                    "ShipCity": "Montréal",
                                    "ShipCountry": "Canada",
                                    "OrdersWithSameAddress": "13"
                                },
                                {
                                    "ShipAddress": "Alameda dos Canàrios, 891",
                                    "ShipCity": "Sao Paulo",
                                    "ShipCountry": "Brazil",
                                    "OrdersWithSameAddress": "13"
                                },
                                {
                                    "ShipAddress": "Brook Farm Stratford St. Mary",
                                    "ShipCity": "Colchester",
                                    "ShipCountry": "UK",
                                    "OrdersWithSameAddress": "13"
                                },
                                {
                                    "ShipAddress": "Boulevard Tirou, 255",
                                    "ShipCity": "Charleroi",
                                    "ShipCountry": "Belgium",
                                    "OrdersWithSameAddress": "12"
                                },
                                {
                                    "ShipAddress": "Ave. 5 de Mayo Porlamar",
                                    "ShipCity": "I. de Margarita",
                                    "ShipCountry": "Venezuela",
                                    "OrdersWithSameAddress": "12"
                                },
                                {
                                    "ShipAddress": "Strada Provinciale 124",
                                    "ShipCity": "Reggio Emilia",
                                    "ShipCountry": "Italy",
                                    "OrdersWithSameAddress": "12"
                                },
                                {
                                    "ShipAddress": "Smagsloget 45",
                                    "ShipCity": "Århus",
                                    "ShipCountry": "Denmark",
                                    "OrdersWithSameAddress": "11"
                                },
                                {
                                    "ShipAddress": "Av. Copacabana, 267",
                                    "ShipCity": "Rio de Janeiro",
                                    "ShipCountry": "Brazil",
                                    "OrdersWithSameAddress": "11"
                                },
                                {
                                    "ShipAddress": "24, place Kléber",
                                    "ShipCity": "Strasbourg",
                                    "ShipCountry": "France",
                                    "OrdersWithSameAddress": "11"
                                },
                                {
                                    "ShipAddress": "2732 Baker Blvd.",
                                    "ShipCity": "Eugene",
                                    "ShipCountry": "USA",
                                    "OrdersWithSameAddress": "11"
                                },
                                {
                                    "ShipAddress": "2743 Bering St.",
                                    "ShipCity": "Anchorage",
                                    "ShipCountry": "USA",
                                    "OrdersWithSameAddress": "10"
                                },
                                {
                                    "ShipAddress": "2, rue du Commerce",
                                    "ShipCity": "Lyon",
                                    "ShipCountry": "France",
                                    "OrdersWithSameAddress": "10"
                                },
                                {
                                    "ShipAddress": "Avda. Azteca 123",
                                    "ShipCity": "México D.F.",
                                    "ShipCountry": "Mexico",
                                    "OrdersWithSameAddress": "10"
                                },
                                {
                                    "ShipAddress": "Adenauerallee 900",
                                    "ShipCity": "Stuttgart",
                                    "ShipCountry": "Germany",
                                    "OrdersWithSameAddress": "10"
                                },
                                {
                                    "ShipAddress": "C/ Romero, 33",
                                    "ShipCity": "Sevilla",
                                    "ShipCountry": "Spain",
                                    "OrdersWithSameAddress": "10"
                                },
                                {
                                    "ShipAddress": "Mehrheimerstr. 369",
                                    "ShipCity": "Köln",
                                    "ShipCountry": "Germany",
                                    "OrdersWithSameAddress": "10"
                                },
                                {
                                    "ShipAddress": "Fauntleroy Circus",
                                    "ShipCity": "London",
                                    "ShipCountry": "UK",
                                    "OrdersWithSameAddress": "10"
                                },
                                {
                                    "ShipAddress": "Garden House Crowther Way",
                                    "ShipCity": "Cowes",
                                    "ShipCountry": "UK",
                                    "OrdersWithSameAddress": "10"
                                },
                                {
                                    "ShipAddress": "Geislweg 14",
                                    "ShipCity": "Salzburg",
                                    "ShipCountry": "Austria",
                                    "OrdersWithSameAddress": "10"
                                },
                                {
                                    "ShipAddress": "Starenweg 5",
                                    "ShipCity": "Genève",
                                    "ShipCountry": "Switzerland",
                                    "OrdersWithSameAddress": "10"
                                },
                                {
                                    "ShipAddress": "Via Ludovico il Moro 22",
                                    "ShipCity": "Bergamo",
                                    "ShipCountry": "Italy",
                                    "OrdersWithSameAddress": "10"
                                },
                                {
                                    "ShipAddress": "Rua da Panificadora, 12",
                                    "ShipCity": "Rio de Janeiro",
                                    "ShipCountry": "Brazil",
                                    "OrdersWithSameAddress": "9"
                                },
                                {
                                    "ShipAddress": "Rua do Mercado, 12",
                                    "ShipCity": "Resende",
                                    "ShipCountry": "Brazil",
                                    "OrdersWithSameAddress": "9"
                                },
                                {
                                    "ShipAddress": "P.O. Box 555",
                                    "ShipCity": "Lander",
                                    "ShipCountry": "USA",
                                    "OrdersWithSameAddress": "9"
                                },
                                {
                                    "ShipAddress": "90 Wadhurst Rd.",
                                    "ShipCity": "London",
                                    "ShipCountry": "UK",
                                    "OrdersWithSameAddress": "9"
                                },
                                {
                                    "ShipAddress": "Av. Brasil, 442",
                                    "ShipCity": "Campinas",
                                    "ShipCountry": "Brazil",
                                    "OrdersWithSameAddress": "9"
                                },
                                {
                                    "ShipAddress": "89 Chiaroscuro Rd.",
                                    "ShipCity": "Portland",
                                    "ShipCountry": "USA",
                                    "OrdersWithSameAddress": "8"
                                },
                                {
                                    "ShipAddress": "35 King George",
                                    "ShipCity": "London",
                                    "ShipCountry": "UK",
                                    "OrdersWithSameAddress": "8"
                                },
                                {
                                    "ShipAddress": "Hauptstr. 31",
                                    "ShipCity": "Bern",
                                    "ShipCountry": "Switzerland",
                                    "OrdersWithSameAddress": "8"
                                },
                                {
                                    "ShipAddress": "Jardim das rosas n. 32",
                                    "ShipCity": "Lisboa",
                                    "ShipCountry": "Portugal",
                                    "OrdersWithSameAddress": "8"
                                },
                                {
                                    "ShipAddress": "Keskuskatu 45",
                                    "ShipCity": "Helsinki",
                                    "ShipCountry": "Finland",
                                    "OrdersWithSameAddress": "7"
                                },
                                {
                                    "ShipAddress": "Forsterstr. 57",
                                    "ShipCity": "Mannheim",
                                    "ShipCountry": "Germany",
                                    "OrdersWithSameAddress": "7"
                                },
                                {
                                    "ShipAddress": "Mataderos  2312",
                                    "ShipCity": "México D.F.",
                                    "ShipCountry": "Mexico",
                                    "OrdersWithSameAddress": "7"
                                },
                                {
                                    "ShipAddress": "Rua Orós, 92",
                                    "ShipCity": "Sao Paulo",
                                    "ShipCountry": "Brazil",
                                    "OrdersWithSameAddress": "7"
                                },
                                {
                                    "ShipAddress": "Rue Joseph-Bens 532",
                                    "ShipCity": "Bruxelles",
                                    "ShipCountry": "Belgium",
                                    "OrdersWithSameAddress": "7"
                                },
                                {
                                    "ShipAddress": "ul. Filtrowa 68",
                                    "ShipCity": "Warszawa",
                                    "ShipCountry": "Poland",
                                    "OrdersWithSameAddress": "7"
                                },
                                {
                                    "ShipAddress": "Vinbæltet 34",
                                    "ShipCity": "Kobenhavn",
                                    "ShipCountry": "Denmark",
                                    "OrdersWithSameAddress": "7"
                                },
                                {
                                    "ShipAddress": "Walserweg 21",
                                    "ShipCity": "Aachen",
                                    "ShipCountry": "Germany",
                                    "OrdersWithSameAddress": "6"
                                },
                                {
                                    "ShipAddress": "Via Monte Bianco 34",
                                    "ShipCity": "Torino",
                                    "ShipCountry": "Italy",
                                    "OrdersWithSameAddress": "6"
                                },
                                {
                                    "ShipAddress": "Luisenstr. 48",
                                    "ShipCity": "Münster",
                                    "ShipCountry": "Germany",
                                    "OrdersWithSameAddress": "6"
                                },
                                {
                                    "ShipAddress": "Obere Str. 57",
                                    "ShipCity": "Berlin",
                                    "ShipCountry": "Germany",
                                    "OrdersWithSameAddress": "6"
                                },
                                {
                                    "ShipAddress": "Calle Dr. Jorge Cash 321",
                                    "ShipCity": "México D.F.",
                                    "ShipCountry": "Mexico",
                                    "OrdersWithSameAddress": "6"
                                },
                                {
                                    "ShipAddress": "Erling Skakkes gate 78",
                                    "ShipCity": "Stavern",
                                    "ShipCountry": "Norway",
                                    "OrdersWithSameAddress": "6"
                                },
                                {
                                    "ShipAddress": "Cerrito 333",
                                    "ShipCity": "Buenos Aires",
                                    "ShipCountry": "Argentina",
                                    "OrdersWithSameAddress": "6"
                                },
                                {
                                    "ShipAddress": "Av. Inês de Castro, 414",
                                    "ShipCity": "Sao Paulo",
                                    "ShipCountry": "Brazil",
                                    "OrdersWithSameAddress": "6"
                                },
                                {
                                    "ShipAddress": "City Center Plaza 516 Main St.",
                                    "ShipCity": "Elgin",
                                    "ShipCountry": "USA",
                                    "OrdersWithSameAddress": "5"
                                },
                                {
                                    "ShipAddress": "Estrada da saúde n. 58",
                                    "ShipCity": "Lisboa",
                                    "ShipCountry": "Portugal",
                                    "OrdersWithSameAddress": "5"
                                },
                                {
                                    "ShipAddress": "Rambla de Cataluña, 23",
                                    "ShipCity": "Barcelona",
                                    "ShipCountry": "Spain",
                                    "OrdersWithSameAddress": "5"
                                },
                                {
                                    "ShipAddress": "Gran Vía, 1",
                                    "ShipCity": "Madrid",
                                    "ShipCountry": "Spain",
                                    "OrdersWithSameAddress": "5"
                                },
                                {
                                    "ShipAddress": "Heerstr. 22",
                                    "ShipCity": "Leipzig",
                                    "ShipCountry": "Germany",
                                    "OrdersWithSameAddress": "5"
                                },
                                {
                                    "ShipAddress": "Ing. Gustavo Moncada 8585 Piso 20-A",
                                    "ShipCity": "Buenos Aires",
                                    "ShipCountry": "Argentina",
                                    "OrdersWithSameAddress": "5"
                                },
                                {
                                    "ShipAddress": "184, chaussée de Tournai",
                                    "ShipCity": "Lille",
                                    "ShipCountry": "France",
                                    "OrdersWithSameAddress": "5"
                                },
                                {
                                    "ShipAddress": "59 rue de l'Abbaye",
                                    "ShipCity": "Reims",
                                    "ShipCountry": "France",
                                    "OrdersWithSameAddress": "5"
                                },
                                {
                                    "ShipAddress": "Av. del Libertador 900",
                                    "ShipCity": "Buenos Aires",
                                    "ShipCountry": "Argentina",
                                    "OrdersWithSameAddress": "5"
                                },
                                {
                                    "ShipAddress": "Av. dos Lusíadas, 23",
                                    "ShipCity": "Sao Paulo",
                                    "ShipCountry": "Brazil",
                                    "OrdersWithSameAddress": "5"
                                },
                                {
                                    "ShipAddress": "Avda. de la Constitución 2222",
                                    "ShipCity": "México D.F.",
                                    "ShipCountry": "Mexico",
                                    "OrdersWithSameAddress": "4"
                                },
                                {
                                    "ShipAddress": "67, avenue de l'Europe",
                                    "ShipCity": "Versailles",
                                    "ShipCountry": "France",
                                    "OrdersWithSameAddress": "4"
                                },
                                {
                                    "ShipAddress": "67, rue des Cinquante Otages",
                                    "ShipCity": "Nantes",
                                    "ShipCountry": "France",
                                    "OrdersWithSameAddress": "4"
                                },
                                {
                                    "ShipAddress": "89 Jefferson Way Suite 2",
                                    "ShipCity": "Portland",
                                    "ShipCountry": "USA",
                                    "OrdersWithSameAddress": "4"
                                },
                                {
                                    "ShipAddress": "87 Polk St. Suite 5",
                                    "ShipCity": "San Francisco",
                                    "ShipCountry": "USA",
                                    "OrdersWithSameAddress": "4"
                                },
                                {
                                    "ShipAddress": "25, rue Lauriston",
                                    "ShipCity": "Paris",
                                    "ShipCountry": "France",
                                    "OrdersWithSameAddress": "4"
                                },
                                {
                                    "ShipAddress": "54, rue Royale",
                                    "ShipCity": "Nantes",
                                    "ShipCountry": "France",
                                    "OrdersWithSameAddress": "3"
                                },
                                {
                                    "ShipAddress": "55 Grizzly Peak Rd.",
                                    "ShipCity": "Butte",
                                    "ShipCountry": "USA",
                                    "OrdersWithSameAddress": "3"
                                },
                                {
                                    "ShipAddress": "2319 Elm St.",
                                    "ShipCity": "Vancouver",
                                    "ShipCountry": "Canada",
                                    "OrdersWithSameAddress": "3"
                                },
                                {
                                    "ShipAddress": "722 DaVinci Blvd.",
                                    "ShipCity": "Kirkland",
                                    "ShipCountry": "USA",
                                    "OrdersWithSameAddress": "3"
                                },
                                {
                                    "ShipAddress": "Berkeley Gardens 12  Brewery",
                                    "ShipCity": "London",
                                    "ShipCountry": "UK",
                                    "OrdersWithSameAddress": "3"
                                },
                                {
                                    "ShipAddress": "C/ Araquil, 67",
                                    "ShipCity": "Madrid",
                                    "ShipCountry": "Spain",
                                    "OrdersWithSameAddress": "3"
                                },
                                {
                                    "ShipAddress": "South House 300 Queensbridge",
                                    "ShipCity": "London",
                                    "ShipCountry": "UK",
                                    "OrdersWithSameAddress": "3"
                                },
                                {
                                    "ShipAddress": "5ª Ave. Los Palos Grandes",
                                    "ShipCity": "Caracas",
                                    "ShipCountry": "Venezuela",
                                    "OrdersWithSameAddress": "2"
                                },
                                {
                                    "ShipAddress": "12 Orchestra Terrace",
                                    "ShipCity": "Walla Walla",
                                    "ShipCountry": "USA",
                                    "OrdersWithSameAddress": "2"
                                }
                            ]
                        },
                        "text/html": "<table><tr><th>ShipAddress</th><th>ShipCity</th><th>ShipCountry</th><th>OrdersWithSameAddress</th></tr><tr><td>187 Suffolk Ln.</td><td>Boise</td><td>USA</td><td>31</td></tr><tr><td>Kirchgasse 6</td><td>Graz</td><td>Austria</td><td>30</td></tr><tr><td>Taucherstraße 10</td><td>Cunewalde</td><td>Germany</td><td>28</td></tr><tr><td>8 Johnstown Road</td><td>Cork</td><td>Ireland</td><td>19</td></tr><tr><td>Åkergatan 24</td><td>Bräcke</td><td>Sweden</td><td>19</td></tr><tr><td>2817 Milton Dr.</td><td>Albuquerque</td><td>USA</td><td>18</td></tr><tr><td>Berguvsvägen  8</td><td>Luleå</td><td>Sweden</td><td>18</td></tr><tr><td>Carrera 22 con Ave. Carlos Soublette #8-35</td><td>San Cristóbal</td><td>Venezuela</td><td>18</td></tr><tr><td>12, rue des Bouchers</td><td>Marseille</td><td>France</td><td>17</td></tr><tr><td>Berliner Platz 43</td><td>München</td><td>Germany</td><td>15</td></tr><tr><td>Magazinweg 7</td><td>Frankfurt a.M.</td><td>Germany</td><td>15</td></tr><tr><td>Torikatu 38</td><td>Oulu</td><td>Finland</td><td>15</td></tr><tr><td>Rua do Paço, 67</td><td>Rio de Janeiro</td><td>Brazil</td><td>14</td></tr><tr><td>Maubelstr. 90</td><td>Brandenburg</td><td>Germany</td><td>14</td></tr><tr><td>Carrera 52 con Ave. Bolívar #65-98 Llano Largo</td><td>Barquisimeto</td><td>Venezuela</td><td>14</td></tr><tr><td>1 rue Alsace-Lorraine</td><td>Toulouse</td><td>France</td><td>14</td></tr><tr><td>1029 - 12th Ave. S.</td><td>Seattle</td><td>USA</td><td>14</td></tr><tr><td>23 Tsawassen Blvd.</td><td>Tsawassen</td><td>Canada</td><td>14</td></tr><tr><td>43 rue St. Laurent</td><td>Montréal</td><td>Canada</td><td>13</td></tr><tr><td>Alameda dos Canàrios, 891</td><td>Sao Paulo</td><td>Brazil</td><td>13</td></tr><tr><td>Brook Farm Stratford St. Mary</td><td>Colchester</td><td>UK</td><td>13</td></tr><tr><td>Boulevard Tirou, 255</td><td>Charleroi</td><td>Belgium</td><td>12</td></tr><tr><td>Ave. 5 de Mayo Porlamar</td><td>I. de Margarita</td><td>Venezuela</td><td>12</td></tr><tr><td>Strada Provinciale 124</td><td>Reggio Emilia</td><td>Italy</td><td>12</td></tr><tr><td>Smagsloget 45</td><td>Århus</td><td>Denmark</td><td>11</td></tr><tr><td>Av. Copacabana, 267</td><td>Rio de Janeiro</td><td>Brazil</td><td>11</td></tr><tr><td>24, place Kléber</td><td>Strasbourg</td><td>France</td><td>11</td></tr><tr><td>2732 Baker Blvd.</td><td>Eugene</td><td>USA</td><td>11</td></tr><tr><td>2743 Bering St.</td><td>Anchorage</td><td>USA</td><td>10</td></tr><tr><td>2, rue du Commerce</td><td>Lyon</td><td>France</td><td>10</td></tr><tr><td>Avda. Azteca 123</td><td>México D.F.</td><td>Mexico</td><td>10</td></tr><tr><td>Adenauerallee 900</td><td>Stuttgart</td><td>Germany</td><td>10</td></tr><tr><td>C/ Romero, 33</td><td>Sevilla</td><td>Spain</td><td>10</td></tr><tr><td>Mehrheimerstr. 369</td><td>Köln</td><td>Germany</td><td>10</td></tr><tr><td>Fauntleroy Circus</td><td>London</td><td>UK</td><td>10</td></tr><tr><td>Garden House Crowther Way</td><td>Cowes</td><td>UK</td><td>10</td></tr><tr><td>Geislweg 14</td><td>Salzburg</td><td>Austria</td><td>10</td></tr><tr><td>Starenweg 5</td><td>Genève</td><td>Switzerland</td><td>10</td></tr><tr><td>Via Ludovico il Moro 22</td><td>Bergamo</td><td>Italy</td><td>10</td></tr><tr><td>Rua da Panificadora, 12</td><td>Rio de Janeiro</td><td>Brazil</td><td>9</td></tr><tr><td>Rua do Mercado, 12</td><td>Resende</td><td>Brazil</td><td>9</td></tr><tr><td>P.O. Box 555</td><td>Lander</td><td>USA</td><td>9</td></tr><tr><td>90 Wadhurst Rd.</td><td>London</td><td>UK</td><td>9</td></tr><tr><td>Av. Brasil, 442</td><td>Campinas</td><td>Brazil</td><td>9</td></tr><tr><td>89 Chiaroscuro Rd.</td><td>Portland</td><td>USA</td><td>8</td></tr><tr><td>35 King George</td><td>London</td><td>UK</td><td>8</td></tr><tr><td>Hauptstr. 31</td><td>Bern</td><td>Switzerland</td><td>8</td></tr><tr><td>Jardim das rosas n. 32</td><td>Lisboa</td><td>Portugal</td><td>8</td></tr><tr><td>Keskuskatu 45</td><td>Helsinki</td><td>Finland</td><td>7</td></tr><tr><td>Forsterstr. 57</td><td>Mannheim</td><td>Germany</td><td>7</td></tr><tr><td>Mataderos  2312</td><td>México D.F.</td><td>Mexico</td><td>7</td></tr><tr><td>Rua Orós, 92</td><td>Sao Paulo</td><td>Brazil</td><td>7</td></tr><tr><td>Rue Joseph-Bens 532</td><td>Bruxelles</td><td>Belgium</td><td>7</td></tr><tr><td>ul. Filtrowa 68</td><td>Warszawa</td><td>Poland</td><td>7</td></tr><tr><td>Vinbæltet 34</td><td>Kobenhavn</td><td>Denmark</td><td>7</td></tr><tr><td>Walserweg 21</td><td>Aachen</td><td>Germany</td><td>6</td></tr><tr><td>Via Monte Bianco 34</td><td>Torino</td><td>Italy</td><td>6</td></tr><tr><td>Luisenstr. 48</td><td>Münster</td><td>Germany</td><td>6</td></tr><tr><td>Obere Str. 57</td><td>Berlin</td><td>Germany</td><td>6</td></tr><tr><td>Calle Dr. Jorge Cash 321</td><td>México D.F.</td><td>Mexico</td><td>6</td></tr><tr><td>Erling Skakkes gate 78</td><td>Stavern</td><td>Norway</td><td>6</td></tr><tr><td>Cerrito 333</td><td>Buenos Aires</td><td>Argentina</td><td>6</td></tr><tr><td>Av. Inês de Castro, 414</td><td>Sao Paulo</td><td>Brazil</td><td>6</td></tr><tr><td>City Center Plaza 516 Main St.</td><td>Elgin</td><td>USA</td><td>5</td></tr><tr><td>Estrada da saúde n. 58</td><td>Lisboa</td><td>Portugal</td><td>5</td></tr><tr><td>Rambla de Cataluña, 23</td><td>Barcelona</td><td>Spain</td><td>5</td></tr><tr><td>Gran Vía, 1</td><td>Madrid</td><td>Spain</td><td>5</td></tr><tr><td>Heerstr. 22</td><td>Leipzig</td><td>Germany</td><td>5</td></tr><tr><td>Ing. Gustavo Moncada 8585 Piso 20-A</td><td>Buenos Aires</td><td>Argentina</td><td>5</td></tr><tr><td>184, chaussée de Tournai</td><td>Lille</td><td>France</td><td>5</td></tr><tr><td>59 rue de l&#39;Abbaye</td><td>Reims</td><td>France</td><td>5</td></tr><tr><td>Av. del Libertador 900</td><td>Buenos Aires</td><td>Argentina</td><td>5</td></tr><tr><td>Av. dos Lusíadas, 23</td><td>Sao Paulo</td><td>Brazil</td><td>5</td></tr><tr><td>Avda. de la Constitución 2222</td><td>México D.F.</td><td>Mexico</td><td>4</td></tr><tr><td>67, avenue de l&#39;Europe</td><td>Versailles</td><td>France</td><td>4</td></tr><tr><td>67, rue des Cinquante Otages</td><td>Nantes</td><td>France</td><td>4</td></tr><tr><td>89 Jefferson Way Suite 2</td><td>Portland</td><td>USA</td><td>4</td></tr><tr><td>87 Polk St. Suite 5</td><td>San Francisco</td><td>USA</td><td>4</td></tr><tr><td>25, rue Lauriston</td><td>Paris</td><td>France</td><td>4</td></tr><tr><td>54, rue Royale</td><td>Nantes</td><td>France</td><td>3</td></tr><tr><td>55 Grizzly Peak Rd.</td><td>Butte</td><td>USA</td><td>3</td></tr><tr><td>2319 Elm St.</td><td>Vancouver</td><td>Canada</td><td>3</td></tr><tr><td>722 DaVinci Blvd.</td><td>Kirkland</td><td>USA</td><td>3</td></tr><tr><td>Berkeley Gardens 12  Brewery</td><td>London</td><td>UK</td><td>3</td></tr><tr><td>C/ Araquil, 67</td><td>Madrid</td><td>Spain</td><td>3</td></tr><tr><td>South House 300 Queensbridge</td><td>London</td><td>UK</td><td>3</td></tr><tr><td>5ª Ave. Los Palos Grandes</td><td>Caracas</td><td>Venezuela</td><td>2</td></tr><tr><td>12 Orchestra Terrace</td><td>Walla Walla</td><td>USA</td><td>2</td></tr></table>"
                    },
                    "metadata": {}
                }
            ],
            "execution_count": 6
        },
        {
            "cell_type": "code",
            "source": [
                "/* \r\n",
                "Mystery #7\r\n",
                "A shipment went out, but nobody knows who delivered it.\r\n",
                "Find all orders that don’t have a shipper assigned someone’s hiding their tracks.\r\n",
                "\r\n",
                "Helps detect incomplete order records or missing logistics data,\r\n",
                "ensuring every shipment is properly tracked.\r\n",
                "*/\r\n",
                "\r\n",
                "SELECT TOP 10\r\n",
                "    OrderID,\r\n",
                "    CustomerID,\r\n",
                "    ShipVia\r\n",
                "FROM Orders\r\n",
                "WHERE ShipVia IS NULL\r\n",
                "ORDER BY OrderID;\r\n",
                ""
            ],
            "metadata": {
                "azdata_cell_guid": "488ba7b2-ad75-4b7f-9690-22dbf2319752",
                "language": "sql"
            },
            "outputs": [
                {
                    "output_type": "display_data",
                    "data": {
                        "text/html": "(0 rows affected)"
                    },
                    "metadata": {}
                },
                {
                    "output_type": "display_data",
                    "data": {
                        "text/html": "Total execution time: 00:00:00.002"
                    },
                    "metadata": {}
                },
                {
                    "output_type": "execute_result",
                    "execution_count": 7,
                    "data": {
                        "application/vnd.dataresource+json": {
                            "schema": {
                                "fields": [
                                    {
                                        "name": "OrderID"
                                    },
                                    {
                                        "name": "CustomerID"
                                    },
                                    {
                                        "name": "ShipVia"
                                    }
                                ]
                            },
                            "data": []
                        },
                        "text/html": "<table><tr><th>OrderID</th><th>CustomerID</th><th>ShipVia</th></tr></table>"
                    },
                    "metadata": {}
                }
            ],
            "execution_count": 7
        }
    ]
}