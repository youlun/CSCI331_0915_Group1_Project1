{
    "metadata": {
        "kernelspec": {
            "name": "SQL",
            "display_name": "SQL",
            "language": "sql"
        },
        "language_info": {
            "name": "sql",
            "version": ""
        }
    },
    "nbformat_minor": 2,
    "nbformat": 4,
    "cells": [
        {
            "cell_type": "markdown",
            "source": [
                " Mystery #1\n",
                "\n",
                "In providence Territory somthiing has gone wrong. Things are from there are not being shipped out. Figure out the reason for this and get to the bottom of who can be causeing this trouble.\n",
                "\n",
                "<span style=\"color: #0000ff;\">SELECT</span>\n",
                "\n",
                "    o.OrderID,\n",
                "\n",
                "    c.CompanyName <span style=\"color: #0000ff;\">AS</span> Customer,\n",
                "\n",
                "    c.Region,\n",
                "\n",
                "    o.OrderDate,\n",
                "\n",
                "    o.ShippedDate,\n",
                "\n",
                "    e.FirstName <span style=\"color: #000000;\">+</span> <span style=\"color: #a31515;\">' '</span> <span style=\"color: #000000;\">+</span> e.LastName <span style=\"color: #0000ff;\">AS</span> SalesRep\n",
                "\n",
                "<span style=\"color: #0000ff;\">FROM</span> Orders <span style=\"color: #0000ff;\">AS</span> o\n",
                "\n",
                "<span style=\"color: #0000ff;\">JOIN</span> Customers <span style=\"color: #0000ff;\">AS</span> c\n",
                "\n",
                "    <span style=\"color: #0000ff;\">ON</span> o.CustomerID <span style=\"color: #000000;\">=</span> c.CustomerID\n",
                "\n",
                "<span style=\"color: #0000ff;\">JOIN</span> Employees <span style=\"color: #0000ff;\">AS</span> e\n",
                "\n",
                "    <span style=\"color: #0000ff;\">ON</span> o.EmployeeID <span style=\"color: #000000;\">=</span> e.EmployeeID\n",
                "\n",
                "<span style=\"color: #0000ff;\">WHERE</span> o.ShippedDate <span style=\"color: #0000ff;\">IS</span> <span style=\"color: #0000ff;\">NULL</span>\n",
                "\n",
                "<span style=\"color: #0000ff;\">ORDER BY</span> c.Region, o.OrderDate;"
            ],
            "metadata": {
                "azdata_cell_guid": "06da5e3e-749f-49fd-91db-25cb9c039ba9"
            },
            "attachments": {}
        },
        {
            "cell_type": "markdown",
            "source": [
                "Mystery #2\n",
                "\n",
                "Anissed syrup has changed there  quantiyperunit to 12 - 550ml bottles. I heard they were recently under new  ownership.  Find out who is changing these bottole sizes.\n",
                "\n",
                "<span style=\"color: #0000ff;\">SELECT</span>\n",
                "\n",
                "    p.ProductID,\n",
                "\n",
                "    p.ProductName,\n",
                "\n",
                "    p.QuantityPerUnit,\n",
                "\n",
                "    s.CompanyName <span style=\"color: #0000ff;\">AS</span> Supplier,\n",
                "\n",
                "    s.ContactName <span style=\"color: #0000ff;\">AS</span> SupplierContact,\n",
                "\n",
                "    s.Country\n",
                "\n",
                "<span style=\"color: #0000ff;\">FROM</span> Products <span style=\"color: #0000ff;\">AS</span> p\n",
                "\n",
                "<span style=\"color: #0000ff;\">JOIN</span> Suppliers <span style=\"color: #0000ff;\">AS</span> s\n",
                "\n",
                "    <span style=\"color: #0000ff;\">ON</span> p.SupplierID <span style=\"color: #000000;\">=</span> s.SupplierID\n",
                "\n",
                "<span style=\"color: #0000ff;\">WHERE</span> p.ProductName <span style=\"color: #000000;\">=</span> <span style=\"color: #a31515;\">'Aniseed Syrup'</span>;"
            ],
            "metadata": {
                "azdata_cell_guid": "f83c43ff-b8d0-4a1f-8030-3389dc7b0cf8"
            },
            "attachments": {}
        },
        {
            "cell_type": "markdown",
            "source": [
                "Mystery #3\n",
                "\n",
                "There was a large quinty of orders that where dicounted only 0.2 percent find out what thosoe orders are. Hint there should only be two orders.\n",
                "\n",
                "<span style=\"color: #0000ff;\">SELECT</span> <span style=\"color: #000000;\">*</span>\n",
                "\n",
                "<span style=\"color: #0000ff;\">FROM</span> dbo.\\[Order Details\\]\n",
                "\n",
                "<span style=\"color: #0000ff;\">WHERE</span> Quantity <span style=\"color: #000000;\">=</span> <span style=\"color: #09885a;\">70</span>\n",
                "\n",
                "<span style=\"color: #0000ff;\">AND</span>\n",
                "\n",
                "Discount <span style=\"color: #000000;\">=</span> <span style=\"color: #09885a;\">0</span>.<span style=\"color: #09885a;\">2</span>\n",
                "\n",
                ";"
            ],
            "metadata": {
                "azdata_cell_guid": "73be1995-9319-4381-b455-51f62cafa22f"
            },
            "attachments": {}
        },
        {
            "cell_type": "markdown",
            "source": [
                ""
            ],
            "metadata": {
                "azdata_cell_guid": "86ca73ad-d572-48e4-9786-6e1e30a30877"
            }
        },
        {
            "cell_type": "markdown",
            "source": [
                "Mystery #4\n",
                "\n",
                "An employe is on the inside of one the suppliers. They have something in common with one of the suppliers that make it seem suppicous. Find out what it is.\n",
                "\n",
                "Answer - It was a system glitch"
            ],
            "metadata": {
                "azdata_cell_guid": "0c40daf0-df4c-4301-88b4-8af14f3c930e"
            },
            "attachments": {}
        },
        {
            "cell_type": "markdown",
            "source": [
                "Mystery #5\n",
                "\n",
                "An anonymous tip mentions certain products are being sold at 20% off  a little too often to be coincidence.  \n",
                "Track down these suspicious transactions.\n",
                "\n",
                "<span style=\"color: #0000ff;\">SELECT</span> o.OrderID, c.CompanyName <span style=\"color: #0000ff;\">AS</span> Customer, e.LastName <span style=\"color: #0000ff;\">AS</span> SalesRep,\n",
                "\n",
                "       p.ProductName, od.Quantity, od.Discount\n",
                "\n",
                "<span style=\"color: #0000ff;\">FROM</span> \\[Order Details\\] <span style=\"color: #0000ff;\">AS</span> od\n",
                "\n",
                "<span style=\"color: #0000ff;\">JOIN</span> Orders <span style=\"color: #0000ff;\">AS</span> o <span style=\"color: #0000ff;\">ON</span> od.OrderID <span style=\"color: #000000;\">=</span> o.OrderID\n",
                "\n",
                "<span style=\"color: #0000ff;\">JOIN</span> Customers <span style=\"color: #0000ff;\">AS</span> c <span style=\"color: #0000ff;\">ON</span> o.CustomerID <span style=\"color: #000000;\">=</span> c.CustomerID\n",
                "\n",
                "<span style=\"color: #0000ff;\">JOIN</span> Employees <span style=\"color: #0000ff;\">AS</span> e <span style=\"color: #0000ff;\">ON</span> o.EmployeeID <span style=\"color: #000000;\">=</span> e.EmployeeID\n",
                "\n",
                "<span style=\"color: #0000ff;\">JOIN</span> Products <span style=\"color: #0000ff;\">AS</span> p <span style=\"color: #0000ff;\">ON</span> od.ProductID <span style=\"color: #000000;\">=</span> p.ProductID\n",
                "\n",
                "<span style=\"color: #0000ff;\">WHERE</span> od.Discount <span style=\"color: #000000;\">&gt;=</span> <span style=\"color: #09885a;\">0</span>.<span style=\"color: #09885a;\">2</span>\n",
                "\n",
                "<span style=\"color: #0000ff;\">ORDER BY</span> od.Discount <span style=\"color: #0000ff;\">DESC</span>, od.Quantity <span style=\"color: #0000ff;\">DESC</span>;"
            ],
            "metadata": {
                "azdata_cell_guid": "629d2c00-4065-448d-b0ad-aa6c5b3e763e"
            },
            "attachments": {}
        },
        {
            "cell_type": "markdown",
            "source": [
                "Mystery #6\n",
                "\n",
                "Is it sloppy data entry—or a shell company moving goods under two names?  \n",
                "Identify duplicate shipping addresses.\n",
                "\n",
                "<span style=\"color: #0000ff;\">SELECT</span> ShipAddress,\n",
                "\n",
                "       ShipCity,\n",
                "\n",
                "       ShipCountry,\n",
                "\n",
                "       <span style=\"color: #795e26;\">COUNT</span>(<span style=\"color: #000000;\">*</span>) <span style=\"color: #0000ff;\">AS</span> OrdersWithSameAddress\n",
                "\n",
                "<span style=\"color: #0000ff;\">FROM</span> Orders\n",
                "\n",
                "<span style=\"color: #0000ff;\">GROUP BY</span> ShipAddress, ShipCity, ShipCountry\n",
                "\n",
                "<span style=\"color: #0000ff;\">HAVING</span> <span style=\"color: #795e26;\">COUNT</span>(<span style=\"color: #000000;\">*</span>) <span style=\"color: #000000;\">&gt;</span> <span style=\"color: #09885a;\">1</span>\n",
                "\n",
                "<span style=\"color: #0000ff;\">ORDER BY</span> OrdersWithSameAddress <span style=\"color: #0000ff;\">DESC</span>;"
            ],
            "metadata": {
                "azdata_cell_guid": "92ab84d2-74f2-4a8f-bdce-e64ce791ae64"
            },
            "attachments": {}
        },
        {
            "cell_type": "markdown",
            "source": [
                "Mystery #7 \n",
                "\n",
                "A shipment went out, but nobody knows who delivered it.  \n",
                "Find all orders that don’t have a shipper assigned  someone’s hiding their tracks.\n",
                "\n",
                "Helps detect incomplete order records or missing logistics data, ensuring every shipment is properly tracked.  \n",
                "\n",
                "<span style=\"color: #0000ff;\">SELECT</span> <span style=\"color: #0000ff;\">TOP</span> <span style=\"color: #09885a;\">10</span> OrderID, CustomerID, ShipVia\n",
                "\n",
                "<span style=\"color: #0000ff;\">FROM</span> Orders\n",
                "\n",
                "<span style=\"color: #0000ff;\">ORDER BY</span> ShipVia;"
            ],
            "metadata": {
                "azdata_cell_guid": "4d9cbea1-0032-43b6-9282-95598ead1200"
            },
            "attachments": {}
        }
    ]
}